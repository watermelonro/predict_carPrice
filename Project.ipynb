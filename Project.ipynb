{
 "cells": [
  {
   "cell_type": "code",
   "execution_count": 1,
   "id": "0c4d73a8",
   "metadata": {
    "ExecuteTime": {
     "end_time": "2023-05-13T12:23:19.414699Z",
     "start_time": "2023-05-13T12:23:16.031578Z"
    }
   },
   "outputs": [],
   "source": [
    "import pandas as pd\n",
    "import matplotlib.pyplot as plt\n",
    "import seaborn as sns\n",
    "import numpy as np"
   ]
  },
  {
   "cell_type": "code",
   "execution_count": 2,
   "id": "25107380",
   "metadata": {
    "ExecuteTime": {
     "end_time": "2023-05-13T12:23:19.478866Z",
     "start_time": "2023-05-13T12:23:19.414699Z"
    }
   },
   "outputs": [],
   "source": [
    "df = pd.read_csv(\"./data/train-data.csv\")"
   ]
  },
  {
   "cell_type": "code",
   "execution_count": 3,
   "id": "26e52452",
   "metadata": {
    "ExecuteTime": {
     "end_time": "2023-05-13T12:23:19.511028Z",
     "start_time": "2023-05-13T12:23:19.478866Z"
    },
    "scrolled": false
   },
   "outputs": [
    {
     "name": "stdout",
     "output_type": "stream",
     "text": [
      "<class 'pandas.core.frame.DataFrame'>\n",
      "RangeIndex: 6019 entries, 0 to 6018\n",
      "Data columns (total 14 columns):\n",
      " #   Column             Non-Null Count  Dtype  \n",
      "---  ------             --------------  -----  \n",
      " 0   Unnamed: 0         6019 non-null   int64  \n",
      " 1   Name               6019 non-null   object \n",
      " 2   Location           6019 non-null   object \n",
      " 3   Year               6019 non-null   int64  \n",
      " 4   Kilometers_Driven  6019 non-null   int64  \n",
      " 5   Fuel_Type          6019 non-null   object \n",
      " 6   Transmission       6019 non-null   object \n",
      " 7   Owner_Type         6019 non-null   object \n",
      " 8   Mileage            6017 non-null   object \n",
      " 9   Engine             5983 non-null   object \n",
      " 10  Power              5983 non-null   object \n",
      " 11  Seats              5977 non-null   float64\n",
      " 12  New_Price          824 non-null    object \n",
      " 13  Price              6019 non-null   float64\n",
      "dtypes: float64(2), int64(3), object(9)\n",
      "memory usage: 658.5+ KB\n"
     ]
    }
   ],
   "source": [
    "df.info()"
   ]
  },
  {
   "cell_type": "code",
   "execution_count": 4,
   "id": "287788c0",
   "metadata": {
    "ExecuteTime": {
     "end_time": "2023-05-13T12:23:19.527558Z",
     "start_time": "2023-05-13T12:23:19.511028Z"
    }
   },
   "outputs": [],
   "source": [
    "df.drop(['Unnamed: 0','New_Price'],axis=1,inplace=True)"
   ]
  },
  {
   "cell_type": "code",
   "execution_count": 5,
   "id": "c9872bad",
   "metadata": {
    "ExecuteTime": {
     "end_time": "2023-05-13T12:23:19.572317Z",
     "start_time": "2023-05-13T12:23:19.529899Z"
    },
    "scrolled": true
   },
   "outputs": [
    {
     "data": {
      "text/html": [
       "<div>\n",
       "<style scoped>\n",
       "    .dataframe tbody tr th:only-of-type {\n",
       "        vertical-align: middle;\n",
       "    }\n",
       "\n",
       "    .dataframe tbody tr th {\n",
       "        vertical-align: top;\n",
       "    }\n",
       "\n",
       "    .dataframe thead th {\n",
       "        text-align: right;\n",
       "    }\n",
       "</style>\n",
       "<table border=\"1\" class=\"dataframe\">\n",
       "  <thead>\n",
       "    <tr style=\"text-align: right;\">\n",
       "      <th></th>\n",
       "      <th>Name</th>\n",
       "      <th>Location</th>\n",
       "      <th>Year</th>\n",
       "      <th>Kilometers_Driven</th>\n",
       "      <th>Fuel_Type</th>\n",
       "      <th>Transmission</th>\n",
       "      <th>Owner_Type</th>\n",
       "      <th>Mileage</th>\n",
       "      <th>Engine</th>\n",
       "      <th>Power</th>\n",
       "      <th>Seats</th>\n",
       "      <th>Price</th>\n",
       "    </tr>\n",
       "  </thead>\n",
       "  <tbody>\n",
       "    <tr>\n",
       "      <th>194</th>\n",
       "      <td>Honda City 1.5 GXI</td>\n",
       "      <td>Ahmedabad</td>\n",
       "      <td>2007</td>\n",
       "      <td>60006</td>\n",
       "      <td>Petrol</td>\n",
       "      <td>Manual</td>\n",
       "      <td>First</td>\n",
       "      <td>0.0 kmpl</td>\n",
       "      <td>NaN</td>\n",
       "      <td>NaN</td>\n",
       "      <td>NaN</td>\n",
       "      <td>2.95</td>\n",
       "    </tr>\n",
       "    <tr>\n",
       "      <th>208</th>\n",
       "      <td>Maruti Swift 1.3 VXi</td>\n",
       "      <td>Kolkata</td>\n",
       "      <td>2010</td>\n",
       "      <td>42001</td>\n",
       "      <td>Petrol</td>\n",
       "      <td>Manual</td>\n",
       "      <td>First</td>\n",
       "      <td>16.1 kmpl</td>\n",
       "      <td>NaN</td>\n",
       "      <td>NaN</td>\n",
       "      <td>NaN</td>\n",
       "      <td>2.11</td>\n",
       "    </tr>\n",
       "    <tr>\n",
       "      <th>733</th>\n",
       "      <td>Maruti Swift 1.3 VXi</td>\n",
       "      <td>Chennai</td>\n",
       "      <td>2006</td>\n",
       "      <td>97800</td>\n",
       "      <td>Petrol</td>\n",
       "      <td>Manual</td>\n",
       "      <td>Third</td>\n",
       "      <td>16.1 kmpl</td>\n",
       "      <td>NaN</td>\n",
       "      <td>NaN</td>\n",
       "      <td>NaN</td>\n",
       "      <td>1.75</td>\n",
       "    </tr>\n",
       "    <tr>\n",
       "      <th>749</th>\n",
       "      <td>Land Rover Range Rover 3.0 D</td>\n",
       "      <td>Mumbai</td>\n",
       "      <td>2008</td>\n",
       "      <td>55001</td>\n",
       "      <td>Diesel</td>\n",
       "      <td>Automatic</td>\n",
       "      <td>Second</td>\n",
       "      <td>0.0 kmpl</td>\n",
       "      <td>NaN</td>\n",
       "      <td>NaN</td>\n",
       "      <td>NaN</td>\n",
       "      <td>26.50</td>\n",
       "    </tr>\n",
       "    <tr>\n",
       "      <th>1294</th>\n",
       "      <td>Honda City 1.3 DX</td>\n",
       "      <td>Delhi</td>\n",
       "      <td>2009</td>\n",
       "      <td>55005</td>\n",
       "      <td>Petrol</td>\n",
       "      <td>Manual</td>\n",
       "      <td>First</td>\n",
       "      <td>12.8 kmpl</td>\n",
       "      <td>NaN</td>\n",
       "      <td>NaN</td>\n",
       "      <td>NaN</td>\n",
       "      <td>3.20</td>\n",
       "    </tr>\n",
       "    <tr>\n",
       "      <th>1327</th>\n",
       "      <td>Maruti Swift 1.3 ZXI</td>\n",
       "      <td>Hyderabad</td>\n",
       "      <td>2015</td>\n",
       "      <td>50295</td>\n",
       "      <td>Petrol</td>\n",
       "      <td>Manual</td>\n",
       "      <td>First</td>\n",
       "      <td>16.1 kmpl</td>\n",
       "      <td>NaN</td>\n",
       "      <td>NaN</td>\n",
       "      <td>NaN</td>\n",
       "      <td>5.80</td>\n",
       "    </tr>\n",
       "    <tr>\n",
       "      <th>1385</th>\n",
       "      <td>Honda City 1.5 GXI</td>\n",
       "      <td>Pune</td>\n",
       "      <td>2004</td>\n",
       "      <td>115000</td>\n",
       "      <td>Petrol</td>\n",
       "      <td>Manual</td>\n",
       "      <td>Second</td>\n",
       "      <td>0.0 kmpl</td>\n",
       "      <td>NaN</td>\n",
       "      <td>NaN</td>\n",
       "      <td>NaN</td>\n",
       "      <td>1.50</td>\n",
       "    </tr>\n",
       "    <tr>\n",
       "      <th>1460</th>\n",
       "      <td>Land Rover Range Rover Sport 2005 2012 Sport</td>\n",
       "      <td>Coimbatore</td>\n",
       "      <td>2008</td>\n",
       "      <td>69078</td>\n",
       "      <td>Petrol</td>\n",
       "      <td>Manual</td>\n",
       "      <td>First</td>\n",
       "      <td>0.0 kmpl</td>\n",
       "      <td>NaN</td>\n",
       "      <td>NaN</td>\n",
       "      <td>NaN</td>\n",
       "      <td>40.88</td>\n",
       "    </tr>\n",
       "    <tr>\n",
       "      <th>2074</th>\n",
       "      <td>Maruti Swift 1.3 LXI</td>\n",
       "      <td>Pune</td>\n",
       "      <td>2011</td>\n",
       "      <td>24255</td>\n",
       "      <td>Petrol</td>\n",
       "      <td>Manual</td>\n",
       "      <td>First</td>\n",
       "      <td>16.1 kmpl</td>\n",
       "      <td>NaN</td>\n",
       "      <td>NaN</td>\n",
       "      <td>NaN</td>\n",
       "      <td>3.15</td>\n",
       "    </tr>\n",
       "    <tr>\n",
       "      <th>2096</th>\n",
       "      <td>Hyundai Santro LP zipPlus</td>\n",
       "      <td>Coimbatore</td>\n",
       "      <td>2004</td>\n",
       "      <td>52146</td>\n",
       "      <td>Petrol</td>\n",
       "      <td>Manual</td>\n",
       "      <td>First</td>\n",
       "      <td>0.0 kmpl</td>\n",
       "      <td>NaN</td>\n",
       "      <td>NaN</td>\n",
       "      <td>NaN</td>\n",
       "      <td>1.93</td>\n",
       "    </tr>\n",
       "    <tr>\n",
       "      <th>2264</th>\n",
       "      <td>Toyota Etios Liva V</td>\n",
       "      <td>Pune</td>\n",
       "      <td>2012</td>\n",
       "      <td>24500</td>\n",
       "      <td>Petrol</td>\n",
       "      <td>Manual</td>\n",
       "      <td>Second</td>\n",
       "      <td>18.3 kmpl</td>\n",
       "      <td>NaN</td>\n",
       "      <td>NaN</td>\n",
       "      <td>NaN</td>\n",
       "      <td>2.95</td>\n",
       "    </tr>\n",
       "    <tr>\n",
       "      <th>2325</th>\n",
       "      <td>Maruti Swift 1.3 VXI ABS</td>\n",
       "      <td>Pune</td>\n",
       "      <td>2015</td>\n",
       "      <td>67000</td>\n",
       "      <td>Petrol</td>\n",
       "      <td>Manual</td>\n",
       "      <td>First</td>\n",
       "      <td>16.1 kmpl</td>\n",
       "      <td>NaN</td>\n",
       "      <td>NaN</td>\n",
       "      <td>NaN</td>\n",
       "      <td>4.70</td>\n",
       "    </tr>\n",
       "    <tr>\n",
       "      <th>2335</th>\n",
       "      <td>Maruti Swift 1.3 VXi</td>\n",
       "      <td>Mumbai</td>\n",
       "      <td>2007</td>\n",
       "      <td>55000</td>\n",
       "      <td>Petrol</td>\n",
       "      <td>Manual</td>\n",
       "      <td>Second</td>\n",
       "      <td>16.1 kmpl</td>\n",
       "      <td>NaN</td>\n",
       "      <td>NaN</td>\n",
       "      <td>NaN</td>\n",
       "      <td>1.75</td>\n",
       "    </tr>\n",
       "    <tr>\n",
       "      <th>2530</th>\n",
       "      <td>BMW 5 Series 520d Sedan</td>\n",
       "      <td>Kochi</td>\n",
       "      <td>2014</td>\n",
       "      <td>64158</td>\n",
       "      <td>Diesel</td>\n",
       "      <td>Automatic</td>\n",
       "      <td>First</td>\n",
       "      <td>18.48 kmpl</td>\n",
       "      <td>NaN</td>\n",
       "      <td>NaN</td>\n",
       "      <td>NaN</td>\n",
       "      <td>17.89</td>\n",
       "    </tr>\n",
       "    <tr>\n",
       "      <th>2542</th>\n",
       "      <td>Hyundai Santro GLS II - Euro II</td>\n",
       "      <td>Bangalore</td>\n",
       "      <td>2011</td>\n",
       "      <td>65000</td>\n",
       "      <td>Petrol</td>\n",
       "      <td>Manual</td>\n",
       "      <td>Second</td>\n",
       "      <td>0.0 kmpl</td>\n",
       "      <td>NaN</td>\n",
       "      <td>NaN</td>\n",
       "      <td>NaN</td>\n",
       "      <td>3.15</td>\n",
       "    </tr>\n",
       "    <tr>\n",
       "      <th>2623</th>\n",
       "      <td>BMW 5 Series 520d Sedan</td>\n",
       "      <td>Pune</td>\n",
       "      <td>2012</td>\n",
       "      <td>95000</td>\n",
       "      <td>Diesel</td>\n",
       "      <td>Automatic</td>\n",
       "      <td>Second</td>\n",
       "      <td>18.48 kmpl</td>\n",
       "      <td>NaN</td>\n",
       "      <td>NaN</td>\n",
       "      <td>NaN</td>\n",
       "      <td>18.00</td>\n",
       "    </tr>\n",
       "    <tr>\n",
       "      <th>2668</th>\n",
       "      <td>Maruti Swift 1.3 VXi</td>\n",
       "      <td>Kolkata</td>\n",
       "      <td>2014</td>\n",
       "      <td>32986</td>\n",
       "      <td>Petrol</td>\n",
       "      <td>Manual</td>\n",
       "      <td>First</td>\n",
       "      <td>16.1 kmpl</td>\n",
       "      <td>NaN</td>\n",
       "      <td>NaN</td>\n",
       "      <td>NaN</td>\n",
       "      <td>4.24</td>\n",
       "    </tr>\n",
       "    <tr>\n",
       "      <th>2737</th>\n",
       "      <td>Maruti Wagon R Vx</td>\n",
       "      <td>Jaipur</td>\n",
       "      <td>2001</td>\n",
       "      <td>200000</td>\n",
       "      <td>Petrol</td>\n",
       "      <td>Manual</td>\n",
       "      <td>First</td>\n",
       "      <td>12.0 kmpl</td>\n",
       "      <td>NaN</td>\n",
       "      <td>NaN</td>\n",
       "      <td>NaN</td>\n",
       "      <td>0.70</td>\n",
       "    </tr>\n",
       "    <tr>\n",
       "      <th>2780</th>\n",
       "      <td>Hyundai Santro GLS II - Euro II</td>\n",
       "      <td>Pune</td>\n",
       "      <td>2009</td>\n",
       "      <td>100000</td>\n",
       "      <td>Petrol</td>\n",
       "      <td>Manual</td>\n",
       "      <td>First</td>\n",
       "      <td>0.0 kmpl</td>\n",
       "      <td>NaN</td>\n",
       "      <td>NaN</td>\n",
       "      <td>NaN</td>\n",
       "      <td>1.60</td>\n",
       "    </tr>\n",
       "    <tr>\n",
       "      <th>2842</th>\n",
       "      <td>Hyundai Santro GLS II - Euro II</td>\n",
       "      <td>Bangalore</td>\n",
       "      <td>2012</td>\n",
       "      <td>43000</td>\n",
       "      <td>Petrol</td>\n",
       "      <td>Manual</td>\n",
       "      <td>First</td>\n",
       "      <td>0.0 kmpl</td>\n",
       "      <td>NaN</td>\n",
       "      <td>NaN</td>\n",
       "      <td>NaN</td>\n",
       "      <td>3.25</td>\n",
       "    </tr>\n",
       "    <tr>\n",
       "      <th>3272</th>\n",
       "      <td>BMW 5 Series 520d Sedan</td>\n",
       "      <td>Mumbai</td>\n",
       "      <td>2008</td>\n",
       "      <td>81000</td>\n",
       "      <td>Diesel</td>\n",
       "      <td>Automatic</td>\n",
       "      <td>Second</td>\n",
       "      <td>18.48 kmpl</td>\n",
       "      <td>NaN</td>\n",
       "      <td>NaN</td>\n",
       "      <td>NaN</td>\n",
       "      <td>10.50</td>\n",
       "    </tr>\n",
       "    <tr>\n",
       "      <th>3404</th>\n",
       "      <td>Maruti Swift 1.3 VXi</td>\n",
       "      <td>Jaipur</td>\n",
       "      <td>2006</td>\n",
       "      <td>125000</td>\n",
       "      <td>Petrol</td>\n",
       "      <td>Manual</td>\n",
       "      <td>Fourth &amp; Above</td>\n",
       "      <td>16.1 kmpl</td>\n",
       "      <td>NaN</td>\n",
       "      <td>NaN</td>\n",
       "      <td>NaN</td>\n",
       "      <td>2.35</td>\n",
       "    </tr>\n",
       "    <tr>\n",
       "      <th>3520</th>\n",
       "      <td>BMW 5 Series 520d Sedan</td>\n",
       "      <td>Delhi</td>\n",
       "      <td>2012</td>\n",
       "      <td>90000</td>\n",
       "      <td>Diesel</td>\n",
       "      <td>Automatic</td>\n",
       "      <td>First</td>\n",
       "      <td>18.48 kmpl</td>\n",
       "      <td>NaN</td>\n",
       "      <td>NaN</td>\n",
       "      <td>NaN</td>\n",
       "      <td>14.50</td>\n",
       "    </tr>\n",
       "    <tr>\n",
       "      <th>3522</th>\n",
       "      <td>Hyundai Santro GLS II - Euro II</td>\n",
       "      <td>Kochi</td>\n",
       "      <td>2012</td>\n",
       "      <td>66400</td>\n",
       "      <td>Petrol</td>\n",
       "      <td>Manual</td>\n",
       "      <td>First</td>\n",
       "      <td>0.0 kmpl</td>\n",
       "      <td>NaN</td>\n",
       "      <td>NaN</td>\n",
       "      <td>NaN</td>\n",
       "      <td>2.66</td>\n",
       "    </tr>\n",
       "    <tr>\n",
       "      <th>3810</th>\n",
       "      <td>Honda CR-V AT With Sun Roof</td>\n",
       "      <td>Kolkata</td>\n",
       "      <td>2013</td>\n",
       "      <td>27000</td>\n",
       "      <td>Petrol</td>\n",
       "      <td>Automatic</td>\n",
       "      <td>First</td>\n",
       "      <td>14.0 kmpl</td>\n",
       "      <td>NaN</td>\n",
       "      <td>NaN</td>\n",
       "      <td>NaN</td>\n",
       "      <td>11.99</td>\n",
       "    </tr>\n",
       "    <tr>\n",
       "      <th>4011</th>\n",
       "      <td>Fiat Punto 1.3 Emotion</td>\n",
       "      <td>Pune</td>\n",
       "      <td>2011</td>\n",
       "      <td>45271</td>\n",
       "      <td>Diesel</td>\n",
       "      <td>Manual</td>\n",
       "      <td>First</td>\n",
       "      <td>20.3 kmpl</td>\n",
       "      <td>NaN</td>\n",
       "      <td>NaN</td>\n",
       "      <td>NaN</td>\n",
       "      <td>2.60</td>\n",
       "    </tr>\n",
       "    <tr>\n",
       "      <th>4152</th>\n",
       "      <td>Land Rover Range Rover 3.0 D</td>\n",
       "      <td>Mumbai</td>\n",
       "      <td>2003</td>\n",
       "      <td>75000</td>\n",
       "      <td>Diesel</td>\n",
       "      <td>Automatic</td>\n",
       "      <td>Second</td>\n",
       "      <td>0.0 kmpl</td>\n",
       "      <td>NaN</td>\n",
       "      <td>NaN</td>\n",
       "      <td>NaN</td>\n",
       "      <td>16.11</td>\n",
       "    </tr>\n",
       "    <tr>\n",
       "      <th>4229</th>\n",
       "      <td>Hyundai Santro Xing XG</td>\n",
       "      <td>Bangalore</td>\n",
       "      <td>2005</td>\n",
       "      <td>79000</td>\n",
       "      <td>Petrol</td>\n",
       "      <td>Manual</td>\n",
       "      <td>Second</td>\n",
       "      <td>17.0 kmpl</td>\n",
       "      <td>NaN</td>\n",
       "      <td>NaN</td>\n",
       "      <td>NaN</td>\n",
       "      <td>1.65</td>\n",
       "    </tr>\n",
       "    <tr>\n",
       "      <th>4577</th>\n",
       "      <td>BMW 5 Series 520d Sedan</td>\n",
       "      <td>Delhi</td>\n",
       "      <td>2012</td>\n",
       "      <td>72000</td>\n",
       "      <td>Diesel</td>\n",
       "      <td>Automatic</td>\n",
       "      <td>Third</td>\n",
       "      <td>18.48 kmpl</td>\n",
       "      <td>NaN</td>\n",
       "      <td>NaN</td>\n",
       "      <td>NaN</td>\n",
       "      <td>13.85</td>\n",
       "    </tr>\n",
       "    <tr>\n",
       "      <th>4604</th>\n",
       "      <td>Honda Jazz Select Edition</td>\n",
       "      <td>Pune</td>\n",
       "      <td>2011</td>\n",
       "      <td>98000</td>\n",
       "      <td>Petrol</td>\n",
       "      <td>Manual</td>\n",
       "      <td>First</td>\n",
       "      <td>16.7 kmpl</td>\n",
       "      <td>NaN</td>\n",
       "      <td>NaN</td>\n",
       "      <td>NaN</td>\n",
       "      <td>3.15</td>\n",
       "    </tr>\n",
       "    <tr>\n",
       "      <th>4697</th>\n",
       "      <td>Fiat Punto 1.2 Dynamic</td>\n",
       "      <td>Kochi</td>\n",
       "      <td>2017</td>\n",
       "      <td>17941</td>\n",
       "      <td>Petrol</td>\n",
       "      <td>Manual</td>\n",
       "      <td>First</td>\n",
       "      <td>15.7 kmpl</td>\n",
       "      <td>NaN</td>\n",
       "      <td>NaN</td>\n",
       "      <td>NaN</td>\n",
       "      <td>3.93</td>\n",
       "    </tr>\n",
       "    <tr>\n",
       "      <th>4712</th>\n",
       "      <td>Hyundai Santro Xing XG</td>\n",
       "      <td>Pune</td>\n",
       "      <td>2003</td>\n",
       "      <td>80000</td>\n",
       "      <td>Petrol</td>\n",
       "      <td>Manual</td>\n",
       "      <td>Second</td>\n",
       "      <td>17.0 kmpl</td>\n",
       "      <td>NaN</td>\n",
       "      <td>NaN</td>\n",
       "      <td>NaN</td>\n",
       "      <td>0.90</td>\n",
       "    </tr>\n",
       "    <tr>\n",
       "      <th>4952</th>\n",
       "      <td>Fiat Punto 1.4 Emotion</td>\n",
       "      <td>Kolkata</td>\n",
       "      <td>2010</td>\n",
       "      <td>47000</td>\n",
       "      <td>Petrol</td>\n",
       "      <td>Manual</td>\n",
       "      <td>First</td>\n",
       "      <td>14.6 kmpl</td>\n",
       "      <td>NaN</td>\n",
       "      <td>NaN</td>\n",
       "      <td>NaN</td>\n",
       "      <td>1.49</td>\n",
       "    </tr>\n",
       "    <tr>\n",
       "      <th>5015</th>\n",
       "      <td>Maruti Swift 1.3 VXi</td>\n",
       "      <td>Delhi</td>\n",
       "      <td>2006</td>\n",
       "      <td>63000</td>\n",
       "      <td>Petrol</td>\n",
       "      <td>Manual</td>\n",
       "      <td>First</td>\n",
       "      <td>16.1 kmpl</td>\n",
       "      <td>NaN</td>\n",
       "      <td>NaN</td>\n",
       "      <td>NaN</td>\n",
       "      <td>1.60</td>\n",
       "    </tr>\n",
       "    <tr>\n",
       "      <th>5185</th>\n",
       "      <td>Maruti Swift 1.3 LXI</td>\n",
       "      <td>Delhi</td>\n",
       "      <td>2012</td>\n",
       "      <td>52000</td>\n",
       "      <td>Petrol</td>\n",
       "      <td>Manual</td>\n",
       "      <td>First</td>\n",
       "      <td>16.1 kmpl</td>\n",
       "      <td>NaN</td>\n",
       "      <td>NaN</td>\n",
       "      <td>NaN</td>\n",
       "      <td>3.65</td>\n",
       "    </tr>\n",
       "    <tr>\n",
       "      <th>5270</th>\n",
       "      <td>Honda City 1.5 GXI</td>\n",
       "      <td>Bangalore</td>\n",
       "      <td>2002</td>\n",
       "      <td>53000</td>\n",
       "      <td>Petrol</td>\n",
       "      <td>Manual</td>\n",
       "      <td>Second</td>\n",
       "      <td>0.0 kmpl</td>\n",
       "      <td>NaN</td>\n",
       "      <td>NaN</td>\n",
       "      <td>NaN</td>\n",
       "      <td>1.85</td>\n",
       "    </tr>\n",
       "  </tbody>\n",
       "</table>\n",
       "</div>"
      ],
      "text/plain": [
       "                                              Name    Location  Year  \\\n",
       "194                             Honda City 1.5 GXI   Ahmedabad  2007   \n",
       "208                           Maruti Swift 1.3 VXi     Kolkata  2010   \n",
       "733                           Maruti Swift 1.3 VXi     Chennai  2006   \n",
       "749                   Land Rover Range Rover 3.0 D      Mumbai  2008   \n",
       "1294                             Honda City 1.3 DX       Delhi  2009   \n",
       "1327                          Maruti Swift 1.3 ZXI   Hyderabad  2015   \n",
       "1385                            Honda City 1.5 GXI        Pune  2004   \n",
       "1460  Land Rover Range Rover Sport 2005 2012 Sport  Coimbatore  2008   \n",
       "2074                          Maruti Swift 1.3 LXI        Pune  2011   \n",
       "2096                     Hyundai Santro LP zipPlus  Coimbatore  2004   \n",
       "2264                           Toyota Etios Liva V        Pune  2012   \n",
       "2325                      Maruti Swift 1.3 VXI ABS        Pune  2015   \n",
       "2335                          Maruti Swift 1.3 VXi      Mumbai  2007   \n",
       "2530                       BMW 5 Series 520d Sedan       Kochi  2014   \n",
       "2542               Hyundai Santro GLS II - Euro II   Bangalore  2011   \n",
       "2623                       BMW 5 Series 520d Sedan        Pune  2012   \n",
       "2668                          Maruti Swift 1.3 VXi     Kolkata  2014   \n",
       "2737                             Maruti Wagon R Vx      Jaipur  2001   \n",
       "2780               Hyundai Santro GLS II - Euro II        Pune  2009   \n",
       "2842               Hyundai Santro GLS II - Euro II   Bangalore  2012   \n",
       "3272                       BMW 5 Series 520d Sedan      Mumbai  2008   \n",
       "3404                          Maruti Swift 1.3 VXi      Jaipur  2006   \n",
       "3520                       BMW 5 Series 520d Sedan       Delhi  2012   \n",
       "3522               Hyundai Santro GLS II - Euro II       Kochi  2012   \n",
       "3810                   Honda CR-V AT With Sun Roof     Kolkata  2013   \n",
       "4011                        Fiat Punto 1.3 Emotion        Pune  2011   \n",
       "4152                  Land Rover Range Rover 3.0 D      Mumbai  2003   \n",
       "4229                        Hyundai Santro Xing XG   Bangalore  2005   \n",
       "4577                       BMW 5 Series 520d Sedan       Delhi  2012   \n",
       "4604                     Honda Jazz Select Edition        Pune  2011   \n",
       "4697                        Fiat Punto 1.2 Dynamic       Kochi  2017   \n",
       "4712                        Hyundai Santro Xing XG        Pune  2003   \n",
       "4952                        Fiat Punto 1.4 Emotion     Kolkata  2010   \n",
       "5015                          Maruti Swift 1.3 VXi       Delhi  2006   \n",
       "5185                          Maruti Swift 1.3 LXI       Delhi  2012   \n",
       "5270                            Honda City 1.5 GXI   Bangalore  2002   \n",
       "\n",
       "      Kilometers_Driven Fuel_Type Transmission      Owner_Type     Mileage  \\\n",
       "194               60006    Petrol       Manual           First    0.0 kmpl   \n",
       "208               42001    Petrol       Manual           First   16.1 kmpl   \n",
       "733               97800    Petrol       Manual           Third   16.1 kmpl   \n",
       "749               55001    Diesel    Automatic          Second    0.0 kmpl   \n",
       "1294              55005    Petrol       Manual           First   12.8 kmpl   \n",
       "1327              50295    Petrol       Manual           First   16.1 kmpl   \n",
       "1385             115000    Petrol       Manual          Second    0.0 kmpl   \n",
       "1460              69078    Petrol       Manual           First    0.0 kmpl   \n",
       "2074              24255    Petrol       Manual           First   16.1 kmpl   \n",
       "2096              52146    Petrol       Manual           First    0.0 kmpl   \n",
       "2264              24500    Petrol       Manual          Second   18.3 kmpl   \n",
       "2325              67000    Petrol       Manual           First   16.1 kmpl   \n",
       "2335              55000    Petrol       Manual          Second   16.1 kmpl   \n",
       "2530              64158    Diesel    Automatic           First  18.48 kmpl   \n",
       "2542              65000    Petrol       Manual          Second    0.0 kmpl   \n",
       "2623              95000    Diesel    Automatic          Second  18.48 kmpl   \n",
       "2668              32986    Petrol       Manual           First   16.1 kmpl   \n",
       "2737             200000    Petrol       Manual           First   12.0 kmpl   \n",
       "2780             100000    Petrol       Manual           First    0.0 kmpl   \n",
       "2842              43000    Petrol       Manual           First    0.0 kmpl   \n",
       "3272              81000    Diesel    Automatic          Second  18.48 kmpl   \n",
       "3404             125000    Petrol       Manual  Fourth & Above   16.1 kmpl   \n",
       "3520              90000    Diesel    Automatic           First  18.48 kmpl   \n",
       "3522              66400    Petrol       Manual           First    0.0 kmpl   \n",
       "3810              27000    Petrol    Automatic           First   14.0 kmpl   \n",
       "4011              45271    Diesel       Manual           First   20.3 kmpl   \n",
       "4152              75000    Diesel    Automatic          Second    0.0 kmpl   \n",
       "4229              79000    Petrol       Manual          Second   17.0 kmpl   \n",
       "4577              72000    Diesel    Automatic           Third  18.48 kmpl   \n",
       "4604              98000    Petrol       Manual           First   16.7 kmpl   \n",
       "4697              17941    Petrol       Manual           First   15.7 kmpl   \n",
       "4712              80000    Petrol       Manual          Second   17.0 kmpl   \n",
       "4952              47000    Petrol       Manual           First   14.6 kmpl   \n",
       "5015              63000    Petrol       Manual           First   16.1 kmpl   \n",
       "5185              52000    Petrol       Manual           First   16.1 kmpl   \n",
       "5270              53000    Petrol       Manual          Second    0.0 kmpl   \n",
       "\n",
       "     Engine Power  Seats  Price  \n",
       "194     NaN   NaN    NaN   2.95  \n",
       "208     NaN   NaN    NaN   2.11  \n",
       "733     NaN   NaN    NaN   1.75  \n",
       "749     NaN   NaN    NaN  26.50  \n",
       "1294    NaN   NaN    NaN   3.20  \n",
       "1327    NaN   NaN    NaN   5.80  \n",
       "1385    NaN   NaN    NaN   1.50  \n",
       "1460    NaN   NaN    NaN  40.88  \n",
       "2074    NaN   NaN    NaN   3.15  \n",
       "2096    NaN   NaN    NaN   1.93  \n",
       "2264    NaN   NaN    NaN   2.95  \n",
       "2325    NaN   NaN    NaN   4.70  \n",
       "2335    NaN   NaN    NaN   1.75  \n",
       "2530    NaN   NaN    NaN  17.89  \n",
       "2542    NaN   NaN    NaN   3.15  \n",
       "2623    NaN   NaN    NaN  18.00  \n",
       "2668    NaN   NaN    NaN   4.24  \n",
       "2737    NaN   NaN    NaN   0.70  \n",
       "2780    NaN   NaN    NaN   1.60  \n",
       "2842    NaN   NaN    NaN   3.25  \n",
       "3272    NaN   NaN    NaN  10.50  \n",
       "3404    NaN   NaN    NaN   2.35  \n",
       "3520    NaN   NaN    NaN  14.50  \n",
       "3522    NaN   NaN    NaN   2.66  \n",
       "3810    NaN   NaN    NaN  11.99  \n",
       "4011    NaN   NaN    NaN   2.60  \n",
       "4152    NaN   NaN    NaN  16.11  \n",
       "4229    NaN   NaN    NaN   1.65  \n",
       "4577    NaN   NaN    NaN  13.85  \n",
       "4604    NaN   NaN    NaN   3.15  \n",
       "4697    NaN   NaN    NaN   3.93  \n",
       "4712    NaN   NaN    NaN   0.90  \n",
       "4952    NaN   NaN    NaN   1.49  \n",
       "5015    NaN   NaN    NaN   1.60  \n",
       "5185    NaN   NaN    NaN   3.65  \n",
       "5270    NaN   NaN    NaN   1.85  "
      ]
     },
     "execution_count": 5,
     "metadata": {},
     "output_type": "execute_result"
    }
   ],
   "source": [
    "df.loc[df['Power'].isna(),:]\n",
    "# Engine이 nan인 값은 power도 nan이다. 대부분의 seats도 nan값이다. "
   ]
  },
  {
   "cell_type": "code",
   "execution_count": 6,
   "id": "7a9e6d53",
   "metadata": {
    "ExecuteTime": {
     "end_time": "2023-05-13T12:23:19.597355Z",
     "start_time": "2023-05-13T12:23:19.574618Z"
    }
   },
   "outputs": [
    {
     "data": {
      "text/plain": [
       "Name                 0.000000\n",
       "Location             0.000000\n",
       "Year                 0.000000\n",
       "Kilometers_Driven    0.000000\n",
       "Fuel_Type            0.000000\n",
       "Transmission         0.000000\n",
       "Owner_Type           0.000000\n",
       "Mileage              0.000332\n",
       "Engine               0.005981\n",
       "Power                0.005981\n",
       "Seats                0.006978\n",
       "Price                0.000000\n",
       "dtype: float64"
      ]
     },
     "execution_count": 6,
     "metadata": {},
     "output_type": "execute_result"
    }
   ],
   "source": [
    "df.isnull().mean()"
   ]
  },
  {
   "cell_type": "code",
   "execution_count": 7,
   "id": "8bf9b624",
   "metadata": {
    "ExecuteTime": {
     "end_time": "2023-05-13T12:23:19.630421Z",
     "start_time": "2023-05-13T12:23:19.597355Z"
    },
    "scrolled": true
   },
   "outputs": [
    {
     "name": "stdout",
     "output_type": "stream",
     "text": [
      "<class 'pandas.core.frame.DataFrame'>\n",
      "RangeIndex: 6019 entries, 0 to 6018\n",
      "Data columns (total 12 columns):\n",
      " #   Column             Non-Null Count  Dtype  \n",
      "---  ------             --------------  -----  \n",
      " 0   Name               6019 non-null   object \n",
      " 1   Location           6019 non-null   object \n",
      " 2   Year               6019 non-null   int64  \n",
      " 3   Kilometers_Driven  6019 non-null   int64  \n",
      " 4   Fuel_Type          6019 non-null   object \n",
      " 5   Transmission       6019 non-null   object \n",
      " 6   Owner_Type         6019 non-null   object \n",
      " 7   Mileage            6017 non-null   object \n",
      " 8   Engine             5983 non-null   object \n",
      " 9   Power              5983 non-null   object \n",
      " 10  Seats              5977 non-null   float64\n",
      " 11  Price              6019 non-null   float64\n",
      "dtypes: float64(2), int64(2), object(8)\n",
      "memory usage: 564.4+ KB\n"
     ]
    }
   ],
   "source": [
    "df.info()"
   ]
  },
  {
   "cell_type": "code",
   "execution_count": 8,
   "id": "7b612018",
   "metadata": {
    "ExecuteTime": {
     "end_time": "2023-05-13T12:23:19.670884Z",
     "start_time": "2023-05-13T12:23:19.638419Z"
    },
    "scrolled": false
   },
   "outputs": [
    {
     "data": {
      "text/html": [
       "<div>\n",
       "<style scoped>\n",
       "    .dataframe tbody tr th:only-of-type {\n",
       "        vertical-align: middle;\n",
       "    }\n",
       "\n",
       "    .dataframe tbody tr th {\n",
       "        vertical-align: top;\n",
       "    }\n",
       "\n",
       "    .dataframe thead th {\n",
       "        text-align: right;\n",
       "    }\n",
       "</style>\n",
       "<table border=\"1\" class=\"dataframe\">\n",
       "  <thead>\n",
       "    <tr style=\"text-align: right;\">\n",
       "      <th></th>\n",
       "      <th>Name</th>\n",
       "      <th>Location</th>\n",
       "      <th>Year</th>\n",
       "      <th>Kilometers_Driven</th>\n",
       "      <th>Fuel_Type</th>\n",
       "      <th>Transmission</th>\n",
       "      <th>Owner_Type</th>\n",
       "      <th>Mileage</th>\n",
       "      <th>Engine</th>\n",
       "      <th>Power</th>\n",
       "      <th>Seats</th>\n",
       "      <th>Price</th>\n",
       "    </tr>\n",
       "  </thead>\n",
       "  <tbody>\n",
       "    <tr>\n",
       "      <th>0</th>\n",
       "      <td>Maruti Wagon R LXI CNG</td>\n",
       "      <td>Mumbai</td>\n",
       "      <td>2010</td>\n",
       "      <td>72000</td>\n",
       "      <td>CNG</td>\n",
       "      <td>Manual</td>\n",
       "      <td>First</td>\n",
       "      <td>26.6 km/kg</td>\n",
       "      <td>998 CC</td>\n",
       "      <td>58.16 bhp</td>\n",
       "      <td>5.0</td>\n",
       "      <td>1.75</td>\n",
       "    </tr>\n",
       "    <tr>\n",
       "      <th>1</th>\n",
       "      <td>Hyundai Creta 1.6 CRDi SX Option</td>\n",
       "      <td>Pune</td>\n",
       "      <td>2015</td>\n",
       "      <td>41000</td>\n",
       "      <td>Diesel</td>\n",
       "      <td>Manual</td>\n",
       "      <td>First</td>\n",
       "      <td>19.67 kmpl</td>\n",
       "      <td>1582 CC</td>\n",
       "      <td>126.2 bhp</td>\n",
       "      <td>5.0</td>\n",
       "      <td>12.50</td>\n",
       "    </tr>\n",
       "    <tr>\n",
       "      <th>2</th>\n",
       "      <td>Honda Jazz V</td>\n",
       "      <td>Chennai</td>\n",
       "      <td>2011</td>\n",
       "      <td>46000</td>\n",
       "      <td>Petrol</td>\n",
       "      <td>Manual</td>\n",
       "      <td>First</td>\n",
       "      <td>18.2 kmpl</td>\n",
       "      <td>1199 CC</td>\n",
       "      <td>88.7 bhp</td>\n",
       "      <td>5.0</td>\n",
       "      <td>4.50</td>\n",
       "    </tr>\n",
       "    <tr>\n",
       "      <th>3</th>\n",
       "      <td>Maruti Ertiga VDI</td>\n",
       "      <td>Chennai</td>\n",
       "      <td>2012</td>\n",
       "      <td>87000</td>\n",
       "      <td>Diesel</td>\n",
       "      <td>Manual</td>\n",
       "      <td>First</td>\n",
       "      <td>20.77 kmpl</td>\n",
       "      <td>1248 CC</td>\n",
       "      <td>88.76 bhp</td>\n",
       "      <td>7.0</td>\n",
       "      <td>6.00</td>\n",
       "    </tr>\n",
       "    <tr>\n",
       "      <th>4</th>\n",
       "      <td>Audi A4 New 2.0 TDI Multitronic</td>\n",
       "      <td>Coimbatore</td>\n",
       "      <td>2013</td>\n",
       "      <td>40670</td>\n",
       "      <td>Diesel</td>\n",
       "      <td>Automatic</td>\n",
       "      <td>Second</td>\n",
       "      <td>15.2 kmpl</td>\n",
       "      <td>1968 CC</td>\n",
       "      <td>140.8 bhp</td>\n",
       "      <td>5.0</td>\n",
       "      <td>17.74</td>\n",
       "    </tr>\n",
       "  </tbody>\n",
       "</table>\n",
       "</div>"
      ],
      "text/plain": [
       "                               Name    Location  Year  Kilometers_Driven  \\\n",
       "0            Maruti Wagon R LXI CNG      Mumbai  2010              72000   \n",
       "1  Hyundai Creta 1.6 CRDi SX Option        Pune  2015              41000   \n",
       "2                      Honda Jazz V     Chennai  2011              46000   \n",
       "3                 Maruti Ertiga VDI     Chennai  2012              87000   \n",
       "4   Audi A4 New 2.0 TDI Multitronic  Coimbatore  2013              40670   \n",
       "\n",
       "  Fuel_Type Transmission Owner_Type     Mileage   Engine      Power  Seats  \\\n",
       "0       CNG       Manual      First  26.6 km/kg   998 CC  58.16 bhp    5.0   \n",
       "1    Diesel       Manual      First  19.67 kmpl  1582 CC  126.2 bhp    5.0   \n",
       "2    Petrol       Manual      First   18.2 kmpl  1199 CC   88.7 bhp    5.0   \n",
       "3    Diesel       Manual      First  20.77 kmpl  1248 CC  88.76 bhp    7.0   \n",
       "4    Diesel    Automatic     Second   15.2 kmpl  1968 CC  140.8 bhp    5.0   \n",
       "\n",
       "   Price  \n",
       "0   1.75  \n",
       "1  12.50  \n",
       "2   4.50  \n",
       "3   6.00  \n",
       "4  17.74  "
      ]
     },
     "execution_count": 8,
     "metadata": {},
     "output_type": "execute_result"
    }
   ],
   "source": [
    "df.head(5)"
   ]
  },
  {
   "cell_type": "code",
   "execution_count": 9,
   "id": "e18fd0f7",
   "metadata": {
    "ExecuteTime": {
     "end_time": "2023-05-13T12:23:19.687314Z",
     "start_time": "2023-05-13T12:23:19.672796Z"
    }
   },
   "outputs": [],
   "source": [
    "df = df.reset_index(drop=True)"
   ]
  },
  {
   "cell_type": "code",
   "execution_count": 10,
   "id": "0e732f7e",
   "metadata": {
    "ExecuteTime": {
     "end_time": "2023-05-13T12:23:19.712252Z",
     "start_time": "2023-05-13T12:23:19.695761Z"
    }
   },
   "outputs": [
    {
     "data": {
      "text/plain": [
       "6019"
      ]
     },
     "execution_count": 10,
     "metadata": {},
     "output_type": "execute_result"
    }
   ],
   "source": [
    "len(df)"
   ]
  },
  {
   "cell_type": "code",
   "execution_count": 11,
   "id": "aad9e7a3",
   "metadata": {
    "ExecuteTime": {
     "end_time": "2023-05-13T12:23:19.728813Z",
     "start_time": "2023-05-13T12:23:19.712252Z"
    }
   },
   "outputs": [],
   "source": [
    "df['brand']=  df['Name'].apply(lambda x: x.split(' ')[0])"
   ]
  },
  {
   "cell_type": "code",
   "execution_count": 12,
   "id": "cae2cd92",
   "metadata": {
    "ExecuteTime": {
     "end_time": "2023-05-13T12:23:19.753391Z",
     "start_time": "2023-05-13T12:23:19.731482Z"
    }
   },
   "outputs": [
    {
     "data": {
      "text/html": [
       "<div>\n",
       "<style scoped>\n",
       "    .dataframe tbody tr th:only-of-type {\n",
       "        vertical-align: middle;\n",
       "    }\n",
       "\n",
       "    .dataframe tbody tr th {\n",
       "        vertical-align: top;\n",
       "    }\n",
       "\n",
       "    .dataframe thead th {\n",
       "        text-align: right;\n",
       "    }\n",
       "</style>\n",
       "<table border=\"1\" class=\"dataframe\">\n",
       "  <thead>\n",
       "    <tr style=\"text-align: right;\">\n",
       "      <th></th>\n",
       "      <th>Name</th>\n",
       "      <th>Location</th>\n",
       "      <th>Year</th>\n",
       "      <th>Kilometers_Driven</th>\n",
       "      <th>Fuel_Type</th>\n",
       "      <th>Transmission</th>\n",
       "      <th>Owner_Type</th>\n",
       "      <th>Mileage</th>\n",
       "      <th>Engine</th>\n",
       "      <th>Power</th>\n",
       "      <th>Seats</th>\n",
       "      <th>Price</th>\n",
       "      <th>brand</th>\n",
       "    </tr>\n",
       "  </thead>\n",
       "  <tbody>\n",
       "    <tr>\n",
       "      <th>6014</th>\n",
       "      <td>Maruti Swift VDI</td>\n",
       "      <td>Delhi</td>\n",
       "      <td>2014</td>\n",
       "      <td>27365</td>\n",
       "      <td>Diesel</td>\n",
       "      <td>Manual</td>\n",
       "      <td>First</td>\n",
       "      <td>28.4 kmpl</td>\n",
       "      <td>1248 CC</td>\n",
       "      <td>74 bhp</td>\n",
       "      <td>5.0</td>\n",
       "      <td>4.75</td>\n",
       "      <td>Maruti</td>\n",
       "    </tr>\n",
       "    <tr>\n",
       "      <th>6015</th>\n",
       "      <td>Hyundai Xcent 1.1 CRDi S</td>\n",
       "      <td>Jaipur</td>\n",
       "      <td>2015</td>\n",
       "      <td>100000</td>\n",
       "      <td>Diesel</td>\n",
       "      <td>Manual</td>\n",
       "      <td>First</td>\n",
       "      <td>24.4 kmpl</td>\n",
       "      <td>1120 CC</td>\n",
       "      <td>71 bhp</td>\n",
       "      <td>5.0</td>\n",
       "      <td>4.00</td>\n",
       "      <td>Hyundai</td>\n",
       "    </tr>\n",
       "    <tr>\n",
       "      <th>6016</th>\n",
       "      <td>Mahindra Xylo D4 BSIV</td>\n",
       "      <td>Jaipur</td>\n",
       "      <td>2012</td>\n",
       "      <td>55000</td>\n",
       "      <td>Diesel</td>\n",
       "      <td>Manual</td>\n",
       "      <td>Second</td>\n",
       "      <td>14.0 kmpl</td>\n",
       "      <td>2498 CC</td>\n",
       "      <td>112 bhp</td>\n",
       "      <td>8.0</td>\n",
       "      <td>2.90</td>\n",
       "      <td>Mahindra</td>\n",
       "    </tr>\n",
       "    <tr>\n",
       "      <th>6017</th>\n",
       "      <td>Maruti Wagon R VXI</td>\n",
       "      <td>Kolkata</td>\n",
       "      <td>2013</td>\n",
       "      <td>46000</td>\n",
       "      <td>Petrol</td>\n",
       "      <td>Manual</td>\n",
       "      <td>First</td>\n",
       "      <td>18.9 kmpl</td>\n",
       "      <td>998 CC</td>\n",
       "      <td>67.1 bhp</td>\n",
       "      <td>5.0</td>\n",
       "      <td>2.65</td>\n",
       "      <td>Maruti</td>\n",
       "    </tr>\n",
       "    <tr>\n",
       "      <th>6018</th>\n",
       "      <td>Chevrolet Beat Diesel</td>\n",
       "      <td>Hyderabad</td>\n",
       "      <td>2011</td>\n",
       "      <td>47000</td>\n",
       "      <td>Diesel</td>\n",
       "      <td>Manual</td>\n",
       "      <td>First</td>\n",
       "      <td>25.44 kmpl</td>\n",
       "      <td>936 CC</td>\n",
       "      <td>57.6 bhp</td>\n",
       "      <td>5.0</td>\n",
       "      <td>2.50</td>\n",
       "      <td>Chevrolet</td>\n",
       "    </tr>\n",
       "  </tbody>\n",
       "</table>\n",
       "</div>"
      ],
      "text/plain": [
       "                          Name   Location  Year  Kilometers_Driven Fuel_Type  \\\n",
       "6014          Maruti Swift VDI      Delhi  2014              27365    Diesel   \n",
       "6015  Hyundai Xcent 1.1 CRDi S     Jaipur  2015             100000    Diesel   \n",
       "6016     Mahindra Xylo D4 BSIV     Jaipur  2012              55000    Diesel   \n",
       "6017        Maruti Wagon R VXI    Kolkata  2013              46000    Petrol   \n",
       "6018     Chevrolet Beat Diesel  Hyderabad  2011              47000    Diesel   \n",
       "\n",
       "     Transmission Owner_Type     Mileage   Engine     Power  Seats  Price  \\\n",
       "6014       Manual      First   28.4 kmpl  1248 CC    74 bhp    5.0   4.75   \n",
       "6015       Manual      First   24.4 kmpl  1120 CC    71 bhp    5.0   4.00   \n",
       "6016       Manual     Second   14.0 kmpl  2498 CC   112 bhp    8.0   2.90   \n",
       "6017       Manual      First   18.9 kmpl   998 CC  67.1 bhp    5.0   2.65   \n",
       "6018       Manual      First  25.44 kmpl   936 CC  57.6 bhp    5.0   2.50   \n",
       "\n",
       "          brand  \n",
       "6014     Maruti  \n",
       "6015    Hyundai  \n",
       "6016   Mahindra  \n",
       "6017     Maruti  \n",
       "6018  Chevrolet  "
      ]
     },
     "execution_count": 12,
     "metadata": {},
     "output_type": "execute_result"
    }
   ],
   "source": [
    "df.tail(5)"
   ]
  },
  {
   "cell_type": "code",
   "execution_count": 13,
   "id": "893f10c7",
   "metadata": {
    "ExecuteTime": {
     "end_time": "2023-05-13T12:23:19.777024Z",
     "start_time": "2023-05-13T12:23:19.758144Z"
    }
   },
   "outputs": [
    {
     "data": {
      "text/plain": [
       "31"
      ]
     },
     "execution_count": 13,
     "metadata": {},
     "output_type": "execute_result"
    }
   ],
   "source": [
    "df['brand'].nunique()"
   ]
  },
  {
   "cell_type": "code",
   "execution_count": 14,
   "id": "ac17ed17",
   "metadata": {
    "ExecuteTime": {
     "end_time": "2023-05-13T12:23:19.804225Z",
     "start_time": "2023-05-13T12:23:19.777726Z"
    }
   },
   "outputs": [],
   "source": [
    "df = df.dropna()"
   ]
  },
  {
   "cell_type": "code",
   "execution_count": 15,
   "id": "37d5fce2",
   "metadata": {
    "ExecuteTime": {
     "end_time": "2023-05-13T12:23:19.828583Z",
     "start_time": "2023-05-13T12:23:19.807876Z"
    }
   },
   "outputs": [],
   "source": [
    "# seats == 0 인것 제거\n",
    "df = df.drop(df[df['Seats'] == 0].index)"
   ]
  },
  {
   "cell_type": "code",
   "execution_count": 16,
   "id": "f18e9dbd",
   "metadata": {
    "ExecuteTime": {
     "end_time": "2023-05-13T12:23:19.862278Z",
     "start_time": "2023-05-13T12:23:19.830199Z"
    }
   },
   "outputs": [
    {
     "name": "stdout",
     "output_type": "stream",
     "text": [
      "<class 'pandas.core.frame.DataFrame'>\n",
      "Int64Index: 5974 entries, 0 to 6018\n",
      "Data columns (total 13 columns):\n",
      " #   Column             Non-Null Count  Dtype  \n",
      "---  ------             --------------  -----  \n",
      " 0   Name               5974 non-null   object \n",
      " 1   Location           5974 non-null   object \n",
      " 2   Year               5974 non-null   int64  \n",
      " 3   Kilometers_Driven  5974 non-null   int64  \n",
      " 4   Fuel_Type          5974 non-null   object \n",
      " 5   Transmission       5974 non-null   object \n",
      " 6   Owner_Type         5974 non-null   object \n",
      " 7   Mileage            5974 non-null   object \n",
      " 8   Engine             5974 non-null   object \n",
      " 9   Power              5974 non-null   object \n",
      " 10  Seats              5974 non-null   float64\n",
      " 11  Price              5974 non-null   float64\n",
      " 12  brand              5974 non-null   object \n",
      "dtypes: float64(2), int64(2), object(9)\n",
      "memory usage: 653.4+ KB\n"
     ]
    }
   ],
   "source": [
    "df.info()"
   ]
  },
  {
   "cell_type": "code",
   "execution_count": 17,
   "id": "7e0246f3",
   "metadata": {
    "ExecuteTime": {
     "end_time": "2023-05-13T12:23:19.886521Z",
     "start_time": "2023-05-13T12:23:19.863807Z"
    }
   },
   "outputs": [],
   "source": [
    "df['Engine'] = df['Engine'].apply(lambda x: x.split(' ')[0])\n",
    "df['Power'] = df['Power'].apply(lambda x: x.split(' ')[0])"
   ]
  },
  {
   "cell_type": "code",
   "execution_count": 18,
   "id": "ee70d036",
   "metadata": {
    "ExecuteTime": {
     "end_time": "2023-05-13T12:23:19.904248Z",
     "start_time": "2023-05-13T12:23:19.890759Z"
    }
   },
   "outputs": [],
   "source": [
    "df.drop('Name',axis=1,inplace=True)"
   ]
  },
  {
   "cell_type": "code",
   "execution_count": 19,
   "id": "e134eee5",
   "metadata": {
    "ExecuteTime": {
     "end_time": "2023-05-13T12:23:19.936861Z",
     "start_time": "2023-05-13T12:23:19.906140Z"
    }
   },
   "outputs": [
    {
     "data": {
      "text/html": [
       "<div>\n",
       "<style scoped>\n",
       "    .dataframe tbody tr th:only-of-type {\n",
       "        vertical-align: middle;\n",
       "    }\n",
       "\n",
       "    .dataframe tbody tr th {\n",
       "        vertical-align: top;\n",
       "    }\n",
       "\n",
       "    .dataframe thead th {\n",
       "        text-align: right;\n",
       "    }\n",
       "</style>\n",
       "<table border=\"1\" class=\"dataframe\">\n",
       "  <thead>\n",
       "    <tr style=\"text-align: right;\">\n",
       "      <th></th>\n",
       "      <th>Location</th>\n",
       "      <th>Year</th>\n",
       "      <th>Kilometers_Driven</th>\n",
       "      <th>Fuel_Type</th>\n",
       "      <th>Transmission</th>\n",
       "      <th>Owner_Type</th>\n",
       "      <th>Mileage</th>\n",
       "      <th>Engine</th>\n",
       "      <th>Power</th>\n",
       "      <th>Seats</th>\n",
       "      <th>Price</th>\n",
       "      <th>brand</th>\n",
       "    </tr>\n",
       "  </thead>\n",
       "  <tbody>\n",
       "    <tr>\n",
       "      <th>0</th>\n",
       "      <td>Mumbai</td>\n",
       "      <td>2010</td>\n",
       "      <td>72000</td>\n",
       "      <td>CNG</td>\n",
       "      <td>Manual</td>\n",
       "      <td>First</td>\n",
       "      <td>26.6 km/kg</td>\n",
       "      <td>998</td>\n",
       "      <td>58.16</td>\n",
       "      <td>5.0</td>\n",
       "      <td>1.75</td>\n",
       "      <td>Maruti</td>\n",
       "    </tr>\n",
       "    <tr>\n",
       "      <th>1</th>\n",
       "      <td>Pune</td>\n",
       "      <td>2015</td>\n",
       "      <td>41000</td>\n",
       "      <td>Diesel</td>\n",
       "      <td>Manual</td>\n",
       "      <td>First</td>\n",
       "      <td>19.67 kmpl</td>\n",
       "      <td>1582</td>\n",
       "      <td>126.2</td>\n",
       "      <td>5.0</td>\n",
       "      <td>12.50</td>\n",
       "      <td>Hyundai</td>\n",
       "    </tr>\n",
       "    <tr>\n",
       "      <th>2</th>\n",
       "      <td>Chennai</td>\n",
       "      <td>2011</td>\n",
       "      <td>46000</td>\n",
       "      <td>Petrol</td>\n",
       "      <td>Manual</td>\n",
       "      <td>First</td>\n",
       "      <td>18.2 kmpl</td>\n",
       "      <td>1199</td>\n",
       "      <td>88.7</td>\n",
       "      <td>5.0</td>\n",
       "      <td>4.50</td>\n",
       "      <td>Honda</td>\n",
       "    </tr>\n",
       "    <tr>\n",
       "      <th>3</th>\n",
       "      <td>Chennai</td>\n",
       "      <td>2012</td>\n",
       "      <td>87000</td>\n",
       "      <td>Diesel</td>\n",
       "      <td>Manual</td>\n",
       "      <td>First</td>\n",
       "      <td>20.77 kmpl</td>\n",
       "      <td>1248</td>\n",
       "      <td>88.76</td>\n",
       "      <td>7.0</td>\n",
       "      <td>6.00</td>\n",
       "      <td>Maruti</td>\n",
       "    </tr>\n",
       "    <tr>\n",
       "      <th>4</th>\n",
       "      <td>Coimbatore</td>\n",
       "      <td>2013</td>\n",
       "      <td>40670</td>\n",
       "      <td>Diesel</td>\n",
       "      <td>Automatic</td>\n",
       "      <td>Second</td>\n",
       "      <td>15.2 kmpl</td>\n",
       "      <td>1968</td>\n",
       "      <td>140.8</td>\n",
       "      <td>5.0</td>\n",
       "      <td>17.74</td>\n",
       "      <td>Audi</td>\n",
       "    </tr>\n",
       "  </tbody>\n",
       "</table>\n",
       "</div>"
      ],
      "text/plain": [
       "     Location  Year  Kilometers_Driven Fuel_Type Transmission Owner_Type  \\\n",
       "0      Mumbai  2010              72000       CNG       Manual      First   \n",
       "1        Pune  2015              41000    Diesel       Manual      First   \n",
       "2     Chennai  2011              46000    Petrol       Manual      First   \n",
       "3     Chennai  2012              87000    Diesel       Manual      First   \n",
       "4  Coimbatore  2013              40670    Diesel    Automatic     Second   \n",
       "\n",
       "      Mileage Engine  Power  Seats  Price    brand  \n",
       "0  26.6 km/kg    998  58.16    5.0   1.75   Maruti  \n",
       "1  19.67 kmpl   1582  126.2    5.0  12.50  Hyundai  \n",
       "2   18.2 kmpl   1199   88.7    5.0   4.50    Honda  \n",
       "3  20.77 kmpl   1248  88.76    7.0   6.00   Maruti  \n",
       "4   15.2 kmpl   1968  140.8    5.0  17.74     Audi  "
      ]
     },
     "execution_count": 19,
     "metadata": {},
     "output_type": "execute_result"
    }
   ],
   "source": [
    "df.head()"
   ]
  },
  {
   "cell_type": "code",
   "execution_count": 20,
   "id": "820a17db",
   "metadata": {
    "ExecuteTime": {
     "end_time": "2023-05-13T12:23:19.954254Z",
     "start_time": "2023-05-13T12:23:19.940225Z"
    }
   },
   "outputs": [],
   "source": [
    "df.loc[df['Power'] == 'null','Power'] = 0"
   ]
  },
  {
   "cell_type": "code",
   "execution_count": 21,
   "id": "f8c04f7e",
   "metadata": {
    "ExecuteTime": {
     "end_time": "2023-05-13T12:23:19.964865Z",
     "start_time": "2023-05-13T12:23:19.957563Z"
    }
   },
   "outputs": [
    {
     "data": {
      "text/plain": [
       "0       58.16\n",
       "1       126.2\n",
       "2        88.7\n",
       "3       88.76\n",
       "4       140.8\n",
       "        ...  \n",
       "6014       74\n",
       "6015       71\n",
       "6016      112\n",
       "6017     67.1\n",
       "6018     57.6\n",
       "Name: Power, Length: 5974, dtype: object"
      ]
     },
     "execution_count": 21,
     "metadata": {},
     "output_type": "execute_result"
    }
   ],
   "source": [
    "df['Power']"
   ]
  },
  {
   "cell_type": "code",
   "execution_count": 22,
   "id": "ac1c93d6",
   "metadata": {
    "ExecuteTime": {
     "end_time": "2023-05-13T12:23:19.987448Z",
     "start_time": "2023-05-13T12:23:19.964865Z"
    }
   },
   "outputs": [],
   "source": [
    "df['Engine'] = df['Engine'].astype(float)\n",
    "df['Power'] = df['Power'].astype(float)"
   ]
  },
  {
   "cell_type": "code",
   "execution_count": 23,
   "id": "b67fc6ba",
   "metadata": {
    "ExecuteTime": {
     "end_time": "2023-05-13T12:23:20.020540Z",
     "start_time": "2023-05-13T12:23:19.991105Z"
    }
   },
   "outputs": [],
   "source": [
    "df['Mileage'] = df['Mileage'].str.replace(' km/kg', '')\n",
    "df['Mileage'] = df['Mileage'].str.replace(' kmpl', '')\n",
    "\n",
    "df['Mileage'] = df['Mileage'].astype(float)\n",
    "df.loc[df['Fuel_Type'] == 'CNG', 'Mileage'] = df.loc[df['Fuel_Type'] == 'CNG', 'Mileage'] * 1.64\n",
    "df.loc[df['Fuel_Type'] == 'LPG', 'Mileage'] = df.loc[df['Fuel_Type'] == 'LPG', 'Mileage'] * 1.3"
   ]
  },
  {
   "cell_type": "code",
   "execution_count": 24,
   "id": "13726a0a",
   "metadata": {
    "ExecuteTime": {
     "end_time": "2023-05-13T12:23:20.045365Z",
     "start_time": "2023-05-13T12:23:20.023107Z"
    },
    "scrolled": true
   },
   "outputs": [
    {
     "name": "stdout",
     "output_type": "stream",
     "text": [
      "<class 'pandas.core.frame.DataFrame'>\n",
      "Int64Index: 5974 entries, 0 to 6018\n",
      "Data columns (total 12 columns):\n",
      " #   Column             Non-Null Count  Dtype  \n",
      "---  ------             --------------  -----  \n",
      " 0   Location           5974 non-null   object \n",
      " 1   Year               5974 non-null   int64  \n",
      " 2   Kilometers_Driven  5974 non-null   int64  \n",
      " 3   Fuel_Type          5974 non-null   object \n",
      " 4   Transmission       5974 non-null   object \n",
      " 5   Owner_Type         5974 non-null   object \n",
      " 6   Mileage            5974 non-null   float64\n",
      " 7   Engine             5974 non-null   float64\n",
      " 8   Power              5974 non-null   float64\n",
      " 9   Seats              5974 non-null   float64\n",
      " 10  Price              5974 non-null   float64\n",
      " 11  brand              5974 non-null   object \n",
      "dtypes: float64(5), int64(2), object(5)\n",
      "memory usage: 606.7+ KB\n"
     ]
    }
   ],
   "source": [
    "df.info()"
   ]
  },
  {
   "cell_type": "markdown",
   "id": "60fabcb9",
   "metadata": {},
   "source": [
    "### 상관관계 알아보기"
   ]
  },
  {
   "cell_type": "code",
   "execution_count": 25,
   "id": "36c3b7f8",
   "metadata": {
    "ExecuteTime": {
     "end_time": "2023-05-13T12:23:21.043586Z",
     "start_time": "2023-05-13T12:23:20.047186Z"
    }
   },
   "outputs": [
    {
     "data": {
      "image/png": "[encoded data removed]",
      "text/plain": [
       "<Figure size 1600x1200 with 2 Axes>"
      ]
     },
     "metadata": {},
     "output_type": "display_data"
    }
   ],
   "source": [
    "cols = ['Year','Kilometers_Driven','Mileage','Engine','Power','Seats','Price']\n",
    "\n",
    "corr = df[cols].corr(method='pearson')\n",
    "fig = plt.figure(figsize=(16,12))\n",
    "ax = fig.gca()\n",
    "\n",
    "sns.set(font_scale = 1.5)\n",
    "heatmap = sns.heatmap(corr.values, annot=True, fmt = '.2f', annot_kws = {'size':15},\n",
    "                      yticklabels = cols, xticklabels = cols, ax=ax, cmap='Blues')\n",
    "plt.tight_layout()\n",
    "plt.show()"
   ]
  },
  {
   "cell_type": "code",
   "execution_count": 26,
   "id": "b94f2695",
   "metadata": {
    "ExecuteTime": {
     "end_time": "2023-05-13T12:23:21.075150Z",
     "start_time": "2023-05-13T12:23:21.045226Z"
    }
   },
   "outputs": [],
   "source": [
    "columns = ['Location','Fuel_Type','Transmission','Owner_Type','brand']\n",
    "df_final = pd.get_dummies(df,columns=columns)\n",
    "df_final = df_final.astype(int)"
   ]
  },
  {
   "cell_type": "code",
   "execution_count": 27,
   "id": "7b5c9160",
   "metadata": {
    "ExecuteTime": {
     "end_time": "2023-05-13T12:23:21.862124Z",
     "start_time": "2023-05-13T12:23:21.076510Z"
    }
   },
   "outputs": [],
   "source": [
    "from sklearn.model_selection import train_test_split\n"
   ]
  },
  {
   "cell_type": "code",
   "execution_count": 28,
   "id": "62f11556",
   "metadata": {
    "ExecuteTime": {
     "end_time": "2023-05-13T12:23:21.902453Z",
     "start_time": "2023-05-13T12:23:21.873178Z"
    }
   },
   "outputs": [],
   "source": [
    "X_train, X_test, y_train, y_test = train_test_split(df_final.drop('Price',axis=1),df_final['Price'], test_size=0.2, random_state=10)"
   ]
  },
  {
   "cell_type": "code",
   "execution_count": 29,
   "id": "e66acb39",
   "metadata": {
    "ExecuteTime": {
     "end_time": "2023-05-13T12:23:21.918279Z",
     "start_time": "2023-05-13T12:23:21.906260Z"
    }
   },
   "outputs": [
    {
     "data": {
      "text/plain": [
       "((4779, 58), (1195, 58))"
      ]
     },
     "execution_count": 29,
     "metadata": {},
     "output_type": "execute_result"
    }
   ],
   "source": [
    "X_train.shape, X_test.shape\n"
   ]
  },
  {
   "cell_type": "code",
   "execution_count": 30,
   "id": "bb8689b8",
   "metadata": {
    "ExecuteTime": {
     "end_time": "2023-05-13T12:23:21.942290Z",
     "start_time": "2023-05-13T12:23:21.921123Z"
    }
   },
   "outputs": [
    {
     "data": {
      "text/html": [
       "<div>\n",
       "<style scoped>\n",
       "    .dataframe tbody tr th:only-of-type {\n",
       "        vertical-align: middle;\n",
       "    }\n",
       "\n",
       "    .dataframe tbody tr th {\n",
       "        vertical-align: top;\n",
       "    }\n",
       "\n",
       "    .dataframe thead th {\n",
       "        text-align: right;\n",
       "    }\n",
       "</style>\n",
       "<table border=\"1\" class=\"dataframe\">\n",
       "  <thead>\n",
       "    <tr style=\"text-align: right;\">\n",
       "      <th></th>\n",
       "      <th>Year</th>\n",
       "      <th>Kilometers_Driven</th>\n",
       "      <th>Mileage</th>\n",
       "      <th>Engine</th>\n",
       "      <th>Power</th>\n",
       "      <th>Seats</th>\n",
       "      <th>Price</th>\n",
       "      <th>Location_Ahmedabad</th>\n",
       "      <th>Location_Bangalore</th>\n",
       "      <th>Location_Chennai</th>\n",
       "      <th>...</th>\n",
       "      <th>brand_Mitsubishi</th>\n",
       "      <th>brand_Nissan</th>\n",
       "      <th>brand_Porsche</th>\n",
       "      <th>brand_Renault</th>\n",
       "      <th>brand_Skoda</th>\n",
       "      <th>brand_Smart</th>\n",
       "      <th>brand_Tata</th>\n",
       "      <th>brand_Toyota</th>\n",
       "      <th>brand_Volkswagen</th>\n",
       "      <th>brand_Volvo</th>\n",
       "    </tr>\n",
       "  </thead>\n",
       "  <tbody>\n",
       "    <tr>\n",
       "      <th>0</th>\n",
       "      <td>2010</td>\n",
       "      <td>72000</td>\n",
       "      <td>43</td>\n",
       "      <td>998</td>\n",
       "      <td>58</td>\n",
       "      <td>5</td>\n",
       "      <td>1</td>\n",
       "      <td>0</td>\n",
       "      <td>0</td>\n",
       "      <td>0</td>\n",
       "      <td>...</td>\n",
       "      <td>0</td>\n",
       "      <td>0</td>\n",
       "      <td>0</td>\n",
       "      <td>0</td>\n",
       "      <td>0</td>\n",
       "      <td>0</td>\n",
       "      <td>0</td>\n",
       "      <td>0</td>\n",
       "      <td>0</td>\n",
       "      <td>0</td>\n",
       "    </tr>\n",
       "    <tr>\n",
       "      <th>1</th>\n",
       "      <td>2015</td>\n",
       "      <td>41000</td>\n",
       "      <td>19</td>\n",
       "      <td>1582</td>\n",
       "      <td>126</td>\n",
       "      <td>5</td>\n",
       "      <td>12</td>\n",
       "      <td>0</td>\n",
       "      <td>0</td>\n",
       "      <td>0</td>\n",
       "      <td>...</td>\n",
       "      <td>0</td>\n",
       "      <td>0</td>\n",
       "      <td>0</td>\n",
       "      <td>0</td>\n",
       "      <td>0</td>\n",
       "      <td>0</td>\n",
       "      <td>0</td>\n",
       "      <td>0</td>\n",
       "      <td>0</td>\n",
       "      <td>0</td>\n",
       "    </tr>\n",
       "    <tr>\n",
       "      <th>2</th>\n",
       "      <td>2011</td>\n",
       "      <td>46000</td>\n",
       "      <td>18</td>\n",
       "      <td>1199</td>\n",
       "      <td>88</td>\n",
       "      <td>5</td>\n",
       "      <td>4</td>\n",
       "      <td>0</td>\n",
       "      <td>0</td>\n",
       "      <td>1</td>\n",
       "      <td>...</td>\n",
       "      <td>0</td>\n",
       "      <td>0</td>\n",
       "      <td>0</td>\n",
       "      <td>0</td>\n",
       "      <td>0</td>\n",
       "      <td>0</td>\n",
       "      <td>0</td>\n",
       "      <td>0</td>\n",
       "      <td>0</td>\n",
       "      <td>0</td>\n",
       "    </tr>\n",
       "    <tr>\n",
       "      <th>3</th>\n",
       "      <td>2012</td>\n",
       "      <td>87000</td>\n",
       "      <td>20</td>\n",
       "      <td>1248</td>\n",
       "      <td>88</td>\n",
       "      <td>7</td>\n",
       "      <td>6</td>\n",
       "      <td>0</td>\n",
       "      <td>0</td>\n",
       "      <td>1</td>\n",
       "      <td>...</td>\n",
       "      <td>0</td>\n",
       "      <td>0</td>\n",
       "      <td>0</td>\n",
       "      <td>0</td>\n",
       "      <td>0</td>\n",
       "      <td>0</td>\n",
       "      <td>0</td>\n",
       "      <td>0</td>\n",
       "      <td>0</td>\n",
       "      <td>0</td>\n",
       "    </tr>\n",
       "    <tr>\n",
       "      <th>4</th>\n",
       "      <td>2013</td>\n",
       "      <td>40670</td>\n",
       "      <td>15</td>\n",
       "      <td>1968</td>\n",
       "      <td>140</td>\n",
       "      <td>5</td>\n",
       "      <td>17</td>\n",
       "      <td>0</td>\n",
       "      <td>0</td>\n",
       "      <td>0</td>\n",
       "      <td>...</td>\n",
       "      <td>0</td>\n",
       "      <td>0</td>\n",
       "      <td>0</td>\n",
       "      <td>0</td>\n",
       "      <td>0</td>\n",
       "      <td>0</td>\n",
       "      <td>0</td>\n",
       "      <td>0</td>\n",
       "      <td>0</td>\n",
       "      <td>0</td>\n",
       "    </tr>\n",
       "  </tbody>\n",
       "</table>\n",
       "<p>5 rows × 59 columns</p>\n",
       "</div>"
      ],
      "text/plain": [
       "   Year  Kilometers_Driven  Mileage  Engine  Power  Seats  Price  \\\n",
       "0  2010              72000       43     998     58      5      1   \n",
       "1  2015              41000       19    1582    126      5     12   \n",
       "2  2011              46000       18    1199     88      5      4   \n",
       "3  2012              87000       20    1248     88      7      6   \n",
       "4  2013              40670       15    1968    140      5     17   \n",
       "\n",
       "   Location_Ahmedabad  Location_Bangalore  Location_Chennai  ...  \\\n",
       "0                   0                   0                 0  ...   \n",
       "1                   0                   0                 0  ...   \n",
       "2                   0                   0                 1  ...   \n",
       "3                   0                   0                 1  ...   \n",
       "4                   0                   0                 0  ...   \n",
       "\n",
       "   brand_Mitsubishi  brand_Nissan  brand_Porsche  brand_Renault  brand_Skoda  \\\n",
       "0                 0             0              0              0            0   \n",
       "1                 0             0              0              0            0   \n",
       "2                 0             0              0              0            0   \n",
       "3                 0             0              0              0            0   \n",
       "4                 0             0              0              0            0   \n",
       "\n",
       "   brand_Smart  brand_Tata  brand_Toyota  brand_Volkswagen  brand_Volvo  \n",
       "0            0           0             0                 0            0  \n",
       "1            0           0             0                 0            0  \n",
       "2            0           0             0                 0            0  \n",
       "3            0           0             0                 0            0  \n",
       "4            0           0             0                 0            0  \n",
       "\n",
       "[5 rows x 59 columns]"
      ]
     },
     "execution_count": 30,
     "metadata": {},
     "output_type": "execute_result"
    }
   ],
   "source": [
    "df_final.head()"
   ]
  },
  {
   "cell_type": "markdown",
   "id": "fca182b7",
   "metadata": {},
   "source": [
    "### 다중공선성 판단"
   ]
  },
  {
   "cell_type": "code",
   "execution_count": 31,
   "id": "a6d5ce57",
   "metadata": {
    "ExecuteTime": {
     "end_time": "2023-05-13T12:23:21.967418Z",
     "start_time": "2023-05-13T12:23:21.942290Z"
    }
   },
   "outputs": [
    {
     "name": "stdout",
     "output_type": "stream",
     "text": [
      "<class 'pandas.core.frame.DataFrame'>\n",
      "Int64Index: 4779 entries, 3955 to 1295\n",
      "Data columns (total 58 columns):\n",
      " #   Column                     Non-Null Count  Dtype\n",
      "---  ------                     --------------  -----\n",
      " 0   Year                       4779 non-null   int32\n",
      " 1   Kilometers_Driven          4779 non-null   int32\n",
      " 2   Mileage                    4779 non-null   int32\n",
      " 3   Engine                     4779 non-null   int32\n",
      " 4   Power                      4779 non-null   int32\n",
      " 5   Seats                      4779 non-null   int32\n",
      " 6   Location_Ahmedabad         4779 non-null   int32\n",
      " 7   Location_Bangalore         4779 non-null   int32\n",
      " 8   Location_Chennai           4779 non-null   int32\n",
      " 9   Location_Coimbatore        4779 non-null   int32\n",
      " 10  Location_Delhi             4779 non-null   int32\n",
      " 11  Location_Hyderabad         4779 non-null   int32\n",
      " 12  Location_Jaipur            4779 non-null   int32\n",
      " 13  Location_Kochi             4779 non-null   int32\n",
      " 14  Location_Kolkata           4779 non-null   int32\n",
      " 15  Location_Mumbai            4779 non-null   int32\n",
      " 16  Location_Pune              4779 non-null   int32\n",
      " 17  Fuel_Type_CNG              4779 non-null   int32\n",
      " 18  Fuel_Type_Diesel           4779 non-null   int32\n",
      " 19  Fuel_Type_LPG              4779 non-null   int32\n",
      " 20  Fuel_Type_Petrol           4779 non-null   int32\n",
      " 21  Transmission_Automatic     4779 non-null   int32\n",
      " 22  Transmission_Manual        4779 non-null   int32\n",
      " 23  Owner_Type_First           4779 non-null   int32\n",
      " 24  Owner_Type_Fourth & Above  4779 non-null   int32\n",
      " 25  Owner_Type_Second          4779 non-null   int32\n",
      " 26  Owner_Type_Third           4779 non-null   int32\n",
      " 27  brand_Ambassador           4779 non-null   int32\n",
      " 28  brand_Audi                 4779 non-null   int32\n",
      " 29  brand_BMW                  4779 non-null   int32\n",
      " 30  brand_Bentley              4779 non-null   int32\n",
      " 31  brand_Chevrolet            4779 non-null   int32\n",
      " 32  brand_Datsun               4779 non-null   int32\n",
      " 33  brand_Fiat                 4779 non-null   int32\n",
      " 34  brand_Force                4779 non-null   int32\n",
      " 35  brand_Ford                 4779 non-null   int32\n",
      " 36  brand_Honda                4779 non-null   int32\n",
      " 37  brand_Hyundai              4779 non-null   int32\n",
      " 38  brand_ISUZU                4779 non-null   int32\n",
      " 39  brand_Isuzu                4779 non-null   int32\n",
      " 40  brand_Jaguar               4779 non-null   int32\n",
      " 41  brand_Jeep                 4779 non-null   int32\n",
      " 42  brand_Lamborghini          4779 non-null   int32\n",
      " 43  brand_Land                 4779 non-null   int32\n",
      " 44  brand_Mahindra             4779 non-null   int32\n",
      " 45  brand_Maruti               4779 non-null   int32\n",
      " 46  brand_Mercedes-Benz        4779 non-null   int32\n",
      " 47  brand_Mini                 4779 non-null   int32\n",
      " 48  brand_Mitsubishi           4779 non-null   int32\n",
      " 49  brand_Nissan               4779 non-null   int32\n",
      " 50  brand_Porsche              4779 non-null   int32\n",
      " 51  brand_Renault              4779 non-null   int32\n",
      " 52  brand_Skoda                4779 non-null   int32\n",
      " 53  brand_Smart                4779 non-null   int32\n",
      " 54  brand_Tata                 4779 non-null   int32\n",
      " 55  brand_Toyota               4779 non-null   int32\n",
      " 56  brand_Volkswagen           4779 non-null   int32\n",
      " 57  brand_Volvo                4779 non-null   int32\n",
      "dtypes: int32(58)\n",
      "memory usage: 1.1 MB\n"
     ]
    }
   ],
   "source": [
    "X_train.info()"
   ]
  },
  {
   "cell_type": "code",
   "execution_count": 32,
   "id": "c4b48641",
   "metadata": {
    "ExecuteTime": {
     "end_time": "2023-05-13T12:23:26.569544Z",
     "start_time": "2023-05-13T12:23:21.967418Z"
    }
   },
   "outputs": [
    {
     "name": "stderr",
     "output_type": "stream",
     "text": [
      "c:\\users\\ahneunjeong\\appdata\\local\\programs\\python\\python39\\lib\\site-packages\\statsmodels\\stats\\outliers_influence.py:195: RuntimeWarning: divide by zero encountered in double_scalars\n",
      "  vif = 1. / (1. - r_squared_i)\n",
      "c:\\users\\ahneunjeong\\appdata\\local\\programs\\python\\python39\\lib\\site-packages\\statsmodels\\regression\\linear_model.py:1752: RuntimeWarning: invalid value encountered in double_scalars\n",
      "  return 1 - self.ssr/self.centered_tss\n"
     ]
    },
    {
     "data": {
      "text/html": [
       "<div>\n",
       "<style scoped>\n",
       "    .dataframe tbody tr th:only-of-type {\n",
       "        vertical-align: middle;\n",
       "    }\n",
       "\n",
       "    .dataframe tbody tr th {\n",
       "        vertical-align: top;\n",
       "    }\n",
       "\n",
       "    .dataframe thead th {\n",
       "        text-align: right;\n",
       "    }\n",
       "</style>\n",
       "<table border=\"1\" class=\"dataframe\">\n",
       "  <thead>\n",
       "    <tr style=\"text-align: right;\">\n",
       "      <th></th>\n",
       "      <th>features</th>\n",
       "      <th>VIF Factor</th>\n",
       "    </tr>\n",
       "  </thead>\n",
       "  <tbody>\n",
       "    <tr>\n",
       "      <th>0</th>\n",
       "      <td>Year</td>\n",
       "      <td>2.0</td>\n",
       "    </tr>\n",
       "    <tr>\n",
       "      <th>1</th>\n",
       "      <td>Kilometers_Driven</td>\n",
       "      <td>1.5</td>\n",
       "    </tr>\n",
       "    <tr>\n",
       "      <th>2</th>\n",
       "      <td>Mileage</td>\n",
       "      <td>3.8</td>\n",
       "    </tr>\n",
       "    <tr>\n",
       "      <th>3</th>\n",
       "      <td>Engine</td>\n",
       "      <td>9.8</td>\n",
       "    </tr>\n",
       "    <tr>\n",
       "      <th>4</th>\n",
       "      <td>Power</td>\n",
       "      <td>7.7</td>\n",
       "    </tr>\n",
       "    <tr>\n",
       "      <th>5</th>\n",
       "      <td>Seats</td>\n",
       "      <td>2.4</td>\n",
       "    </tr>\n",
       "    <tr>\n",
       "      <th>6</th>\n",
       "      <td>Location_Ahmedabad</td>\n",
       "      <td>inf</td>\n",
       "    </tr>\n",
       "    <tr>\n",
       "      <th>7</th>\n",
       "      <td>Location_Bangalore</td>\n",
       "      <td>inf</td>\n",
       "    </tr>\n",
       "    <tr>\n",
       "      <th>8</th>\n",
       "      <td>Location_Chennai</td>\n",
       "      <td>inf</td>\n",
       "    </tr>\n",
       "    <tr>\n",
       "      <th>9</th>\n",
       "      <td>Location_Coimbatore</td>\n",
       "      <td>inf</td>\n",
       "    </tr>\n",
       "    <tr>\n",
       "      <th>10</th>\n",
       "      <td>Location_Delhi</td>\n",
       "      <td>inf</td>\n",
       "    </tr>\n",
       "    <tr>\n",
       "      <th>11</th>\n",
       "      <td>Location_Hyderabad</td>\n",
       "      <td>inf</td>\n",
       "    </tr>\n",
       "    <tr>\n",
       "      <th>12</th>\n",
       "      <td>Location_Jaipur</td>\n",
       "      <td>inf</td>\n",
       "    </tr>\n",
       "    <tr>\n",
       "      <th>13</th>\n",
       "      <td>Location_Kochi</td>\n",
       "      <td>inf</td>\n",
       "    </tr>\n",
       "    <tr>\n",
       "      <th>14</th>\n",
       "      <td>Location_Kolkata</td>\n",
       "      <td>inf</td>\n",
       "    </tr>\n",
       "    <tr>\n",
       "      <th>15</th>\n",
       "      <td>Location_Mumbai</td>\n",
       "      <td>inf</td>\n",
       "    </tr>\n",
       "    <tr>\n",
       "      <th>16</th>\n",
       "      <td>Location_Pune</td>\n",
       "      <td>inf</td>\n",
       "    </tr>\n",
       "    <tr>\n",
       "      <th>17</th>\n",
       "      <td>Fuel_Type_CNG</td>\n",
       "      <td>inf</td>\n",
       "    </tr>\n",
       "    <tr>\n",
       "      <th>18</th>\n",
       "      <td>Fuel_Type_Diesel</td>\n",
       "      <td>inf</td>\n",
       "    </tr>\n",
       "    <tr>\n",
       "      <th>19</th>\n",
       "      <td>Fuel_Type_LPG</td>\n",
       "      <td>inf</td>\n",
       "    </tr>\n",
       "    <tr>\n",
       "      <th>20</th>\n",
       "      <td>Fuel_Type_Petrol</td>\n",
       "      <td>inf</td>\n",
       "    </tr>\n",
       "    <tr>\n",
       "      <th>21</th>\n",
       "      <td>Transmission_Automatic</td>\n",
       "      <td>inf</td>\n",
       "    </tr>\n",
       "    <tr>\n",
       "      <th>22</th>\n",
       "      <td>Transmission_Manual</td>\n",
       "      <td>inf</td>\n",
       "    </tr>\n",
       "    <tr>\n",
       "      <th>23</th>\n",
       "      <td>Owner_Type_First</td>\n",
       "      <td>inf</td>\n",
       "    </tr>\n",
       "    <tr>\n",
       "      <th>24</th>\n",
       "      <td>Owner_Type_Fourth &amp; Above</td>\n",
       "      <td>inf</td>\n",
       "    </tr>\n",
       "    <tr>\n",
       "      <th>25</th>\n",
       "      <td>Owner_Type_Second</td>\n",
       "      <td>inf</td>\n",
       "    </tr>\n",
       "    <tr>\n",
       "      <th>26</th>\n",
       "      <td>Owner_Type_Third</td>\n",
       "      <td>inf</td>\n",
       "    </tr>\n",
       "    <tr>\n",
       "      <th>27</th>\n",
       "      <td>brand_Ambassador</td>\n",
       "      <td>NaN</td>\n",
       "    </tr>\n",
       "    <tr>\n",
       "      <th>28</th>\n",
       "      <td>brand_Audi</td>\n",
       "      <td>inf</td>\n",
       "    </tr>\n",
       "    <tr>\n",
       "      <th>29</th>\n",
       "      <td>brand_BMW</td>\n",
       "      <td>inf</td>\n",
       "    </tr>\n",
       "    <tr>\n",
       "      <th>30</th>\n",
       "      <td>brand_Bentley</td>\n",
       "      <td>inf</td>\n",
       "    </tr>\n",
       "    <tr>\n",
       "      <th>31</th>\n",
       "      <td>brand_Chevrolet</td>\n",
       "      <td>inf</td>\n",
       "    </tr>\n",
       "    <tr>\n",
       "      <th>32</th>\n",
       "      <td>brand_Datsun</td>\n",
       "      <td>inf</td>\n",
       "    </tr>\n",
       "    <tr>\n",
       "      <th>33</th>\n",
       "      <td>brand_Fiat</td>\n",
       "      <td>inf</td>\n",
       "    </tr>\n",
       "    <tr>\n",
       "      <th>34</th>\n",
       "      <td>brand_Force</td>\n",
       "      <td>inf</td>\n",
       "    </tr>\n",
       "    <tr>\n",
       "      <th>35</th>\n",
       "      <td>brand_Ford</td>\n",
       "      <td>inf</td>\n",
       "    </tr>\n",
       "    <tr>\n",
       "      <th>36</th>\n",
       "      <td>brand_Honda</td>\n",
       "      <td>inf</td>\n",
       "    </tr>\n",
       "    <tr>\n",
       "      <th>37</th>\n",
       "      <td>brand_Hyundai</td>\n",
       "      <td>inf</td>\n",
       "    </tr>\n",
       "    <tr>\n",
       "      <th>38</th>\n",
       "      <td>brand_ISUZU</td>\n",
       "      <td>inf</td>\n",
       "    </tr>\n",
       "    <tr>\n",
       "      <th>39</th>\n",
       "      <td>brand_Isuzu</td>\n",
       "      <td>inf</td>\n",
       "    </tr>\n",
       "    <tr>\n",
       "      <th>40</th>\n",
       "      <td>brand_Jaguar</td>\n",
       "      <td>inf</td>\n",
       "    </tr>\n",
       "    <tr>\n",
       "      <th>41</th>\n",
       "      <td>brand_Jeep</td>\n",
       "      <td>inf</td>\n",
       "    </tr>\n",
       "    <tr>\n",
       "      <th>42</th>\n",
       "      <td>brand_Lamborghini</td>\n",
       "      <td>inf</td>\n",
       "    </tr>\n",
       "    <tr>\n",
       "      <th>43</th>\n",
       "      <td>brand_Land</td>\n",
       "      <td>inf</td>\n",
       "    </tr>\n",
       "    <tr>\n",
       "      <th>44</th>\n",
       "      <td>brand_Mahindra</td>\n",
       "      <td>inf</td>\n",
       "    </tr>\n",
       "    <tr>\n",
       "      <th>45</th>\n",
       "      <td>brand_Maruti</td>\n",
       "      <td>inf</td>\n",
       "    </tr>\n",
       "    <tr>\n",
       "      <th>46</th>\n",
       "      <td>brand_Mercedes-Benz</td>\n",
       "      <td>inf</td>\n",
       "    </tr>\n",
       "    <tr>\n",
       "      <th>47</th>\n",
       "      <td>brand_Mini</td>\n",
       "      <td>inf</td>\n",
       "    </tr>\n",
       "    <tr>\n",
       "      <th>48</th>\n",
       "      <td>brand_Mitsubishi</td>\n",
       "      <td>inf</td>\n",
       "    </tr>\n",
       "    <tr>\n",
       "      <th>49</th>\n",
       "      <td>brand_Nissan</td>\n",
       "      <td>inf</td>\n",
       "    </tr>\n",
       "    <tr>\n",
       "      <th>50</th>\n",
       "      <td>brand_Porsche</td>\n",
       "      <td>inf</td>\n",
       "    </tr>\n",
       "    <tr>\n",
       "      <th>51</th>\n",
       "      <td>brand_Renault</td>\n",
       "      <td>inf</td>\n",
       "    </tr>\n",
       "    <tr>\n",
       "      <th>52</th>\n",
       "      <td>brand_Skoda</td>\n",
       "      <td>inf</td>\n",
       "    </tr>\n",
       "    <tr>\n",
       "      <th>53</th>\n",
       "      <td>brand_Smart</td>\n",
       "      <td>inf</td>\n",
       "    </tr>\n",
       "    <tr>\n",
       "      <th>54</th>\n",
       "      <td>brand_Tata</td>\n",
       "      <td>inf</td>\n",
       "    </tr>\n",
       "    <tr>\n",
       "      <th>55</th>\n",
       "      <td>brand_Toyota</td>\n",
       "      <td>inf</td>\n",
       "    </tr>\n",
       "    <tr>\n",
       "      <th>56</th>\n",
       "      <td>brand_Volkswagen</td>\n",
       "      <td>inf</td>\n",
       "    </tr>\n",
       "    <tr>\n",
       "      <th>57</th>\n",
       "      <td>brand_Volvo</td>\n",
       "      <td>inf</td>\n",
       "    </tr>\n",
       "  </tbody>\n",
       "</table>\n",
       "</div>"
      ],
      "text/plain": [
       "                     features  VIF Factor\n",
       "0                        Year         2.0\n",
       "1           Kilometers_Driven         1.5\n",
       "2                     Mileage         3.8\n",
       "3                      Engine         9.8\n",
       "4                       Power         7.7\n",
       "5                       Seats         2.4\n",
       "6          Location_Ahmedabad         inf\n",
       "7          Location_Bangalore         inf\n",
       "8            Location_Chennai         inf\n",
       "9         Location_Coimbatore         inf\n",
       "10             Location_Delhi         inf\n",
       "11         Location_Hyderabad         inf\n",
       "12            Location_Jaipur         inf\n",
       "13             Location_Kochi         inf\n",
       "14           Location_Kolkata         inf\n",
       "15            Location_Mumbai         inf\n",
       "16              Location_Pune         inf\n",
       "17              Fuel_Type_CNG         inf\n",
       "18           Fuel_Type_Diesel         inf\n",
       "19              Fuel_Type_LPG         inf\n",
       "20           Fuel_Type_Petrol         inf\n",
       "21     Transmission_Automatic         inf\n",
       "22        Transmission_Manual         inf\n",
       "23           Owner_Type_First         inf\n",
       "24  Owner_Type_Fourth & Above         inf\n",
       "25          Owner_Type_Second         inf\n",
       "26           Owner_Type_Third         inf\n",
       "27           brand_Ambassador         NaN\n",
       "28                 brand_Audi         inf\n",
       "29                  brand_BMW         inf\n",
       "30              brand_Bentley         inf\n",
       "31            brand_Chevrolet         inf\n",
       "32               brand_Datsun         inf\n",
       "33                 brand_Fiat         inf\n",
       "34                brand_Force         inf\n",
       "35                 brand_Ford         inf\n",
       "36                brand_Honda         inf\n",
       "37              brand_Hyundai         inf\n",
       "38                brand_ISUZU         inf\n",
       "39                brand_Isuzu         inf\n",
       "40               brand_Jaguar         inf\n",
       "41                 brand_Jeep         inf\n",
       "42          brand_Lamborghini         inf\n",
       "43                 brand_Land         inf\n",
       "44             brand_Mahindra         inf\n",
       "45               brand_Maruti         inf\n",
       "46        brand_Mercedes-Benz         inf\n",
       "47                 brand_Mini         inf\n",
       "48           brand_Mitsubishi         inf\n",
       "49               brand_Nissan         inf\n",
       "50              brand_Porsche         inf\n",
       "51              brand_Renault         inf\n",
       "52                brand_Skoda         inf\n",
       "53                brand_Smart         inf\n",
       "54                 brand_Tata         inf\n",
       "55               brand_Toyota         inf\n",
       "56           brand_Volkswagen         inf\n",
       "57                brand_Volvo         inf"
      ]
     },
     "execution_count": 32,
     "metadata": {},
     "output_type": "execute_result"
    }
   ],
   "source": [
    "from statsmodels.stats.outliers_influence import variance_inflation_factor\n",
    "\n",
    "vif = pd.DataFrame()\n",
    "vif['features'] = X_train.columns\n",
    "vif[\"VIF Factor\"] = [variance_inflation_factor(X_train.values, i) for i in range(X_train.shape[1])]\n",
    "\n",
    "vif.round(1)"
   ]
  },
  {
   "cell_type": "code",
   "execution_count": 33,
   "id": "17553446",
   "metadata": {
    "ExecuteTime": {
     "end_time": "2023-05-13T12:23:26.577689Z",
     "start_time": "2023-05-13T12:23:26.569544Z"
    }
   },
   "outputs": [],
   "source": [
    "### 더미변수로 바꿔준 것 제외 다중공선성이 괜찮으니 그냥 넘어가겠음."
   ]
  },
  {
   "cell_type": "markdown",
   "id": "a006f0df",
   "metadata": {},
   "source": [
    "### 선형회귀모델"
   ]
  },
  {
   "cell_type": "code",
   "execution_count": 34,
   "id": "f5b178f8",
   "metadata": {
    "ExecuteTime": {
     "end_time": "2023-05-13T12:23:26.917365Z",
     "start_time": "2023-05-13T12:23:26.577689Z"
    }
   },
   "outputs": [],
   "source": [
    "from sklearn.linear_model import LinearRegression"
   ]
  },
  {
   "cell_type": "code",
   "execution_count": 35,
   "id": "15b6f22d",
   "metadata": {
    "ExecuteTime": {
     "end_time": "2023-05-13T12:23:26.943044Z",
     "start_time": "2023-05-13T12:23:26.921810Z"
    }
   },
   "outputs": [],
   "source": [
    "lr = LinearRegression()"
   ]
  },
  {
   "cell_type": "code",
   "execution_count": 36,
   "id": "a3c5d990",
   "metadata": {
    "ExecuteTime": {
     "end_time": "2023-05-13T12:23:27.037220Z",
     "start_time": "2023-05-13T12:23:26.951046Z"
    }
   },
   "outputs": [
    {
     "data": {
      "text/html": [
       "<style>#sk-container-id-1 {color: black;background-color: white;}#sk-container-id-1 pre{padding: 0;}#sk-container-id-1 div.sk-toggleable {background-color: white;}#sk-container-id-1 label.sk-toggleable__label {cursor: pointer;display: block;width: 100%;margin-bottom: 0;padding: 0.3em;box-sizing: border-box;text-align: center;}#sk-container-id-1 label.sk-toggleable__label-arrow:before {content: \"▸\";float: left;margin-right: 0.25em;color: #696969;}#sk-container-id-1 label.sk-toggleable__label-arrow:hover:before {color: black;}#sk-container-id-1 div.sk-estimator:hover label.sk-toggleable__label-arrow:before {color: black;}#sk-container-id-1 div.sk-toggleable__content {max-height: 0;max-width: 0;overflow: hidden;text-align: left;background-color: #f0f8ff;}#sk-container-id-1 div.sk-toggleable__content pre {margin: 0.2em;color: black;border-radius: 0.25em;background-color: #f0f8ff;}#sk-container-id-1 input.sk-toggleable__control:checked~div.sk-toggleable__content {max-height: 200px;max-width: 100%;overflow: auto;}#sk-container-id-1 input.sk-toggleable__control:checked~label.sk-toggleable__label-arrow:before {content: \"▾\";}#sk-container-id-1 div.sk-estimator input.sk-toggleable__control:checked~label.sk-toggleable__label {background-color: #d4ebff;}#sk-container-id-1 div.sk-label input.sk-toggleable__control:checked~label.sk-toggleable__label {background-color: #d4ebff;}#sk-container-id-1 input.sk-hidden--visually {border: 0;clip: rect(1px 1px 1px 1px);clip: rect(1px, 1px, 1px, 1px);height: 1px;margin: -1px;overflow: hidden;padding: 0;position: absolute;width: 1px;}#sk-container-id-1 div.sk-estimator {font-family: monospace;background-color: #f0f8ff;border: 1px dotted black;border-radius: 0.25em;box-sizing: border-box;margin-bottom: 0.5em;}#sk-container-id-1 div.sk-estimator:hover {background-color: #d4ebff;}#sk-container-id-1 div.sk-parallel-item::after {content: \"\";width: 100%;border-bottom: 1px solid gray;flex-grow: 1;}#sk-container-id-1 div.sk-label:hover label.sk-toggleable__label {background-color: #d4ebff;}#sk-container-id-1 div.sk-serial::before {content: \"\";position: absolute;border-left: 1px solid gray;box-sizing: border-box;top: 0;bottom: 0;left: 50%;z-index: 0;}#sk-container-id-1 div.sk-serial {display: flex;flex-direction: column;align-items: center;background-color: white;padding-right: 0.2em;padding-left: 0.2em;position: relative;}#sk-container-id-1 div.sk-item {position: relative;z-index: 1;}#sk-container-id-1 div.sk-parallel {display: flex;align-items: stretch;justify-content: center;background-color: white;position: relative;}#sk-container-id-1 div.sk-item::before, #sk-container-id-1 div.sk-parallel-item::before {content: \"\";position: absolute;border-left: 1px solid gray;box-sizing: border-box;top: 0;bottom: 0;left: 50%;z-index: -1;}#sk-container-id-1 div.sk-parallel-item {display: flex;flex-direction: column;z-index: 1;position: relative;background-color: white;}#sk-container-id-1 div.sk-parallel-item:first-child::after {align-self: flex-end;width: 50%;}#sk-container-id-1 div.sk-parallel-item:last-child::after {align-self: flex-start;width: 50%;}#sk-container-id-1 div.sk-parallel-item:only-child::after {width: 0;}#sk-container-id-1 div.sk-dashed-wrapped {border: 1px dashed gray;margin: 0 0.4em 0.5em 0.4em;box-sizing: border-box;padding-bottom: 0.4em;background-color: white;}#sk-container-id-1 div.sk-label label {font-family: monospace;font-weight: bold;display: inline-block;line-height: 1.2em;}#sk-container-id-1 div.sk-label-container {text-align: center;}#sk-container-id-1 div.sk-container {/* jupyter's `normalize.less` sets `[hidden] { display: none; }` but bootstrap.min.css set `[hidden] { display: none !important; }` so we also need the `!important` here to be able to override the default hidden behavior on the sphinx rendered scikit-learn.org. See: https://github.com/scikit-learn/scikit-learn/issues/21755 */display: inline-block !important;position: relative;}#sk-container-id-1 div.sk-text-repr-fallback {display: none;}</style><div id=\"sk-container-id-1\" class=\"sk-top-container\"><div class=\"sk-text-repr-fallback\"><pre>LinearRegression()</pre><b>In a Jupyter environment, please rerun this cell to show the HTML representation or trust the notebook. <br />On GitHub, the HTML representation is unable to render, please try loading this page with nbviewer.org.</b></div><div class=\"sk-container\" hidden><div class=\"sk-item\"><div class=\"sk-estimator sk-toggleable\"><input class=\"sk-toggleable__control sk-hidden--visually\" id=\"sk-estimator-id-1\" type=\"checkbox\" checked><label for=\"sk-estimator-id-1\" class=\"sk-toggleable__label sk-toggleable__label-arrow\">LinearRegression</label><div class=\"sk-toggleable__content\"><pre>LinearRegression()</pre></div></div></div></div></div>"
      ],
      "text/plain": [
       "LinearRegression()"
      ]
     },
     "execution_count": 36,
     "metadata": {},
     "output_type": "execute_result"
    }
   ],
   "source": [
    "lr.fit(X_train, y_train)"
   ]
  },
  {
   "cell_type": "code",
   "execution_count": 37,
   "id": "a4c33182",
   "metadata": {
    "ExecuteTime": {
     "end_time": "2023-05-13T12:23:27.056854Z",
     "start_time": "2023-05-13T12:23:27.039852Z"
    }
   },
   "outputs": [],
   "source": [
    "pred = lr.predict(X_test)"
   ]
  },
  {
   "cell_type": "code",
   "execution_count": 77,
   "id": "7fdb8520",
   "metadata": {
    "ExecuteTime": {
     "end_time": "2023-05-13T12:44:08.577332Z",
     "start_time": "2023-05-13T12:44:08.486972Z"
    }
   },
   "outputs": [
    {
     "data": {
      "text/html": [
       "<table class=\"simpletable\">\n",
       "<caption>OLS Regression Results</caption>\n",
       "<tr>\n",
       "  <th>Dep. Variable:</th>          <td>Price</td>      <th>  R-squared:         </th> <td>   0.774</td> \n",
       "</tr>\n",
       "<tr>\n",
       "  <th>Model:</th>                   <td>OLS</td>       <th>  Adj. R-squared:    </th> <td>   0.771</td> \n",
       "</tr>\n",
       "<tr>\n",
       "  <th>Method:</th>             <td>Least Squares</td>  <th>  F-statistic:       </th> <td>   310.7</td> \n",
       "</tr>\n",
       "<tr>\n",
       "  <th>Date:</th>             <td>Sat, 13 May 2023</td> <th>  Prob (F-statistic):</th>  <td>  0.00</td>  \n",
       "</tr>\n",
       "<tr>\n",
       "  <th>Time:</th>                 <td>21:44:08</td>     <th>  Log-Likelihood:    </th> <td> -14928.</td> \n",
       "</tr>\n",
       "<tr>\n",
       "  <th>No. Observations:</th>      <td>  4779</td>      <th>  AIC:               </th> <td>2.996e+04</td>\n",
       "</tr>\n",
       "<tr>\n",
       "  <th>Df Residuals:</th>          <td>  4726</td>      <th>  BIC:               </th> <td>3.031e+04</td>\n",
       "</tr>\n",
       "<tr>\n",
       "  <th>Df Model:</th>              <td>    52</td>      <th>                     </th>     <td> </td>    \n",
       "</tr>\n",
       "<tr>\n",
       "  <th>Covariance Type:</th>      <td>nonrobust</td>    <th>                     </th>     <td> </td>    \n",
       "</tr>\n",
       "</table>\n",
       "<table class=\"simpletable\">\n",
       "<tr>\n",
       "              <td></td>                 <th>coef</th>     <th>std err</th>      <th>t</th>      <th>P>|t|</th>  <th>[0.025</th>    <th>0.975]</th>  \n",
       "</tr>\n",
       "<tr>\n",
       "  <th>const</th>                     <td> -869.9506</td> <td>   32.911</td> <td>  -26.433</td> <td> 0.000</td> <td> -934.472</td> <td> -805.429</td>\n",
       "</tr>\n",
       "<tr>\n",
       "  <th>Year</th>                      <td>    0.9214</td> <td>    0.035</td> <td>   26.417</td> <td> 0.000</td> <td>    0.853</td> <td>    0.990</td>\n",
       "</tr>\n",
       "<tr>\n",
       "  <th>Kilometers_Driven</th>         <td>-2.095e-05</td> <td> 2.58e-06</td> <td>   -8.117</td> <td> 0.000</td> <td> -2.6e-05</td> <td>-1.59e-05</td>\n",
       "</tr>\n",
       "<tr>\n",
       "  <th>Mileage</th>                   <td>   -0.1488</td> <td>    0.030</td> <td>   -4.894</td> <td> 0.000</td> <td>   -0.208</td> <td>   -0.089</td>\n",
       "</tr>\n",
       "<tr>\n",
       "  <th>Engine</th>                    <td>    0.0038</td> <td>    0.000</td> <td>    9.308</td> <td> 0.000</td> <td>    0.003</td> <td>    0.005</td>\n",
       "</tr>\n",
       "<tr>\n",
       "  <th>Power</th>                     <td>    0.0570</td> <td>    0.004</td> <td>   14.392</td> <td> 0.000</td> <td>    0.049</td> <td>    0.065</td>\n",
       "</tr>\n",
       "<tr>\n",
       "  <th>Seats</th>                     <td>   -0.1856</td> <td>    0.153</td> <td>   -1.211</td> <td> 0.226</td> <td>   -0.486</td> <td>    0.115</td>\n",
       "</tr>\n",
       "<tr>\n",
       "  <th>Location_Ahmedabad</th>        <td>  -79.6246</td> <td>    3.004</td> <td>  -26.509</td> <td> 0.000</td> <td>  -85.513</td> <td>  -73.736</td>\n",
       "</tr>\n",
       "<tr>\n",
       "  <th>Location_Bangalore</th>        <td>  -77.5110</td> <td>    3.005</td> <td>  -25.792</td> <td> 0.000</td> <td>  -83.403</td> <td>  -71.619</td>\n",
       "</tr>\n",
       "<tr>\n",
       "  <th>Location_Chennai</th>          <td>  -78.3265</td> <td>    2.991</td> <td>  -26.185</td> <td> 0.000</td> <td>  -84.191</td> <td>  -72.462</td>\n",
       "</tr>\n",
       "<tr>\n",
       "  <th>Location_Coimbatore</th>       <td>  -77.6867</td> <td>    3.052</td> <td>  -25.457</td> <td> 0.000</td> <td>  -83.670</td> <td>  -71.704</td>\n",
       "</tr>\n",
       "<tr>\n",
       "  <th>Location_Delhi</th>            <td>  -80.1286</td> <td>    2.999</td> <td>  -26.723</td> <td> 0.000</td> <td>  -86.007</td> <td>  -74.250</td>\n",
       "</tr>\n",
       "<tr>\n",
       "  <th>Location_Hyderabad</th>        <td>  -77.7866</td> <td>    2.985</td> <td>  -26.055</td> <td> 0.000</td> <td>  -83.640</td> <td>  -71.934</td>\n",
       "</tr>\n",
       "<tr>\n",
       "  <th>Location_Jaipur</th>           <td>  -78.5350</td> <td>    3.000</td> <td>  -26.180</td> <td> 0.000</td> <td>  -84.416</td> <td>  -72.654</td>\n",
       "</tr>\n",
       "<tr>\n",
       "  <th>Location_Kochi</th>            <td>  -79.9307</td> <td>    3.050</td> <td>  -26.207</td> <td> 0.000</td> <td>  -85.910</td> <td>  -73.951</td>\n",
       "</tr>\n",
       "<tr>\n",
       "  <th>Location_Kolkata</th>          <td>  -80.9336</td> <td>    2.974</td> <td>  -27.218</td> <td> 0.000</td> <td>  -86.763</td> <td>  -75.104</td>\n",
       "</tr>\n",
       "<tr>\n",
       "  <th>Location_Mumbai</th>           <td>  -80.3785</td> <td>    2.992</td> <td>  -26.867</td> <td> 0.000</td> <td>  -86.244</td> <td>  -74.513</td>\n",
       "</tr>\n",
       "<tr>\n",
       "  <th>Location_Pune</th>             <td>  -79.1087</td> <td>    2.999</td> <td>  -26.382</td> <td> 0.000</td> <td>  -84.987</td> <td>  -73.230</td>\n",
       "</tr>\n",
       "<tr>\n",
       "  <th>Fuel_Type_CNG</th>             <td> -215.7972</td> <td>    8.204</td> <td>  -26.302</td> <td> 0.000</td> <td> -231.882</td> <td> -199.713</td>\n",
       "</tr>\n",
       "<tr>\n",
       "  <th>Fuel_Type_Diesel</th>          <td> -218.2061</td> <td>    8.315</td> <td>  -26.243</td> <td> 0.000</td> <td> -234.507</td> <td> -201.905</td>\n",
       "</tr>\n",
       "<tr>\n",
       "  <th>Fuel_Type_LPG</th>             <td> -216.6935</td> <td>    8.322</td> <td>  -26.039</td> <td> 0.000</td> <td> -233.008</td> <td> -200.379</td>\n",
       "</tr>\n",
       "<tr>\n",
       "  <th>Fuel_Type_Petrol</th>          <td> -219.2539</td> <td>    8.294</td> <td>  -26.435</td> <td> 0.000</td> <td> -235.514</td> <td> -202.994</td>\n",
       "</tr>\n",
       "<tr>\n",
       "  <th>Transmission_Automatic</th>    <td> -435.0406</td> <td>   16.472</td> <td>  -26.410</td> <td> 0.000</td> <td> -467.334</td> <td> -402.747</td>\n",
       "</tr>\n",
       "<tr>\n",
       "  <th>Transmission_Manual</th>       <td> -434.9100</td> <td>   16.440</td> <td>  -26.455</td> <td> 0.000</td> <td> -467.140</td> <td> -402.680</td>\n",
       "</tr>\n",
       "<tr>\n",
       "  <th>Owner_Type_First</th>          <td> -217.6221</td> <td>    8.326</td> <td>  -26.139</td> <td> 0.000</td> <td> -233.944</td> <td> -201.300</td>\n",
       "</tr>\n",
       "<tr>\n",
       "  <th>Owner_Type_Fourth & Above</th> <td> -216.9260</td> <td>    8.412</td> <td>  -25.787</td> <td> 0.000</td> <td> -233.418</td> <td> -200.434</td>\n",
       "</tr>\n",
       "<tr>\n",
       "  <th>Owner_Type_Second</th>         <td> -218.6410</td> <td>    8.270</td> <td>  -26.439</td> <td> 0.000</td> <td> -234.854</td> <td> -202.429</td>\n",
       "</tr>\n",
       "<tr>\n",
       "  <th>Owner_Type_Third</th>          <td> -216.7615</td> <td>    8.203</td> <td>  -26.425</td> <td> 0.000</td> <td> -232.843</td> <td> -200.680</td>\n",
       "</tr>\n",
       "<tr>\n",
       "  <th>brand_Ambassador</th>          <td>-2.403e-13</td> <td> 9.92e-15</td> <td>  -24.220</td> <td> 0.000</td> <td> -2.6e-13</td> <td>-2.21e-13</td>\n",
       "</tr>\n",
       "<tr>\n",
       "  <th>brand_Audi</th>                <td>  -25.8610</td> <td>    1.218</td> <td>  -21.239</td> <td> 0.000</td> <td>  -28.248</td> <td>  -23.474</td>\n",
       "</tr>\n",
       "<tr>\n",
       "  <th>brand_BMW</th>                 <td>  -25.5278</td> <td>    1.197</td> <td>  -21.325</td> <td> 0.000</td> <td>  -27.875</td> <td>  -23.181</td>\n",
       "</tr>\n",
       "<tr>\n",
       "  <th>brand_Bentley</th>             <td>  -21.2306</td> <td>    5.544</td> <td>   -3.829</td> <td> 0.000</td> <td>  -32.099</td> <td>  -10.362</td>\n",
       "</tr>\n",
       "<tr>\n",
       "  <th>brand_Chevrolet</th>           <td>  -35.7187</td> <td>    1.277</td> <td>  -27.966</td> <td> 0.000</td> <td>  -38.223</td> <td>  -33.215</td>\n",
       "</tr>\n",
       "<tr>\n",
       "  <th>brand_Datsun</th>              <td>  -37.1351</td> <td>    2.063</td> <td>  -17.998</td> <td> 0.000</td> <td>  -41.180</td> <td>  -33.090</td>\n",
       "</tr>\n",
       "<tr>\n",
       "  <th>brand_Fiat</th>                <td>  -35.5398</td> <td>    1.794</td> <td>  -19.811</td> <td> 0.000</td> <td>  -39.057</td> <td>  -32.023</td>\n",
       "</tr>\n",
       "<tr>\n",
       "  <th>brand_Force</th>               <td>  -37.2025</td> <td>    3.322</td> <td>  -11.199</td> <td> 0.000</td> <td>  -43.715</td> <td>  -30.690</td>\n",
       "</tr>\n",
       "<tr>\n",
       "  <th>brand_Ford</th>                <td>  -35.0755</td> <td>    1.252</td> <td>  -28.017</td> <td> 0.000</td> <td>  -37.530</td> <td>  -32.621</td>\n",
       "</tr>\n",
       "<tr>\n",
       "  <th>brand_Honda</th>               <td>  -35.9849</td> <td>    1.213</td> <td>  -29.658</td> <td> 0.000</td> <td>  -38.364</td> <td>  -33.606</td>\n",
       "</tr>\n",
       "<tr>\n",
       "  <th>brand_Hyundai</th>             <td>  -35.1249</td> <td>    1.215</td> <td>  -28.911</td> <td> 0.000</td> <td>  -37.507</td> <td>  -32.743</td>\n",
       "</tr>\n",
       "<tr>\n",
       "  <th>brand_ISUZU</th>               <td>  -45.2674</td> <td>    5.525</td> <td>   -8.193</td> <td> 0.000</td> <td>  -56.100</td> <td>  -34.435</td>\n",
       "</tr>\n",
       "<tr>\n",
       "  <th>brand_Isuzu</th>               <td>  -36.6142</td> <td>    5.513</td> <td>   -6.641</td> <td> 0.000</td> <td>  -47.422</td> <td>  -25.806</td>\n",
       "</tr>\n",
       "<tr>\n",
       "  <th>brand_Jaguar</th>              <td>  -17.4489</td> <td>    1.476</td> <td>  -11.822</td> <td> 0.000</td> <td>  -20.343</td> <td>  -14.555</td>\n",
       "</tr>\n",
       "<tr>\n",
       "  <th>brand_Jeep</th>                <td>  -33.2128</td> <td>    1.996</td> <td>  -16.641</td> <td> 0.000</td> <td>  -37.126</td> <td>  -29.300</td>\n",
       "</tr>\n",
       "<tr>\n",
       "  <th>brand_Lamborghini</th>         <td>   37.6884</td> <td>    5.633</td> <td>    6.691</td> <td> 0.000</td> <td>   26.646</td> <td>   48.731</td>\n",
       "</tr>\n",
       "<tr>\n",
       "  <th>brand_Land</th>                <td>  -13.7055</td> <td>    1.451</td> <td>   -9.447</td> <td> 0.000</td> <td>  -16.550</td> <td>  -10.861</td>\n",
       "</tr>\n",
       "<tr>\n",
       "  <th>brand_Mahindra</th>            <td>  -37.9386</td> <td>    1.286</td> <td>  -29.491</td> <td> 0.000</td> <td>  -40.461</td> <td>  -35.417</td>\n",
       "</tr>\n",
       "<tr>\n",
       "  <th>brand_Maruti</th>              <td>  -33.9879</td> <td>    1.209</td> <td>  -28.109</td> <td> 0.000</td> <td>  -36.358</td> <td>  -31.617</td>\n",
       "</tr>\n",
       "<tr>\n",
       "  <th>brand_Mercedes-Benz</th>       <td>  -24.1952</td> <td>    1.215</td> <td>  -19.916</td> <td> 0.000</td> <td>  -26.577</td> <td>  -21.813</td>\n",
       "</tr>\n",
       "<tr>\n",
       "  <th>brand_Mini</th>                <td>  -20.4816</td> <td>    1.687</td> <td>  -12.142</td> <td> 0.000</td> <td>  -23.789</td> <td>  -17.174</td>\n",
       "</tr>\n",
       "<tr>\n",
       "  <th>brand_Mitsubishi</th>          <td>  -36.0012</td> <td>    1.645</td> <td>  -21.892</td> <td> 0.000</td> <td>  -39.225</td> <td>  -32.777</td>\n",
       "</tr>\n",
       "<tr>\n",
       "  <th>brand_Nissan</th>              <td>  -35.7411</td> <td>    1.367</td> <td>  -26.152</td> <td> 0.000</td> <td>  -38.420</td> <td>  -33.062</td>\n",
       "</tr>\n",
       "<tr>\n",
       "  <th>brand_Porsche</th>             <td>  -13.4973</td> <td>    1.787</td> <td>   -7.555</td> <td> 0.000</td> <td>  -17.000</td> <td>   -9.995</td>\n",
       "</tr>\n",
       "<tr>\n",
       "  <th>brand_Renault</th>             <td>  -35.9234</td> <td>    1.312</td> <td>  -27.371</td> <td> 0.000</td> <td>  -38.496</td> <td>  -33.350</td>\n",
       "</tr>\n",
       "<tr>\n",
       "  <th>brand_Skoda</th>               <td>  -35.6486</td> <td>    1.253</td> <td>  -28.450</td> <td> 0.000</td> <td>  -38.105</td> <td>  -33.192</td>\n",
       "</tr>\n",
       "<tr>\n",
       "  <th>brand_Smart</th>               <td>  -26.8106</td> <td>    5.582</td> <td>   -4.803</td> <td> 0.000</td> <td>  -37.754</td> <td>  -15.867</td>\n",
       "</tr>\n",
       "<tr>\n",
       "  <th>brand_Tata</th>                <td>  -36.3659</td> <td>    1.292</td> <td>  -28.158</td> <td> 0.000</td> <td>  -38.898</td> <td>  -33.834</td>\n",
       "</tr>\n",
       "<tr>\n",
       "  <th>brand_Toyota</th>              <td>  -34.2858</td> <td>    1.284</td> <td>  -26.702</td> <td> 0.000</td> <td>  -36.803</td> <td>  -31.769</td>\n",
       "</tr>\n",
       "<tr>\n",
       "  <th>brand_Volkswagen</th>          <td>  -36.1116</td> <td>    1.251</td> <td>  -28.859</td> <td> 0.000</td> <td>  -38.565</td> <td>  -33.658</td>\n",
       "</tr>\n",
       "<tr>\n",
       "  <th>brand_Volvo</th>               <td>  -30.0006</td> <td>    1.748</td> <td>  -17.161</td> <td> 0.000</td> <td>  -33.428</td> <td>  -26.573</td>\n",
       "</tr>\n",
       "</table>\n",
       "<table class=\"simpletable\">\n",
       "<tr>\n",
       "  <th>Omnibus:</th>       <td>3979.878</td> <th>  Durbin-Watson:     </th>  <td>   1.976</td> \n",
       "</tr>\n",
       "<tr>\n",
       "  <th>Prob(Omnibus):</th>  <td> 0.000</td>  <th>  Jarque-Bera (JB):  </th> <td>531479.320</td>\n",
       "</tr>\n",
       "<tr>\n",
       "  <th>Skew:</th>           <td> 3.300</td>  <th>  Prob(JB):          </th>  <td>    0.00</td> \n",
       "</tr>\n",
       "<tr>\n",
       "  <th>Kurtosis:</th>       <td>54.240</td>  <th>  Cond. No.          </th>  <td>1.21e+16</td> \n",
       "</tr>\n",
       "</table><br/><br/>Notes:<br/>[1] Standard Errors assume that the covariance matrix of the errors is correctly specified.<br/>[2] The smallest eigenvalue is 1.57e-19. This might indicate that there are<br/>strong multicollinearity problems or that the design matrix is singular."
      ],
      "text/plain": [
       "<class 'statsmodels.iolib.summary.Summary'>\n",
       "\"\"\"\n",
       "                            OLS Regression Results                            \n",
       "==============================================================================\n",
       "Dep. Variable:                  Price   R-squared:                       0.774\n",
       "Model:                            OLS   Adj. R-squared:                  0.771\n",
       "Method:                 Least Squares   F-statistic:                     310.7\n",
       "Date:                Sat, 13 May 2023   Prob (F-statistic):               0.00\n",
       "Time:                        21:44:08   Log-Likelihood:                -14928.\n",
       "No. Observations:                4779   AIC:                         2.996e+04\n",
       "Df Residuals:                    4726   BIC:                         3.031e+04\n",
       "Df Model:                          52                                         \n",
       "Covariance Type:            nonrobust                                         \n",
       "=============================================================================================\n",
       "                                coef    std err          t      P>|t|      [0.025      0.975]\n",
       "---------------------------------------------------------------------------------------------\n",
       "const                      -869.9506     32.911    -26.433      0.000    -934.472    -805.429\n",
       "Year                          0.9214      0.035     26.417      0.000       0.853       0.990\n",
       "Kilometers_Driven         -2.095e-05   2.58e-06     -8.117      0.000    -2.6e-05   -1.59e-05\n",
       "Mileage                      -0.1488      0.030     -4.894      0.000      -0.208      -0.089\n",
       "Engine                        0.0038      0.000      9.308      0.000       0.003       0.005\n",
       "Power                         0.0570      0.004     14.392      0.000       0.049       0.065\n",
       "Seats                        -0.1856      0.153     -1.211      0.226      -0.486       0.115\n",
       "Location_Ahmedabad          -79.6246      3.004    -26.509      0.000     -85.513     -73.736\n",
       "Location_Bangalore          -77.5110      3.005    -25.792      0.000     -83.403     -71.619\n",
       "Location_Chennai            -78.3265      2.991    -26.185      0.000     -84.191     -72.462\n",
       "Location_Coimbatore         -77.6867      3.052    -25.457      0.000     -83.670     -71.704\n",
       "Location_Delhi              -80.1286      2.999    -26.723      0.000     -86.007     -74.250\n",
       "Location_Hyderabad          -77.7866      2.985    -26.055      0.000     -83.640     -71.934\n",
       "Location_Jaipur             -78.5350      3.000    -26.180      0.000     -84.416     -72.654\n",
       "Location_Kochi              -79.9307      3.050    -26.207      0.000     -85.910     -73.951\n",
       "Location_Kolkata            -80.9336      2.974    -27.218      0.000     -86.763     -75.104\n",
       "Location_Mumbai             -80.3785      2.992    -26.867      0.000     -86.244     -74.513\n",
       "Location_Pune               -79.1087      2.999    -26.382      0.000     -84.987     -73.230\n",
       "Fuel_Type_CNG              -215.7972      8.204    -26.302      0.000    -231.882    -199.713\n",
       "Fuel_Type_Diesel           -218.2061      8.315    -26.243      0.000    -234.507    -201.905\n",
       "Fuel_Type_LPG              -216.6935      8.322    -26.039      0.000    -233.008    -200.379\n",
       "Fuel_Type_Petrol           -219.2539      8.294    -26.435      0.000    -235.514    -202.994\n",
       "Transmission_Automatic     -435.0406     16.472    -26.410      0.000    -467.334    -402.747\n",
       "Transmission_Manual        -434.9100     16.440    -26.455      0.000    -467.140    -402.680\n",
       "Owner_Type_First           -217.6221      8.326    -26.139      0.000    -233.944    -201.300\n",
       "Owner_Type_Fourth & Above  -216.9260      8.412    -25.787      0.000    -233.418    -200.434\n",
       "Owner_Type_Second          -218.6410      8.270    -26.439      0.000    -234.854    -202.429\n",
       "Owner_Type_Third           -216.7615      8.203    -26.425      0.000    -232.843    -200.680\n",
       "brand_Ambassador          -2.403e-13   9.92e-15    -24.220      0.000    -2.6e-13   -2.21e-13\n",
       "brand_Audi                  -25.8610      1.218    -21.239      0.000     -28.248     -23.474\n",
       "brand_BMW                   -25.5278      1.197    -21.325      0.000     -27.875     -23.181\n",
       "brand_Bentley               -21.2306      5.544     -3.829      0.000     -32.099     -10.362\n",
       "brand_Chevrolet             -35.7187      1.277    -27.966      0.000     -38.223     -33.215\n",
       "brand_Datsun                -37.1351      2.063    -17.998      0.000     -41.180     -33.090\n",
       "brand_Fiat                  -35.5398      1.794    -19.811      0.000     -39.057     -32.023\n",
       "brand_Force                 -37.2025      3.322    -11.199      0.000     -43.715     -30.690\n",
       "brand_Ford                  -35.0755      1.252    -28.017      0.000     -37.530     -32.621\n",
       "brand_Honda                 -35.9849      1.213    -29.658      0.000     -38.364     -33.606\n",
       "brand_Hyundai               -35.1249      1.215    -28.911      0.000     -37.507     -32.743\n",
       "brand_ISUZU                 -45.2674      5.525     -8.193      0.000     -56.100     -34.435\n",
       "brand_Isuzu                 -36.6142      5.513     -6.641      0.000     -47.422     -25.806\n",
       "brand_Jaguar                -17.4489      1.476    -11.822      0.000     -20.343     -14.555\n",
       "brand_Jeep                  -33.2128      1.996    -16.641      0.000     -37.126     -29.300\n",
       "brand_Lamborghini            37.6884      5.633      6.691      0.000      26.646      48.731\n",
       "brand_Land                  -13.7055      1.451     -9.447      0.000     -16.550     -10.861\n",
       "brand_Mahindra              -37.9386      1.286    -29.491      0.000     -40.461     -35.417\n",
       "brand_Maruti                -33.9879      1.209    -28.109      0.000     -36.358     -31.617\n",
       "brand_Mercedes-Benz         -24.1952      1.215    -19.916      0.000     -26.577     -21.813\n",
       "brand_Mini                  -20.4816      1.687    -12.142      0.000     -23.789     -17.174\n",
       "brand_Mitsubishi            -36.0012      1.645    -21.892      0.000     -39.225     -32.777\n",
       "brand_Nissan                -35.7411      1.367    -26.152      0.000     -38.420     -33.062\n",
       "brand_Porsche               -13.4973      1.787     -7.555      0.000     -17.000      -9.995\n",
       "brand_Renault               -35.9234      1.312    -27.371      0.000     -38.496     -33.350\n",
       "brand_Skoda                 -35.6486      1.253    -28.450      0.000     -38.105     -33.192\n",
       "brand_Smart                 -26.8106      5.582     -4.803      0.000     -37.754     -15.867\n",
       "brand_Tata                  -36.3659      1.292    -28.158      0.000     -38.898     -33.834\n",
       "brand_Toyota                -34.2858      1.284    -26.702      0.000     -36.803     -31.769\n",
       "brand_Volkswagen            -36.1116      1.251    -28.859      0.000     -38.565     -33.658\n",
       "brand_Volvo                 -30.0006      1.748    -17.161      0.000     -33.428     -26.573\n",
       "==============================================================================\n",
       "Omnibus:                     3979.878   Durbin-Watson:                   1.976\n",
       "Prob(Omnibus):                  0.000   Jarque-Bera (JB):           531479.320\n",
       "Skew:                           3.300   Prob(JB):                         0.00\n",
       "Kurtosis:                      54.240   Cond. No.                     1.21e+16\n",
       "==============================================================================\n",
       "\n",
       "Notes:\n",
       "[1] Standard Errors assume that the covariance matrix of the errors is correctly specified.\n",
       "[2] The smallest eigenvalue is 1.57e-19. This might indicate that there are\n",
       "strong multicollinearity problems or that the design matrix is singular.\n",
       "\"\"\""
      ]
     },
     "execution_count": 77,
     "metadata": {},
     "output_type": "execute_result"
    }
   ],
   "source": [
    "X_train2 = sm.add_constant(X_train)\n",
    "model2 = sm.OLS(y_train, X_train2).fit()\n",
    "model2.summary()"
   ]
  },
  {
   "cell_type": "code",
   "execution_count": 38,
   "id": "553d7d3a",
   "metadata": {
    "ExecuteTime": {
     "end_time": "2023-05-13T12:23:27.097807Z",
     "start_time": "2023-05-13T12:23:27.065003Z"
    },
    "scrolled": true
   },
   "outputs": [
    {
     "data": {
      "text/html": [
       "<div>\n",
       "<style scoped>\n",
       "    .dataframe tbody tr th:only-of-type {\n",
       "        vertical-align: middle;\n",
       "    }\n",
       "\n",
       "    .dataframe tbody tr th {\n",
       "        vertical-align: top;\n",
       "    }\n",
       "\n",
       "    .dataframe thead th {\n",
       "        text-align: right;\n",
       "    }\n",
       "</style>\n",
       "<table border=\"1\" class=\"dataframe\">\n",
       "  <thead>\n",
       "    <tr style=\"text-align: right;\">\n",
       "      <th></th>\n",
       "      <th>feature</th>\n",
       "      <th>coefficients</th>\n",
       "    </tr>\n",
       "  </thead>\n",
       "  <tbody>\n",
       "    <tr>\n",
       "      <th>0</th>\n",
       "      <td>Year</td>\n",
       "      <td>9.214285e-01</td>\n",
       "    </tr>\n",
       "    <tr>\n",
       "      <th>1</th>\n",
       "      <td>Kilometers_Driven</td>\n",
       "      <td>-2.095256e-05</td>\n",
       "    </tr>\n",
       "    <tr>\n",
       "      <th>2</th>\n",
       "      <td>Mileage</td>\n",
       "      <td>-1.487795e-01</td>\n",
       "    </tr>\n",
       "    <tr>\n",
       "      <th>3</th>\n",
       "      <td>Engine</td>\n",
       "      <td>3.827864e-03</td>\n",
       "    </tr>\n",
       "    <tr>\n",
       "      <th>4</th>\n",
       "      <td>Power</td>\n",
       "      <td>5.702477e-02</td>\n",
       "    </tr>\n",
       "    <tr>\n",
       "      <th>5</th>\n",
       "      <td>Seats</td>\n",
       "      <td>-1.856202e-01</td>\n",
       "    </tr>\n",
       "    <tr>\n",
       "      <th>6</th>\n",
       "      <td>Price</td>\n",
       "      <td>-5.381505e-01</td>\n",
       "    </tr>\n",
       "    <tr>\n",
       "      <th>7</th>\n",
       "      <td>Location_Ahmedabad</td>\n",
       "      <td>1.575459e+00</td>\n",
       "    </tr>\n",
       "    <tr>\n",
       "      <th>8</th>\n",
       "      <td>Location_Bangalore</td>\n",
       "      <td>7.598944e-01</td>\n",
       "    </tr>\n",
       "    <tr>\n",
       "      <th>9</th>\n",
       "      <td>Location_Chennai</td>\n",
       "      <td>1.399678e+00</td>\n",
       "    </tr>\n",
       "    <tr>\n",
       "      <th>10</th>\n",
       "      <td>Location_Coimbatore</td>\n",
       "      <td>-1.042166e+00</td>\n",
       "    </tr>\n",
       "    <tr>\n",
       "      <th>11</th>\n",
       "      <td>Location_Delhi</td>\n",
       "      <td>1.299787e+00</td>\n",
       "    </tr>\n",
       "    <tr>\n",
       "      <th>12</th>\n",
       "      <td>Location_Hyderabad</td>\n",
       "      <td>5.513992e-01</td>\n",
       "    </tr>\n",
       "    <tr>\n",
       "      <th>13</th>\n",
       "      <td>Location_Jaipur</td>\n",
       "      <td>-8.442716e-01</td>\n",
       "    </tr>\n",
       "    <tr>\n",
       "      <th>14</th>\n",
       "      <td>Location_Kochi</td>\n",
       "      <td>-1.847185e+00</td>\n",
       "    </tr>\n",
       "    <tr>\n",
       "      <th>15</th>\n",
       "      <td>Location_Kolkata</td>\n",
       "      <td>-1.292122e+00</td>\n",
       "    </tr>\n",
       "    <tr>\n",
       "      <th>16</th>\n",
       "      <td>Location_Mumbai</td>\n",
       "      <td>-2.232286e-02</td>\n",
       "    </tr>\n",
       "    <tr>\n",
       "      <th>17</th>\n",
       "      <td>Location_Pune</td>\n",
       "      <td>1.690491e+00</td>\n",
       "    </tr>\n",
       "    <tr>\n",
       "      <th>18</th>\n",
       "      <td>Fuel_Type_CNG</td>\n",
       "      <td>-7.184324e-01</td>\n",
       "    </tr>\n",
       "    <tr>\n",
       "      <th>19</th>\n",
       "      <td>Fuel_Type_Diesel</td>\n",
       "      <td>7.941465e-01</td>\n",
       "    </tr>\n",
       "    <tr>\n",
       "      <th>20</th>\n",
       "      <td>Fuel_Type_LPG</td>\n",
       "      <td>-1.766206e+00</td>\n",
       "    </tr>\n",
       "    <tr>\n",
       "      <th>21</th>\n",
       "      <td>Fuel_Type_Petrol</td>\n",
       "      <td>-6.529333e-02</td>\n",
       "    </tr>\n",
       "    <tr>\n",
       "      <th>22</th>\n",
       "      <td>Transmission_Automatic</td>\n",
       "      <td>6.529333e-02</td>\n",
       "    </tr>\n",
       "    <tr>\n",
       "      <th>23</th>\n",
       "      <td>Transmission_Manual</td>\n",
       "      <td>-1.344700e-01</td>\n",
       "    </tr>\n",
       "    <tr>\n",
       "      <th>24</th>\n",
       "      <td>Owner_Type_First</td>\n",
       "      <td>5.616966e-01</td>\n",
       "    </tr>\n",
       "    <tr>\n",
       "      <th>25</th>\n",
       "      <td>Owner_Type_Fourth &amp; Above</td>\n",
       "      <td>-1.153382e+00</td>\n",
       "    </tr>\n",
       "    <tr>\n",
       "      <th>26</th>\n",
       "      <td>Owner_Type_Second</td>\n",
       "      <td>7.261558e-01</td>\n",
       "    </tr>\n",
       "    <tr>\n",
       "      <th>27</th>\n",
       "      <td>Owner_Type_Third</td>\n",
       "      <td>-2.309264e-14</td>\n",
       "    </tr>\n",
       "    <tr>\n",
       "      <th>28</th>\n",
       "      <td>brand_Ambassador</td>\n",
       "      <td>3.137381e+00</td>\n",
       "    </tr>\n",
       "    <tr>\n",
       "      <th>29</th>\n",
       "      <td>brand_Audi</td>\n",
       "      <td>3.470522e+00</td>\n",
       "    </tr>\n",
       "    <tr>\n",
       "      <th>30</th>\n",
       "      <td>brand_BMW</td>\n",
       "      <td>7.767740e+00</td>\n",
       "    </tr>\n",
       "    <tr>\n",
       "      <th>31</th>\n",
       "      <td>brand_Bentley</td>\n",
       "      <td>-6.720368e+00</td>\n",
       "    </tr>\n",
       "    <tr>\n",
       "      <th>32</th>\n",
       "      <td>brand_Chevrolet</td>\n",
       "      <td>-8.136713e+00</td>\n",
       "    </tr>\n",
       "    <tr>\n",
       "      <th>33</th>\n",
       "      <td>brand_Datsun</td>\n",
       "      <td>-6.541493e+00</td>\n",
       "    </tr>\n",
       "    <tr>\n",
       "      <th>34</th>\n",
       "      <td>brand_Fiat</td>\n",
       "      <td>-8.204176e+00</td>\n",
       "    </tr>\n",
       "    <tr>\n",
       "      <th>35</th>\n",
       "      <td>brand_Force</td>\n",
       "      <td>-6.077137e+00</td>\n",
       "    </tr>\n",
       "    <tr>\n",
       "      <th>36</th>\n",
       "      <td>brand_Ford</td>\n",
       "      <td>-6.986521e+00</td>\n",
       "    </tr>\n",
       "    <tr>\n",
       "      <th>37</th>\n",
       "      <td>brand_Honda</td>\n",
       "      <td>-6.126567e+00</td>\n",
       "    </tr>\n",
       "    <tr>\n",
       "      <th>38</th>\n",
       "      <td>brand_Hyundai</td>\n",
       "      <td>-1.626907e+01</td>\n",
       "    </tr>\n",
       "    <tr>\n",
       "      <th>39</th>\n",
       "      <td>brand_ISUZU</td>\n",
       "      <td>-7.615824e+00</td>\n",
       "    </tr>\n",
       "    <tr>\n",
       "      <th>40</th>\n",
       "      <td>brand_Isuzu</td>\n",
       "      <td>1.154945e+01</td>\n",
       "    </tr>\n",
       "    <tr>\n",
       "      <th>41</th>\n",
       "      <td>brand_Jaguar</td>\n",
       "      <td>-4.214439e+00</td>\n",
       "    </tr>\n",
       "    <tr>\n",
       "      <th>42</th>\n",
       "      <td>brand_Jeep</td>\n",
       "      <td>6.668672e+01</td>\n",
       "    </tr>\n",
       "    <tr>\n",
       "      <th>43</th>\n",
       "      <td>brand_Lamborghini</td>\n",
       "      <td>1.529284e+01</td>\n",
       "    </tr>\n",
       "    <tr>\n",
       "      <th>44</th>\n",
       "      <td>brand_Land</td>\n",
       "      <td>-8.940264e+00</td>\n",
       "    </tr>\n",
       "    <tr>\n",
       "      <th>45</th>\n",
       "      <td>brand_Mahindra</td>\n",
       "      <td>-4.989524e+00</td>\n",
       "    </tr>\n",
       "    <tr>\n",
       "      <th>46</th>\n",
       "      <td>brand_Maruti</td>\n",
       "      <td>4.803163e+00</td>\n",
       "    </tr>\n",
       "    <tr>\n",
       "      <th>47</th>\n",
       "      <td>brand_Mercedes-Benz</td>\n",
       "      <td>8.516763e+00</td>\n",
       "    </tr>\n",
       "    <tr>\n",
       "      <th>48</th>\n",
       "      <td>brand_Mini</td>\n",
       "      <td>-7.002890e+00</td>\n",
       "    </tr>\n",
       "    <tr>\n",
       "      <th>49</th>\n",
       "      <td>brand_Mitsubishi</td>\n",
       "      <td>-6.742710e+00</td>\n",
       "    </tr>\n",
       "    <tr>\n",
       "      <th>50</th>\n",
       "      <td>brand_Nissan</td>\n",
       "      <td>1.550109e+01</td>\n",
       "    </tr>\n",
       "    <tr>\n",
       "      <th>51</th>\n",
       "      <td>brand_Porsche</td>\n",
       "      <td>-6.925061e+00</td>\n",
       "    </tr>\n",
       "    <tr>\n",
       "      <th>52</th>\n",
       "      <td>brand_Renault</td>\n",
       "      <td>-6.650255e+00</td>\n",
       "    </tr>\n",
       "    <tr>\n",
       "      <th>53</th>\n",
       "      <td>brand_Skoda</td>\n",
       "      <td>2.187781e+00</td>\n",
       "    </tr>\n",
       "    <tr>\n",
       "      <th>54</th>\n",
       "      <td>brand_Smart</td>\n",
       "      <td>-7.367504e+00</td>\n",
       "    </tr>\n",
       "    <tr>\n",
       "      <th>55</th>\n",
       "      <td>brand_Tata</td>\n",
       "      <td>-5.287433e+00</td>\n",
       "    </tr>\n",
       "    <tr>\n",
       "      <th>56</th>\n",
       "      <td>brand_Toyota</td>\n",
       "      <td>-7.113214e+00</td>\n",
       "    </tr>\n",
       "    <tr>\n",
       "      <th>57</th>\n",
       "      <td>brand_Volkswagen</td>\n",
       "      <td>-1.002284e+00</td>\n",
       "    </tr>\n",
       "  </tbody>\n",
       "</table>\n",
       "</div>"
      ],
      "text/plain": [
       "                      feature  coefficients\n",
       "0                        Year  9.214285e-01\n",
       "1           Kilometers_Driven -2.095256e-05\n",
       "2                     Mileage -1.487795e-01\n",
       "3                      Engine  3.827864e-03\n",
       "4                       Power  5.702477e-02\n",
       "5                       Seats -1.856202e-01\n",
       "6                       Price -5.381505e-01\n",
       "7          Location_Ahmedabad  1.575459e+00\n",
       "8          Location_Bangalore  7.598944e-01\n",
       "9            Location_Chennai  1.399678e+00\n",
       "10        Location_Coimbatore -1.042166e+00\n",
       "11             Location_Delhi  1.299787e+00\n",
       "12         Location_Hyderabad  5.513992e-01\n",
       "13            Location_Jaipur -8.442716e-01\n",
       "14             Location_Kochi -1.847185e+00\n",
       "15           Location_Kolkata -1.292122e+00\n",
       "16            Location_Mumbai -2.232286e-02\n",
       "17              Location_Pune  1.690491e+00\n",
       "18              Fuel_Type_CNG -7.184324e-01\n",
       "19           Fuel_Type_Diesel  7.941465e-01\n",
       "20              Fuel_Type_LPG -1.766206e+00\n",
       "21           Fuel_Type_Petrol -6.529333e-02\n",
       "22     Transmission_Automatic  6.529333e-02\n",
       "23        Transmission_Manual -1.344700e-01\n",
       "24           Owner_Type_First  5.616966e-01\n",
       "25  Owner_Type_Fourth & Above -1.153382e+00\n",
       "26          Owner_Type_Second  7.261558e-01\n",
       "27           Owner_Type_Third -2.309264e-14\n",
       "28           brand_Ambassador  3.137381e+00\n",
       "29                 brand_Audi  3.470522e+00\n",
       "30                  brand_BMW  7.767740e+00\n",
       "31              brand_Bentley -6.720368e+00\n",
       "32            brand_Chevrolet -8.136713e+00\n",
       "33               brand_Datsun -6.541493e+00\n",
       "34                 brand_Fiat -8.204176e+00\n",
       "35                brand_Force -6.077137e+00\n",
       "36                 brand_Ford -6.986521e+00\n",
       "37                brand_Honda -6.126567e+00\n",
       "38              brand_Hyundai -1.626907e+01\n",
       "39                brand_ISUZU -7.615824e+00\n",
       "40                brand_Isuzu  1.154945e+01\n",
       "41               brand_Jaguar -4.214439e+00\n",
       "42                 brand_Jeep  6.668672e+01\n",
       "43          brand_Lamborghini  1.529284e+01\n",
       "44                 brand_Land -8.940264e+00\n",
       "45             brand_Mahindra -4.989524e+00\n",
       "46               brand_Maruti  4.803163e+00\n",
       "47        brand_Mercedes-Benz  8.516763e+00\n",
       "48                 brand_Mini -7.002890e+00\n",
       "49           brand_Mitsubishi -6.742710e+00\n",
       "50               brand_Nissan  1.550109e+01\n",
       "51              brand_Porsche -6.925061e+00\n",
       "52              brand_Renault -6.650255e+00\n",
       "53                brand_Skoda  2.187781e+00\n",
       "54                brand_Smart -7.367504e+00\n",
       "55                 brand_Tata -5.287433e+00\n",
       "56               brand_Toyota -7.113214e+00\n",
       "57           brand_Volkswagen -1.002284e+00"
      ]
     },
     "execution_count": 38,
     "metadata": {},
     "output_type": "execute_result"
    }
   ],
   "source": [
    "coefs = pd.DataFrame(zip(df_final.columns, lr.coef_), columns = ['feature','coefficients'])\n",
    "coefs"
   ]
  },
  {
   "cell_type": "code",
   "execution_count": 39,
   "id": "2518ec86",
   "metadata": {
    "ExecuteTime": {
     "end_time": "2023-05-13T12:23:27.169555Z",
     "start_time": "2023-05-13T12:23:27.098081Z"
    }
   },
   "outputs": [
    {
     "data": {
      "text/html": [
       "<div>\n",
       "<style scoped>\n",
       "    .dataframe tbody tr th:only-of-type {\n",
       "        vertical-align: middle;\n",
       "    }\n",
       "\n",
       "    .dataframe tbody tr th {\n",
       "        vertical-align: top;\n",
       "    }\n",
       "\n",
       "    .dataframe thead th {\n",
       "        text-align: right;\n",
       "    }\n",
       "</style>\n",
       "<table border=\"1\" class=\"dataframe\">\n",
       "  <thead>\n",
       "    <tr style=\"text-align: right;\">\n",
       "      <th></th>\n",
       "      <th>feature</th>\n",
       "      <th>coefficients</th>\n",
       "    </tr>\n",
       "  </thead>\n",
       "  <tbody>\n",
       "    <tr>\n",
       "      <th>42</th>\n",
       "      <td>brand_Jeep</td>\n",
       "      <td>6.668672e+01</td>\n",
       "    </tr>\n",
       "    <tr>\n",
       "      <th>38</th>\n",
       "      <td>brand_Hyundai</td>\n",
       "      <td>-1.626907e+01</td>\n",
       "    </tr>\n",
       "    <tr>\n",
       "      <th>50</th>\n",
       "      <td>brand_Nissan</td>\n",
       "      <td>1.550109e+01</td>\n",
       "    </tr>\n",
       "    <tr>\n",
       "      <th>43</th>\n",
       "      <td>brand_Lamborghini</td>\n",
       "      <td>1.529284e+01</td>\n",
       "    </tr>\n",
       "    <tr>\n",
       "      <th>40</th>\n",
       "      <td>brand_Isuzu</td>\n",
       "      <td>1.154945e+01</td>\n",
       "    </tr>\n",
       "    <tr>\n",
       "      <th>44</th>\n",
       "      <td>brand_Land</td>\n",
       "      <td>-8.940264e+00</td>\n",
       "    </tr>\n",
       "    <tr>\n",
       "      <th>47</th>\n",
       "      <td>brand_Mercedes-Benz</td>\n",
       "      <td>8.516763e+00</td>\n",
       "    </tr>\n",
       "    <tr>\n",
       "      <th>34</th>\n",
       "      <td>brand_Fiat</td>\n",
       "      <td>-8.204176e+00</td>\n",
       "    </tr>\n",
       "    <tr>\n",
       "      <th>32</th>\n",
       "      <td>brand_Chevrolet</td>\n",
       "      <td>-8.136713e+00</td>\n",
       "    </tr>\n",
       "    <tr>\n",
       "      <th>30</th>\n",
       "      <td>brand_BMW</td>\n",
       "      <td>7.767740e+00</td>\n",
       "    </tr>\n",
       "    <tr>\n",
       "      <th>39</th>\n",
       "      <td>brand_ISUZU</td>\n",
       "      <td>-7.615824e+00</td>\n",
       "    </tr>\n",
       "    <tr>\n",
       "      <th>54</th>\n",
       "      <td>brand_Smart</td>\n",
       "      <td>-7.367504e+00</td>\n",
       "    </tr>\n",
       "    <tr>\n",
       "      <th>56</th>\n",
       "      <td>brand_Toyota</td>\n",
       "      <td>-7.113214e+00</td>\n",
       "    </tr>\n",
       "    <tr>\n",
       "      <th>48</th>\n",
       "      <td>brand_Mini</td>\n",
       "      <td>-7.002890e+00</td>\n",
       "    </tr>\n",
       "    <tr>\n",
       "      <th>36</th>\n",
       "      <td>brand_Ford</td>\n",
       "      <td>-6.986521e+00</td>\n",
       "    </tr>\n",
       "    <tr>\n",
       "      <th>51</th>\n",
       "      <td>brand_Porsche</td>\n",
       "      <td>-6.925061e+00</td>\n",
       "    </tr>\n",
       "    <tr>\n",
       "      <th>49</th>\n",
       "      <td>brand_Mitsubishi</td>\n",
       "      <td>-6.742710e+00</td>\n",
       "    </tr>\n",
       "    <tr>\n",
       "      <th>31</th>\n",
       "      <td>brand_Bentley</td>\n",
       "      <td>-6.720368e+00</td>\n",
       "    </tr>\n",
       "    <tr>\n",
       "      <th>52</th>\n",
       "      <td>brand_Renault</td>\n",
       "      <td>-6.650255e+00</td>\n",
       "    </tr>\n",
       "    <tr>\n",
       "      <th>33</th>\n",
       "      <td>brand_Datsun</td>\n",
       "      <td>-6.541493e+00</td>\n",
       "    </tr>\n",
       "    <tr>\n",
       "      <th>37</th>\n",
       "      <td>brand_Honda</td>\n",
       "      <td>-6.126567e+00</td>\n",
       "    </tr>\n",
       "    <tr>\n",
       "      <th>35</th>\n",
       "      <td>brand_Force</td>\n",
       "      <td>-6.077137e+00</td>\n",
       "    </tr>\n",
       "    <tr>\n",
       "      <th>55</th>\n",
       "      <td>brand_Tata</td>\n",
       "      <td>-5.287433e+00</td>\n",
       "    </tr>\n",
       "    <tr>\n",
       "      <th>45</th>\n",
       "      <td>brand_Mahindra</td>\n",
       "      <td>-4.989524e+00</td>\n",
       "    </tr>\n",
       "    <tr>\n",
       "      <th>46</th>\n",
       "      <td>brand_Maruti</td>\n",
       "      <td>4.803163e+00</td>\n",
       "    </tr>\n",
       "    <tr>\n",
       "      <th>41</th>\n",
       "      <td>brand_Jaguar</td>\n",
       "      <td>-4.214439e+00</td>\n",
       "    </tr>\n",
       "    <tr>\n",
       "      <th>29</th>\n",
       "      <td>brand_Audi</td>\n",
       "      <td>3.470522e+00</td>\n",
       "    </tr>\n",
       "    <tr>\n",
       "      <th>28</th>\n",
       "      <td>brand_Ambassador</td>\n",
       "      <td>3.137381e+00</td>\n",
       "    </tr>\n",
       "    <tr>\n",
       "      <th>53</th>\n",
       "      <td>brand_Skoda</td>\n",
       "      <td>2.187781e+00</td>\n",
       "    </tr>\n",
       "    <tr>\n",
       "      <th>14</th>\n",
       "      <td>Location_Kochi</td>\n",
       "      <td>-1.847185e+00</td>\n",
       "    </tr>\n",
       "    <tr>\n",
       "      <th>20</th>\n",
       "      <td>Fuel_Type_LPG</td>\n",
       "      <td>-1.766206e+00</td>\n",
       "    </tr>\n",
       "    <tr>\n",
       "      <th>17</th>\n",
       "      <td>Location_Pune</td>\n",
       "      <td>1.690491e+00</td>\n",
       "    </tr>\n",
       "    <tr>\n",
       "      <th>7</th>\n",
       "      <td>Location_Ahmedabad</td>\n",
       "      <td>1.575459e+00</td>\n",
       "    </tr>\n",
       "    <tr>\n",
       "      <th>9</th>\n",
       "      <td>Location_Chennai</td>\n",
       "      <td>1.399678e+00</td>\n",
       "    </tr>\n",
       "    <tr>\n",
       "      <th>11</th>\n",
       "      <td>Location_Delhi</td>\n",
       "      <td>1.299787e+00</td>\n",
       "    </tr>\n",
       "    <tr>\n",
       "      <th>15</th>\n",
       "      <td>Location_Kolkata</td>\n",
       "      <td>-1.292122e+00</td>\n",
       "    </tr>\n",
       "    <tr>\n",
       "      <th>25</th>\n",
       "      <td>Owner_Type_Fourth &amp; Above</td>\n",
       "      <td>-1.153382e+00</td>\n",
       "    </tr>\n",
       "    <tr>\n",
       "      <th>10</th>\n",
       "      <td>Location_Coimbatore</td>\n",
       "      <td>-1.042166e+00</td>\n",
       "    </tr>\n",
       "    <tr>\n",
       "      <th>57</th>\n",
       "      <td>brand_Volkswagen</td>\n",
       "      <td>-1.002284e+00</td>\n",
       "    </tr>\n",
       "    <tr>\n",
       "      <th>0</th>\n",
       "      <td>Year</td>\n",
       "      <td>9.214285e-01</td>\n",
       "    </tr>\n",
       "    <tr>\n",
       "      <th>13</th>\n",
       "      <td>Location_Jaipur</td>\n",
       "      <td>-8.442716e-01</td>\n",
       "    </tr>\n",
       "    <tr>\n",
       "      <th>19</th>\n",
       "      <td>Fuel_Type_Diesel</td>\n",
       "      <td>7.941465e-01</td>\n",
       "    </tr>\n",
       "    <tr>\n",
       "      <th>8</th>\n",
       "      <td>Location_Bangalore</td>\n",
       "      <td>7.598944e-01</td>\n",
       "    </tr>\n",
       "    <tr>\n",
       "      <th>26</th>\n",
       "      <td>Owner_Type_Second</td>\n",
       "      <td>7.261558e-01</td>\n",
       "    </tr>\n",
       "    <tr>\n",
       "      <th>18</th>\n",
       "      <td>Fuel_Type_CNG</td>\n",
       "      <td>-7.184324e-01</td>\n",
       "    </tr>\n",
       "    <tr>\n",
       "      <th>24</th>\n",
       "      <td>Owner_Type_First</td>\n",
       "      <td>5.616966e-01</td>\n",
       "    </tr>\n",
       "    <tr>\n",
       "      <th>12</th>\n",
       "      <td>Location_Hyderabad</td>\n",
       "      <td>5.513992e-01</td>\n",
       "    </tr>\n",
       "    <tr>\n",
       "      <th>6</th>\n",
       "      <td>Price</td>\n",
       "      <td>-5.381505e-01</td>\n",
       "    </tr>\n",
       "    <tr>\n",
       "      <th>5</th>\n",
       "      <td>Seats</td>\n",
       "      <td>-1.856202e-01</td>\n",
       "    </tr>\n",
       "    <tr>\n",
       "      <th>2</th>\n",
       "      <td>Mileage</td>\n",
       "      <td>-1.487795e-01</td>\n",
       "    </tr>\n",
       "    <tr>\n",
       "      <th>23</th>\n",
       "      <td>Transmission_Manual</td>\n",
       "      <td>-1.344700e-01</td>\n",
       "    </tr>\n",
       "    <tr>\n",
       "      <th>21</th>\n",
       "      <td>Fuel_Type_Petrol</td>\n",
       "      <td>-6.529333e-02</td>\n",
       "    </tr>\n",
       "    <tr>\n",
       "      <th>22</th>\n",
       "      <td>Transmission_Automatic</td>\n",
       "      <td>6.529333e-02</td>\n",
       "    </tr>\n",
       "    <tr>\n",
       "      <th>4</th>\n",
       "      <td>Power</td>\n",
       "      <td>5.702477e-02</td>\n",
       "    </tr>\n",
       "    <tr>\n",
       "      <th>16</th>\n",
       "      <td>Location_Mumbai</td>\n",
       "      <td>-2.232286e-02</td>\n",
       "    </tr>\n",
       "    <tr>\n",
       "      <th>3</th>\n",
       "      <td>Engine</td>\n",
       "      <td>3.827864e-03</td>\n",
       "    </tr>\n",
       "    <tr>\n",
       "      <th>1</th>\n",
       "      <td>Kilometers_Driven</td>\n",
       "      <td>-2.095256e-05</td>\n",
       "    </tr>\n",
       "    <tr>\n",
       "      <th>27</th>\n",
       "      <td>Owner_Type_Third</td>\n",
       "      <td>-2.309264e-14</td>\n",
       "    </tr>\n",
       "  </tbody>\n",
       "</table>\n",
       "</div>"
      ],
      "text/plain": [
       "                      feature  coefficients\n",
       "42                 brand_Jeep  6.668672e+01\n",
       "38              brand_Hyundai -1.626907e+01\n",
       "50               brand_Nissan  1.550109e+01\n",
       "43          brand_Lamborghini  1.529284e+01\n",
       "40                brand_Isuzu  1.154945e+01\n",
       "44                 brand_Land -8.940264e+00\n",
       "47        brand_Mercedes-Benz  8.516763e+00\n",
       "34                 brand_Fiat -8.204176e+00\n",
       "32            brand_Chevrolet -8.136713e+00\n",
       "30                  brand_BMW  7.767740e+00\n",
       "39                brand_ISUZU -7.615824e+00\n",
       "54                brand_Smart -7.367504e+00\n",
       "56               brand_Toyota -7.113214e+00\n",
       "48                 brand_Mini -7.002890e+00\n",
       "36                 brand_Ford -6.986521e+00\n",
       "51              brand_Porsche -6.925061e+00\n",
       "49           brand_Mitsubishi -6.742710e+00\n",
       "31              brand_Bentley -6.720368e+00\n",
       "52              brand_Renault -6.650255e+00\n",
       "33               brand_Datsun -6.541493e+00\n",
       "37                brand_Honda -6.126567e+00\n",
       "35                brand_Force -6.077137e+00\n",
       "55                 brand_Tata -5.287433e+00\n",
       "45             brand_Mahindra -4.989524e+00\n",
       "46               brand_Maruti  4.803163e+00\n",
       "41               brand_Jaguar -4.214439e+00\n",
       "29                 brand_Audi  3.470522e+00\n",
       "28           brand_Ambassador  3.137381e+00\n",
       "53                brand_Skoda  2.187781e+00\n",
       "14             Location_Kochi -1.847185e+00\n",
       "20              Fuel_Type_LPG -1.766206e+00\n",
       "17              Location_Pune  1.690491e+00\n",
       "7          Location_Ahmedabad  1.575459e+00\n",
       "9            Location_Chennai  1.399678e+00\n",
       "11             Location_Delhi  1.299787e+00\n",
       "15           Location_Kolkata -1.292122e+00\n",
       "25  Owner_Type_Fourth & Above -1.153382e+00\n",
       "10        Location_Coimbatore -1.042166e+00\n",
       "57           brand_Volkswagen -1.002284e+00\n",
       "0                        Year  9.214285e-01\n",
       "13            Location_Jaipur -8.442716e-01\n",
       "19           Fuel_Type_Diesel  7.941465e-01\n",
       "8          Location_Bangalore  7.598944e-01\n",
       "26          Owner_Type_Second  7.261558e-01\n",
       "18              Fuel_Type_CNG -7.184324e-01\n",
       "24           Owner_Type_First  5.616966e-01\n",
       "12         Location_Hyderabad  5.513992e-01\n",
       "6                       Price -5.381505e-01\n",
       "5                       Seats -1.856202e-01\n",
       "2                     Mileage -1.487795e-01\n",
       "23        Transmission_Manual -1.344700e-01\n",
       "21           Fuel_Type_Petrol -6.529333e-02\n",
       "22     Transmission_Automatic  6.529333e-02\n",
       "4                       Power  5.702477e-02\n",
       "16            Location_Mumbai -2.232286e-02\n",
       "3                      Engine  3.827864e-03\n",
       "1           Kilometers_Driven -2.095256e-05\n",
       "27           Owner_Type_Third -2.309264e-14"
      ]
     },
     "execution_count": 39,
     "metadata": {},
     "output_type": "execute_result"
    }
   ],
   "source": [
    "## 값순으로 재정렬\n",
    "coefs_new = coefs.reindex(coefs.coefficients.abs().sort_values(ascending=False).index)\n",
    "coefs_new"
   ]
  },
  {
   "cell_type": "code",
   "execution_count": 40,
   "id": "31f21d83",
   "metadata": {
    "ExecuteTime": {
     "end_time": "2023-05-13T12:23:28.094623Z",
     "start_time": "2023-05-13T12:23:27.171908Z"
    }
   },
   "outputs": [
    {
     "data": {
      "image/png": "[encoded data removed]",
      "text/plain": [
       "<Figure size 800x800 with 1 Axes>"
      ]
     },
     "metadata": {},
     "output_type": "display_data"
    }
   ],
   "source": [
    "plt.figure(figsize = (8, 8))\n",
    "\n",
    "plt.barh(coefs_new['feature'], coefs_new['coefficients'])\n",
    "plt.title('\"feature - coefficient\" Graph')\n",
    "plt.xlabel('coefficients')\n",
    "plt.ylabel('features')\n",
    "plt.show()"
   ]
  },
  {
   "cell_type": "code",
   "execution_count": 53,
   "id": "8e3825e6",
   "metadata": {
    "ExecuteTime": {
     "end_time": "2023-05-13T12:26:03.555587Z",
     "start_time": "2023-05-13T12:26:03.532453Z"
    }
   },
   "outputs": [],
   "source": [
    "from sklearn.metrics import mean_absolute_error, mean_squared_error, confusion_matrix, r2_score\n"
   ]
  },
  {
   "cell_type": "code",
   "execution_count": 42,
   "id": "817e5d14",
   "metadata": {
    "ExecuteTime": {
     "end_time": "2023-05-13T12:23:28.137930Z",
     "start_time": "2023-05-13T12:23:28.112963Z"
    }
   },
   "outputs": [
    {
     "data": {
      "text/plain": [
       "44.27679058971254"
      ]
     },
     "execution_count": 42,
     "metadata": {},
     "output_type": "execute_result"
    }
   ],
   "source": [
    "mean_squared_error(y_test,pred)\n"
   ]
  },
  {
   "cell_type": "code",
   "execution_count": 43,
   "id": "5fcb5c55",
   "metadata": {
    "ExecuteTime": {
     "end_time": "2023-05-13T12:23:28.153577Z",
     "start_time": "2023-05-13T12:23:28.141228Z"
    }
   },
   "outputs": [
    {
     "data": {
      "text/plain": [
       "3.021091780583055"
      ]
     },
     "execution_count": 43,
     "metadata": {},
     "output_type": "execute_result"
    }
   ],
   "source": [
    "mean_absolute_error(y_test,pred)\n"
   ]
  },
  {
   "cell_type": "code",
   "execution_count": 44,
   "id": "b1590e0c",
   "metadata": {
    "ExecuteTime": {
     "end_time": "2023-05-13T12:23:28.169211Z",
     "start_time": "2023-05-13T12:23:28.156204Z"
    }
   },
   "outputs": [
    {
     "data": {
      "text/plain": [
       "6.654080747159035"
      ]
     },
     "execution_count": 44,
     "metadata": {},
     "output_type": "execute_result"
    }
   ],
   "source": [
    "mean_squared_error(y_test,pred,squared=False)\n"
   ]
  },
  {
   "cell_type": "code",
   "execution_count": null,
   "id": "007e72c7",
   "metadata": {},
   "outputs": [],
   "source": [
    "# 'lr.score'는 scikit-learn에서 선형 회귀 모델의 성능을 평가하는 데 사용되는 방법입니다. 독립 변수에서 예측 가능한 종속 변수의 분산 비율인 예측의 결정 계수(R-제곱)를 반환합니다. lr.score 메서드는 테스트 데이터를 입력으로 사용하고 0과 1 사이의 점수를 반환합니다. 여기서 1은 완벽한 예측을 나타냅니다.\n",
    "\n",
    "\n",
    "# 'r2'는 모델이 데이터에 얼마나 잘 맞는지 측정하는 결정 계수(R-제곱)를 계산하는 또 다른 방법입니다. 독립 변수에 의해 설명되는 종속 변수의 분산 백분율을 나타내는 통계 메트릭입니다."
   ]
  },
  {
   "cell_type": "code",
   "execution_count": 45,
   "id": "c01d2373",
   "metadata": {
    "ExecuteTime": {
     "end_time": "2023-05-13T12:23:28.216679Z",
     "start_time": "2023-05-13T12:23:28.174042Z"
    }
   },
   "outputs": [
    {
     "name": "stdout",
     "output_type": "stream",
     "text": [
      "0.773696811369047\n",
      "0.545059069151701\n"
     ]
    }
   ],
   "source": [
    "print(lr.score(X_train, y_train)) \n",
    "print(lr.score(X_test, y_test))  "
   ]
  },
  {
   "cell_type": "code",
   "execution_count": 54,
   "id": "22d23a6e",
   "metadata": {
    "ExecuteTime": {
     "end_time": "2023-05-13T12:26:35.327289Z",
     "start_time": "2023-05-13T12:26:35.311493Z"
    }
   },
   "outputs": [
    {
     "name": "stdout",
     "output_type": "stream",
     "text": [
      "Test data r-square :  0.545059069151701\n"
     ]
    }
   ],
   "source": [
    "print('Test data r-square : ', format(r2_score(y_test,lr.predict(X_test))))"
   ]
  },
  {
   "cell_type": "code",
   "execution_count": 46,
   "id": "734e212d",
   "metadata": {
    "ExecuteTime": {
     "end_time": "2023-05-13T12:23:28.788930Z",
     "start_time": "2023-05-13T12:23:28.223935Z"
    },
    "scrolled": false
   },
   "outputs": [
    {
     "data": {
      "image/png": "[encoded data removed]",
      "text/plain": [
       "<Figure size 1200x900 with 1 Axes>"
      ]
     },
     "metadata": {},
     "output_type": "display_data"
    }
   ],
   "source": [
    "df_lr = pd.DataFrame({'actual': y_test, 'prediction': pred})\n",
    "df_lr = df_lr.sort_values(by='actual').reset_index(drop=True)\n",
    "df_lr.head()\n",
    "plt.figure(figsize=(12, 9))\n",
    "plt.scatter(df_lr.index, df_lr['prediction'], marker='x', color='r')\n",
    "plt.scatter(df_lr.index, df_lr['actual'], alpha=0.3, marker='o', color='black')\n",
    "plt.title(\"Prediction Result in Test Set\", fontsize=20)\n",
    "plt.legend(['prediction', 'actual'], fontsize=12)\n",
    "plt.show()"
   ]
  },
  {
   "cell_type": "code",
   "execution_count": 47,
   "id": "12d415fe",
   "metadata": {
    "ExecuteTime": {
     "end_time": "2023-05-13T12:23:29.060660Z",
     "start_time": "2023-05-13T12:23:28.790022Z"
    },
    "scrolled": true
   },
   "outputs": [
    {
     "data": {
      "image/png": "[encoded data removed]",
      "text/plain": [
       "<Figure size 640x480 with 1 Axes>"
      ]
     },
     "metadata": {},
     "output_type": "display_data"
    }
   ],
   "source": [
    "sns.scatterplot(x=y_test,y=pred)\n",
    "plt.show()"
   ]
  },
  {
   "cell_type": "code",
   "execution_count": 48,
   "id": "c499931d",
   "metadata": {
    "ExecuteTime": {
     "end_time": "2023-05-13T12:23:29.076688Z",
     "start_time": "2023-05-13T12:23:29.062695Z"
    },
    "scrolled": true
   },
   "outputs": [],
   "source": [
    "# y_train_log = np.log(y_train)\n",
    "# lr.fit(X_train, y_train_log)\n",
    "# new_pred = lr.predict(X_test)\n",
    "# pred_exp = np.exp(new_pred)\n",
    "## log변환은 에러남 "
   ]
  },
  {
   "cell_type": "code",
   "execution_count": 49,
   "id": "d9ee75d5",
   "metadata": {
    "ExecuteTime": {
     "end_time": "2023-05-13T12:23:29.519919Z",
     "start_time": "2023-05-13T12:23:29.080924Z"
    }
   },
   "outputs": [
    {
     "data": {
      "image/png": "[encoded data removed]",
      "text/plain": [
       "<Figure size 640x480 with 1 Axes>"
      ]
     },
     "metadata": {},
     "output_type": "display_data"
    }
   ],
   "source": [
    "sns.scatterplot(data=df, x='Power', y='Price', markers='o', color='blue', alpha=0.6)\n",
    "plt.title('Scatter Plot')\n",
    "plt.show()"
   ]
  },
  {
   "cell_type": "markdown",
   "id": "f481a104",
   "metadata": {},
   "source": [
    "### 랜덤포레스트 회귀"
   ]
  },
  {
   "cell_type": "code",
   "execution_count": 55,
   "id": "58592e3d",
   "metadata": {
    "ExecuteTime": {
     "end_time": "2023-05-13T12:27:25.711027Z",
     "start_time": "2023-05-13T12:27:24.463508Z"
    }
   },
   "outputs": [],
   "source": [
    "from sklearn.ensemble import RandomForestRegressor\n",
    "import statsmodels.api as sm\n"
   ]
  },
  {
   "cell_type": "code",
   "execution_count": 56,
   "id": "f5db9288",
   "metadata": {
    "ExecuteTime": {
     "end_time": "2023-05-13T12:27:32.085123Z",
     "start_time": "2023-05-13T12:27:27.485007Z"
    }
   },
   "outputs": [],
   "source": [
    "rf = RandomForestRegressor()\n",
    "model = rf.fit(X_train,y_train)\n",
    "pred_1 = rf.predict(X_test)\n"
   ]
  },
  {
   "cell_type": "code",
   "execution_count": 58,
   "id": "f889b8eb",
   "metadata": {
    "ExecuteTime": {
     "end_time": "2023-05-13T12:27:32.225754Z",
     "start_time": "2023-05-13T12:27:32.213657Z"
    }
   },
   "outputs": [
    {
     "data": {
      "text/plain": [
       "7.104862676237914"
      ]
     },
     "execution_count": 58,
     "metadata": {},
     "output_type": "execute_result"
    }
   ],
   "source": [
    "mean_squared_error(y_test, pred_1)"
   ]
  },
  {
   "cell_type": "code",
   "execution_count": 59,
   "id": "f8362bc3",
   "metadata": {
    "ExecuteTime": {
     "end_time": "2023-05-13T12:27:32.246882Z",
     "start_time": "2023-05-13T12:27:32.225754Z"
    }
   },
   "outputs": [
    {
     "data": {
      "text/plain": [
       "2.6654948276516905"
      ]
     },
     "execution_count": 59,
     "metadata": {},
     "output_type": "execute_result"
    }
   ],
   "source": [
    "mean_squared_error(y_test,pred_1,squared=False)\n"
   ]
  },
  {
   "cell_type": "code",
   "execution_count": 60,
   "id": "59882cad",
   "metadata": {
    "ExecuteTime": {
     "end_time": "2023-05-13T12:27:32.473684Z",
     "start_time": "2023-05-13T12:27:32.246882Z"
    }
   },
   "outputs": [
    {
     "name": "stdout",
     "output_type": "stream",
     "text": [
      "0.9845127465327778\n",
      "0.9269980322325345\n"
     ]
    }
   ],
   "source": [
    "# r-square \n",
    "print(model.score(X_train, y_train)) \n",
    "print(model.score(X_test, y_test))  "
   ]
  },
  {
   "cell_type": "code",
   "execution_count": 74,
   "id": "c751dd12",
   "metadata": {
    "ExecuteTime": {
     "end_time": "2023-05-13T12:28:24.463799Z",
     "start_time": "2023-05-13T12:28:24.447809Z"
    }
   },
   "outputs": [
    {
     "name": "stdout",
     "output_type": "stream",
     "text": [
      "Test data r-square :  0.9269980322325345\n"
     ]
    }
   ],
   "source": [
    "print('Test data r-square : ', format(r2_score(y_test,pred_1)))"
   ]
  },
  {
   "cell_type": "code",
   "execution_count": 61,
   "id": "105dd057",
   "metadata": {
    "ExecuteTime": {
     "end_time": "2023-05-13T12:27:32.912088Z",
     "start_time": "2023-05-13T12:27:32.473684Z"
    }
   },
   "outputs": [
    {
     "data": {
      "image/png": "[encoded data removed]",
      "text/plain": [
       "<Figure size 1200x900 with 1 Axes>"
      ]
     },
     "metadata": {},
     "output_type": "display_data"
    }
   ],
   "source": [
    "df_rf = pd.DataFrame({'actual': y_test, 'prediction': pred_1})\n",
    "df_rf = df_rf.sort_values(by='actual').reset_index(drop=True)\n",
    "df_rf.head()\n",
    "plt.figure(figsize=(12, 9))\n",
    "plt.scatter(df_rf.index, df_rf['prediction'], marker='x', color='r')\n",
    "plt.scatter(df_rf.index, df_rf['actual'], alpha=0.3, marker='o', color='black')\n",
    "plt.title(\"Prediction Result in Test Set\", fontsize=20)\n",
    "plt.legend(['prediction', 'actual'], fontsize=12)\n",
    "plt.show()"
   ]
  },
  {
   "cell_type": "code",
   "execution_count": 62,
   "id": "ceff3353",
   "metadata": {
    "ExecuteTime": {
     "end_time": "2023-05-13T12:27:33.211860Z",
     "start_time": "2023-05-13T12:27:32.912088Z"
    }
   },
   "outputs": [
    {
     "data": {
      "image/png": "[encoded data removed]",
      "text/plain": [
       "<Figure size 640x480 with 1 Axes>"
      ]
     },
     "metadata": {},
     "output_type": "display_data"
    }
   ],
   "source": [
    "sns.scatterplot(x=y_test,y=pred_1)\n",
    "plt.show()"
   ]
  },
  {
   "cell_type": "markdown",
   "id": "0cdbc275",
   "metadata": {},
   "source": [
    "### MLP"
   ]
  },
  {
   "cell_type": "code",
   "execution_count": 63,
   "id": "8689cf0a",
   "metadata": {
    "ExecuteTime": {
     "end_time": "2023-05-13T12:27:33.259494Z",
     "start_time": "2023-05-13T12:27:33.211860Z"
    }
   },
   "outputs": [],
   "source": [
    "from sklearn.neural_network import MLPRegressor\n"
   ]
  },
  {
   "cell_type": "code",
   "execution_count": 64,
   "id": "b6c8e30d",
   "metadata": {
    "ExecuteTime": {
     "end_time": "2023-05-13T12:27:33.284144Z",
     "start_time": "2023-05-13T12:27:33.268060Z"
    }
   },
   "outputs": [],
   "source": [
    "mlp = MLPRegressor(random_state=200)"
   ]
  },
  {
   "cell_type": "code",
   "execution_count": 65,
   "id": "326ea9ad",
   "metadata": {
    "ExecuteTime": {
     "end_time": "2023-05-13T12:27:38.612610Z",
     "start_time": "2023-05-13T12:27:33.292133Z"
    },
    "scrolled": true
   },
   "outputs": [
    {
     "data": {
      "text/html": [
       "<style>#sk-container-id-2 {color: black;background-color: white;}#sk-container-id-2 pre{padding: 0;}#sk-container-id-2 div.sk-toggleable {background-color: white;}#sk-container-id-2 label.sk-toggleable__label {cursor: pointer;display: block;width: 100%;margin-bottom: 0;padding: 0.3em;box-sizing: border-box;text-align: center;}#sk-container-id-2 label.sk-toggleable__label-arrow:before {content: \"▸\";float: left;margin-right: 0.25em;color: #696969;}#sk-container-id-2 label.sk-toggleable__label-arrow:hover:before {color: black;}#sk-container-id-2 div.sk-estimator:hover label.sk-toggleable__label-arrow:before {color: black;}#sk-container-id-2 div.sk-toggleable__content {max-height: 0;max-width: 0;overflow: hidden;text-align: left;background-color: #f0f8ff;}#sk-container-id-2 div.sk-toggleable__content pre {margin: 0.2em;color: black;border-radius: 0.25em;background-color: #f0f8ff;}#sk-container-id-2 input.sk-toggleable__control:checked~div.sk-toggleable__content {max-height: 200px;max-width: 100%;overflow: auto;}#sk-container-id-2 input.sk-toggleable__control:checked~label.sk-toggleable__label-arrow:before {content: \"▾\";}#sk-container-id-2 div.sk-estimator input.sk-toggleable__control:checked~label.sk-toggleable__label {background-color: #d4ebff;}#sk-container-id-2 div.sk-label input.sk-toggleable__control:checked~label.sk-toggleable__label {background-color: #d4ebff;}#sk-container-id-2 input.sk-hidden--visually {border: 0;clip: rect(1px 1px 1px 1px);clip: rect(1px, 1px, 1px, 1px);height: 1px;margin: -1px;overflow: hidden;padding: 0;position: absolute;width: 1px;}#sk-container-id-2 div.sk-estimator {font-family: monospace;background-color: #f0f8ff;border: 1px dotted black;border-radius: 0.25em;box-sizing: border-box;margin-bottom: 0.5em;}#sk-container-id-2 div.sk-estimator:hover {background-color: #d4ebff;}#sk-container-id-2 div.sk-parallel-item::after {content: \"\";width: 100%;border-bottom: 1px solid gray;flex-grow: 1;}#sk-container-id-2 div.sk-label:hover label.sk-toggleable__label {background-color: #d4ebff;}#sk-container-id-2 div.sk-serial::before {content: \"\";position: absolute;border-left: 1px solid gray;box-sizing: border-box;top: 0;bottom: 0;left: 50%;z-index: 0;}#sk-container-id-2 div.sk-serial {display: flex;flex-direction: column;align-items: center;background-color: white;padding-right: 0.2em;padding-left: 0.2em;position: relative;}#sk-container-id-2 div.sk-item {position: relative;z-index: 1;}#sk-container-id-2 div.sk-parallel {display: flex;align-items: stretch;justify-content: center;background-color: white;position: relative;}#sk-container-id-2 div.sk-item::before, #sk-container-id-2 div.sk-parallel-item::before {content: \"\";position: absolute;border-left: 1px solid gray;box-sizing: border-box;top: 0;bottom: 0;left: 50%;z-index: -1;}#sk-container-id-2 div.sk-parallel-item {display: flex;flex-direction: column;z-index: 1;position: relative;background-color: white;}#sk-container-id-2 div.sk-parallel-item:first-child::after {align-self: flex-end;width: 50%;}#sk-container-id-2 div.sk-parallel-item:last-child::after {align-self: flex-start;width: 50%;}#sk-container-id-2 div.sk-parallel-item:only-child::after {width: 0;}#sk-container-id-2 div.sk-dashed-wrapped {border: 1px dashed gray;margin: 0 0.4em 0.5em 0.4em;box-sizing: border-box;padding-bottom: 0.4em;background-color: white;}#sk-container-id-2 div.sk-label label {font-family: monospace;font-weight: bold;display: inline-block;line-height: 1.2em;}#sk-container-id-2 div.sk-label-container {text-align: center;}#sk-container-id-2 div.sk-container {/* jupyter's `normalize.less` sets `[hidden] { display: none; }` but bootstrap.min.css set `[hidden] { display: none !important; }` so we also need the `!important` here to be able to override the default hidden behavior on the sphinx rendered scikit-learn.org. See: https://github.com/scikit-learn/scikit-learn/issues/21755 */display: inline-block !important;position: relative;}#sk-container-id-2 div.sk-text-repr-fallback {display: none;}</style><div id=\"sk-container-id-2\" class=\"sk-top-container\"><div class=\"sk-text-repr-fallback\"><pre>MLPRegressor(random_state=200)</pre><b>In a Jupyter environment, please rerun this cell to show the HTML representation or trust the notebook. <br />On GitHub, the HTML representation is unable to render, please try loading this page with nbviewer.org.</b></div><div class=\"sk-container\" hidden><div class=\"sk-item\"><div class=\"sk-estimator sk-toggleable\"><input class=\"sk-toggleable__control sk-hidden--visually\" id=\"sk-estimator-id-2\" type=\"checkbox\" checked><label for=\"sk-estimator-id-2\" class=\"sk-toggleable__label sk-toggleable__label-arrow\">MLPRegressor</label><div class=\"sk-toggleable__content\"><pre>MLPRegressor(random_state=200)</pre></div></div></div></div></div>"
      ],
      "text/plain": [
       "MLPRegressor(random_state=200)"
      ]
     },
     "execution_count": 65,
     "metadata": {},
     "output_type": "execute_result"
    }
   ],
   "source": [
    "mlp.fit(X_train, y_train)\n"
   ]
  },
  {
   "cell_type": "code",
   "execution_count": 78,
   "id": "241dc598",
   "metadata": {
    "ExecuteTime": {
     "end_time": "2023-05-13T12:48:31.582827Z",
     "start_time": "2023-05-13T12:48:31.563714Z"
    }
   },
   "outputs": [],
   "source": [
    "pred_2 = mlp.predict(X_test)"
   ]
  },
  {
   "cell_type": "code",
   "execution_count": 79,
   "id": "ba531986",
   "metadata": {
    "ExecuteTime": {
     "end_time": "2023-05-13T12:48:35.227957Z",
     "start_time": "2023-05-13T12:48:35.211794Z"
    }
   },
   "outputs": [
    {
     "data": {
      "text/plain": [
       "6.025582751977983"
      ]
     },
     "execution_count": 79,
     "metadata": {},
     "output_type": "execute_result"
    }
   ],
   "source": [
    "mean_squared_error(y_test,pred_2,squared=False)"
   ]
  },
  {
   "cell_type": "code",
   "execution_count": 66,
   "id": "b6b88053",
   "metadata": {
    "ExecuteTime": {
     "end_time": "2023-05-13T12:27:38.679704Z",
     "start_time": "2023-05-13T12:27:38.621045Z"
    }
   },
   "outputs": [
    {
     "name": "stdout",
     "output_type": "stream",
     "text": [
      "0.6980138409441038\n",
      "0.6269414577933543\n"
     ]
    }
   ],
   "source": [
    "print(mlp.score(X_train, y_train)) \n",
    "print(mlp.score(X_test, y_test)) "
   ]
  },
  {
   "cell_type": "code",
   "execution_count": 75,
   "id": "fac27c58",
   "metadata": {
    "ExecuteTime": {
     "end_time": "2023-05-13T12:30:09.195837Z",
     "start_time": "2023-05-13T12:30:09.179734Z"
    }
   },
   "outputs": [
    {
     "name": "stdout",
     "output_type": "stream",
     "text": [
      "Test data r-square :  0.6269414577933543\n"
     ]
    }
   ],
   "source": [
    "print('Test data r-square : ', format(r2_score(y_test,mlp.predict(X_test))))"
   ]
  },
  {
   "cell_type": "markdown",
   "id": "09107e47",
   "metadata": {},
   "source": [
    "### 의사결정나무"
   ]
  },
  {
   "cell_type": "code",
   "execution_count": 67,
   "id": "7b0f2fa9",
   "metadata": {
    "ExecuteTime": {
     "end_time": "2023-05-13T12:27:38.687818Z",
     "start_time": "2023-05-13T12:27:38.683314Z"
    }
   },
   "outputs": [],
   "source": [
    "from sklearn.tree import DecisionTreeRegressor\n"
   ]
  },
  {
   "cell_type": "code",
   "execution_count": 68,
   "id": "c7ef35d9",
   "metadata": {
    "ExecuteTime": {
     "end_time": "2023-05-13T12:27:38.713588Z",
     "start_time": "2023-05-13T12:27:38.690916Z"
    }
   },
   "outputs": [],
   "source": [
    "dt = DecisionTreeRegressor(random_state=10)\n"
   ]
  },
  {
   "cell_type": "code",
   "execution_count": 69,
   "id": "8cb05017",
   "metadata": {
    "ExecuteTime": {
     "end_time": "2023-05-13T12:27:38.821171Z",
     "start_time": "2023-05-13T12:27:38.717031Z"
    }
   },
   "outputs": [
    {
     "data": {
      "text/html": [
       "<style>#sk-container-id-3 {color: black;background-color: white;}#sk-container-id-3 pre{padding: 0;}#sk-container-id-3 div.sk-toggleable {background-color: white;}#sk-container-id-3 label.sk-toggleable__label {cursor: pointer;display: block;width: 100%;margin-bottom: 0;padding: 0.3em;box-sizing: border-box;text-align: center;}#sk-container-id-3 label.sk-toggleable__label-arrow:before {content: \"▸\";float: left;margin-right: 0.25em;color: #696969;}#sk-container-id-3 label.sk-toggleable__label-arrow:hover:before {color: black;}#sk-container-id-3 div.sk-estimator:hover label.sk-toggleable__label-arrow:before {color: black;}#sk-container-id-3 div.sk-toggleable__content {max-height: 0;max-width: 0;overflow: hidden;text-align: left;background-color: #f0f8ff;}#sk-container-id-3 div.sk-toggleable__content pre {margin: 0.2em;color: black;border-radius: 0.25em;background-color: #f0f8ff;}#sk-container-id-3 input.sk-toggleable__control:checked~div.sk-toggleable__content {max-height: 200px;max-width: 100%;overflow: auto;}#sk-container-id-3 input.sk-toggleable__control:checked~label.sk-toggleable__label-arrow:before {content: \"▾\";}#sk-container-id-3 div.sk-estimator input.sk-toggleable__control:checked~label.sk-toggleable__label {background-color: #d4ebff;}#sk-container-id-3 div.sk-label input.sk-toggleable__control:checked~label.sk-toggleable__label {background-color: #d4ebff;}#sk-container-id-3 input.sk-hidden--visually {border: 0;clip: rect(1px 1px 1px 1px);clip: rect(1px, 1px, 1px, 1px);height: 1px;margin: -1px;overflow: hidden;padding: 0;position: absolute;width: 1px;}#sk-container-id-3 div.sk-estimator {font-family: monospace;background-color: #f0f8ff;border: 1px dotted black;border-radius: 0.25em;box-sizing: border-box;margin-bottom: 0.5em;}#sk-container-id-3 div.sk-estimator:hover {background-color: #d4ebff;}#sk-container-id-3 div.sk-parallel-item::after {content: \"\";width: 100%;border-bottom: 1px solid gray;flex-grow: 1;}#sk-container-id-3 div.sk-label:hover label.sk-toggleable__label {background-color: #d4ebff;}#sk-container-id-3 div.sk-serial::before {content: \"\";position: absolute;border-left: 1px solid gray;box-sizing: border-box;top: 0;bottom: 0;left: 50%;z-index: 0;}#sk-container-id-3 div.sk-serial {display: flex;flex-direction: column;align-items: center;background-color: white;padding-right: 0.2em;padding-left: 0.2em;position: relative;}#sk-container-id-3 div.sk-item {position: relative;z-index: 1;}#sk-container-id-3 div.sk-parallel {display: flex;align-items: stretch;justify-content: center;background-color: white;position: relative;}#sk-container-id-3 div.sk-item::before, #sk-container-id-3 div.sk-parallel-item::before {content: \"\";position: absolute;border-left: 1px solid gray;box-sizing: border-box;top: 0;bottom: 0;left: 50%;z-index: -1;}#sk-container-id-3 div.sk-parallel-item {display: flex;flex-direction: column;z-index: 1;position: relative;background-color: white;}#sk-container-id-3 div.sk-parallel-item:first-child::after {align-self: flex-end;width: 50%;}#sk-container-id-3 div.sk-parallel-item:last-child::after {align-self: flex-start;width: 50%;}#sk-container-id-3 div.sk-parallel-item:only-child::after {width: 0;}#sk-container-id-3 div.sk-dashed-wrapped {border: 1px dashed gray;margin: 0 0.4em 0.5em 0.4em;box-sizing: border-box;padding-bottom: 0.4em;background-color: white;}#sk-container-id-3 div.sk-label label {font-family: monospace;font-weight: bold;display: inline-block;line-height: 1.2em;}#sk-container-id-3 div.sk-label-container {text-align: center;}#sk-container-id-3 div.sk-container {/* jupyter's `normalize.less` sets `[hidden] { display: none; }` but bootstrap.min.css set `[hidden] { display: none !important; }` so we also need the `!important` here to be able to override the default hidden behavior on the sphinx rendered scikit-learn.org. See: https://github.com/scikit-learn/scikit-learn/issues/21755 */display: inline-block !important;position: relative;}#sk-container-id-3 div.sk-text-repr-fallback {display: none;}</style><div id=\"sk-container-id-3\" class=\"sk-top-container\"><div class=\"sk-text-repr-fallback\"><pre>DecisionTreeRegressor(random_state=10)</pre><b>In a Jupyter environment, please rerun this cell to show the HTML representation or trust the notebook. <br />On GitHub, the HTML representation is unable to render, please try loading this page with nbviewer.org.</b></div><div class=\"sk-container\" hidden><div class=\"sk-item\"><div class=\"sk-estimator sk-toggleable\"><input class=\"sk-toggleable__control sk-hidden--visually\" id=\"sk-estimator-id-3\" type=\"checkbox\" checked><label for=\"sk-estimator-id-3\" class=\"sk-toggleable__label sk-toggleable__label-arrow\">DecisionTreeRegressor</label><div class=\"sk-toggleable__content\"><pre>DecisionTreeRegressor(random_state=10)</pre></div></div></div></div></div>"
      ],
      "text/plain": [
       "DecisionTreeRegressor(random_state=10)"
      ]
     },
     "execution_count": 69,
     "metadata": {},
     "output_type": "execute_result"
    }
   ],
   "source": [
    "dt.fit(X_train,y_train)\n"
   ]
  },
  {
   "cell_type": "code",
   "execution_count": 70,
   "id": "43c5a514",
   "metadata": {
    "ExecuteTime": {
     "end_time": "2023-05-13T12:27:38.837130Z",
     "start_time": "2023-05-13T12:27:38.821171Z"
    }
   },
   "outputs": [],
   "source": [
    "pred_2 = dt.predict(X_test)"
   ]
  },
  {
   "cell_type": "code",
   "execution_count": 71,
   "id": "e18680ed",
   "metadata": {
    "ExecuteTime": {
     "end_time": "2023-05-13T12:27:38.863616Z",
     "start_time": "2023-05-13T12:27:38.839626Z"
    }
   },
   "outputs": [
    {
     "data": {
      "text/plain": [
       "3.6743769574044256"
      ]
     },
     "execution_count": 71,
     "metadata": {},
     "output_type": "execute_result"
    }
   ],
   "source": [
    "mean_squared_error(y_test,pred_2,squared=False)\n"
   ]
  },
  {
   "cell_type": "code",
   "execution_count": 76,
   "id": "9f70ed89",
   "metadata": {
    "ExecuteTime": {
     "end_time": "2023-05-13T12:30:29.011145Z",
     "start_time": "2023-05-13T12:30:28.994441Z"
    }
   },
   "outputs": [
    {
     "name": "stdout",
     "output_type": "stream",
     "text": [
      "Test data r-square :  0.8612776950569241\n"
     ]
    }
   ],
   "source": [
    "print('Test data r-square : ', format(r2_score(y_test,pred_2)))"
   ]
  },
  {
   "cell_type": "code",
   "execution_count": 72,
   "id": "b0821b76",
   "metadata": {
    "ExecuteTime": {
     "end_time": "2023-05-13T12:27:38.904193Z",
     "start_time": "2023-05-13T12:27:38.871781Z"
    }
   },
   "outputs": [
    {
     "name": "stdout",
     "output_type": "stream",
     "text": [
      "0.999989042880237\n",
      "0.8612776950569241\n"
     ]
    }
   ],
   "source": [
    "print(dt.score(X_train, y_train)) \n",
    "print(dt.score(X_test, y_test))  "
   ]
  },
  {
   "cell_type": "markdown",
   "id": "4fef7bc3",
   "metadata": {},
   "source": [
    "## 결론\n",
    "랜덤포레스트회귀의 정확도가 93%으로 가장 좋음 \n",
    "R-squared:0.77 이다."
   ]
  }
 ],
 "metadata": {
  "kernelspec": {
   "display_name": "Python 3 (ipykernel)",
   "language": "python",
   "name": "python3"
  },
  "language_info": {
   "codemirror_mode": {
    "name": "ipython",
    "version": 3
   },
   "file_extension": ".py",
   "mimetype": "text/x-python",
   "name": "python",
   "nbconvert_exporter": "python",
   "pygments_lexer": "ipython3",
   "version": "3.9.0"
  },
  "toc": {
   "base_numbering": 1,
   "nav_menu": {},
   "number_sections": true,
   "sideBar": true,
   "skip_h1_title": false,
   "title_cell": "Table of Contents",
   "title_sidebar": "Contents",
   "toc_cell": false,
   "toc_position": {},
   "toc_section_display": true,
   "toc_window_display": false
  }
 },
 "nbformat": 4,
 "nbformat_minor": 5
}
