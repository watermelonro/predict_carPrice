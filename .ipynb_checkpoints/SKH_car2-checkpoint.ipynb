{
 "cells": [
  {
   "cell_type": "code",
   "execution_count": 5,
   "id": "3c43a1dd",
   "metadata": {
    "ExecuteTime": {
     "end_time": "2023-05-14T06:12:07.681838Z",
     "start_time": "2023-05-14T06:12:07.673665Z"
    },
    "id": "3c43a1dd"
   },
   "outputs": [],
   "source": [
    "import pandas as pd\n",
    "import numpy as np\n",
    "import matplotlib.pyplot as plt\n",
    "import os "
   ]
  },
  {
   "cell_type": "code",
   "execution_count": 6,
   "id": "22e9ac4e",
   "metadata": {
    "ExecuteTime": {
     "end_time": "2023-05-14T06:12:07.770894Z",
     "start_time": "2023-05-14T06:12:07.686230Z"
    },
    "colab": {
     "base_uri": "https://localhost:8080/",
     "height": 377
    },
    "id": "22e9ac4e",
    "outputId": "b674822c-049a-42af-fcf0-6e98684960d9"
   },
   "outputs": [],
   "source": [
    "# train_data = pd.read_csv('C:/SKH_python/project/archive/archive_india/train-data.csv')\n",
    "# test_data = pd.read_csv('C:/SKH_python/project/archive/archive_india/test-data.csv')\n",
    "\n",
    "\n",
    "train_data = pd.read_csv(\"./data/train-data.csv\")\n",
    "test_data = pd.read_csv('./data/test-data.csv')"
   ]
  },
  {
   "cell_type": "code",
   "execution_count": 94,
   "id": "a456d31a",
   "metadata": {
    "ExecuteTime": {
     "end_time": "2023-05-14T06:16:04.173381Z",
     "start_time": "2023-05-14T06:16:04.141405Z"
    },
    "id": "a456d31a"
   },
   "outputs": [],
   "source": [
    "train_data.info()"
   ]
  },
  {
   "cell_type": "code",
   "execution_count": 8,
   "id": "9f62816a",
   "metadata": {
    "ExecuteTime": {
     "end_time": "2023-05-14T06:12:07.838156Z",
     "start_time": "2023-05-14T06:12:07.811449Z"
    },
    "id": "9f62816a"
   },
   "outputs": [],
   "source": [
    "test_data.info()"
   ]
  },
  {
   "cell_type": "code",
   "execution_count": 9,
   "id": "f95af38a",
   "metadata": {
    "ExecuteTime": {
     "end_time": "2023-05-14T06:12:07.862143Z",
     "start_time": "2023-05-14T06:12:07.838156Z"
    },
    "id": "f95af38a"
   },
   "outputs": [],
   "source": [
    "# 전체 차 종류 개수\n",
    "print(len(train_data['Name'].unique()))"
   ]
  },
  {
   "cell_type": "code",
   "execution_count": 10,
   "id": "bf71ed07",
   "metadata": {
    "ExecuteTime": {
     "end_time": "2023-05-14T06:12:07.901528Z",
     "start_time": "2023-05-14T06:12:07.863116Z"
    },
    "id": "bf71ed07"
   },
   "outputs": [],
   "source": [
    "train_data.head() # Unnamed:0 불필요함으로 삭제 "
   ]
  },
  {
   "cell_type": "code",
   "execution_count": 11,
   "id": "ba322cad",
   "metadata": {
    "ExecuteTime": {
     "end_time": "2023-05-14T06:12:07.917921Z",
     "start_time": "2023-05-14T06:12:07.901528Z"
    },
    "id": "ba322cad"
   },
   "outputs": [],
   "source": [
    "train_data.drop(['Unnamed: 0'],axis=1,inplace=True)"
   ]
  },
  {
   "cell_type": "code",
   "execution_count": 12,
   "id": "c10bc99b",
   "metadata": {
    "ExecuteTime": {
     "end_time": "2023-05-14T06:12:07.945678Z",
     "start_time": "2023-05-14T06:12:07.917921Z"
    },
    "id": "c10bc99b"
   },
   "outputs": [],
   "source": [
    "train_data.head()"
   ]
  },
  {
   "cell_type": "code",
   "execution_count": 13,
   "id": "672be67c",
   "metadata": {
    "ExecuteTime": {
     "end_time": "2023-05-14T06:12:07.962063Z",
     "start_time": "2023-05-14T06:12:07.946068Z"
    },
    "id": "672be67c"
   },
   "outputs": [],
   "source": [
    "test_data.drop(['Unnamed: 0'],axis=1,inplace=True)"
   ]
  },
  {
   "cell_type": "code",
   "execution_count": 14,
   "id": "77a0a754",
   "metadata": {
    "ExecuteTime": {
     "end_time": "2023-05-14T06:12:08.002164Z",
     "start_time": "2023-05-14T06:12:07.967272Z"
    },
    "id": "77a0a754"
   },
   "outputs": [],
   "source": [
    "test_data.head()"
   ]
  },
  {
   "cell_type": "markdown",
   "id": "95e75d6d",
   "metadata": {
    "id": "95e75d6d"
   },
   "source": [
    "* Name : 차종\n",
    "\n",
    "* Location : 차량 위치\n",
    "\n",
    "* Kilometers_Driven : 주행거리(km)\n",
    "\n",
    "* Fuel_Type: 연료 타입\n",
    "\n",
    "* Transmission : 오토, 기어\n",
    "\n",
    "* Owner_Type : 차주 \n",
    "\n",
    "* Mileage : 연비 kmpl(km/L), km/kg\n",
    "        *\"Km/kg\"은 차량이 1kg의 연료로 주행할 수 있는 거리를 측정하고 \"km/l\"은 차량이 1리터의 연료로 주행할 수 있는 km를 측정합니다.\n",
    "        *\"Km/kg\"은 일반적으로 압축 천연 가스(CNG) 또는 액화 석유 가스(LPG)로 작동하는 차량에 사용되는 반면 \"km/l\"은 휘발유 또는 디젤로 작동하는 차량에 더 일반적으로 사용됩니다.\n",
    "\n",
    "* Engine : CC 배기량을 표기할 때는 'cc'나 '리터'의 단위를 사용합니다.\n",
    "\n",
    "* Power : bhp 보통 마력(馬力; Horse Power)이란 단어를 많이 쓰지만 이 제동마력(制動馬力)은 기관의 회전을 적정한 방법으로 제어했을 때 얻어지는 동력(動力)을 말한다.\n",
    "* Seats : 좌석 개수\n",
    "* Nwe_Price : Lakh(십만)\n",
    "* Price : Lakh(십만)"
   ]
  },
  {
   "cell_type": "code",
   "execution_count": 15,
   "id": "4715d432",
   "metadata": {
    "ExecuteTime": {
     "end_time": "2023-05-14T06:12:08.037656Z",
     "start_time": "2023-05-14T06:12:08.002164Z"
    },
    "id": "4715d432"
   },
   "outputs": [],
   "source": [
    "# NaN data check\n",
    "train_data.isnull().sum()"
   ]
  },
  {
   "cell_type": "code",
   "execution_count": 16,
   "id": "6e935f38",
   "metadata": {
    "ExecuteTime": {
     "end_time": "2023-05-14T06:12:08.061646Z",
     "start_time": "2023-05-14T06:12:08.037656Z"
    },
    "id": "6e935f38"
   },
   "outputs": [],
   "source": [
    "# NaN data check\n",
    "test_data.isnull().sum()"
   ]
  },
  {
   "cell_type": "code",
   "execution_count": 17,
   "id": "8a06fdbc",
   "metadata": {
    "ExecuteTime": {
     "end_time": "2023-05-14T06:12:08.126715Z",
     "start_time": "2023-05-14T06:12:08.066141Z"
    },
    "id": "8a06fdbc"
   },
   "outputs": [],
   "source": [
    "# null -> Nan\n",
    "train_data['Power'] = train_data['Power'].str.extract('(\\d+\\.\\d+|\\d+)').astype(float)\n",
    "test_data['Power'] = test_data['Power'].str.extract('(\\d+\\.\\d+|\\d+)').astype(float) #숫자만 추출하는 코드\n",
    "# Nan -> 0 \n",
    "train_data.fillna(0, inplace=True)\n",
    "test_data.fillna(0, inplace=True)\n",
    "# New Price는 정보가 적어 삭제\n",
    "train_data.drop(['New_Price'],axis=1,inplace=True)\n",
    "test_data.drop(['New_Price'],axis=1,inplace=True)"
   ]
  },
  {
   "cell_type": "code",
   "execution_count": 18,
   "id": "f4b6021a",
   "metadata": {
    "ExecuteTime": {
     "end_time": "2023-05-14T06:12:08.159115Z",
     "start_time": "2023-05-14T06:12:08.130027Z"
    },
    "id": "f4b6021a"
   },
   "outputs": [],
   "source": [
    "# NaN data check\n",
    "train_data.isnull().sum()"
   ]
  },
  {
   "cell_type": "code",
   "execution_count": 19,
   "id": "d47220d3",
   "metadata": {
    "ExecuteTime": {
     "end_time": "2023-05-14T06:12:08.183756Z",
     "start_time": "2023-05-14T06:12:08.164058Z"
    },
    "id": "d47220d3"
   },
   "outputs": [],
   "source": [
    "# NaN data check\n",
    "test_data.isnull().sum()"
   ]
  },
  {
   "cell_type": "code",
   "execution_count": 20,
   "id": "f1518da7",
   "metadata": {
    "ExecuteTime": {
     "end_time": "2023-05-14T06:12:08.216102Z",
     "start_time": "2023-05-14T06:12:08.184449Z"
    },
    "id": "f1518da7"
   },
   "outputs": [],
   "source": [
    "train_data.head()"
   ]
  },
  {
   "cell_type": "code",
   "execution_count": 21,
   "id": "9f655c2c",
   "metadata": {
    "ExecuteTime": {
     "end_time": "2023-05-14T06:12:08.248106Z",
     "start_time": "2023-05-14T06:12:08.216102Z"
    },
    "id": "9f655c2c"
   },
   "outputs": [],
   "source": [
    "#Train data 단위 정보 제거 \n",
    "data_len = int(len(train_data['Name']))\n",
    "# Case 1\n",
    "# 문자와 숫자가 섞여있는 경우 split 시 int형에서 Error 발생하기 때문에 list 형태로 저장하여 문자열로 변환\n",
    "Mileage = list(train_data['Mileage'])\n",
    "Engine = list(train_data['Engine'])\n",
    "\n",
    "for i in range(data_len):\n",
    "    \n",
    "    Mileage[i] = float(str(Mileage[i]).split(' ')[0])\n",
    "    Engine[i] = int(str(Engine[i]).split(' ')[0])\n",
    "#     Power[i] = float(str(Power[i]).split(' ')[0])\n",
    "    \n",
    "# Case 2\n",
    "# 데이터 처리 마다 str을 덮어서 Error 방지\n",
    "# data_len = int(len(train_data['Name']))\n",
    "# Mileage = []\n",
    "# Engine = []\n",
    "# Power = []\n",
    "# for i in range(data_len):\n",
    "    \n",
    "#     Mileage.append(str(train_data['Mileage'][i]).split(' ')[0])\n",
    "#     Engine.append(str(train_data['Engine'][i]).split(' ')[0])\n",
    "#     Power.append(str(train_data['Power'][i]).split(' ')[0])\n",
    "\n",
    "train_data['Mileage'] = Mileage\n",
    "train_data['Engine'] = Engine\n"
   ]
  },
  {
   "cell_type": "code",
   "execution_count": 22,
   "id": "931fba5d",
   "metadata": {
    "ExecuteTime": {
     "end_time": "2023-05-14T06:12:08.272093Z",
     "start_time": "2023-05-14T06:12:08.248106Z"
    },
    "id": "931fba5d"
   },
   "outputs": [],
   "source": [
    "#Train data 단위 정보 제거 \n",
    "data_len = int(len(test_data['Name']))\n",
    "# Case 1\n",
    "# 문자와 숫자가 섞여있는 경우 split 시 int형에서 Error 발생하기 때문에 list 형태로 저장하여 문자열로 변환\n",
    "Mileage = list(test_data['Mileage'])\n",
    "Engine = list(test_data['Engine'])\n",
    "\n",
    "for i in range(data_len):\n",
    "    \n",
    "    Mileage[i] = float(str(Mileage[i]).split(' ')[0])\n",
    "    Engine[i] = int(str(Engine[i]).split(' ')[0])\n",
    "    \n",
    "test_data['Mileage'] = Mileage\n",
    "test_data['Engine'] = Engine\n",
    "\n"
   ]
  },
  {
   "cell_type": "code",
   "execution_count": 23,
   "id": "adf53c8e",
   "metadata": {
    "ExecuteTime": {
     "end_time": "2023-05-14T06:12:08.304247Z",
     "start_time": "2023-05-14T06:12:08.272093Z"
    },
    "id": "adf53c8e"
   },
   "outputs": [],
   "source": [
    "train_data.info()"
   ]
  },
  {
   "cell_type": "code",
   "execution_count": 24,
   "id": "9cf90f27",
   "metadata": {
    "ExecuteTime": {
     "end_time": "2023-05-14T06:12:08.329670Z",
     "start_time": "2023-05-14T06:12:08.304247Z"
    },
    "id": "9cf90f27"
   },
   "outputs": [],
   "source": [
    "test_data.info()"
   ]
  },
  {
   "cell_type": "code",
   "execution_count": 25,
   "id": "3bf88467",
   "metadata": {
    "ExecuteTime": {
     "end_time": "2023-05-14T06:12:08.386127Z",
     "start_time": "2023-05-14T06:12:08.329670Z"
    },
    "id": "3bf88467"
   },
   "outputs": [],
   "source": [
    "train_data.describe()"
   ]
  },
  {
   "cell_type": "code",
   "execution_count": 26,
   "id": "3bcd1bac",
   "metadata": {
    "ExecuteTime": {
     "end_time": "2023-05-14T06:12:08.726567Z",
     "start_time": "2023-05-14T06:12:08.386909Z"
    },
    "id": "3bcd1bac",
    "scrolled": true
   },
   "outputs": [],
   "source": [
    "plt.figure(figsize=(10,10))\n",
    "plt.boxplot(train_data['Kilometers_Driven'])"
   ]
  },
  {
   "cell_type": "code",
   "execution_count": 27,
   "id": "02594e0f",
   "metadata": {
    "ExecuteTime": {
     "end_time": "2023-05-14T06:12:08.762948Z",
     "start_time": "2023-05-14T06:12:08.726567Z"
    },
    "id": "02594e0f"
   },
   "outputs": [],
   "source": [
    "train_data[train_data['Kilometers_Driven']>6000000]"
   ]
  },
  {
   "cell_type": "code",
   "execution_count": 28,
   "id": "c36b4a39",
   "metadata": {
    "ExecuteTime": {
     "end_time": "2023-05-14T06:12:08.778942Z",
     "start_time": "2023-05-14T06:12:08.768351Z"
    },
    "id": "c36b4a39"
   },
   "outputs": [],
   "source": [
    "# 이상치 데이터 평균 값으로 대체\n",
    "train_data['Kilometers_Driven'][2328] = int(train_data['Kilometers_Driven'].mean())"
   ]
  },
  {
   "cell_type": "code",
   "execution_count": 29,
   "id": "07e8e851",
   "metadata": {
    "ExecuteTime": {
     "end_time": "2023-05-14T06:12:08.803156Z",
     "start_time": "2023-05-14T06:12:08.779565Z"
    },
    "id": "07e8e851"
   },
   "outputs": [],
   "source": [
    "train_data['Kilometers_Driven'][2328] "
   ]
  },
  {
   "cell_type": "code",
   "execution_count": 30,
   "id": "e75c6086",
   "metadata": {
    "ExecuteTime": {
     "end_time": "2023-05-14T06:12:09.104197Z",
     "start_time": "2023-05-14T06:12:08.803156Z"
    },
    "id": "e75c6086"
   },
   "outputs": [],
   "source": [
    "plt.figure(figsize=(10,10))\n",
    "plt.boxplot(train_data['Kilometers_Driven'])"
   ]
  },
  {
   "cell_type": "code",
   "execution_count": 31,
   "id": "7f650ba5",
   "metadata": {
    "ExecuteTime": {
     "end_time": "2023-05-14T06:12:09.129707Z",
     "start_time": "2023-05-14T06:12:09.104197Z"
    },
    "id": "7f650ba5"
   },
   "outputs": [],
   "source": [
    "# 0인데이터가 없으므로 Pass\n",
    "train_data[train_data['Kilometers_Driven']==0]"
   ]
  },
  {
   "cell_type": "code",
   "execution_count": 32,
   "id": "effcb0cb",
   "metadata": {
    "ExecuteTime": {
     "end_time": "2023-05-14T06:12:09.412137Z",
     "start_time": "2023-05-14T06:12:09.145791Z"
    },
    "id": "effcb0cb"
   },
   "outputs": [],
   "source": [
    "plt.figure(figsize=(10,10))\n",
    "plt.boxplot(train_data['Mileage'])"
   ]
  },
  {
   "cell_type": "code",
   "execution_count": 33,
   "id": "2213517e",
   "metadata": {
    "ExecuteTime": {
     "end_time": "2023-05-14T06:12:09.428483Z",
     "start_time": "2023-05-14T06:12:09.415771Z"
    },
    "id": "2213517e"
   },
   "outputs": [],
   "source": [
    "# mileage 0인 차량 리스트\n",
    "Mileage_zero_list = list(train_data[train_data['Mileage']==0]['Name'])"
   ]
  },
  {
   "cell_type": "code",
   "execution_count": 34,
   "id": "bf9db452",
   "metadata": {
    "ExecuteTime": {
     "end_time": "2023-05-14T06:12:09.446501Z",
     "start_time": "2023-05-14T06:12:09.428483Z"
    },
    "id": "bf9db452"
   },
   "outputs": [],
   "source": [
    "Mileage_zero_list"
   ]
  },
  {
   "cell_type": "code",
   "execution_count": 35,
   "id": "d7bb7630",
   "metadata": {
    "ExecuteTime": {
     "end_time": "2023-05-14T06:12:09.566466Z",
     "start_time": "2023-05-14T06:12:09.446501Z"
    },
    "id": "d7bb7630"
   },
   "outputs": [],
   "source": [
    "find_not_zero_name = []\n",
    "for car_name in Mileage_zero_list:\n",
    "    if train_data[train_data['Name'] == car_name]['Mileage'].sum() > 0:\n",
    "        find_not_zero_name.append(car_name)"
   ]
  },
  {
   "cell_type": "code",
   "execution_count": 36,
   "id": "29d0adff",
   "metadata": {
    "ExecuteTime": {
     "end_time": "2023-05-14T06:12:09.582582Z",
     "start_time": "2023-05-14T06:12:09.566466Z"
    },
    "id": "29d0adff"
   },
   "outputs": [],
   "source": [
    "find_not_zero_name"
   ]
  },
  {
   "cell_type": "code",
   "execution_count": 37,
   "id": "aae37428",
   "metadata": {
    "ExecuteTime": {
     "end_time": "2023-05-14T06:12:09.612869Z",
     "start_time": "2023-05-14T06:12:09.587773Z"
    },
    "id": "aae37428"
   },
   "outputs": [],
   "source": [
    "train_data[train_data['Name']=='Honda City 1.5 GXI']"
   ]
  },
  {
   "cell_type": "code",
   "execution_count": 38,
   "id": "185fedac",
   "metadata": {
    "ExecuteTime": {
     "end_time": "2023-05-14T06:12:09.628958Z",
     "start_time": "2023-05-14T06:12:09.612869Z"
    },
    "id": "185fedac"
   },
   "outputs": [],
   "source": [
    "replace_data_list = train_data[train_data['Name']=='Honda City 1.5 GXI'].index"
   ]
  },
  {
   "cell_type": "code",
   "execution_count": 39,
   "id": "104df8f2",
   "metadata": {
    "ExecuteTime": {
     "end_time": "2023-05-14T06:12:09.652931Z",
     "start_time": "2023-05-14T06:12:09.634408Z"
    },
    "id": "104df8f2"
   },
   "outputs": [],
   "source": [
    "# 동일차량 정보에서 가져올 수 있는 데이터는 가져옴\n",
    "train_data['Mileage'][replace_data_list] = 12.8\n",
    "train_data['Engine'][replace_data_list] = 1493\n",
    "train_data['Power'][replace_data_list] = 100\n",
    "train_data['Seats'][replace_data_list] = 5\n"
   ]
  },
  {
   "cell_type": "code",
   "execution_count": 40,
   "id": "93f6eb4c",
   "metadata": {
    "ExecuteTime": {
     "end_time": "2023-05-14T06:12:09.687582Z",
     "start_time": "2023-05-14T06:12:09.653528Z"
    },
    "id": "93f6eb4c"
   },
   "outputs": [],
   "source": [
    "train_data[train_data['Name']=='Honda City 1.5 GXI']"
   ]
  },
  {
   "cell_type": "code",
   "execution_count": 41,
   "id": "6577e1f2",
   "metadata": {
    "ExecuteTime": {
     "end_time": "2023-05-14T06:12:09.713084Z",
     "start_time": "2023-05-14T06:12:09.687582Z"
    },
    "id": "6577e1f2"
   },
   "outputs": [],
   "source": [
    "train_data['Mileage'][replace_data_list]"
   ]
  },
  {
   "cell_type": "code",
   "execution_count": 42,
   "id": "d861f5fd",
   "metadata": {
    "ExecuteTime": {
     "end_time": "2023-05-14T06:12:09.729475Z",
     "start_time": "2023-05-14T06:12:09.714379Z"
    },
    "id": "d861f5fd"
   },
   "outputs": [],
   "source": [
    "Engine_zero_list = list(train_data[train_data['Engine']==0]['Name'])\n",
    "Power_zero_list = list(train_data[train_data['Power']==0]['Name'])\n",
    "Seats_list = list(train_data[train_data['Seats']==0]['Name'])\n",
    "Price_zero_list = list(train_data[train_data['Price']==0]['Name'])"
   ]
  },
  {
   "cell_type": "code",
   "execution_count": 43,
   "id": "7f360280",
   "metadata": {
    "ExecuteTime": {
     "end_time": "2023-05-14T06:12:09.746522Z",
     "start_time": "2023-05-14T06:12:09.729475Z"
    },
    "id": "7f360280"
   },
   "outputs": [],
   "source": [
    "Engine_zero_list"
   ]
  },
  {
   "cell_type": "code",
   "execution_count": 44,
   "id": "b0d33798",
   "metadata": {
    "ExecuteTime": {
     "end_time": "2023-05-14T06:12:09.770853Z",
     "start_time": "2023-05-14T06:12:09.746522Z"
    },
    "id": "b0d33798"
   },
   "outputs": [],
   "source": [
    "Power_zero_list"
   ]
  },
  {
   "cell_type": "code",
   "execution_count": 45,
   "id": "56eaaa40",
   "metadata": {
    "ExecuteTime": {
     "end_time": "2023-05-14T06:12:09.787470Z",
     "start_time": "2023-05-14T06:12:09.775885Z"
    },
    "id": "56eaaa40"
   },
   "outputs": [],
   "source": [
    "Seats_list"
   ]
  },
  {
   "cell_type": "code",
   "execution_count": 46,
   "id": "2fe2607c",
   "metadata": {
    "ExecuteTime": {
     "end_time": "2023-05-14T06:12:09.804294Z",
     "start_time": "2023-05-14T06:12:09.787470Z"
    },
    "id": "2fe2607c"
   },
   "outputs": [],
   "source": [
    "Price_zero_list #Price는 결측지 대체할 필요가 없음"
   ]
  },
  {
   "cell_type": "code",
   "execution_count": 47,
   "id": "99144368",
   "metadata": {
    "ExecuteTime": {
     "end_time": "2023-05-14T06:12:10.141464Z",
     "start_time": "2023-05-14T06:12:09.804294Z"
    },
    "id": "99144368"
   },
   "outputs": [],
   "source": [
    "Engine_not_zero_name = []\n",
    "Power_not_zero_name = []\n",
    "Seats_not_zero_name = []\n",
    "for car_name in Engine_zero_list:\n",
    "    if train_data[train_data['Name'] == car_name]['Engine'].sum() > 0:\n",
    "        Engine_not_zero_name.append(car_name)\n",
    "for car_name in Power_zero_list:\n",
    "    if train_data[train_data['Name'] == car_name]['Power'].sum() > 0:\n",
    "        Power_not_zero_name.append(car_name)\n",
    "for car_name in Seats_list:\n",
    "    if train_data[train_data['Name'] == car_name]['Seats'].sum() > 0:\n",
    "        Seats_not_zero_name.append(car_name)\n"
   ]
  },
  {
   "cell_type": "code",
   "execution_count": 48,
   "id": "c513640e",
   "metadata": {
    "ExecuteTime": {
     "end_time": "2023-05-14T06:12:10.156903Z",
     "start_time": "2023-05-14T06:12:10.147822Z"
    },
    "id": "c513640e"
   },
   "outputs": [],
   "source": [
    "Engine_not_zero_name = list(set(Engine_not_zero_name))\n",
    "print(Engine_not_zero_name)"
   ]
  },
  {
   "cell_type": "code",
   "execution_count": 49,
   "id": "573e5d6c",
   "metadata": {
    "ExecuteTime": {
     "end_time": "2023-05-14T06:12:10.180035Z",
     "start_time": "2023-05-14T06:12:10.159284Z"
    },
    "id": "573e5d6c"
   },
   "outputs": [],
   "source": [
    "Power_not_zero_name = list(set(Power_not_zero_name))\n",
    "print(Power_not_zero_name)"
   ]
  },
  {
   "cell_type": "code",
   "execution_count": 50,
   "id": "ebce9fb2",
   "metadata": {
    "ExecuteTime": {
     "end_time": "2023-05-14T06:12:10.196128Z",
     "start_time": "2023-05-14T06:12:10.181598Z"
    },
    "id": "ebce9fb2"
   },
   "outputs": [],
   "source": [
    "Seats_not_zero_name = list(set(Seats_not_zero_name))\n",
    "print(Seats_not_zero_name)"
   ]
  },
  {
   "cell_type": "code",
   "execution_count": 51,
   "id": "a37e4d6a",
   "metadata": {
    "ExecuteTime": {
     "end_time": "2023-05-14T06:12:10.232126Z",
     "start_time": "2023-05-14T06:12:10.198101Z"
    },
    "id": "a37e4d6a"
   },
   "outputs": [],
   "source": [
    "train_data[train_data['Name']==Engine_not_zero_name[0]]"
   ]
  },
  {
   "cell_type": "code",
   "execution_count": 52,
   "id": "f7f4aa69",
   "metadata": {
    "ExecuteTime": {
     "end_time": "2023-05-14T06:12:10.256005Z",
     "start_time": "2023-05-14T06:12:10.232126Z"
    },
    "id": "f7f4aa69"
   },
   "outputs": [],
   "source": [
    "train_data['Engine'][2264] = 1197\n",
    "train_data['Power'][2264] = 78.9\n",
    "train_data['Seats'][2264] = 5"
   ]
  },
  {
   "cell_type": "code",
   "execution_count": 53,
   "id": "da00fbf4",
   "metadata": {
    "ExecuteTime": {
     "end_time": "2023-05-14T06:12:10.295924Z",
     "start_time": "2023-05-14T06:12:10.256005Z"
    },
    "id": "da00fbf4"
   },
   "outputs": [],
   "source": [
    "train_data[train_data['Name']==Engine_not_zero_name[1]]"
   ]
  },
  {
   "cell_type": "code",
   "execution_count": 54,
   "id": "f5314844",
   "metadata": {
    "ExecuteTime": {
     "end_time": "2023-05-14T06:12:10.312493Z",
     "start_time": "2023-05-14T06:12:10.297805Z"
    },
    "id": "f5314844"
   },
   "outputs": [],
   "source": [
    "# 직접 타이핑\n",
    "train_data['Engine'][4604] = 1198\n",
    "train_data['Power'][4604] = 88.8\n",
    "train_data['Seats'][4604] = 5"
   ]
  },
  {
   "cell_type": "code",
   "execution_count": 55,
   "id": "7cbbde2f",
   "metadata": {
    "ExecuteTime": {
     "end_time": "2023-05-14T06:12:10.368866Z",
     "start_time": "2023-05-14T06:12:10.312493Z"
    },
    "id": "7cbbde2f"
   },
   "outputs": [],
   "source": [
    "# 한번에 처리하기 - Power\n",
    "for name in Power_not_zero_name:\n",
    "    idx_temp = list(train_data[train_data['Name']==name].index)\n",
    "    temp = train_data[train_data['Name']==name]\n",
    "    nonzero_power = temp[temp['Power'] != 0]['Power']\n",
    "    temp_value = nonzero_power[nonzero_power.index[0]]\n",
    "    for idx in idx_temp:\n",
    "        train_data.loc[idx, 'Power'] = temp_value"
   ]
  },
  {
   "cell_type": "code",
   "execution_count": 56,
   "id": "e3d6eb4f",
   "metadata": {
    "ExecuteTime": {
     "end_time": "2023-05-14T06:12:10.409269Z",
     "start_time": "2023-05-14T06:12:10.368866Z"
    },
    "id": "e3d6eb4f"
   },
   "outputs": [],
   "source": [
    "# Seats\n",
    "for name in Seats_not_zero_name:\n",
    "    idx_temp = list(train_data[train_data['Name']==name].index)\n",
    "    temp = train_data[train_data['Name']==name]\n",
    "    nonzero_power = temp[temp['Seats'] != 0]['Seats']\n",
    "    temp_value = nonzero_power[nonzero_power.index[0]]\n",
    "    for idx in idx_temp:\n",
    "        train_data.loc[idx, 'Seats'] = temp_value"
   ]
  },
  {
   "cell_type": "code",
   "execution_count": 57,
   "id": "35179fd5",
   "metadata": {
    "ExecuteTime": {
     "end_time": "2023-05-14T06:12:10.425426Z",
     "start_time": "2023-05-14T06:12:10.413292Z"
    },
    "id": "35179fd5"
   },
   "outputs": [],
   "source": [
    "# 다시 검증\n",
    "Engine_zero_idx = list(train_data[train_data['Engine']==0].index)\n",
    "Power_zero_idx = list(train_data[train_data['Power']==0].index)\n",
    "Seats_zero_idx = list(train_data[train_data['Seats']==0].index)\n"
   ]
  },
  {
   "cell_type": "code",
   "execution_count": 58,
   "id": "2792a59b",
   "metadata": {
    "ExecuteTime": {
     "end_time": "2023-05-14T06:12:10.441463Z",
     "start_time": "2023-05-14T06:12:10.425426Z"
    },
    "id": "2792a59b"
   },
   "outputs": [],
   "source": [
    "# 회생불가 데이터\n",
    "del_idx = list(set(Engine_zero_idx + Power_zero_idx + Seats_zero_idx))"
   ]
  },
  {
   "cell_type": "code",
   "execution_count": 59,
   "id": "1f657bd9",
   "metadata": {
    "ExecuteTime": {
     "end_time": "2023-05-14T06:12:10.473232Z",
     "start_time": "2023-05-14T06:12:10.446601Z"
    },
    "id": "1f657bd9"
   },
   "outputs": [],
   "source": [
    "len(del_idx)"
   ]
  },
  {
   "cell_type": "code",
   "execution_count": 60,
   "id": "02e63282",
   "metadata": {
    "ExecuteTime": {
     "end_time": "2023-05-14T06:12:10.489177Z",
     "start_time": "2023-05-14T06:12:10.473232Z"
    },
    "id": "02e63282"
   },
   "outputs": [],
   "source": [
    "train_data = train_data.drop(del_idx)"
   ]
  },
  {
   "cell_type": "code",
   "execution_count": 61,
   "id": "8a744699",
   "metadata": {
    "ExecuteTime": {
     "end_time": "2023-05-14T06:12:10.505595Z",
     "start_time": "2023-05-14T06:12:10.491013Z"
    },
    "id": "8a744699"
   },
   "outputs": [],
   "source": [
    "train_data.shape"
   ]
  },
  {
   "cell_type": "code",
   "execution_count": 62,
   "id": "63b80f47",
   "metadata": {
    "ExecuteTime": {
     "end_time": "2023-05-14T06:12:10.545330Z",
     "start_time": "2023-05-14T06:12:10.505595Z"
    },
    "id": "63b80f47"
   },
   "outputs": [],
   "source": [
    "# 결측치 제거 되었는지 확인\n",
    "train_data[train_data==0].sum()"
   ]
  },
  {
   "cell_type": "code",
   "execution_count": 63,
   "id": "1f5c325c",
   "metadata": {
    "ExecuteTime": {
     "end_time": "2023-05-14T06:12:10.561723Z",
     "start_time": "2023-05-14T06:12:10.547044Z"
    },
    "id": "1f5c325c"
   },
   "outputs": [],
   "source": [
    "len(train_data['Name'].unique())"
   ]
  },
  {
   "cell_type": "code",
   "execution_count": 64,
   "id": "275a91d7",
   "metadata": {
    "ExecuteTime": {
     "end_time": "2023-05-14T06:12:10.577683Z",
     "start_time": "2023-05-14T06:12:10.561723Z"
    },
    "id": "275a91d7"
   },
   "outputs": [],
   "source": [
    "car_name = list(train_data['Name'])\n",
    "for i in range(len(car_name)):\n",
    "    car_name[i] = car_name[i].split(' ', 1)[0]"
   ]
  },
  {
   "cell_type": "code",
   "execution_count": 65,
   "id": "fe7f7896",
   "metadata": {
    "ExecuteTime": {
     "end_time": "2023-05-14T06:12:10.593713Z",
     "start_time": "2023-05-14T06:12:10.580687Z"
    },
    "id": "fe7f7896"
   },
   "outputs": [],
   "source": [
    "train_data['Name'] = car_name"
   ]
  },
  {
   "cell_type": "code",
   "execution_count": 66,
   "id": "7eb55aff",
   "metadata": {
    "ExecuteTime": {
     "end_time": "2023-05-14T06:12:10.625308Z",
     "start_time": "2023-05-14T06:12:10.596564Z"
    },
    "id": "7eb55aff"
   },
   "outputs": [],
   "source": [
    "train_data.head()"
   ]
  },
  {
   "cell_type": "code",
   "execution_count": 67,
   "id": "586b4c5c",
   "metadata": {
    "ExecuteTime": {
     "end_time": "2023-05-14T06:12:10.641135Z",
     "start_time": "2023-05-14T06:12:10.630131Z"
    },
    "id": "586b4c5c"
   },
   "outputs": [],
   "source": [
    "train_data = train_data.reset_index(drop=True)"
   ]
  },
  {
   "cell_type": "code",
   "execution_count": 68,
   "id": "89055f6c",
   "metadata": {
    "ExecuteTime": {
     "end_time": "2023-05-14T06:12:10.673125Z",
     "start_time": "2023-05-14T06:12:10.641135Z"
    },
    "id": "89055f6c"
   },
   "outputs": [],
   "source": [
    "train_data.head()"
   ]
  },
  {
   "cell_type": "code",
   "execution_count": 69,
   "id": "90e76071",
   "metadata": {
    "ExecuteTime": {
     "end_time": "2023-05-14T06:12:10.697077Z",
     "start_time": "2023-05-14T06:12:10.673125Z"
    },
    "id": "90e76071"
   },
   "outputs": [],
   "source": [
    "train_data['Name'].value_counts()"
   ]
  },
  {
   "cell_type": "code",
   "execution_count": 70,
   "id": "70d9d1c9",
   "metadata": {
    "ExecuteTime": {
     "end_time": "2023-05-14T06:12:10.712788Z",
     "start_time": "2023-05-14T06:12:10.697077Z"
    },
    "id": "70d9d1c9"
   },
   "outputs": [],
   "source": [
    "train_data['Name'][train_data['Name'] == 'ISUZU'] = 'Isuzu'"
   ]
  },
  {
   "cell_type": "code",
   "execution_count": 71,
   "id": "fb09e5f2",
   "metadata": {
    "ExecuteTime": {
     "end_time": "2023-05-14T06:12:10.744888Z",
     "start_time": "2023-05-14T06:12:10.713158Z"
    },
    "id": "fb09e5f2"
   },
   "outputs": [],
   "source": [
    "train_data['Name'].value_counts()"
   ]
  },
  {
   "cell_type": "code",
   "execution_count": 72,
   "id": "cd86916f",
   "metadata": {
    "ExecuteTime": {
     "end_time": "2023-05-14T06:12:10.785041Z",
     "start_time": "2023-05-14T06:12:10.746721Z"
    },
    "id": "cd86916f"
   },
   "outputs": [],
   "source": [
    "train_data.head()"
   ]
  },
  {
   "cell_type": "code",
   "execution_count": 73,
   "id": "b7029d20",
   "metadata": {
    "ExecuteTime": {
     "end_time": "2023-05-14T06:12:10.812993Z",
     "start_time": "2023-05-14T06:12:10.785785Z"
    },
    "id": "b7029d20"
   },
   "outputs": [],
   "source": [
    "# 연료 단위 맞추기\n",
    "train_data['Mileage'][train_data['Fuel_Type'] == 'CNG'] = train_data[train_data['Fuel_Type'] == 'CNG']['Mileage']*1.64\n",
    "train_data['Mileage'][train_data['Fuel_Type'] == 'LPG'] = train_data[train_data['Fuel_Type'] == 'LPG']['Mileage']*1.3"
   ]
  },
  {
   "cell_type": "code",
   "execution_count": 74,
   "id": "9ce9959a",
   "metadata": {
    "ExecuteTime": {
     "end_time": "2023-05-14T06:12:10.837520Z",
     "start_time": "2023-05-14T06:12:10.812993Z"
    },
    "id": "9ce9959a"
   },
   "outputs": [],
   "source": [
    "Car_list = list(train_data['Name'].unique())\n",
    "Location_list = list(train_data['Location'].unique())\n",
    "Fuel_Type_list = list(train_data['Fuel_Type'].unique())\n",
    "Transmission = list(train_data['Owner_Type'].unique())\n",
    "print(len(Car_list), len(Location_list), len(Fuel_Type_list), len(Transmission))"
   ]
  },
  {
   "cell_type": "code",
   "execution_count": 75,
   "id": "0b91f2f4",
   "metadata": {
    "ExecuteTime": {
     "end_time": "2023-05-14T06:12:10.879885Z",
     "start_time": "2023-05-14T06:12:10.837520Z"
    },
    "id": "0b91f2f4"
   },
   "outputs": [],
   "source": [
    "train_data = pd.get_dummies(train_data, columns=['Name', 'Location', 'Fuel_Type', 'Transmission', 'Owner_Type'])"
   ]
  },
  {
   "cell_type": "code",
   "execution_count": 76,
   "id": "8c286585",
   "metadata": {
    "ExecuteTime": {
     "end_time": "2023-05-14T06:12:10.928200Z",
     "start_time": "2023-05-14T06:12:10.880890Z"
    },
    "id": "8c286585"
   },
   "outputs": [],
   "source": [
    "train_data"
   ]
  },
  {
   "cell_type": "code",
   "execution_count": 77,
   "id": "d9ab8a1b",
   "metadata": {
    "ExecuteTime": {
     "end_time": "2023-05-14T06:12:14.595703Z",
     "start_time": "2023-05-14T06:12:10.929819Z"
    },
    "id": "d9ab8a1b"
   },
   "outputs": [],
   "source": [
    "from sklearn.model_selection import train_test_split"
   ]
  },
  {
   "cell_type": "code",
   "execution_count": 78,
   "id": "8ef87200",
   "metadata": {
    "ExecuteTime": {
     "end_time": "2023-05-14T06:12:14.611929Z",
     "start_time": "2023-05-14T06:12:14.601322Z"
    },
    "id": "8ef87200"
   },
   "outputs": [],
   "source": [
    "X = train_data.drop('Price', axis=1)\n",
    "y = train_data['Price']\n",
    "y_log = np.log(y)"
   ]
  },
  {
   "cell_type": "code",
   "execution_count": 79,
   "id": "e5a8cc27",
   "metadata": {
    "ExecuteTime": {
     "end_time": "2023-05-14T06:12:14.646714Z",
     "start_time": "2023-05-14T06:12:14.613576Z"
    },
    "id": "e5a8cc27"
   },
   "outputs": [],
   "source": [
    "X_train, X_test, y_train, y_test = train_test_split(X, y_log, test_size=0.1, random_state=10)"
   ]
  },
  {
   "cell_type": "code",
   "execution_count": 93,
   "id": "de925e9a",
   "metadata": {
    "ExecuteTime": {
     "end_time": "2023-05-14T06:14:54.315247Z",
     "start_time": "2023-05-14T06:14:54.283354Z"
    }
   },
   "outputs": [],
   "source": [
    "X_train.head()"
   ]
  },
  {
   "cell_type": "code",
   "execution_count": 92,
   "id": "ALUaj5UI4Mzh",
   "metadata": {
    "ExecuteTime": {
     "end_time": "2023-05-14T06:14:30.464528Z",
     "start_time": "2023-05-14T06:14:24.735390Z"
    },
    "id": "ALUaj5UI4Mzh"
   },
   "outputs": [],
   "source": [
    "from statsmodels.stats.outliers_influence import variance_inflation_factor\n",
    "\n",
    "vif = pd.DataFrame()\n",
    "vif['features'] = X_train.columns\n",
    "vif[\"VIF Factor\"] = [variance_inflation_factor(X_train.values, i) for i in range(X_train.shape[1])]\n",
    "\n",
    "vif.round(1)\n",
    "plt\n"
   ]
  },
  {
   "cell_type": "code",
   "execution_count": 81,
   "id": "243d4c4d",
   "metadata": {
    "ExecuteTime": {
     "end_time": "2023-05-14T06:12:20.493448Z",
     "start_time": "2023-05-14T06:12:20.213220Z"
    },
    "id": "243d4c4d"
   },
   "outputs": [],
   "source": [
    "from sklearn.linear_model import LinearRegression\n",
    "from sklearn.metrics import accuracy_score, confusion_matrix, r2_score, mean_absolute_error, mean_squared_error\n"
   ]
  },
  {
   "cell_type": "code",
   "execution_count": 82,
   "id": "a0f88844",
   "metadata": {
    "ExecuteTime": {
     "end_time": "2023-05-14T06:12:20.565267Z",
     "start_time": "2023-05-14T06:12:20.497613Z"
    },
    "id": "a0f88844"
   },
   "outputs": [],
   "source": [
    "# lr = LinearRegression(fit_intercept = True, normalize = True, copy_X = True)\n",
    "lr = LinearRegression()\n",
    "lr.fit(X_train, y_train)"
   ]
  },
  {
   "cell_type": "code",
   "execution_count": 83,
   "id": "404ce758",
   "metadata": {
    "ExecuteTime": {
     "end_time": "2023-05-14T06:12:20.580764Z",
     "start_time": "2023-05-14T06:12:20.565579Z"
    },
    "id": "404ce758"
   },
   "outputs": [],
   "source": [
    "y_predict = lr.predict(X_test)"
   ]
  },
  {
   "cell_type": "code",
   "execution_count": 84,
   "id": "70fc8f81",
   "metadata": {
    "ExecuteTime": {
     "end_time": "2023-05-14T06:12:20.628241Z",
     "start_time": "2023-05-14T06:12:20.581587Z"
    },
    "id": "70fc8f81"
   },
   "outputs": [],
   "source": [
    "lr.fit(X_train, y_train)\n",
    "y_prediect = lr.predict(X_test)"
   ]
  },
  {
   "cell_type": "code",
   "execution_count": 85,
   "id": "ceeb1735",
   "metadata": {
    "ExecuteTime": {
     "end_time": "2023-05-14T06:12:20.659957Z",
     "start_time": "2023-05-14T06:12:20.631754Z"
    },
    "id": "ceeb1735"
   },
   "outputs": [],
   "source": [
    "print('Train data Accuracy : ', format(lr.score(X_train, y_train)))\n",
    "print('Test data r-square : ', format(r2_score(y_test,y_prediect)))\n",
    "print('Root mean squared error : ', format(mean_squared_error(y_test, y_prediect, squared = False)))"
   ]
  },
  {
   "cell_type": "code",
   "execution_count": 86,
   "id": "1ae7b4ec",
   "metadata": {
    "ExecuteTime": {
     "end_time": "2023-05-14T06:12:42.818060Z",
     "start_time": "2023-05-14T06:12:20.681376Z"
    },
    "id": "1ae7b4ec"
   },
   "outputs": [],
   "source": [
    "pip install xgboost"
   ]
  },
  {
   "cell_type": "code",
   "execution_count": 87,
   "id": "a880e4f3",
   "metadata": {
    "ExecuteTime": {
     "end_time": "2023-05-14T06:12:45.309906Z",
     "start_time": "2023-05-14T06:12:42.822969Z"
    },
    "id": "a880e4f3"
   },
   "outputs": [],
   "source": [
    "pip install lightgbm"
   ]
  },
  {
   "cell_type": "code",
   "execution_count": 88,
   "id": "4acd2f80",
   "metadata": {
    "ExecuteTime": {
     "end_time": "2023-05-14T06:13:04.800578Z",
     "start_time": "2023-05-14T06:12:45.309906Z"
    },
    "id": "4acd2f80"
   },
   "outputs": [],
   "source": [
    "pip install catboost"
   ]
  },
  {
   "cell_type": "code",
   "execution_count": 89,
   "id": "c57b3110",
   "metadata": {
    "ExecuteTime": {
     "end_time": "2023-05-14T06:13:05.538991Z",
     "start_time": "2023-05-14T06:13:04.800578Z"
    },
    "id": "c57b3110"
   },
   "outputs": [],
   "source": [
    "from sklearn.linear_model import LinearRegression, Ridge, Lasso\n",
    "from sklearn.tree import DecisionTreeRegressor\n",
    "from sklearn.ensemble import RandomForestRegressor, GradientBoostingRegressor\n",
    "from xgboost import XGBRegressor, plot_importance\n",
    "from lightgbm import LGBMRegressor\n",
    "from catboost import CatBoostRegressor\n",
    "from sklearn.svm import SVR\n",
    "from sklearn.neighbors import KNeighborsRegressor\n",
    "from sklearn.model_selection import GridSearchCV, cross_val_score, StratifiedKFold, learning_curve\n",
    "from sklearn.preprocessing import StandardScaler, MinMaxScaler"
   ]
  },
  {
   "cell_type": "code",
   "execution_count": null,
   "id": "f1edce58",
   "metadata": {
    "ExecuteTime": {
     "end_time": "2023-05-14T06:13:05.543194Z",
     "start_time": "2023-05-14T06:13:05.543194Z"
    },
    "id": "f1edce58"
   },
   "outputs": [],
   "source": [
    "random_state = 10\n",
    "classifiers = []\n",
    "\n",
    "\n",
    "classifiers.append(LinearRegression())\n",
    "classifiers.append(Ridge(alpha=0.1))\n",
    "classifiers.append(Lasso(alpha=0.1))\n",
    "classifiers.append(DecisionTreeRegressor(max_depth=5))\n",
    "classifiers.append(RandomForestRegressor(n_estimators=100, max_depth=5))\n",
    "classifiers.append(GradientBoostingRegressor(n_estimators=100, learning_rate=0.1, max_depth=5))\n",
    "classifiers.append(XGBRegressor(n_estimators=100, learning_rate=0.1, max_depth=5))\n",
    "classifiers.append(LGBMRegressor(n_estimators=100, learning_rate=0.1, max_depth=5))\n",
    "classifiers.append(CatBoostRegressor(iterations=100, learning_rate=0.1, depth=5))\n",
    "# classifiers.append(SVR(kernel='linear'))\n",
    "classifiers.append(KNeighborsRegressor(n_neighbors=5))\n",
    "\n",
    "cv_list = []\n",
    "cv_results = []\n",
    "for classifier in classifiers :\n",
    "    cv_list.append(str(classifier).split('(')[0])\n",
    "    print('classifier:',str(classifier))\n",
    "    classifier.fit(X_train,y_train) # 모델 형성\n",
    "    y_predict = classifier.predict(X_test) # 예측\n",
    "    cv_results.append([classifier.score(X_train, y_train), r2_score(y_test,y_predict), mean_squared_error(y_test, y_predict, squared = False)])\n"
   ]
  },
  {
   "cell_type": "code",
   "execution_count": null,
   "id": "15ceff24",
   "metadata": {
    "ExecuteTime": {
     "end_time": "2023-05-14T06:13:05.543194Z",
     "start_time": "2023-05-14T06:13:05.543194Z"
    },
    "id": "15ceff24"
   },
   "outputs": [],
   "source": [
    "result = pd.DataFrame(np.round(cv_results,2), columns=(['Train data Accuracy','Test data r-square','Root mean squared error']))\n",
    "result.index = cv_list"
   ]
  },
  {
   "cell_type": "code",
   "execution_count": null,
   "id": "22acfc55",
   "metadata": {
    "ExecuteTime": {
     "end_time": "2023-05-14T06:13:05.547201Z",
     "start_time": "2023-05-14T06:13:05.547201Z"
    },
    "id": "22acfc55",
    "scrolled": false
   },
   "outputs": [],
   "source": [
    "result"
   ]
  },
  {
   "cell_type": "code",
   "execution_count": null,
   "id": "70b2f4db",
   "metadata": {
    "ExecuteTime": {
     "end_time": "2023-05-14T06:13:05.547201Z",
     "start_time": "2023-05-14T06:13:05.547201Z"
    },
    "id": "70b2f4db"
   },
   "outputs": [],
   "source": [
    "XGB = XGBRegressor()\n",
    "xgb_param_grid = { \"n_estimators\" : [100, 200, 300],\n",
    "                  \"learning_rate\" : [0.1, 0.05, 0.01],\n",
    "                  \"max_depth\" : [3, 5, 10]}\n",
    "\n",
    "gsXGB = GridSearchCV(XGB,param_grid = xgb_param_grid, cv=5)\n",
    "gsXGB.fit(X_train,y_train)\n",
    "print(\"Best Parameters : \", gsXGB.best_params_)\n",
    "print(\"Best Score : \", gsXGB.best_score_)\n",
    "y_pred = gsXGB.predict(X_test)\n"
   ]
  },
  {
   "cell_type": "code",
   "execution_count": null,
   "id": "8e040609",
   "metadata": {
    "ExecuteTime": {
     "end_time": "2023-05-14T06:13:05.555202Z",
     "start_time": "2023-05-14T06:13:05.555202Z"
    },
    "id": "8e040609"
   },
   "outputs": [],
   "source": [
    "XGB =XGBRegressor(n_estimators=300, learning_rate=0.1, max_depth=5)\n",
    "XGB.fit(X_train, y_train)\n",
    "y_prediect = XGB.predict(X_test)\n",
    "\n",
    "print('Train data Accuracy : ', format(XGB.score(X_train, y_train)))\n",
    "print('Test data r-square : ', format(r2_score(y_test,y_prediect)))\n",
    "print('Root mean squared error : ', format(mean_squared_error(y_test, y_prediect, squared = False)))"
   ]
  },
  {
   "cell_type": "code",
   "execution_count": null,
   "id": "56f0d877",
   "metadata": {
    "ExecuteTime": {
     "end_time": "2023-05-14T06:13:05.561084Z",
     "start_time": "2023-05-14T06:13:05.555202Z"
    },
    "id": "56f0d877"
   },
   "outputs": [],
   "source": [
    "LGB = LGBMRegressor()\n",
    "lgb_param_grid = { \"n_estimators\" : [100, 200, 300],\n",
    "                  \"learning_rate\" : [0.1, 0.05, 0.01],\n",
    "                  \"max_depth\" : [3, 5, 10]}\n",
    "\n",
    "gsLGB = GridSearchCV(LGB,param_grid = lgb_param_grid, cv=5)\n",
    "gsLGB.fit(X_train,y_train)\n",
    "print(\"Best Parameters : \", gsLGB.best_params_)\n",
    "print(\"Best Score : \", gsLGB.best_score_)\n",
    "y_pred = gsLGB.predict(X_test)\n"
   ]
  },
  {
   "cell_type": "code",
   "execution_count": null,
   "id": "1fac844e",
   "metadata": {
    "ExecuteTime": {
     "end_time": "2023-05-14T06:13:05.561084Z",
     "start_time": "2023-05-14T06:13:05.561084Z"
    },
    "id": "1fac844e"
   },
   "outputs": [],
   "source": [
    "LGB = LGBMRegressor(n_estimators=300, learning_rate=0.1, max_depth=10)\n",
    "LGB.fit(X_train, y_train)\n",
    "y_prediect = LGB.predict(X_test)\n",
    "\n",
    "print('Train data Accuracy : ', format(LGB.score(X_train, y_train)))\n",
    "print('Test data r-square : ', format(r2_score(y_test,y_prediect)))\n",
    "print('Root mean squared error : ', format(mean_squared_error(y_test, y_prediect, squared = False)))"
   ]
  },
  {
   "cell_type": "code",
   "execution_count": null,
   "id": "5d913d94",
   "metadata": {
    "ExecuteTime": {
     "end_time": "2023-05-14T06:13:05.561084Z",
     "start_time": "2023-05-14T06:13:05.561084Z"
    },
    "id": "5d913d94"
   },
   "outputs": [],
   "source": [
    "plot_importance(XGB,max_num_features=10)"
   ]
  },
  {
   "cell_type": "code",
   "execution_count": null,
   "id": "e066c779",
   "metadata": {
    "ExecuteTime": {
     "end_time": "2023-05-14T06:13:05.568469Z",
     "start_time": "2023-05-14T06:13:05.568469Z"
    },
    "id": "e066c779"
   },
   "outputs": [],
   "source": [
    "from lightgbm import LGBMRegressor, plot_importance\n",
    "plot_importance(LGB,max_num_features=10)"
   ]
  },
  {
   "cell_type": "code",
   "execution_count": null,
   "id": "b2fa401b",
   "metadata": {
    "ExecuteTime": {
     "end_time": "2023-05-14T06:13:05.568469Z",
     "start_time": "2023-05-14T06:13:05.568469Z"
    },
    "id": "b2fa401b"
   },
   "outputs": [],
   "source": [
    "print('Train data Accuracy : ', format(XGB.score(X_test, y_test)))\n",
    "print('Train data Accuracy : ', format(LGB.score(X_test, y_test)))"
   ]
  }
 ],
 "metadata": {
  "colab": {
   "provenance": []
  },
  "kernelspec": {
   "display_name": "Python 3 (ipykernel)",
   "language": "python",
   "name": "python3"
  },
  "language_info": {
   "codemirror_mode": {
    "name": "ipython",
    "version": 3
   },
   "file_extension": ".py",
   "mimetype": "text/x-python",
   "name": "python",
   "nbconvert_exporter": "python",
   "pygments_lexer": "ipython3",
   "version": "3.9.0"
  },
  "toc": {
   "base_numbering": 1,
   "nav_menu": {},
   "number_sections": true,
   "sideBar": true,
   "skip_h1_title": false,
   "title_cell": "Table of Contents",
   "title_sidebar": "Contents",
   "toc_cell": false,
   "toc_position": {},
   "toc_section_display": true,
   "toc_window_display": false
  }
 },
 "nbformat": 4,
 "nbformat_minor": 5
}
