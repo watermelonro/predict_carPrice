{
 "cells": [
  {
   "cell_type": "code",
   "execution_count": 1,
   "id": "3c43a1dd",
   "metadata": {
    "ExecuteTime": {
     "end_time": "2023-05-14T06:46:47.928953Z",
     "start_time": "2023-05-14T06:46:47.272982Z"
    },
    "id": "3c43a1dd"
   },
   "outputs": [],
   "source": [
    "import pandas as pd\n",
    "import numpy as np\n",
    "import matplotlib.pyplot as plt\n",
    "import os "
   ]
  },
  {
   "cell_type": "code",
   "execution_count": 2,
   "id": "22e9ac4e",
   "metadata": {
    "ExecuteTime": {
     "end_time": "2023-05-14T06:46:47.955947Z",
     "start_time": "2023-05-14T06:46:47.928953Z"
    },
    "colab": {
     "base_uri": "https://localhost:8080/",
     "height": 377
    },
    "id": "22e9ac4e",
    "outputId": "b674822c-049a-42af-fcf0-6e98684960d9"
   },
   "outputs": [],
   "source": [
    "# train_data = pd.read_csv('C:/SKH_python/project/archive/archive_india/train-data.csv')\n",
    "# test_data = pd.read_csv('C:/SKH_python/project/archive/archive_india/test-data.csv')\n",
    "\n",
    "\n",
    "train_data = pd.read_csv(\"./data/train-data.csv\")\n",
    "test_data = pd.read_csv('./data/test-data.csv')"
   ]
  },
  {
   "cell_type": "code",
   "execution_count": 3,
   "id": "a456d31a",
   "metadata": {
    "ExecuteTime": {
     "end_time": "2023-05-14T06:46:47.987756Z",
     "start_time": "2023-05-14T06:46:47.955947Z"
    },
    "id": "a456d31a"
   },
   "outputs": [
    {
     "name": "stdout",
     "output_type": "stream",
     "text": [
      "<class 'pandas.core.frame.DataFrame'>\n",
      "RangeIndex: 6019 entries, 0 to 6018\n",
      "Data columns (total 14 columns):\n",
      " #   Column             Non-Null Count  Dtype  \n",
      "---  ------             --------------  -----  \n",
      " 0   Unnamed: 0         6019 non-null   int64  \n",
      " 1   Name               6019 non-null   object \n",
      " 2   Location           6019 non-null   object \n",
      " 3   Year               6019 non-null   int64  \n",
      " 4   Kilometers_Driven  6019 non-null   int64  \n",
      " 5   Fuel_Type          6019 non-null   object \n",
      " 6   Transmission       6019 non-null   object \n",
      " 7   Owner_Type         6019 non-null   object \n",
      " 8   Mileage            6017 non-null   object \n",
      " 9   Engine             5983 non-null   object \n",
      " 10  Power              5983 non-null   object \n",
      " 11  Seats              5977 non-null   float64\n",
      " 12  New_Price          824 non-null    object \n",
      " 13  Price              6019 non-null   float64\n",
      "dtypes: float64(2), int64(3), object(9)\n",
      "memory usage: 658.5+ KB\n"
     ]
    }
   ],
   "source": [
    "train_data.info()"
   ]
  },
  {
   "cell_type": "code",
   "execution_count": 4,
   "id": "9f62816a",
   "metadata": {
    "ExecuteTime": {
     "end_time": "2023-05-14T06:46:48.004036Z",
     "start_time": "2023-05-14T06:46:47.988952Z"
    },
    "id": "9f62816a"
   },
   "outputs": [
    {
     "name": "stdout",
     "output_type": "stream",
     "text": [
      "<class 'pandas.core.frame.DataFrame'>\n",
      "RangeIndex: 1234 entries, 0 to 1233\n",
      "Data columns (total 13 columns):\n",
      " #   Column             Non-Null Count  Dtype  \n",
      "---  ------             --------------  -----  \n",
      " 0   Unnamed: 0         1234 non-null   int64  \n",
      " 1   Name               1234 non-null   object \n",
      " 2   Location           1234 non-null   object \n",
      " 3   Year               1234 non-null   int64  \n",
      " 4   Kilometers_Driven  1234 non-null   int64  \n",
      " 5   Fuel_Type          1234 non-null   object \n",
      " 6   Transmission       1234 non-null   object \n",
      " 7   Owner_Type         1234 non-null   object \n",
      " 8   Mileage            1234 non-null   object \n",
      " 9   Engine             1224 non-null   object \n",
      " 10  Power              1224 non-null   object \n",
      " 11  Seats              1223 non-null   float64\n",
      " 12  New_Price          182 non-null    object \n",
      "dtypes: float64(1), int64(3), object(9)\n",
      "memory usage: 125.5+ KB\n"
     ]
    }
   ],
   "source": [
    "test_data.info()"
   ]
  },
  {
   "cell_type": "code",
   "execution_count": 5,
   "id": "f95af38a",
   "metadata": {
    "ExecuteTime": {
     "end_time": "2023-05-14T06:46:48.019747Z",
     "start_time": "2023-05-14T06:46:48.005788Z"
    },
    "id": "f95af38a"
   },
   "outputs": [
    {
     "name": "stdout",
     "output_type": "stream",
     "text": [
      "1876\n"
     ]
    }
   ],
   "source": [
    "# 전체 차 종류 개수\n",
    "print(len(train_data['Name'].unique()))"
   ]
  },
  {
   "cell_type": "code",
   "execution_count": 6,
   "id": "bf71ed07",
   "metadata": {
    "ExecuteTime": {
     "end_time": "2023-05-14T06:46:48.036010Z",
     "start_time": "2023-05-14T06:46:48.019747Z"
    },
    "id": "bf71ed07"
   },
   "outputs": [
    {
     "data": {
      "text/html": [
       "<div>\n",
       "<style scoped>\n",
       "    .dataframe tbody tr th:only-of-type {\n",
       "        vertical-align: middle;\n",
       "    }\n",
       "\n",
       "    .dataframe tbody tr th {\n",
       "        vertical-align: top;\n",
       "    }\n",
       "\n",
       "    .dataframe thead th {\n",
       "        text-align: right;\n",
       "    }\n",
       "</style>\n",
       "<table border=\"1\" class=\"dataframe\">\n",
       "  <thead>\n",
       "    <tr style=\"text-align: right;\">\n",
       "      <th></th>\n",
       "      <th>Unnamed: 0</th>\n",
       "      <th>Name</th>\n",
       "      <th>Location</th>\n",
       "      <th>Year</th>\n",
       "      <th>Kilometers_Driven</th>\n",
       "      <th>Fuel_Type</th>\n",
       "      <th>Transmission</th>\n",
       "      <th>Owner_Type</th>\n",
       "      <th>Mileage</th>\n",
       "      <th>Engine</th>\n",
       "      <th>Power</th>\n",
       "      <th>Seats</th>\n",
       "      <th>New_Price</th>\n",
       "      <th>Price</th>\n",
       "    </tr>\n",
       "  </thead>\n",
       "  <tbody>\n",
       "    <tr>\n",
       "      <th>0</th>\n",
       "      <td>0</td>\n",
       "      <td>Maruti Wagon R LXI CNG</td>\n",
       "      <td>Mumbai</td>\n",
       "      <td>2010</td>\n",
       "      <td>72000</td>\n",
       "      <td>CNG</td>\n",
       "      <td>Manual</td>\n",
       "      <td>First</td>\n",
       "      <td>26.6 km/kg</td>\n",
       "      <td>998 CC</td>\n",
       "      <td>58.16 bhp</td>\n",
       "      <td>5.0</td>\n",
       "      <td>NaN</td>\n",
       "      <td>1.75</td>\n",
       "    </tr>\n",
       "    <tr>\n",
       "      <th>1</th>\n",
       "      <td>1</td>\n",
       "      <td>Hyundai Creta 1.6 CRDi SX Option</td>\n",
       "      <td>Pune</td>\n",
       "      <td>2015</td>\n",
       "      <td>41000</td>\n",
       "      <td>Diesel</td>\n",
       "      <td>Manual</td>\n",
       "      <td>First</td>\n",
       "      <td>19.67 kmpl</td>\n",
       "      <td>1582 CC</td>\n",
       "      <td>126.2 bhp</td>\n",
       "      <td>5.0</td>\n",
       "      <td>NaN</td>\n",
       "      <td>12.50</td>\n",
       "    </tr>\n",
       "    <tr>\n",
       "      <th>2</th>\n",
       "      <td>2</td>\n",
       "      <td>Honda Jazz V</td>\n",
       "      <td>Chennai</td>\n",
       "      <td>2011</td>\n",
       "      <td>46000</td>\n",
       "      <td>Petrol</td>\n",
       "      <td>Manual</td>\n",
       "      <td>First</td>\n",
       "      <td>18.2 kmpl</td>\n",
       "      <td>1199 CC</td>\n",
       "      <td>88.7 bhp</td>\n",
       "      <td>5.0</td>\n",
       "      <td>8.61 Lakh</td>\n",
       "      <td>4.50</td>\n",
       "    </tr>\n",
       "    <tr>\n",
       "      <th>3</th>\n",
       "      <td>3</td>\n",
       "      <td>Maruti Ertiga VDI</td>\n",
       "      <td>Chennai</td>\n",
       "      <td>2012</td>\n",
       "      <td>87000</td>\n",
       "      <td>Diesel</td>\n",
       "      <td>Manual</td>\n",
       "      <td>First</td>\n",
       "      <td>20.77 kmpl</td>\n",
       "      <td>1248 CC</td>\n",
       "      <td>88.76 bhp</td>\n",
       "      <td>7.0</td>\n",
       "      <td>NaN</td>\n",
       "      <td>6.00</td>\n",
       "    </tr>\n",
       "    <tr>\n",
       "      <th>4</th>\n",
       "      <td>4</td>\n",
       "      <td>Audi A4 New 2.0 TDI Multitronic</td>\n",
       "      <td>Coimbatore</td>\n",
       "      <td>2013</td>\n",
       "      <td>40670</td>\n",
       "      <td>Diesel</td>\n",
       "      <td>Automatic</td>\n",
       "      <td>Second</td>\n",
       "      <td>15.2 kmpl</td>\n",
       "      <td>1968 CC</td>\n",
       "      <td>140.8 bhp</td>\n",
       "      <td>5.0</td>\n",
       "      <td>NaN</td>\n",
       "      <td>17.74</td>\n",
       "    </tr>\n",
       "  </tbody>\n",
       "</table>\n",
       "</div>"
      ],
      "text/plain": [
       "   Unnamed: 0                              Name    Location  Year  \\\n",
       "0           0            Maruti Wagon R LXI CNG      Mumbai  2010   \n",
       "1           1  Hyundai Creta 1.6 CRDi SX Option        Pune  2015   \n",
       "2           2                      Honda Jazz V     Chennai  2011   \n",
       "3           3                 Maruti Ertiga VDI     Chennai  2012   \n",
       "4           4   Audi A4 New 2.0 TDI Multitronic  Coimbatore  2013   \n",
       "\n",
       "   Kilometers_Driven Fuel_Type Transmission Owner_Type     Mileage   Engine  \\\n",
       "0              72000       CNG       Manual      First  26.6 km/kg   998 CC   \n",
       "1              41000    Diesel       Manual      First  19.67 kmpl  1582 CC   \n",
       "2              46000    Petrol       Manual      First   18.2 kmpl  1199 CC   \n",
       "3              87000    Diesel       Manual      First  20.77 kmpl  1248 CC   \n",
       "4              40670    Diesel    Automatic     Second   15.2 kmpl  1968 CC   \n",
       "\n",
       "       Power  Seats  New_Price  Price  \n",
       "0  58.16 bhp    5.0        NaN   1.75  \n",
       "1  126.2 bhp    5.0        NaN  12.50  \n",
       "2   88.7 bhp    5.0  8.61 Lakh   4.50  \n",
       "3  88.76 bhp    7.0        NaN   6.00  \n",
       "4  140.8 bhp    5.0        NaN  17.74  "
      ]
     },
     "execution_count": 6,
     "metadata": {},
     "output_type": "execute_result"
    }
   ],
   "source": [
    "train_data.head() # Unnamed:0 불필요함으로 삭제 "
   ]
  },
  {
   "cell_type": "code",
   "execution_count": 7,
   "id": "ba322cad",
   "metadata": {
    "ExecuteTime": {
     "end_time": "2023-05-14T06:46:48.051885Z",
     "start_time": "2023-05-14T06:46:48.036010Z"
    },
    "id": "ba322cad"
   },
   "outputs": [],
   "source": [
    "train_data.drop(['Unnamed: 0'],axis=1,inplace=True)"
   ]
  },
  {
   "cell_type": "code",
   "execution_count": 8,
   "id": "c10bc99b",
   "metadata": {
    "ExecuteTime": {
     "end_time": "2023-05-14T06:46:48.068193Z",
     "start_time": "2023-05-14T06:46:48.051885Z"
    },
    "id": "c10bc99b"
   },
   "outputs": [
    {
     "data": {
      "text/html": [
       "<div>\n",
       "<style scoped>\n",
       "    .dataframe tbody tr th:only-of-type {\n",
       "        vertical-align: middle;\n",
       "    }\n",
       "\n",
       "    .dataframe tbody tr th {\n",
       "        vertical-align: top;\n",
       "    }\n",
       "\n",
       "    .dataframe thead th {\n",
       "        text-align: right;\n",
       "    }\n",
       "</style>\n",
       "<table border=\"1\" class=\"dataframe\">\n",
       "  <thead>\n",
       "    <tr style=\"text-align: right;\">\n",
       "      <th></th>\n",
       "      <th>Name</th>\n",
       "      <th>Location</th>\n",
       "      <th>Year</th>\n",
       "      <th>Kilometers_Driven</th>\n",
       "      <th>Fuel_Type</th>\n",
       "      <th>Transmission</th>\n",
       "      <th>Owner_Type</th>\n",
       "      <th>Mileage</th>\n",
       "      <th>Engine</th>\n",
       "      <th>Power</th>\n",
       "      <th>Seats</th>\n",
       "      <th>New_Price</th>\n",
       "      <th>Price</th>\n",
       "    </tr>\n",
       "  </thead>\n",
       "  <tbody>\n",
       "    <tr>\n",
       "      <th>0</th>\n",
       "      <td>Maruti Wagon R LXI CNG</td>\n",
       "      <td>Mumbai</td>\n",
       "      <td>2010</td>\n",
       "      <td>72000</td>\n",
       "      <td>CNG</td>\n",
       "      <td>Manual</td>\n",
       "      <td>First</td>\n",
       "      <td>26.6 km/kg</td>\n",
       "      <td>998 CC</td>\n",
       "      <td>58.16 bhp</td>\n",
       "      <td>5.0</td>\n",
       "      <td>NaN</td>\n",
       "      <td>1.75</td>\n",
       "    </tr>\n",
       "    <tr>\n",
       "      <th>1</th>\n",
       "      <td>Hyundai Creta 1.6 CRDi SX Option</td>\n",
       "      <td>Pune</td>\n",
       "      <td>2015</td>\n",
       "      <td>41000</td>\n",
       "      <td>Diesel</td>\n",
       "      <td>Manual</td>\n",
       "      <td>First</td>\n",
       "      <td>19.67 kmpl</td>\n",
       "      <td>1582 CC</td>\n",
       "      <td>126.2 bhp</td>\n",
       "      <td>5.0</td>\n",
       "      <td>NaN</td>\n",
       "      <td>12.50</td>\n",
       "    </tr>\n",
       "    <tr>\n",
       "      <th>2</th>\n",
       "      <td>Honda Jazz V</td>\n",
       "      <td>Chennai</td>\n",
       "      <td>2011</td>\n",
       "      <td>46000</td>\n",
       "      <td>Petrol</td>\n",
       "      <td>Manual</td>\n",
       "      <td>First</td>\n",
       "      <td>18.2 kmpl</td>\n",
       "      <td>1199 CC</td>\n",
       "      <td>88.7 bhp</td>\n",
       "      <td>5.0</td>\n",
       "      <td>8.61 Lakh</td>\n",
       "      <td>4.50</td>\n",
       "    </tr>\n",
       "    <tr>\n",
       "      <th>3</th>\n",
       "      <td>Maruti Ertiga VDI</td>\n",
       "      <td>Chennai</td>\n",
       "      <td>2012</td>\n",
       "      <td>87000</td>\n",
       "      <td>Diesel</td>\n",
       "      <td>Manual</td>\n",
       "      <td>First</td>\n",
       "      <td>20.77 kmpl</td>\n",
       "      <td>1248 CC</td>\n",
       "      <td>88.76 bhp</td>\n",
       "      <td>7.0</td>\n",
       "      <td>NaN</td>\n",
       "      <td>6.00</td>\n",
       "    </tr>\n",
       "    <tr>\n",
       "      <th>4</th>\n",
       "      <td>Audi A4 New 2.0 TDI Multitronic</td>\n",
       "      <td>Coimbatore</td>\n",
       "      <td>2013</td>\n",
       "      <td>40670</td>\n",
       "      <td>Diesel</td>\n",
       "      <td>Automatic</td>\n",
       "      <td>Second</td>\n",
       "      <td>15.2 kmpl</td>\n",
       "      <td>1968 CC</td>\n",
       "      <td>140.8 bhp</td>\n",
       "      <td>5.0</td>\n",
       "      <td>NaN</td>\n",
       "      <td>17.74</td>\n",
       "    </tr>\n",
       "  </tbody>\n",
       "</table>\n",
       "</div>"
      ],
      "text/plain": [
       "                               Name    Location  Year  Kilometers_Driven  \\\n",
       "0            Maruti Wagon R LXI CNG      Mumbai  2010              72000   \n",
       "1  Hyundai Creta 1.6 CRDi SX Option        Pune  2015              41000   \n",
       "2                      Honda Jazz V     Chennai  2011              46000   \n",
       "3                 Maruti Ertiga VDI     Chennai  2012              87000   \n",
       "4   Audi A4 New 2.0 TDI Multitronic  Coimbatore  2013              40670   \n",
       "\n",
       "  Fuel_Type Transmission Owner_Type     Mileage   Engine      Power  Seats  \\\n",
       "0       CNG       Manual      First  26.6 km/kg   998 CC  58.16 bhp    5.0   \n",
       "1    Diesel       Manual      First  19.67 kmpl  1582 CC  126.2 bhp    5.0   \n",
       "2    Petrol       Manual      First   18.2 kmpl  1199 CC   88.7 bhp    5.0   \n",
       "3    Diesel       Manual      First  20.77 kmpl  1248 CC  88.76 bhp    7.0   \n",
       "4    Diesel    Automatic     Second   15.2 kmpl  1968 CC  140.8 bhp    5.0   \n",
       "\n",
       "   New_Price  Price  \n",
       "0        NaN   1.75  \n",
       "1        NaN  12.50  \n",
       "2  8.61 Lakh   4.50  \n",
       "3        NaN   6.00  \n",
       "4        NaN  17.74  "
      ]
     },
     "execution_count": 8,
     "metadata": {},
     "output_type": "execute_result"
    }
   ],
   "source": [
    "train_data.head()"
   ]
  },
  {
   "cell_type": "code",
   "execution_count": 9,
   "id": "672be67c",
   "metadata": {
    "ExecuteTime": {
     "end_time": "2023-05-14T06:46:48.076332Z",
     "start_time": "2023-05-14T06:46:48.068193Z"
    },
    "id": "672be67c"
   },
   "outputs": [],
   "source": [
    "test_data.drop(['Unnamed: 0'],axis=1,inplace=True)"
   ]
  },
  {
   "cell_type": "code",
   "execution_count": 10,
   "id": "77a0a754",
   "metadata": {
    "ExecuteTime": {
     "end_time": "2023-05-14T06:46:48.089028Z",
     "start_time": "2023-05-14T06:46:48.079300Z"
    },
    "id": "77a0a754"
   },
   "outputs": [
    {
     "data": {
      "text/html": [
       "<div>\n",
       "<style scoped>\n",
       "    .dataframe tbody tr th:only-of-type {\n",
       "        vertical-align: middle;\n",
       "    }\n",
       "\n",
       "    .dataframe tbody tr th {\n",
       "        vertical-align: top;\n",
       "    }\n",
       "\n",
       "    .dataframe thead th {\n",
       "        text-align: right;\n",
       "    }\n",
       "</style>\n",
       "<table border=\"1\" class=\"dataframe\">\n",
       "  <thead>\n",
       "    <tr style=\"text-align: right;\">\n",
       "      <th></th>\n",
       "      <th>Name</th>\n",
       "      <th>Location</th>\n",
       "      <th>Year</th>\n",
       "      <th>Kilometers_Driven</th>\n",
       "      <th>Fuel_Type</th>\n",
       "      <th>Transmission</th>\n",
       "      <th>Owner_Type</th>\n",
       "      <th>Mileage</th>\n",
       "      <th>Engine</th>\n",
       "      <th>Power</th>\n",
       "      <th>Seats</th>\n",
       "      <th>New_Price</th>\n",
       "    </tr>\n",
       "  </thead>\n",
       "  <tbody>\n",
       "    <tr>\n",
       "      <th>0</th>\n",
       "      <td>Maruti Alto K10 LXI CNG</td>\n",
       "      <td>Delhi</td>\n",
       "      <td>2014</td>\n",
       "      <td>40929</td>\n",
       "      <td>CNG</td>\n",
       "      <td>Manual</td>\n",
       "      <td>First</td>\n",
       "      <td>32.26 km/kg</td>\n",
       "      <td>998 CC</td>\n",
       "      <td>58.2 bhp</td>\n",
       "      <td>4.0</td>\n",
       "      <td>NaN</td>\n",
       "    </tr>\n",
       "    <tr>\n",
       "      <th>1</th>\n",
       "      <td>Maruti Alto 800 2016-2019 LXI</td>\n",
       "      <td>Coimbatore</td>\n",
       "      <td>2013</td>\n",
       "      <td>54493</td>\n",
       "      <td>Petrol</td>\n",
       "      <td>Manual</td>\n",
       "      <td>Second</td>\n",
       "      <td>24.7 kmpl</td>\n",
       "      <td>796 CC</td>\n",
       "      <td>47.3 bhp</td>\n",
       "      <td>5.0</td>\n",
       "      <td>NaN</td>\n",
       "    </tr>\n",
       "    <tr>\n",
       "      <th>2</th>\n",
       "      <td>Toyota Innova Crysta Touring Sport 2.4 MT</td>\n",
       "      <td>Mumbai</td>\n",
       "      <td>2017</td>\n",
       "      <td>34000</td>\n",
       "      <td>Diesel</td>\n",
       "      <td>Manual</td>\n",
       "      <td>First</td>\n",
       "      <td>13.68 kmpl</td>\n",
       "      <td>2393 CC</td>\n",
       "      <td>147.8 bhp</td>\n",
       "      <td>7.0</td>\n",
       "      <td>25.27 Lakh</td>\n",
       "    </tr>\n",
       "    <tr>\n",
       "      <th>3</th>\n",
       "      <td>Toyota Etios Liva GD</td>\n",
       "      <td>Hyderabad</td>\n",
       "      <td>2012</td>\n",
       "      <td>139000</td>\n",
       "      <td>Diesel</td>\n",
       "      <td>Manual</td>\n",
       "      <td>First</td>\n",
       "      <td>23.59 kmpl</td>\n",
       "      <td>1364 CC</td>\n",
       "      <td>null bhp</td>\n",
       "      <td>5.0</td>\n",
       "      <td>NaN</td>\n",
       "    </tr>\n",
       "    <tr>\n",
       "      <th>4</th>\n",
       "      <td>Hyundai i20 Magna</td>\n",
       "      <td>Mumbai</td>\n",
       "      <td>2014</td>\n",
       "      <td>29000</td>\n",
       "      <td>Petrol</td>\n",
       "      <td>Manual</td>\n",
       "      <td>First</td>\n",
       "      <td>18.5 kmpl</td>\n",
       "      <td>1197 CC</td>\n",
       "      <td>82.85 bhp</td>\n",
       "      <td>5.0</td>\n",
       "      <td>NaN</td>\n",
       "    </tr>\n",
       "  </tbody>\n",
       "</table>\n",
       "</div>"
      ],
      "text/plain": [
       "                                        Name    Location  Year  \\\n",
       "0                    Maruti Alto K10 LXI CNG       Delhi  2014   \n",
       "1              Maruti Alto 800 2016-2019 LXI  Coimbatore  2013   \n",
       "2  Toyota Innova Crysta Touring Sport 2.4 MT      Mumbai  2017   \n",
       "3                       Toyota Etios Liva GD   Hyderabad  2012   \n",
       "4                          Hyundai i20 Magna      Mumbai  2014   \n",
       "\n",
       "   Kilometers_Driven Fuel_Type Transmission Owner_Type      Mileage   Engine  \\\n",
       "0              40929       CNG       Manual      First  32.26 km/kg   998 CC   \n",
       "1              54493    Petrol       Manual     Second    24.7 kmpl   796 CC   \n",
       "2              34000    Diesel       Manual      First   13.68 kmpl  2393 CC   \n",
       "3             139000    Diesel       Manual      First   23.59 kmpl  1364 CC   \n",
       "4              29000    Petrol       Manual      First    18.5 kmpl  1197 CC   \n",
       "\n",
       "       Power  Seats   New_Price  \n",
       "0   58.2 bhp    4.0         NaN  \n",
       "1   47.3 bhp    5.0         NaN  \n",
       "2  147.8 bhp    7.0  25.27 Lakh  \n",
       "3   null bhp    5.0         NaN  \n",
       "4  82.85 bhp    5.0         NaN  "
      ]
     },
     "execution_count": 10,
     "metadata": {},
     "output_type": "execute_result"
    }
   ],
   "source": [
    "test_data.head()"
   ]
  },
  {
   "cell_type": "markdown",
   "id": "95e75d6d",
   "metadata": {
    "id": "95e75d6d"
   },
   "source": [
    "* Name : 차종\n",
    "\n",
    "* Location : 차량 위치\n",
    "\n",
    "* Kilometers_Driven : 주행거리(km)\n",
    "\n",
    "* Fuel_Type: 연료 타입\n",
    "\n",
    "* Transmission : 오토, 기어\n",
    "\n",
    "* Owner_Type : 차주 \n",
    "\n",
    "* Mileage : 연비 kmpl(km/L), km/kg\n",
    "        *\"Km/kg\"은 차량이 1kg의 연료로 주행할 수 있는 거리를 측정하고 \"km/l\"은 차량이 1리터의 연료로 주행할 수 있는 km를 측정합니다.\n",
    "        *\"Km/kg\"은 일반적으로 압축 천연 가스(CNG) 또는 액화 석유 가스(LPG)로 작동하는 차량에 사용되는 반면 \"km/l\"은 휘발유 또는 디젤로 작동하는 차량에 더 일반적으로 사용됩니다.\n",
    "\n",
    "* Engine : CC 배기량을 표기할 때는 'cc'나 '리터'의 단위를 사용합니다.\n",
    "\n",
    "* Power : bhp 보통 마력(馬力; Horse Power)이란 단어를 많이 쓰지만 이 제동마력(制動馬力)은 기관의 회전을 적정한 방법으로 제어했을 때 얻어지는 동력(動力)을 말한다.\n",
    "* Seats : 좌석 개수\n",
    "* Nwe_Price : Lakh(십만)\n",
    "* Price : Lakh(십만)"
   ]
  },
  {
   "cell_type": "code",
   "execution_count": 11,
   "id": "4715d432",
   "metadata": {
    "ExecuteTime": {
     "end_time": "2023-05-14T06:46:48.105591Z",
     "start_time": "2023-05-14T06:46:48.089028Z"
    },
    "id": "4715d432"
   },
   "outputs": [
    {
     "data": {
      "text/plain": [
       "Name                    0\n",
       "Location                0\n",
       "Year                    0\n",
       "Kilometers_Driven       0\n",
       "Fuel_Type               0\n",
       "Transmission            0\n",
       "Owner_Type              0\n",
       "Mileage                 2\n",
       "Engine                 36\n",
       "Power                  36\n",
       "Seats                  42\n",
       "New_Price            5195\n",
       "Price                   0\n",
       "dtype: int64"
      ]
     },
     "execution_count": 11,
     "metadata": {},
     "output_type": "execute_result"
    }
   ],
   "source": [
    "# NaN data check\n",
    "train_data.isnull().sum()"
   ]
  },
  {
   "cell_type": "code",
   "execution_count": 12,
   "id": "6e935f38",
   "metadata": {
    "ExecuteTime": {
     "end_time": "2023-05-14T06:46:48.121551Z",
     "start_time": "2023-05-14T06:46:48.105591Z"
    },
    "id": "6e935f38"
   },
   "outputs": [
    {
     "data": {
      "text/plain": [
       "Name                    0\n",
       "Location                0\n",
       "Year                    0\n",
       "Kilometers_Driven       0\n",
       "Fuel_Type               0\n",
       "Transmission            0\n",
       "Owner_Type              0\n",
       "Mileage                 0\n",
       "Engine                 10\n",
       "Power                  10\n",
       "Seats                  11\n",
       "New_Price            1052\n",
       "dtype: int64"
      ]
     },
     "execution_count": 12,
     "metadata": {},
     "output_type": "execute_result"
    }
   ],
   "source": [
    "# NaN data check\n",
    "test_data.isnull().sum()"
   ]
  },
  {
   "cell_type": "code",
   "execution_count": 13,
   "id": "8a06fdbc",
   "metadata": {
    "ExecuteTime": {
     "end_time": "2023-05-14T06:46:48.154147Z",
     "start_time": "2023-05-14T06:46:48.123446Z"
    },
    "id": "8a06fdbc"
   },
   "outputs": [],
   "source": [
    "# null -> Nan\n",
    "train_data['Power'] = train_data['Power'].str.extract('(\\d+\\.\\d+|\\d+)').astype(float)\n",
    "test_data['Power'] = test_data['Power'].str.extract('(\\d+\\.\\d+|\\d+)').astype(float) #숫자만 추출하는 코드\n",
    "# Nan -> 0 \n",
    "train_data.fillna(0, inplace=True)\n",
    "test_data.fillna(0, inplace=True)\n",
    "# New Price는 정보가 적어 삭제\n",
    "train_data.drop(['New_Price'],axis=1,inplace=True)\n",
    "test_data.drop(['New_Price'],axis=1,inplace=True)"
   ]
  },
  {
   "cell_type": "code",
   "execution_count": 14,
   "id": "f4b6021a",
   "metadata": {
    "ExecuteTime": {
     "end_time": "2023-05-14T06:46:48.170733Z",
     "start_time": "2023-05-14T06:46:48.155609Z"
    },
    "id": "f4b6021a"
   },
   "outputs": [
    {
     "data": {
      "text/plain": [
       "Name                 0\n",
       "Location             0\n",
       "Year                 0\n",
       "Kilometers_Driven    0\n",
       "Fuel_Type            0\n",
       "Transmission         0\n",
       "Owner_Type           0\n",
       "Mileage              0\n",
       "Engine               0\n",
       "Power                0\n",
       "Seats                0\n",
       "Price                0\n",
       "dtype: int64"
      ]
     },
     "execution_count": 14,
     "metadata": {},
     "output_type": "execute_result"
    }
   ],
   "source": [
    "# NaN data check\n",
    "train_data.isnull().sum()"
   ]
  },
  {
   "cell_type": "code",
   "execution_count": 15,
   "id": "d47220d3",
   "metadata": {
    "ExecuteTime": {
     "end_time": "2023-05-14T06:46:48.179070Z",
     "start_time": "2023-05-14T06:46:48.170733Z"
    },
    "id": "d47220d3"
   },
   "outputs": [
    {
     "data": {
      "text/plain": [
       "Name                 0\n",
       "Location             0\n",
       "Year                 0\n",
       "Kilometers_Driven    0\n",
       "Fuel_Type            0\n",
       "Transmission         0\n",
       "Owner_Type           0\n",
       "Mileage              0\n",
       "Engine               0\n",
       "Power                0\n",
       "Seats                0\n",
       "dtype: int64"
      ]
     },
     "execution_count": 15,
     "metadata": {},
     "output_type": "execute_result"
    }
   ],
   "source": [
    "# NaN data check\n",
    "test_data.isnull().sum()"
   ]
  },
  {
   "cell_type": "code",
   "execution_count": 16,
   "id": "f1518da7",
   "metadata": {
    "ExecuteTime": {
     "end_time": "2023-05-14T06:46:48.195447Z",
     "start_time": "2023-05-14T06:46:48.179070Z"
    },
    "id": "f1518da7"
   },
   "outputs": [
    {
     "data": {
      "text/html": [
       "<div>\n",
       "<style scoped>\n",
       "    .dataframe tbody tr th:only-of-type {\n",
       "        vertical-align: middle;\n",
       "    }\n",
       "\n",
       "    .dataframe tbody tr th {\n",
       "        vertical-align: top;\n",
       "    }\n",
       "\n",
       "    .dataframe thead th {\n",
       "        text-align: right;\n",
       "    }\n",
       "</style>\n",
       "<table border=\"1\" class=\"dataframe\">\n",
       "  <thead>\n",
       "    <tr style=\"text-align: right;\">\n",
       "      <th></th>\n",
       "      <th>Name</th>\n",
       "      <th>Location</th>\n",
       "      <th>Year</th>\n",
       "      <th>Kilometers_Driven</th>\n",
       "      <th>Fuel_Type</th>\n",
       "      <th>Transmission</th>\n",
       "      <th>Owner_Type</th>\n",
       "      <th>Mileage</th>\n",
       "      <th>Engine</th>\n",
       "      <th>Power</th>\n",
       "      <th>Seats</th>\n",
       "      <th>Price</th>\n",
       "    </tr>\n",
       "  </thead>\n",
       "  <tbody>\n",
       "    <tr>\n",
       "      <th>0</th>\n",
       "      <td>Maruti Wagon R LXI CNG</td>\n",
       "      <td>Mumbai</td>\n",
       "      <td>2010</td>\n",
       "      <td>72000</td>\n",
       "      <td>CNG</td>\n",
       "      <td>Manual</td>\n",
       "      <td>First</td>\n",
       "      <td>26.6 km/kg</td>\n",
       "      <td>998 CC</td>\n",
       "      <td>58.16</td>\n",
       "      <td>5.0</td>\n",
       "      <td>1.75</td>\n",
       "    </tr>\n",
       "    <tr>\n",
       "      <th>1</th>\n",
       "      <td>Hyundai Creta 1.6 CRDi SX Option</td>\n",
       "      <td>Pune</td>\n",
       "      <td>2015</td>\n",
       "      <td>41000</td>\n",
       "      <td>Diesel</td>\n",
       "      <td>Manual</td>\n",
       "      <td>First</td>\n",
       "      <td>19.67 kmpl</td>\n",
       "      <td>1582 CC</td>\n",
       "      <td>126.20</td>\n",
       "      <td>5.0</td>\n",
       "      <td>12.50</td>\n",
       "    </tr>\n",
       "    <tr>\n",
       "      <th>2</th>\n",
       "      <td>Honda Jazz V</td>\n",
       "      <td>Chennai</td>\n",
       "      <td>2011</td>\n",
       "      <td>46000</td>\n",
       "      <td>Petrol</td>\n",
       "      <td>Manual</td>\n",
       "      <td>First</td>\n",
       "      <td>18.2 kmpl</td>\n",
       "      <td>1199 CC</td>\n",
       "      <td>88.70</td>\n",
       "      <td>5.0</td>\n",
       "      <td>4.50</td>\n",
       "    </tr>\n",
       "    <tr>\n",
       "      <th>3</th>\n",
       "      <td>Maruti Ertiga VDI</td>\n",
       "      <td>Chennai</td>\n",
       "      <td>2012</td>\n",
       "      <td>87000</td>\n",
       "      <td>Diesel</td>\n",
       "      <td>Manual</td>\n",
       "      <td>First</td>\n",
       "      <td>20.77 kmpl</td>\n",
       "      <td>1248 CC</td>\n",
       "      <td>88.76</td>\n",
       "      <td>7.0</td>\n",
       "      <td>6.00</td>\n",
       "    </tr>\n",
       "    <tr>\n",
       "      <th>4</th>\n",
       "      <td>Audi A4 New 2.0 TDI Multitronic</td>\n",
       "      <td>Coimbatore</td>\n",
       "      <td>2013</td>\n",
       "      <td>40670</td>\n",
       "      <td>Diesel</td>\n",
       "      <td>Automatic</td>\n",
       "      <td>Second</td>\n",
       "      <td>15.2 kmpl</td>\n",
       "      <td>1968 CC</td>\n",
       "      <td>140.80</td>\n",
       "      <td>5.0</td>\n",
       "      <td>17.74</td>\n",
       "    </tr>\n",
       "  </tbody>\n",
       "</table>\n",
       "</div>"
      ],
      "text/plain": [
       "                               Name    Location  Year  Kilometers_Driven  \\\n",
       "0            Maruti Wagon R LXI CNG      Mumbai  2010              72000   \n",
       "1  Hyundai Creta 1.6 CRDi SX Option        Pune  2015              41000   \n",
       "2                      Honda Jazz V     Chennai  2011              46000   \n",
       "3                 Maruti Ertiga VDI     Chennai  2012              87000   \n",
       "4   Audi A4 New 2.0 TDI Multitronic  Coimbatore  2013              40670   \n",
       "\n",
       "  Fuel_Type Transmission Owner_Type     Mileage   Engine   Power  Seats  Price  \n",
       "0       CNG       Manual      First  26.6 km/kg   998 CC   58.16    5.0   1.75  \n",
       "1    Diesel       Manual      First  19.67 kmpl  1582 CC  126.20    5.0  12.50  \n",
       "2    Petrol       Manual      First   18.2 kmpl  1199 CC   88.70    5.0   4.50  \n",
       "3    Diesel       Manual      First  20.77 kmpl  1248 CC   88.76    7.0   6.00  \n",
       "4    Diesel    Automatic     Second   15.2 kmpl  1968 CC  140.80    5.0  17.74  "
      ]
     },
     "execution_count": 16,
     "metadata": {},
     "output_type": "execute_result"
    }
   ],
   "source": [
    "train_data.head()"
   ]
  },
  {
   "cell_type": "code",
   "execution_count": 17,
   "id": "9f655c2c",
   "metadata": {
    "ExecuteTime": {
     "end_time": "2023-05-14T06:46:48.211471Z",
     "start_time": "2023-05-14T06:46:48.195447Z"
    },
    "id": "9f655c2c"
   },
   "outputs": [],
   "source": [
    "#Train data 단위 정보 제거 \n",
    "data_len = int(len(train_data['Name']))\n",
    "# Case 1\n",
    "# 문자와 숫자가 섞여있는 경우 split 시 int형에서 Error 발생하기 때문에 list 형태로 저장하여 문자열로 변환\n",
    "Mileage = list(train_data['Mileage'])\n",
    "Engine = list(train_data['Engine'])\n",
    "\n",
    "for i in range(data_len):\n",
    "    \n",
    "    Mileage[i] = float(str(Mileage[i]).split(' ')[0])\n",
    "    Engine[i] = int(str(Engine[i]).split(' ')[0])\n",
    "#     Power[i] = float(str(Power[i]).split(' ')[0])\n",
    "    \n",
    "# Case 2\n",
    "# 데이터 처리 마다 str을 덮어서 Error 방지\n",
    "# data_len = int(len(train_data['Name']))\n",
    "# Mileage = []\n",
    "# Engine = []\n",
    "# Power = []\n",
    "# for i in range(data_len):\n",
    "    \n",
    "#     Mileage.append(str(train_data['Mileage'][i]).split(' ')[0])\n",
    "#     Engine.append(str(train_data['Engine'][i]).split(' ')[0])\n",
    "#     Power.append(str(train_data['Power'][i]).split(' ')[0])\n",
    "\n",
    "train_data['Mileage'] = Mileage\n",
    "train_data['Engine'] = Engine\n"
   ]
  },
  {
   "cell_type": "code",
   "execution_count": 18,
   "id": "931fba5d",
   "metadata": {
    "ExecuteTime": {
     "end_time": "2023-05-14T06:46:48.219480Z",
     "start_time": "2023-05-14T06:46:48.211471Z"
    },
    "id": "931fba5d"
   },
   "outputs": [],
   "source": [
    "#Train data 단위 정보 제거 \n",
    "data_len = int(len(test_data['Name']))\n",
    "# Case 1\n",
    "# 문자와 숫자가 섞여있는 경우 split 시 int형에서 Error 발생하기 때문에 list 형태로 저장하여 문자열로 변환\n",
    "Mileage = list(test_data['Mileage'])\n",
    "Engine = list(test_data['Engine'])\n",
    "\n",
    "for i in range(data_len):\n",
    "    \n",
    "    Mileage[i] = float(str(Mileage[i]).split(' ')[0])\n",
    "    Engine[i] = int(str(Engine[i]).split(' ')[0])\n",
    "    \n",
    "test_data['Mileage'] = Mileage\n",
    "test_data['Engine'] = Engine\n",
    "\n"
   ]
  },
  {
   "cell_type": "code",
   "execution_count": 19,
   "id": "adf53c8e",
   "metadata": {
    "ExecuteTime": {
     "end_time": "2023-05-14T06:46:48.235497Z",
     "start_time": "2023-05-14T06:46:48.219480Z"
    },
    "id": "adf53c8e"
   },
   "outputs": [
    {
     "name": "stdout",
     "output_type": "stream",
     "text": [
      "<class 'pandas.core.frame.DataFrame'>\n",
      "RangeIndex: 6019 entries, 0 to 6018\n",
      "Data columns (total 12 columns):\n",
      " #   Column             Non-Null Count  Dtype  \n",
      "---  ------             --------------  -----  \n",
      " 0   Name               6019 non-null   object \n",
      " 1   Location           6019 non-null   object \n",
      " 2   Year               6019 non-null   int64  \n",
      " 3   Kilometers_Driven  6019 non-null   int64  \n",
      " 4   Fuel_Type          6019 non-null   object \n",
      " 5   Transmission       6019 non-null   object \n",
      " 6   Owner_Type         6019 non-null   object \n",
      " 7   Mileage            6019 non-null   float64\n",
      " 8   Engine             6019 non-null   int64  \n",
      " 9   Power              6019 non-null   float64\n",
      " 10  Seats              6019 non-null   float64\n",
      " 11  Price              6019 non-null   float64\n",
      "dtypes: float64(4), int64(3), object(5)\n",
      "memory usage: 564.4+ KB\n"
     ]
    }
   ],
   "source": [
    "train_data.info()"
   ]
  },
  {
   "cell_type": "code",
   "execution_count": 20,
   "id": "9cf90f27",
   "metadata": {
    "ExecuteTime": {
     "end_time": "2023-05-14T06:46:48.243540Z",
     "start_time": "2023-05-14T06:46:48.235497Z"
    },
    "id": "9cf90f27"
   },
   "outputs": [
    {
     "name": "stdout",
     "output_type": "stream",
     "text": [
      "<class 'pandas.core.frame.DataFrame'>\n",
      "RangeIndex: 1234 entries, 0 to 1233\n",
      "Data columns (total 11 columns):\n",
      " #   Column             Non-Null Count  Dtype  \n",
      "---  ------             --------------  -----  \n",
      " 0   Name               1234 non-null   object \n",
      " 1   Location           1234 non-null   object \n",
      " 2   Year               1234 non-null   int64  \n",
      " 3   Kilometers_Driven  1234 non-null   int64  \n",
      " 4   Fuel_Type          1234 non-null   object \n",
      " 5   Transmission       1234 non-null   object \n",
      " 6   Owner_Type         1234 non-null   object \n",
      " 7   Mileage            1234 non-null   float64\n",
      " 8   Engine             1234 non-null   int64  \n",
      " 9   Power              1234 non-null   float64\n",
      " 10  Seats              1234 non-null   float64\n",
      "dtypes: float64(3), int64(3), object(5)\n",
      "memory usage: 106.2+ KB\n"
     ]
    }
   ],
   "source": [
    "test_data.info()"
   ]
  },
  {
   "cell_type": "code",
   "execution_count": 21,
   "id": "3bf88467",
   "metadata": {
    "ExecuteTime": {
     "end_time": "2023-05-14T06:46:48.267776Z",
     "start_time": "2023-05-14T06:46:48.243540Z"
    },
    "id": "3bf88467"
   },
   "outputs": [
    {
     "data": {
      "text/html": [
       "<div>\n",
       "<style scoped>\n",
       "    .dataframe tbody tr th:only-of-type {\n",
       "        vertical-align: middle;\n",
       "    }\n",
       "\n",
       "    .dataframe tbody tr th {\n",
       "        vertical-align: top;\n",
       "    }\n",
       "\n",
       "    .dataframe thead th {\n",
       "        text-align: right;\n",
       "    }\n",
       "</style>\n",
       "<table border=\"1\" class=\"dataframe\">\n",
       "  <thead>\n",
       "    <tr style=\"text-align: right;\">\n",
       "      <th></th>\n",
       "      <th>Year</th>\n",
       "      <th>Kilometers_Driven</th>\n",
       "      <th>Mileage</th>\n",
       "      <th>Engine</th>\n",
       "      <th>Power</th>\n",
       "      <th>Seats</th>\n",
       "      <th>Price</th>\n",
       "    </tr>\n",
       "  </thead>\n",
       "  <tbody>\n",
       "    <tr>\n",
       "      <th>count</th>\n",
       "      <td>6019.000000</td>\n",
       "      <td>6.019000e+03</td>\n",
       "      <td>6019.000000</td>\n",
       "      <td>6019.000000</td>\n",
       "      <td>6019.000000</td>\n",
       "      <td>6019.000000</td>\n",
       "      <td>6019.000000</td>\n",
       "    </tr>\n",
       "    <tr>\n",
       "      <th>mean</th>\n",
       "      <td>2013.358199</td>\n",
       "      <td>5.873838e+04</td>\n",
       "      <td>18.128935</td>\n",
       "      <td>1611.579498</td>\n",
       "      <td>110.562372</td>\n",
       "      <td>5.241901</td>\n",
       "      <td>9.479468</td>\n",
       "    </tr>\n",
       "    <tr>\n",
       "      <th>std</th>\n",
       "      <td>3.269742</td>\n",
       "      <td>9.126884e+04</td>\n",
       "      <td>4.593436</td>\n",
       "      <td>612.449869</td>\n",
       "      <td>55.956041</td>\n",
       "      <td>0.918025</td>\n",
       "      <td>11.187917</td>\n",
       "    </tr>\n",
       "    <tr>\n",
       "      <th>min</th>\n",
       "      <td>1998.000000</td>\n",
       "      <td>1.710000e+02</td>\n",
       "      <td>0.000000</td>\n",
       "      <td>0.000000</td>\n",
       "      <td>0.000000</td>\n",
       "      <td>0.000000</td>\n",
       "      <td>0.440000</td>\n",
       "    </tr>\n",
       "    <tr>\n",
       "      <th>25%</th>\n",
       "      <td>2011.000000</td>\n",
       "      <td>3.400000e+04</td>\n",
       "      <td>15.160000</td>\n",
       "      <td>1197.000000</td>\n",
       "      <td>74.000000</td>\n",
       "      <td>5.000000</td>\n",
       "      <td>3.500000</td>\n",
       "    </tr>\n",
       "    <tr>\n",
       "      <th>50%</th>\n",
       "      <td>2014.000000</td>\n",
       "      <td>5.300000e+04</td>\n",
       "      <td>18.150000</td>\n",
       "      <td>1493.000000</td>\n",
       "      <td>91.100000</td>\n",
       "      <td>5.000000</td>\n",
       "      <td>5.640000</td>\n",
       "    </tr>\n",
       "    <tr>\n",
       "      <th>75%</th>\n",
       "      <td>2016.000000</td>\n",
       "      <td>7.300000e+04</td>\n",
       "      <td>21.100000</td>\n",
       "      <td>1969.000000</td>\n",
       "      <td>138.030000</td>\n",
       "      <td>5.000000</td>\n",
       "      <td>9.950000</td>\n",
       "    </tr>\n",
       "    <tr>\n",
       "      <th>max</th>\n",
       "      <td>2019.000000</td>\n",
       "      <td>6.500000e+06</td>\n",
       "      <td>33.540000</td>\n",
       "      <td>5998.000000</td>\n",
       "      <td>560.000000</td>\n",
       "      <td>10.000000</td>\n",
       "      <td>160.000000</td>\n",
       "    </tr>\n",
       "  </tbody>\n",
       "</table>\n",
       "</div>"
      ],
      "text/plain": [
       "              Year  Kilometers_Driven      Mileage       Engine        Power  \\\n",
       "count  6019.000000       6.019000e+03  6019.000000  6019.000000  6019.000000   \n",
       "mean   2013.358199       5.873838e+04    18.128935  1611.579498   110.562372   \n",
       "std       3.269742       9.126884e+04     4.593436   612.449869    55.956041   \n",
       "min    1998.000000       1.710000e+02     0.000000     0.000000     0.000000   \n",
       "25%    2011.000000       3.400000e+04    15.160000  1197.000000    74.000000   \n",
       "50%    2014.000000       5.300000e+04    18.150000  1493.000000    91.100000   \n",
       "75%    2016.000000       7.300000e+04    21.100000  1969.000000   138.030000   \n",
       "max    2019.000000       6.500000e+06    33.540000  5998.000000   560.000000   \n",
       "\n",
       "             Seats        Price  \n",
       "count  6019.000000  6019.000000  \n",
       "mean      5.241901     9.479468  \n",
       "std       0.918025    11.187917  \n",
       "min       0.000000     0.440000  \n",
       "25%       5.000000     3.500000  \n",
       "50%       5.000000     5.640000  \n",
       "75%       5.000000     9.950000  \n",
       "max      10.000000   160.000000  "
      ]
     },
     "execution_count": 21,
     "metadata": {},
     "output_type": "execute_result"
    }
   ],
   "source": [
    "train_data.describe()"
   ]
  },
  {
   "cell_type": "code",
   "execution_count": 22,
   "id": "3bcd1bac",
   "metadata": {
    "ExecuteTime": {
     "end_time": "2023-05-14T06:46:48.372475Z",
     "start_time": "2023-05-14T06:46:48.267776Z"
    },
    "id": "3bcd1bac",
    "scrolled": true
   },
   "outputs": [
    {
     "data": {
      "text/plain": [
       "{'whiskers': [<matplotlib.lines.Line2D at 0x1e625350280>,\n",
       "  <matplotlib.lines.Line2D at 0x1e625350520>],\n",
       " 'caps': [<matplotlib.lines.Line2D at 0x1e6253507c0>,\n",
       "  <matplotlib.lines.Line2D at 0x1e625350a60>],\n",
       " 'boxes': [<matplotlib.lines.Line2D at 0x1e6253b8fa0>],\n",
       " 'medians': [<matplotlib.lines.Line2D at 0x1e625350d00>],\n",
       " 'fliers': [<matplotlib.lines.Line2D at 0x1e625350fa0>],\n",
       " 'means': []}"
      ]
     },
     "execution_count": 22,
     "metadata": {},
     "output_type": "execute_result"
    },
    {
     "data": {
      "image/png": "[encoded data removed]",
      "text/plain": [
       "<Figure size 1000x1000 with 1 Axes>"
      ]
     },
     "metadata": {},
     "output_type": "display_data"
    }
   ],
   "source": [
    "plt.figure(figsize=(10,10))\n",
    "plt.boxplot(train_data['Kilometers_Driven'])"
   ]
  },
  {
   "cell_type": "code",
   "execution_count": 23,
   "id": "02594e0f",
   "metadata": {
    "ExecuteTime": {
     "end_time": "2023-05-14T06:46:48.388957Z",
     "start_time": "2023-05-14T06:46:48.372475Z"
    },
    "id": "02594e0f"
   },
   "outputs": [
    {
     "data": {
      "text/html": [
       "<div>\n",
       "<style scoped>\n",
       "    .dataframe tbody tr th:only-of-type {\n",
       "        vertical-align: middle;\n",
       "    }\n",
       "\n",
       "    .dataframe tbody tr th {\n",
       "        vertical-align: top;\n",
       "    }\n",
       "\n",
       "    .dataframe thead th {\n",
       "        text-align: right;\n",
       "    }\n",
       "</style>\n",
       "<table border=\"1\" class=\"dataframe\">\n",
       "  <thead>\n",
       "    <tr style=\"text-align: right;\">\n",
       "      <th></th>\n",
       "      <th>Name</th>\n",
       "      <th>Location</th>\n",
       "      <th>Year</th>\n",
       "      <th>Kilometers_Driven</th>\n",
       "      <th>Fuel_Type</th>\n",
       "      <th>Transmission</th>\n",
       "      <th>Owner_Type</th>\n",
       "      <th>Mileage</th>\n",
       "      <th>Engine</th>\n",
       "      <th>Power</th>\n",
       "      <th>Seats</th>\n",
       "      <th>Price</th>\n",
       "    </tr>\n",
       "  </thead>\n",
       "  <tbody>\n",
       "    <tr>\n",
       "      <th>2328</th>\n",
       "      <td>BMW X5 xDrive 30d M Sport</td>\n",
       "      <td>Chennai</td>\n",
       "      <td>2017</td>\n",
       "      <td>6500000</td>\n",
       "      <td>Diesel</td>\n",
       "      <td>Automatic</td>\n",
       "      <td>First</td>\n",
       "      <td>15.97</td>\n",
       "      <td>2993</td>\n",
       "      <td>258.0</td>\n",
       "      <td>5.0</td>\n",
       "      <td>65.0</td>\n",
       "    </tr>\n",
       "  </tbody>\n",
       "</table>\n",
       "</div>"
      ],
      "text/plain": [
       "                           Name Location  Year  Kilometers_Driven Fuel_Type  \\\n",
       "2328  BMW X5 xDrive 30d M Sport  Chennai  2017            6500000    Diesel   \n",
       "\n",
       "     Transmission Owner_Type  Mileage  Engine  Power  Seats  Price  \n",
       "2328    Automatic      First    15.97    2993  258.0    5.0   65.0  "
      ]
     },
     "execution_count": 23,
     "metadata": {},
     "output_type": "execute_result"
    }
   ],
   "source": [
    "train_data[train_data['Kilometers_Driven']>6000000]"
   ]
  },
  {
   "cell_type": "code",
   "execution_count": 24,
   "id": "c36b4a39",
   "metadata": {
    "ExecuteTime": {
     "end_time": "2023-05-14T06:46:48.397449Z",
     "start_time": "2023-05-14T06:46:48.388957Z"
    },
    "id": "c36b4a39"
   },
   "outputs": [
    {
     "name": "stderr",
     "output_type": "stream",
     "text": [
      "C:\\Users\\ahneunjeong\\AppData\\Local\\Temp\\ipykernel_15156\\673183792.py:2: SettingWithCopyWarning: \n",
      "A value is trying to be set on a copy of a slice from a DataFrame\n",
      "\n",
      "See the caveats in the documentation: https://pandas.pydata.org/pandas-docs/stable/user_guide/indexing.html#returning-a-view-versus-a-copy\n",
      "  train_data['Kilometers_Driven'][2328] = int(train_data['Kilometers_Driven'].mean())\n"
     ]
    }
   ],
   "source": [
    "# 이상치 데이터 평균 값으로 대체\n",
    "train_data['Kilometers_Driven'][2328] = int(train_data['Kilometers_Driven'].mean())"
   ]
  },
  {
   "cell_type": "code",
   "execution_count": 25,
   "id": "07e8e851",
   "metadata": {
    "ExecuteTime": {
     "end_time": "2023-05-14T06:46:48.405704Z",
     "start_time": "2023-05-14T06:46:48.397449Z"
    },
    "id": "07e8e851"
   },
   "outputs": [
    {
     "data": {
      "text/plain": [
       "58738"
      ]
     },
     "execution_count": 25,
     "metadata": {},
     "output_type": "execute_result"
    }
   ],
   "source": [
    "train_data['Kilometers_Driven'][2328] "
   ]
  },
  {
   "cell_type": "code",
   "execution_count": 26,
   "id": "e75c6086",
   "metadata": {
    "ExecuteTime": {
     "end_time": "2023-05-14T06:46:48.502313Z",
     "start_time": "2023-05-14T06:46:48.405704Z"
    },
    "id": "e75c6086"
   },
   "outputs": [
    {
     "data": {
      "text/plain": [
       "{'whiskers': [<matplotlib.lines.Line2D at 0x1e6263c1130>,\n",
       "  <matplotlib.lines.Line2D at 0x1e6263c13d0>],\n",
       " 'caps': [<matplotlib.lines.Line2D at 0x1e6263c1670>,\n",
       "  <matplotlib.lines.Line2D at 0x1e6263c1910>],\n",
       " 'boxes': [<matplotlib.lines.Line2D at 0x1e6263b0e50>],\n",
       " 'medians': [<matplotlib.lines.Line2D at 0x1e6263c1bb0>],\n",
       " 'fliers': [<matplotlib.lines.Line2D at 0x1e6263c1e50>],\n",
       " 'means': []}"
      ]
     },
     "execution_count": 26,
     "metadata": {},
     "output_type": "execute_result"
    },
    {
     "data": {
      "image/png": "[encoded data removed]",
      "text/plain": [
       "<Figure size 1000x1000 with 1 Axes>"
      ]
     },
     "metadata": {},
     "output_type": "display_data"
    }
   ],
   "source": [
    "plt.figure(figsize=(10,10))\n",
    "plt.boxplot(train_data['Kilometers_Driven'])"
   ]
  },
  {
   "cell_type": "code",
   "execution_count": 27,
   "id": "7f650ba5",
   "metadata": {
    "ExecuteTime": {
     "end_time": "2023-05-14T06:46:48.510635Z",
     "start_time": "2023-05-14T06:46:48.502313Z"
    },
    "id": "7f650ba5"
   },
   "outputs": [
    {
     "data": {
      "text/html": [
       "<div>\n",
       "<style scoped>\n",
       "    .dataframe tbody tr th:only-of-type {\n",
       "        vertical-align: middle;\n",
       "    }\n",
       "\n",
       "    .dataframe tbody tr th {\n",
       "        vertical-align: top;\n",
       "    }\n",
       "\n",
       "    .dataframe thead th {\n",
       "        text-align: right;\n",
       "    }\n",
       "</style>\n",
       "<table border=\"1\" class=\"dataframe\">\n",
       "  <thead>\n",
       "    <tr style=\"text-align: right;\">\n",
       "      <th></th>\n",
       "      <th>Name</th>\n",
       "      <th>Location</th>\n",
       "      <th>Year</th>\n",
       "      <th>Kilometers_Driven</th>\n",
       "      <th>Fuel_Type</th>\n",
       "      <th>Transmission</th>\n",
       "      <th>Owner_Type</th>\n",
       "      <th>Mileage</th>\n",
       "      <th>Engine</th>\n",
       "      <th>Power</th>\n",
       "      <th>Seats</th>\n",
       "      <th>Price</th>\n",
       "    </tr>\n",
       "  </thead>\n",
       "  <tbody>\n",
       "  </tbody>\n",
       "</table>\n",
       "</div>"
      ],
      "text/plain": [
       "Empty DataFrame\n",
       "Columns: [Name, Location, Year, Kilometers_Driven, Fuel_Type, Transmission, Owner_Type, Mileage, Engine, Power, Seats, Price]\n",
       "Index: []"
      ]
     },
     "execution_count": 27,
     "metadata": {},
     "output_type": "execute_result"
    }
   ],
   "source": [
    "# 0인데이터가 없으므로 Pass\n",
    "train_data[train_data['Kilometers_Driven']==0]"
   ]
  },
  {
   "cell_type": "code",
   "execution_count": 28,
   "id": "effcb0cb",
   "metadata": {
    "ExecuteTime": {
     "end_time": "2023-05-14T06:46:48.596944Z",
     "start_time": "2023-05-14T06:46:48.510635Z"
    },
    "id": "effcb0cb"
   },
   "outputs": [
    {
     "data": {
      "text/plain": [
       "{'whiskers': [<matplotlib.lines.Line2D at 0x1e6266fb5b0>,\n",
       "  <matplotlib.lines.Line2D at 0x1e6266fb850>],\n",
       " 'caps': [<matplotlib.lines.Line2D at 0x1e6266fbaf0>,\n",
       "  <matplotlib.lines.Line2D at 0x1e6266fbd90>],\n",
       " 'boxes': [<matplotlib.lines.Line2D at 0x1e6266fb310>],\n",
       " 'medians': [<matplotlib.lines.Line2D at 0x1e626709070>],\n",
       " 'fliers': [<matplotlib.lines.Line2D at 0x1e626709310>],\n",
       " 'means': []}"
      ]
     },
     "execution_count": 28,
     "metadata": {},
     "output_type": "execute_result"
    },
    {
     "data": {
      "image/png": "[encoded data removed]",
      "text/plain": [
       "<Figure size 1000x1000 with 1 Axes>"
      ]
     },
     "metadata": {},
     "output_type": "display_data"
    }
   ],
   "source": [
    "plt.figure(figsize=(10,10))\n",
    "plt.boxplot(train_data['Mileage'])"
   ]
  },
  {
   "cell_type": "code",
   "execution_count": 29,
   "id": "2213517e",
   "metadata": {
    "ExecuteTime": {
     "end_time": "2023-05-14T06:46:48.605246Z",
     "start_time": "2023-05-14T06:46:48.596944Z"
    },
    "id": "2213517e"
   },
   "outputs": [],
   "source": [
    "# mileage 0인 차량 리스트\n",
    "Mileage_zero_list = list(train_data[train_data['Mileage']==0]['Name'])"
   ]
  },
  {
   "cell_type": "code",
   "execution_count": 30,
   "id": "bf9db452",
   "metadata": {
    "ExecuteTime": {
     "end_time": "2023-05-14T06:46:48.613300Z",
     "start_time": "2023-05-14T06:46:48.605246Z"
    },
    "id": "bf9db452"
   },
   "outputs": [
    {
     "data": {
      "text/plain": [
       "['Land Rover Freelander 2 TD4 SE',\n",
       " 'Mercedes-Benz C-Class Progressive C 220d',\n",
       " 'Hyundai Santro Xing XL',\n",
       " 'Honda City 1.5 GXI',\n",
       " 'Ford Figo Diesel',\n",
       " 'Hyundai Santro Xing XL',\n",
       " 'Hyundai Santro Xing XL',\n",
       " 'Volkswagen Jetta 2007-2011 1.9 L TDI',\n",
       " 'Hyundai Santro GLS I - Euro I',\n",
       " 'Mercedes-Benz New C-Class Progressive C 200',\n",
       " 'Hyundai Santro LS zipPlus',\n",
       " 'Hyundai Santro Xing XP',\n",
       " 'Mercedes-Benz M-Class ML 350 4Matic',\n",
       " 'Land Rover Range Rover 3.0 D',\n",
       " 'Smart Fortwo CDI AT',\n",
       " 'Mercedes-Benz C-Class Progressive C 220d',\n",
       " 'Hyundai Santro Xing GL',\n",
       " 'Hyundai Santro Xing GL',\n",
       " 'Land Rover Freelander 2 TD4 S',\n",
       " 'Hyundai Santro GLS I - Euro II',\n",
       " 'Mercedes-Benz M-Class ML 350 4Matic',\n",
       " 'Maruti Baleno Vxi',\n",
       " 'Hyundai Santro Xing GL',\n",
       " 'Honda City 1.5 GXI',\n",
       " 'Hyundai Santro Xing XL',\n",
       " 'Land Rover Range Rover Sport 2005 2012 Sport',\n",
       " 'Mercedes-Benz M-Class ML 350 4Matic',\n",
       " 'Hyundai Santro DX',\n",
       " 'Mahindra Jeep MM 550 PE',\n",
       " 'Hyundai Santro LP zipPlus',\n",
       " 'Hyundai Santro GLS I - Euro II',\n",
       " 'Toyota Qualis RS E2',\n",
       " 'Hyundai Santro AT',\n",
       " 'Hyundai Santro GLS II - Euro II',\n",
       " 'Hyundai Santro Xing XP',\n",
       " 'Skoda Superb 3.6 V6 FSI',\n",
       " 'Hyundai Santro GLS II - Euro II',\n",
       " 'Hyundai Santro GLS II - Euro II',\n",
       " 'Hyundai Santro Xing XP',\n",
       " 'Hyundai Santro Xing GL',\n",
       " 'Hyundai Santro GS',\n",
       " 'Audi A7 2011-2015 Sportback',\n",
       " 'Hyundai Santro GS zipDrive - Euro II',\n",
       " 'Mercedes-Benz M-Class ML 350 4Matic',\n",
       " 'Hyundai Santro Xing GL',\n",
       " 'Hyundai Santro GLS I - Euro I',\n",
       " 'Hyundai Santro GLS II - Euro II',\n",
       " 'Hyundai Santro Xing XP',\n",
       " 'Land Rover Range Rover 3.0 D',\n",
       " 'Mercedes-Benz M-Class ML 350 4Matic',\n",
       " 'Hyundai Santro Xing GL',\n",
       " 'Mercedes-Benz M-Class ML 350 4Matic',\n",
       " 'Mahindra E Verito D4',\n",
       " 'Fiat Siena 1.2 ELX',\n",
       " 'Land Rover Freelander 2 TD4 SE',\n",
       " 'Mercedes-Benz M-Class ML 350 4Matic',\n",
       " 'Toyota Prius 2009-2016 Z4',\n",
       " 'Land Rover Freelander 2 TD4 HSE',\n",
       " 'Land Rover Freelander 2 TD4 SE',\n",
       " 'Hyundai Santro Xing XP',\n",
       " 'Honda City 1.5 GXI',\n",
       " 'Land Rover Freelander 2 TD4 SE',\n",
       " 'Mercedes-Benz M-Class ML 350 4Matic',\n",
       " 'Hyundai Santro Xing XL',\n",
       " 'Hyundai Santro LP - Euro II',\n",
       " 'Toyota Qualis Fleet A3',\n",
       " 'Mercedes-Benz C-Class Progressive C 220d',\n",
       " 'Mahindra Jeep MM 540 DP',\n",
       " 'Hyundai Santro Xing GL',\n",
       " 'Skoda Superb 3.6 V6 FSI']"
      ]
     },
     "execution_count": 30,
     "metadata": {},
     "output_type": "execute_result"
    }
   ],
   "source": [
    "Mileage_zero_list"
   ]
  },
  {
   "cell_type": "code",
   "execution_count": 31,
   "id": "d7bb7630",
   "metadata": {
    "ExecuteTime": {
     "end_time": "2023-05-14T06:46:48.654939Z",
     "start_time": "2023-05-14T06:46:48.613300Z"
    },
    "id": "d7bb7630"
   },
   "outputs": [],
   "source": [
    "find_not_zero_name = []\n",
    "for car_name in Mileage_zero_list:\n",
    "    if train_data[train_data['Name'] == car_name]['Mileage'].sum() > 0:\n",
    "        find_not_zero_name.append(car_name)"
   ]
  },
  {
   "cell_type": "code",
   "execution_count": 32,
   "id": "29d0adff",
   "metadata": {
    "ExecuteTime": {
     "end_time": "2023-05-14T06:46:48.663440Z",
     "start_time": "2023-05-14T06:46:48.656429Z"
    },
    "id": "29d0adff"
   },
   "outputs": [
    {
     "data": {
      "text/plain": [
       "['Honda City 1.5 GXI', 'Honda City 1.5 GXI', 'Honda City 1.5 GXI']"
      ]
     },
     "execution_count": 32,
     "metadata": {},
     "output_type": "execute_result"
    }
   ],
   "source": [
    "find_not_zero_name"
   ]
  },
  {
   "cell_type": "code",
   "execution_count": 33,
   "id": "aae37428",
   "metadata": {
    "ExecuteTime": {
     "end_time": "2023-05-14T06:46:48.689193Z",
     "start_time": "2023-05-14T06:46:48.663440Z"
    },
    "id": "aae37428"
   },
   "outputs": [
    {
     "data": {
      "text/html": [
       "<div>\n",
       "<style scoped>\n",
       "    .dataframe tbody tr th:only-of-type {\n",
       "        vertical-align: middle;\n",
       "    }\n",
       "\n",
       "    .dataframe tbody tr th {\n",
       "        vertical-align: top;\n",
       "    }\n",
       "\n",
       "    .dataframe thead th {\n",
       "        text-align: right;\n",
       "    }\n",
       "</style>\n",
       "<table border=\"1\" class=\"dataframe\">\n",
       "  <thead>\n",
       "    <tr style=\"text-align: right;\">\n",
       "      <th></th>\n",
       "      <th>Name</th>\n",
       "      <th>Location</th>\n",
       "      <th>Year</th>\n",
       "      <th>Kilometers_Driven</th>\n",
       "      <th>Fuel_Type</th>\n",
       "      <th>Transmission</th>\n",
       "      <th>Owner_Type</th>\n",
       "      <th>Mileage</th>\n",
       "      <th>Engine</th>\n",
       "      <th>Power</th>\n",
       "      <th>Seats</th>\n",
       "      <th>Price</th>\n",
       "    </tr>\n",
       "  </thead>\n",
       "  <tbody>\n",
       "    <tr>\n",
       "      <th>194</th>\n",
       "      <td>Honda City 1.5 GXI</td>\n",
       "      <td>Ahmedabad</td>\n",
       "      <td>2007</td>\n",
       "      <td>60006</td>\n",
       "      <td>Petrol</td>\n",
       "      <td>Manual</td>\n",
       "      <td>First</td>\n",
       "      <td>0.0</td>\n",
       "      <td>0</td>\n",
       "      <td>0.0</td>\n",
       "      <td>0.0</td>\n",
       "      <td>2.95</td>\n",
       "    </tr>\n",
       "    <tr>\n",
       "      <th>1385</th>\n",
       "      <td>Honda City 1.5 GXI</td>\n",
       "      <td>Pune</td>\n",
       "      <td>2004</td>\n",
       "      <td>115000</td>\n",
       "      <td>Petrol</td>\n",
       "      <td>Manual</td>\n",
       "      <td>Second</td>\n",
       "      <td>0.0</td>\n",
       "      <td>0</td>\n",
       "      <td>0.0</td>\n",
       "      <td>0.0</td>\n",
       "      <td>1.50</td>\n",
       "    </tr>\n",
       "    <tr>\n",
       "      <th>3305</th>\n",
       "      <td>Honda City 1.5 GXI</td>\n",
       "      <td>Jaipur</td>\n",
       "      <td>2007</td>\n",
       "      <td>75055</td>\n",
       "      <td>Petrol</td>\n",
       "      <td>Manual</td>\n",
       "      <td>First</td>\n",
       "      <td>12.8</td>\n",
       "      <td>1493</td>\n",
       "      <td>100.0</td>\n",
       "      <td>5.0</td>\n",
       "      <td>2.30</td>\n",
       "    </tr>\n",
       "    <tr>\n",
       "      <th>4767</th>\n",
       "      <td>Honda City 1.5 GXI</td>\n",
       "      <td>Mumbai</td>\n",
       "      <td>2005</td>\n",
       "      <td>81000</td>\n",
       "      <td>Petrol</td>\n",
       "      <td>Manual</td>\n",
       "      <td>Second</td>\n",
       "      <td>12.8</td>\n",
       "      <td>1493</td>\n",
       "      <td>100.0</td>\n",
       "      <td>5.0</td>\n",
       "      <td>1.10</td>\n",
       "    </tr>\n",
       "    <tr>\n",
       "      <th>5270</th>\n",
       "      <td>Honda City 1.5 GXI</td>\n",
       "      <td>Bangalore</td>\n",
       "      <td>2002</td>\n",
       "      <td>53000</td>\n",
       "      <td>Petrol</td>\n",
       "      <td>Manual</td>\n",
       "      <td>Second</td>\n",
       "      <td>0.0</td>\n",
       "      <td>0</td>\n",
       "      <td>0.0</td>\n",
       "      <td>0.0</td>\n",
       "      <td>1.85</td>\n",
       "    </tr>\n",
       "  </tbody>\n",
       "</table>\n",
       "</div>"
      ],
      "text/plain": [
       "                    Name   Location  Year  Kilometers_Driven Fuel_Type  \\\n",
       "194   Honda City 1.5 GXI  Ahmedabad  2007              60006    Petrol   \n",
       "1385  Honda City 1.5 GXI       Pune  2004             115000    Petrol   \n",
       "3305  Honda City 1.5 GXI     Jaipur  2007              75055    Petrol   \n",
       "4767  Honda City 1.5 GXI     Mumbai  2005              81000    Petrol   \n",
       "5270  Honda City 1.5 GXI  Bangalore  2002              53000    Petrol   \n",
       "\n",
       "     Transmission Owner_Type  Mileage  Engine  Power  Seats  Price  \n",
       "194        Manual      First      0.0       0    0.0    0.0   2.95  \n",
       "1385       Manual     Second      0.0       0    0.0    0.0   1.50  \n",
       "3305       Manual      First     12.8    1493  100.0    5.0   2.30  \n",
       "4767       Manual     Second     12.8    1493  100.0    5.0   1.10  \n",
       "5270       Manual     Second      0.0       0    0.0    0.0   1.85  "
      ]
     },
     "execution_count": 33,
     "metadata": {},
     "output_type": "execute_result"
    }
   ],
   "source": [
    "train_data[train_data['Name']=='Honda City 1.5 GXI']"
   ]
  },
  {
   "cell_type": "code",
   "execution_count": 34,
   "id": "185fedac",
   "metadata": {
    "ExecuteTime": {
     "end_time": "2023-05-14T06:46:48.697465Z",
     "start_time": "2023-05-14T06:46:48.689193Z"
    },
    "id": "185fedac"
   },
   "outputs": [],
   "source": [
    "replace_data_list = train_data[train_data['Name']=='Honda City 1.5 GXI'].index"
   ]
  },
  {
   "cell_type": "code",
   "execution_count": 35,
   "id": "104df8f2",
   "metadata": {
    "ExecuteTime": {
     "end_time": "2023-05-14T06:46:48.705532Z",
     "start_time": "2023-05-14T06:46:48.697465Z"
    },
    "id": "104df8f2"
   },
   "outputs": [
    {
     "name": "stderr",
     "output_type": "stream",
     "text": [
      "C:\\Users\\ahneunjeong\\AppData\\Local\\Temp\\ipykernel_15156\\3202035234.py:2: SettingWithCopyWarning: \n",
      "A value is trying to be set on a copy of a slice from a DataFrame\n",
      "\n",
      "See the caveats in the documentation: https://pandas.pydata.org/pandas-docs/stable/user_guide/indexing.html#returning-a-view-versus-a-copy\n",
      "  train_data['Mileage'][replace_data_list] = 12.8\n",
      "C:\\Users\\ahneunjeong\\AppData\\Local\\Temp\\ipykernel_15156\\3202035234.py:3: SettingWithCopyWarning: \n",
      "A value is trying to be set on a copy of a slice from a DataFrame\n",
      "\n",
      "See the caveats in the documentation: https://pandas.pydata.org/pandas-docs/stable/user_guide/indexing.html#returning-a-view-versus-a-copy\n",
      "  train_data['Engine'][replace_data_list] = 1493\n",
      "C:\\Users\\ahneunjeong\\AppData\\Local\\Temp\\ipykernel_15156\\3202035234.py:4: SettingWithCopyWarning: \n",
      "A value is trying to be set on a copy of a slice from a DataFrame\n",
      "\n",
      "See the caveats in the documentation: https://pandas.pydata.org/pandas-docs/stable/user_guide/indexing.html#returning-a-view-versus-a-copy\n",
      "  train_data['Power'][replace_data_list] = 100\n",
      "C:\\Users\\ahneunjeong\\AppData\\Local\\Temp\\ipykernel_15156\\3202035234.py:5: SettingWithCopyWarning: \n",
      "A value is trying to be set on a copy of a slice from a DataFrame\n",
      "\n",
      "See the caveats in the documentation: https://pandas.pydata.org/pandas-docs/stable/user_guide/indexing.html#returning-a-view-versus-a-copy\n",
      "  train_data['Seats'][replace_data_list] = 5\n"
     ]
    }
   ],
   "source": [
    "# 동일차량 정보에서 가져올 수 있는 데이터는 가져옴\n",
    "train_data['Mileage'][replace_data_list] = 12.8\n",
    "train_data['Engine'][replace_data_list] = 1493\n",
    "train_data['Power'][replace_data_list] = 100\n",
    "train_data['Seats'][replace_data_list] = 5\n"
   ]
  },
  {
   "cell_type": "code",
   "execution_count": 36,
   "id": "93f6eb4c",
   "metadata": {
    "ExecuteTime": {
     "end_time": "2023-05-14T06:46:48.722518Z",
     "start_time": "2023-05-14T06:46:48.705532Z"
    },
    "id": "93f6eb4c"
   },
   "outputs": [
    {
     "data": {
      "text/html": [
       "<div>\n",
       "<style scoped>\n",
       "    .dataframe tbody tr th:only-of-type {\n",
       "        vertical-align: middle;\n",
       "    }\n",
       "\n",
       "    .dataframe tbody tr th {\n",
       "        vertical-align: top;\n",
       "    }\n",
       "\n",
       "    .dataframe thead th {\n",
       "        text-align: right;\n",
       "    }\n",
       "</style>\n",
       "<table border=\"1\" class=\"dataframe\">\n",
       "  <thead>\n",
       "    <tr style=\"text-align: right;\">\n",
       "      <th></th>\n",
       "      <th>Name</th>\n",
       "      <th>Location</th>\n",
       "      <th>Year</th>\n",
       "      <th>Kilometers_Driven</th>\n",
       "      <th>Fuel_Type</th>\n",
       "      <th>Transmission</th>\n",
       "      <th>Owner_Type</th>\n",
       "      <th>Mileage</th>\n",
       "      <th>Engine</th>\n",
       "      <th>Power</th>\n",
       "      <th>Seats</th>\n",
       "      <th>Price</th>\n",
       "    </tr>\n",
       "  </thead>\n",
       "  <tbody>\n",
       "    <tr>\n",
       "      <th>194</th>\n",
       "      <td>Honda City 1.5 GXI</td>\n",
       "      <td>Ahmedabad</td>\n",
       "      <td>2007</td>\n",
       "      <td>60006</td>\n",
       "      <td>Petrol</td>\n",
       "      <td>Manual</td>\n",
       "      <td>First</td>\n",
       "      <td>12.8</td>\n",
       "      <td>1493</td>\n",
       "      <td>100.0</td>\n",
       "      <td>5.0</td>\n",
       "      <td>2.95</td>\n",
       "    </tr>\n",
       "    <tr>\n",
       "      <th>1385</th>\n",
       "      <td>Honda City 1.5 GXI</td>\n",
       "      <td>Pune</td>\n",
       "      <td>2004</td>\n",
       "      <td>115000</td>\n",
       "      <td>Petrol</td>\n",
       "      <td>Manual</td>\n",
       "      <td>Second</td>\n",
       "      <td>12.8</td>\n",
       "      <td>1493</td>\n",
       "      <td>100.0</td>\n",
       "      <td>5.0</td>\n",
       "      <td>1.50</td>\n",
       "    </tr>\n",
       "    <tr>\n",
       "      <th>3305</th>\n",
       "      <td>Honda City 1.5 GXI</td>\n",
       "      <td>Jaipur</td>\n",
       "      <td>2007</td>\n",
       "      <td>75055</td>\n",
       "      <td>Petrol</td>\n",
       "      <td>Manual</td>\n",
       "      <td>First</td>\n",
       "      <td>12.8</td>\n",
       "      <td>1493</td>\n",
       "      <td>100.0</td>\n",
       "      <td>5.0</td>\n",
       "      <td>2.30</td>\n",
       "    </tr>\n",
       "    <tr>\n",
       "      <th>4767</th>\n",
       "      <td>Honda City 1.5 GXI</td>\n",
       "      <td>Mumbai</td>\n",
       "      <td>2005</td>\n",
       "      <td>81000</td>\n",
       "      <td>Petrol</td>\n",
       "      <td>Manual</td>\n",
       "      <td>Second</td>\n",
       "      <td>12.8</td>\n",
       "      <td>1493</td>\n",
       "      <td>100.0</td>\n",
       "      <td>5.0</td>\n",
       "      <td>1.10</td>\n",
       "    </tr>\n",
       "    <tr>\n",
       "      <th>5270</th>\n",
       "      <td>Honda City 1.5 GXI</td>\n",
       "      <td>Bangalore</td>\n",
       "      <td>2002</td>\n",
       "      <td>53000</td>\n",
       "      <td>Petrol</td>\n",
       "      <td>Manual</td>\n",
       "      <td>Second</td>\n",
       "      <td>12.8</td>\n",
       "      <td>1493</td>\n",
       "      <td>100.0</td>\n",
       "      <td>5.0</td>\n",
       "      <td>1.85</td>\n",
       "    </tr>\n",
       "  </tbody>\n",
       "</table>\n",
       "</div>"
      ],
      "text/plain": [
       "                    Name   Location  Year  Kilometers_Driven Fuel_Type  \\\n",
       "194   Honda City 1.5 GXI  Ahmedabad  2007              60006    Petrol   \n",
       "1385  Honda City 1.5 GXI       Pune  2004             115000    Petrol   \n",
       "3305  Honda City 1.5 GXI     Jaipur  2007              75055    Petrol   \n",
       "4767  Honda City 1.5 GXI     Mumbai  2005              81000    Petrol   \n",
       "5270  Honda City 1.5 GXI  Bangalore  2002              53000    Petrol   \n",
       "\n",
       "     Transmission Owner_Type  Mileage  Engine  Power  Seats  Price  \n",
       "194        Manual      First     12.8    1493  100.0    5.0   2.95  \n",
       "1385       Manual     Second     12.8    1493  100.0    5.0   1.50  \n",
       "3305       Manual      First     12.8    1493  100.0    5.0   2.30  \n",
       "4767       Manual     Second     12.8    1493  100.0    5.0   1.10  \n",
       "5270       Manual     Second     12.8    1493  100.0    5.0   1.85  "
      ]
     },
     "execution_count": 36,
     "metadata": {},
     "output_type": "execute_result"
    }
   ],
   "source": [
    "train_data[train_data['Name']=='Honda City 1.5 GXI']"
   ]
  },
  {
   "cell_type": "code",
   "execution_count": 37,
   "id": "6577e1f2",
   "metadata": {
    "ExecuteTime": {
     "end_time": "2023-05-14T06:46:48.730527Z",
     "start_time": "2023-05-14T06:46:48.724522Z"
    },
    "id": "6577e1f2"
   },
   "outputs": [
    {
     "data": {
      "text/plain": [
       "194     12.8\n",
       "1385    12.8\n",
       "3305    12.8\n",
       "4767    12.8\n",
       "5270    12.8\n",
       "Name: Mileage, dtype: float64"
      ]
     },
     "execution_count": 37,
     "metadata": {},
     "output_type": "execute_result"
    }
   ],
   "source": [
    "train_data['Mileage'][replace_data_list]"
   ]
  },
  {
   "cell_type": "code",
   "execution_count": 38,
   "id": "d861f5fd",
   "metadata": {
    "ExecuteTime": {
     "end_time": "2023-05-14T06:46:48.738530Z",
     "start_time": "2023-05-14T06:46:48.730527Z"
    },
    "id": "d861f5fd"
   },
   "outputs": [],
   "source": [
    "Engine_zero_list = list(train_data[train_data['Engine']==0]['Name'])\n",
    "Power_zero_list = list(train_data[train_data['Power']==0]['Name'])\n",
    "Seats_list = list(train_data[train_data['Seats']==0]['Name'])\n",
    "Price_zero_list = list(train_data[train_data['Price']==0]['Name'])"
   ]
  },
  {
   "cell_type": "code",
   "execution_count": 39,
   "id": "7f360280",
   "metadata": {
    "ExecuteTime": {
     "end_time": "2023-05-14T06:46:48.754491Z",
     "start_time": "2023-05-14T06:46:48.738885Z"
    },
    "id": "7f360280"
   },
   "outputs": [
    {
     "data": {
      "text/plain": [
       "['Maruti Swift 1.3 VXi',\n",
       " 'Maruti Swift 1.3 VXi',\n",
       " 'Land Rover Range Rover 3.0 D',\n",
       " 'Honda City 1.3 DX',\n",
       " 'Maruti Swift 1.3 ZXI',\n",
       " 'Land Rover Range Rover Sport 2005 2012 Sport',\n",
       " 'Maruti Swift 1.3 LXI',\n",
       " 'Hyundai Santro LP zipPlus',\n",
       " 'Toyota Etios Liva V',\n",
       " 'Maruti Swift 1.3 VXI ABS',\n",
       " 'Maruti Swift 1.3 VXi',\n",
       " 'BMW 5 Series 520d Sedan',\n",
       " 'Hyundai Santro GLS II - Euro II',\n",
       " 'BMW 5 Series 520d Sedan',\n",
       " 'Maruti Swift 1.3 VXi',\n",
       " 'Maruti Wagon R Vx',\n",
       " 'Hyundai Santro GLS II - Euro II',\n",
       " 'Hyundai Santro GLS II - Euro II',\n",
       " 'BMW 5 Series 520d Sedan',\n",
       " 'Maruti Swift 1.3 VXi',\n",
       " 'BMW 5 Series 520d Sedan',\n",
       " 'Hyundai Santro GLS II - Euro II',\n",
       " 'Honda CR-V AT With Sun Roof',\n",
       " 'Fiat Punto 1.3 Emotion',\n",
       " 'Land Rover Range Rover 3.0 D',\n",
       " 'Hyundai Santro Xing XG',\n",
       " 'BMW 5 Series 520d Sedan',\n",
       " 'Honda Jazz Select Edition',\n",
       " 'Fiat Punto 1.2 Dynamic',\n",
       " 'Hyundai Santro Xing XG',\n",
       " 'Fiat Punto 1.4 Emotion',\n",
       " 'Maruti Swift 1.3 VXi',\n",
       " 'Maruti Swift 1.3 LXI']"
      ]
     },
     "execution_count": 39,
     "metadata": {},
     "output_type": "execute_result"
    }
   ],
   "source": [
    "Engine_zero_list"
   ]
  },
  {
   "cell_type": "code",
   "execution_count": 40,
   "id": "b0d33798",
   "metadata": {
    "ExecuteTime": {
     "end_time": "2023-05-14T06:46:48.762653Z",
     "start_time": "2023-05-14T06:46:48.755649Z"
    },
    "id": "b0d33798"
   },
   "outputs": [
    {
     "data": {
      "text/plain": [
       "['Ford Fiesta 1.4 SXi TDCi',\n",
       " 'Hyundai Santro Xing XL',\n",
       " 'Hyundai Santro Xing XO',\n",
       " 'Hyundai Santro Xing XL eRLX Euro III',\n",
       " 'Hyundai Santro Xing XO eRLX Euro II',\n",
       " 'Maruti Swift 1.3 VXi',\n",
       " 'Maruti Swift VDI BSIV',\n",
       " 'Hyundai Santro Xing XO eRLX Euro II',\n",
       " 'Hyundai Santro Xing XL',\n",
       " 'Hyundai Santro Xing XL',\n",
       " 'Maruti Swift VDI BSIV',\n",
       " 'Hyundai Santro Xing XL eRLX Euro III',\n",
       " 'Volkswagen Jetta 2007-2011 1.9 L TDI',\n",
       " 'Hyundai Santro Xing XO eRLX Euro II',\n",
       " 'Hyundai Santro GLS I - Euro I',\n",
       " 'Ford Fiesta 1.6 SXI ABS Duratec',\n",
       " 'Hyundai Santro Xing XO',\n",
       " 'Hyundai Santro LS zipPlus',\n",
       " 'Hyundai Santro Xing XP',\n",
       " 'Tata Indica DLS',\n",
       " 'Maruti Swift 1.3 VXi',\n",
       " 'Maruti Swift VDI BSIV',\n",
       " 'Hyundai Santro Xing XO',\n",
       " 'Land Rover Range Rover 3.0 D',\n",
       " 'Toyota Etios Liva G',\n",
       " 'Smart Fortwo CDI AT',\n",
       " 'Porsche Cayman 2009-2012 S',\n",
       " 'Toyota Etios GD',\n",
       " 'Toyota Etios Liva GD',\n",
       " 'Maruti Swift VDI BSIV',\n",
       " 'Hyundai Santro Xing XL eRLX Euro III',\n",
       " 'Hyundai Santro GLS I - Euro II',\n",
       " 'Honda City 1.3 DX',\n",
       " 'Fiat Petra 1.2 EL',\n",
       " 'Maruti Swift 1.3 ZXI',\n",
       " 'Maruti Baleno Vxi',\n",
       " 'Maruti Swift VDI BSIV',\n",
       " 'Hyundai Santro Xing XL',\n",
       " 'Land Rover Range Rover Sport 2005 2012 Sport',\n",
       " 'Chevrolet Optra 1.6 Elite',\n",
       " 'Mahindra Bolero ZLX',\n",
       " 'Toyota Etios Liva GD',\n",
       " 'Nissan Micra Diesel',\n",
       " 'Hyundai Santro DX',\n",
       " 'Mercedes-Benz E-Class 220 CDI',\n",
       " 'Mahindra Jeep MM 550 PE',\n",
       " 'Maruti Swift 1.3 LXI',\n",
       " 'Hyundai Santro LP zipPlus',\n",
       " 'Hyundai Santro GLS I - Euro II',\n",
       " 'Maruti Swift VDI BSIV W ABS',\n",
       " 'Toyota Etios GD',\n",
       " 'Toyota Etios Liva V',\n",
       " 'Toyota Qualis RS E2',\n",
       " 'Porsche Cayman 2009-2012 S tiptronic',\n",
       " 'Maruti Swift 1.3 VXI ABS',\n",
       " 'Maruti Swift 1.3 VXi',\n",
       " 'Hyundai Santro AT',\n",
       " 'Maruti Estilo LXI',\n",
       " 'Toyota Etios GD',\n",
       " 'Toyota Etios Liva G',\n",
       " 'Tata Indica DLS',\n",
       " 'Maruti Swift VDI BSIV',\n",
       " 'Maruti Swift VDI BSIV',\n",
       " 'Hyundai Santro Xing XO CNG',\n",
       " 'BMW 5 Series 520d Sedan',\n",
       " 'Hyundai Santro GLS II - Euro II',\n",
       " 'Hyundai Santro Xing XG eRLX Euro III',\n",
       " 'Hyundai Santro Xing XP',\n",
       " 'BMW 5 Series 520d Sedan',\n",
       " 'Hyundai Santro Xing XG eRLX Euro III',\n",
       " 'Maruti Swift VDI BSIV',\n",
       " 'Maruti Swift 1.3 VXi',\n",
       " 'Maruti Wagon R Vx',\n",
       " 'Hyundai Santro GLS II - Euro II',\n",
       " 'Hyundai Santro GLS II - Euro II',\n",
       " 'Maruti Swift VDI BSIV',\n",
       " 'Hyundai Santro Xing XP',\n",
       " 'Hyundai Santro GS',\n",
       " 'Maruti Swift VDI BSIV',\n",
       " 'Hyundai Santro GS zipDrive - Euro II',\n",
       " 'Toyota Etios GD',\n",
       " 'BMW 5 Series 520d Sedan',\n",
       " 'Ford Fiesta 1.4 SXi TDCi',\n",
       " 'Maruti Swift 1.3 VXi',\n",
       " 'Maruti Swift VDI BSIV W ABS',\n",
       " 'Hyundai Santro GLS I - Euro I',\n",
       " 'BMW 5 Series 520d Sedan',\n",
       " 'Hyundai Santro GLS II - Euro II',\n",
       " 'Nissan Teana 230jM',\n",
       " 'Tata Indica DLS',\n",
       " 'Maruti Swift VDI BSIV W ABS',\n",
       " 'Honda CR-V Sport',\n",
       " 'Hyundai Santro Xing XP',\n",
       " 'Hyundai Santro Xing XO',\n",
       " 'Maruti Esteem Vxi',\n",
       " 'Ford Endeavour Hurricane LE',\n",
       " 'Honda CR-V AT With Sun Roof',\n",
       " 'Maruti Estilo LXI',\n",
       " 'Toyota Etios GD',\n",
       " 'Maruti Swift VDI BSIV W ABS',\n",
       " 'Audi A4 3.2 FSI Tiptronic Quattro',\n",
       " 'Fiat Punto 1.3 Emotion',\n",
       " 'Maruti Baleno LXI - BSIII',\n",
       " 'Toyota Etios Liva GD',\n",
       " 'Land Rover Range Rover 3.0 D',\n",
       " 'Hyundai Santro Xing XG',\n",
       " 'Maruti Esteem LX BSII',\n",
       " 'Toyota Etios Liva GD',\n",
       " 'BMW 5 Series 520d Sedan',\n",
       " 'Honda Jazz Select Edition',\n",
       " 'Fiat Siena 1.2 ELX',\n",
       " 'Fiat Punto 1.2 Dynamic',\n",
       " 'Maruti 1000 AC',\n",
       " 'Hyundai Santro Xing XG',\n",
       " 'Mercedes-Benz E-Class 220 CDI',\n",
       " 'Hyundai Santro Xing XL eRLX Euro III',\n",
       " 'Maruti Esteem Vxi',\n",
       " 'Hyundai Santro Xing XL AT eRLX Euro II',\n",
       " 'Hyundai Santro Xing XL AT eRLX Euro III',\n",
       " 'Fiat Punto 1.4 Emotion',\n",
       " 'Toyota Etios Liva GD',\n",
       " 'Maruti Swift 1.3 VXi',\n",
       " 'Maruti Swift VDI BSIV W ABS',\n",
       " 'Hyundai Santro Xing XP',\n",
       " 'Maruti Swift 1.3 LXI',\n",
       " 'Hyundai Santro Xing XL eRLX Euro III',\n",
       " 'Hyundai Santro Xing XL',\n",
       " 'Ford Endeavour XLT TDCi 4X4',\n",
       " 'Maruti Swift VDI BSIV',\n",
       " 'Hyundai Santro LP - Euro II',\n",
       " 'Hyundai Santro Xing XO eRLX Euro II',\n",
       " 'Toyota Qualis Fleet A3',\n",
       " 'Hyundai Santro Xing XL eRLX Euro III',\n",
       " 'Hyundai Santro Xing XL eRLX Euro III',\n",
       " 'Hyundai Santro Xing XO',\n",
       " 'Hyundai Santro Xing XO eRLX Euro II',\n",
       " 'Maruti Estilo LXI',\n",
       " 'Skoda Laura Classic 1.8 TSI',\n",
       " 'Mahindra Jeep MM 540 DP',\n",
       " 'Toyota Etios GD']"
      ]
     },
     "execution_count": 40,
     "metadata": {},
     "output_type": "execute_result"
    }
   ],
   "source": [
    "Power_zero_list"
   ]
  },
  {
   "cell_type": "code",
   "execution_count": 41,
   "id": "56eaaa40",
   "metadata": {
    "ExecuteTime": {
     "end_time": "2023-05-14T06:46:48.770945Z",
     "start_time": "2023-05-14T06:46:48.762653Z"
    },
    "id": "56eaaa40"
   },
   "outputs": [
    {
     "data": {
      "text/plain": [
       "['Maruti Swift 1.3 VXi',\n",
       " 'Ford Figo Diesel',\n",
       " 'Maruti Swift 1.3 VXi',\n",
       " 'Land Rover Range Rover 3.0 D',\n",
       " 'Honda City 1.3 DX',\n",
       " 'Maruti Swift 1.3 ZXI',\n",
       " 'Land Rover Range Rover Sport 2005 2012 Sport',\n",
       " 'Honda City 1.5 EXI',\n",
       " 'Maruti Swift 1.3 LXI',\n",
       " 'Hyundai Santro LP zipPlus',\n",
       " 'Toyota Etios Liva V',\n",
       " 'Maruti Swift 1.3 VXI ABS',\n",
       " 'Maruti Swift 1.3 VXi',\n",
       " 'Maruti Estilo LXI',\n",
       " 'BMW 5 Series 520d Sedan',\n",
       " 'Hyundai Santro GLS II - Euro II',\n",
       " 'BMW 5 Series 520d Sedan',\n",
       " 'Maruti Swift 1.3 VXi',\n",
       " 'Maruti Wagon R Vx',\n",
       " 'Hyundai Santro GLS II - Euro II',\n",
       " 'Hyundai Santro GLS II - Euro II',\n",
       " 'BMW 5 Series 520d Sedan',\n",
       " 'Maruti Swift 1.3 VXi',\n",
       " 'BMW 5 Series 520d Sedan',\n",
       " 'Hyundai Santro GLS II - Euro II',\n",
       " 'Ford Endeavour Hurricane LE',\n",
       " 'Honda CR-V AT With Sun Roof',\n",
       " 'Maruti Estilo LXI',\n",
       " 'Audi A4 3.2 FSI Tiptronic Quattro',\n",
       " 'Fiat Punto 1.3 Emotion',\n",
       " 'Land Rover Range Rover 3.0 D',\n",
       " 'Hyundai Santro Xing XG',\n",
       " 'BMW 5 Series 520d Sedan',\n",
       " 'Honda Jazz Select Edition',\n",
       " 'Fiat Punto 1.2 Dynamic',\n",
       " 'Hyundai Santro Xing XG',\n",
       " 'Fiat Punto 1.4 Emotion',\n",
       " 'Maruti Swift 1.3 VXi',\n",
       " 'Maruti Swift 1.3 LXI',\n",
       " 'Maruti Estilo LXI']"
      ]
     },
     "execution_count": 41,
     "metadata": {},
     "output_type": "execute_result"
    }
   ],
   "source": [
    "Seats_list"
   ]
  },
  {
   "cell_type": "code",
   "execution_count": 42,
   "id": "2fe2607c",
   "metadata": {
    "ExecuteTime": {
     "end_time": "2023-05-14T06:46:48.779282Z",
     "start_time": "2023-05-14T06:46:48.770945Z"
    },
    "id": "2fe2607c"
   },
   "outputs": [
    {
     "data": {
      "text/plain": [
       "[]"
      ]
     },
     "execution_count": 42,
     "metadata": {},
     "output_type": "execute_result"
    }
   ],
   "source": [
    "Price_zero_list #Price는 결측지 대체할 필요가 없음"
   ]
  },
  {
   "cell_type": "code",
   "execution_count": 43,
   "id": "99144368",
   "metadata": {
    "ExecuteTime": {
     "end_time": "2023-05-14T06:46:48.878807Z",
     "start_time": "2023-05-14T06:46:48.779282Z"
    },
    "id": "99144368"
   },
   "outputs": [],
   "source": [
    "Engine_not_zero_name = []\n",
    "Power_not_zero_name = []\n",
    "Seats_not_zero_name = []\n",
    "for car_name in Engine_zero_list:\n",
    "    if train_data[train_data['Name'] == car_name]['Engine'].sum() > 0:\n",
    "        Engine_not_zero_name.append(car_name)\n",
    "for car_name in Power_zero_list:\n",
    "    if train_data[train_data['Name'] == car_name]['Power'].sum() > 0:\n",
    "        Power_not_zero_name.append(car_name)\n",
    "for car_name in Seats_list:\n",
    "    if train_data[train_data['Name'] == car_name]['Seats'].sum() > 0:\n",
    "        Seats_not_zero_name.append(car_name)\n"
   ]
  },
  {
   "cell_type": "code",
   "execution_count": 44,
   "id": "c513640e",
   "metadata": {
    "ExecuteTime": {
     "end_time": "2023-05-14T06:46:48.886920Z",
     "start_time": "2023-05-14T06:46:48.878807Z"
    },
    "id": "c513640e"
   },
   "outputs": [
    {
     "name": "stdout",
     "output_type": "stream",
     "text": [
      "['Toyota Etios Liva V', 'Honda Jazz Select Edition']\n"
     ]
    }
   ],
   "source": [
    "Engine_not_zero_name = list(set(Engine_not_zero_name))\n",
    "print(Engine_not_zero_name)"
   ]
  },
  {
   "cell_type": "code",
   "execution_count": 45,
   "id": "573e5d6c",
   "metadata": {
    "ExecuteTime": {
     "end_time": "2023-05-14T06:46:48.895051Z",
     "start_time": "2023-05-14T06:46:48.886920Z"
    },
    "id": "573e5d6c"
   },
   "outputs": [
    {
     "name": "stdout",
     "output_type": "stream",
     "text": [
      "['Toyota Etios Liva GD', 'Maruti Swift VDI BSIV', 'Honda Jazz Select Edition', 'Toyota Etios Liva G', 'Mahindra Bolero ZLX', 'Toyota Etios GD', 'Toyota Etios Liva V']\n"
     ]
    }
   ],
   "source": [
    "Power_not_zero_name = list(set(Power_not_zero_name))\n",
    "print(Power_not_zero_name)"
   ]
  },
  {
   "cell_type": "code",
   "execution_count": 46,
   "id": "ebce9fb2",
   "metadata": {
    "ExecuteTime": {
     "end_time": "2023-05-14T06:46:48.905662Z",
     "start_time": "2023-05-14T06:46:48.896873Z"
    },
    "id": "ebce9fb2"
   },
   "outputs": [
    {
     "name": "stdout",
     "output_type": "stream",
     "text": [
      "['Toyota Etios Liva V', 'Honda Jazz Select Edition', 'Honda City 1.5 EXI']\n"
     ]
    }
   ],
   "source": [
    "Seats_not_zero_name = list(set(Seats_not_zero_name))\n",
    "print(Seats_not_zero_name)"
   ]
  },
  {
   "cell_type": "code",
   "execution_count": 47,
   "id": "a37e4d6a",
   "metadata": {
    "ExecuteTime": {
     "end_time": "2023-05-14T06:46:48.922063Z",
     "start_time": "2023-05-14T06:46:48.905662Z"
    },
    "id": "a37e4d6a"
   },
   "outputs": [
    {
     "data": {
      "text/html": [
       "<div>\n",
       "<style scoped>\n",
       "    .dataframe tbody tr th:only-of-type {\n",
       "        vertical-align: middle;\n",
       "    }\n",
       "\n",
       "    .dataframe tbody tr th {\n",
       "        vertical-align: top;\n",
       "    }\n",
       "\n",
       "    .dataframe thead th {\n",
       "        text-align: right;\n",
       "    }\n",
       "</style>\n",
       "<table border=\"1\" class=\"dataframe\">\n",
       "  <thead>\n",
       "    <tr style=\"text-align: right;\">\n",
       "      <th></th>\n",
       "      <th>Name</th>\n",
       "      <th>Location</th>\n",
       "      <th>Year</th>\n",
       "      <th>Kilometers_Driven</th>\n",
       "      <th>Fuel_Type</th>\n",
       "      <th>Transmission</th>\n",
       "      <th>Owner_Type</th>\n",
       "      <th>Mileage</th>\n",
       "      <th>Engine</th>\n",
       "      <th>Power</th>\n",
       "      <th>Seats</th>\n",
       "      <th>Price</th>\n",
       "    </tr>\n",
       "  </thead>\n",
       "  <tbody>\n",
       "    <tr>\n",
       "      <th>2264</th>\n",
       "      <td>Toyota Etios Liva V</td>\n",
       "      <td>Pune</td>\n",
       "      <td>2012</td>\n",
       "      <td>24500</td>\n",
       "      <td>Petrol</td>\n",
       "      <td>Manual</td>\n",
       "      <td>Second</td>\n",
       "      <td>18.30</td>\n",
       "      <td>0</td>\n",
       "      <td>0.0</td>\n",
       "      <td>0.0</td>\n",
       "      <td>2.95</td>\n",
       "    </tr>\n",
       "    <tr>\n",
       "      <th>4138</th>\n",
       "      <td>Toyota Etios Liva V</td>\n",
       "      <td>Mumbai</td>\n",
       "      <td>2013</td>\n",
       "      <td>8950</td>\n",
       "      <td>Petrol</td>\n",
       "      <td>Manual</td>\n",
       "      <td>First</td>\n",
       "      <td>17.71</td>\n",
       "      <td>1197</td>\n",
       "      <td>78.9</td>\n",
       "      <td>5.0</td>\n",
       "      <td>3.55</td>\n",
       "    </tr>\n",
       "  </tbody>\n",
       "</table>\n",
       "</div>"
      ],
      "text/plain": [
       "                     Name Location  Year  Kilometers_Driven Fuel_Type  \\\n",
       "2264  Toyota Etios Liva V     Pune  2012              24500    Petrol   \n",
       "4138  Toyota Etios Liva V   Mumbai  2013               8950    Petrol   \n",
       "\n",
       "     Transmission Owner_Type  Mileage  Engine  Power  Seats  Price  \n",
       "2264       Manual     Second    18.30       0    0.0    0.0   2.95  \n",
       "4138       Manual      First    17.71    1197   78.9    5.0   3.55  "
      ]
     },
     "execution_count": 47,
     "metadata": {},
     "output_type": "execute_result"
    }
   ],
   "source": [
    "train_data[train_data['Name']==Engine_not_zero_name[0]]"
   ]
  },
  {
   "cell_type": "code",
   "execution_count": 48,
   "id": "f7f4aa69",
   "metadata": {
    "ExecuteTime": {
     "end_time": "2023-05-14T06:46:48.938027Z",
     "start_time": "2023-05-14T06:46:48.922063Z"
    },
    "id": "f7f4aa69"
   },
   "outputs": [
    {
     "name": "stderr",
     "output_type": "stream",
     "text": [
      "C:\\Users\\ahneunjeong\\AppData\\Local\\Temp\\ipykernel_15156\\4149640332.py:1: SettingWithCopyWarning: \n",
      "A value is trying to be set on a copy of a slice from a DataFrame\n",
      "\n",
      "See the caveats in the documentation: https://pandas.pydata.org/pandas-docs/stable/user_guide/indexing.html#returning-a-view-versus-a-copy\n",
      "  train_data['Engine'][2264] = 1197\n",
      "C:\\Users\\ahneunjeong\\AppData\\Local\\Temp\\ipykernel_15156\\4149640332.py:2: SettingWithCopyWarning: \n",
      "A value is trying to be set on a copy of a slice from a DataFrame\n",
      "\n",
      "See the caveats in the documentation: https://pandas.pydata.org/pandas-docs/stable/user_guide/indexing.html#returning-a-view-versus-a-copy\n",
      "  train_data['Power'][2264] = 78.9\n",
      "C:\\Users\\ahneunjeong\\AppData\\Local\\Temp\\ipykernel_15156\\4149640332.py:3: SettingWithCopyWarning: \n",
      "A value is trying to be set on a copy of a slice from a DataFrame\n",
      "\n",
      "See the caveats in the documentation: https://pandas.pydata.org/pandas-docs/stable/user_guide/indexing.html#returning-a-view-versus-a-copy\n",
      "  train_data['Seats'][2264] = 5\n"
     ]
    }
   ],
   "source": [
    "train_data['Engine'][2264] = 1197\n",
    "train_data['Power'][2264] = 78.9\n",
    "train_data['Seats'][2264] = 5"
   ]
  },
  {
   "cell_type": "code",
   "execution_count": 49,
   "id": "da00fbf4",
   "metadata": {
    "ExecuteTime": {
     "end_time": "2023-05-14T06:46:48.954752Z",
     "start_time": "2023-05-14T06:46:48.938370Z"
    },
    "id": "da00fbf4"
   },
   "outputs": [
    {
     "data": {
      "text/html": [
       "<div>\n",
       "<style scoped>\n",
       "    .dataframe tbody tr th:only-of-type {\n",
       "        vertical-align: middle;\n",
       "    }\n",
       "\n",
       "    .dataframe tbody tr th {\n",
       "        vertical-align: top;\n",
       "    }\n",
       "\n",
       "    .dataframe thead th {\n",
       "        text-align: right;\n",
       "    }\n",
       "</style>\n",
       "<table border=\"1\" class=\"dataframe\">\n",
       "  <thead>\n",
       "    <tr style=\"text-align: right;\">\n",
       "      <th></th>\n",
       "      <th>Name</th>\n",
       "      <th>Location</th>\n",
       "      <th>Year</th>\n",
       "      <th>Kilometers_Driven</th>\n",
       "      <th>Fuel_Type</th>\n",
       "      <th>Transmission</th>\n",
       "      <th>Owner_Type</th>\n",
       "      <th>Mileage</th>\n",
       "      <th>Engine</th>\n",
       "      <th>Power</th>\n",
       "      <th>Seats</th>\n",
       "      <th>Price</th>\n",
       "    </tr>\n",
       "  </thead>\n",
       "  <tbody>\n",
       "    <tr>\n",
       "      <th>3145</th>\n",
       "      <td>Honda Jazz Select Edition</td>\n",
       "      <td>Kolkata</td>\n",
       "      <td>2010</td>\n",
       "      <td>45000</td>\n",
       "      <td>Petrol</td>\n",
       "      <td>Manual</td>\n",
       "      <td>First</td>\n",
       "      <td>16.7</td>\n",
       "      <td>1198</td>\n",
       "      <td>88.8</td>\n",
       "      <td>5.0</td>\n",
       "      <td>1.99</td>\n",
       "    </tr>\n",
       "    <tr>\n",
       "      <th>4604</th>\n",
       "      <td>Honda Jazz Select Edition</td>\n",
       "      <td>Pune</td>\n",
       "      <td>2011</td>\n",
       "      <td>98000</td>\n",
       "      <td>Petrol</td>\n",
       "      <td>Manual</td>\n",
       "      <td>First</td>\n",
       "      <td>16.7</td>\n",
       "      <td>0</td>\n",
       "      <td>0.0</td>\n",
       "      <td>0.0</td>\n",
       "      <td>3.15</td>\n",
       "    </tr>\n",
       "  </tbody>\n",
       "</table>\n",
       "</div>"
      ],
      "text/plain": [
       "                           Name Location  Year  Kilometers_Driven Fuel_Type  \\\n",
       "3145  Honda Jazz Select Edition  Kolkata  2010              45000    Petrol   \n",
       "4604  Honda Jazz Select Edition     Pune  2011              98000    Petrol   \n",
       "\n",
       "     Transmission Owner_Type  Mileage  Engine  Power  Seats  Price  \n",
       "3145       Manual      First     16.7    1198   88.8    5.0   1.99  \n",
       "4604       Manual      First     16.7       0    0.0    0.0   3.15  "
      ]
     },
     "execution_count": 49,
     "metadata": {},
     "output_type": "execute_result"
    }
   ],
   "source": [
    "train_data[train_data['Name']==Engine_not_zero_name[1]]"
   ]
  },
  {
   "cell_type": "code",
   "execution_count": 50,
   "id": "f5314844",
   "metadata": {
    "ExecuteTime": {
     "end_time": "2023-05-14T06:46:48.962826Z",
     "start_time": "2023-05-14T06:46:48.954752Z"
    },
    "id": "f5314844"
   },
   "outputs": [
    {
     "name": "stderr",
     "output_type": "stream",
     "text": [
      "C:\\Users\\ahneunjeong\\AppData\\Local\\Temp\\ipykernel_15156\\1216152595.py:2: SettingWithCopyWarning: \n",
      "A value is trying to be set on a copy of a slice from a DataFrame\n",
      "\n",
      "See the caveats in the documentation: https://pandas.pydata.org/pandas-docs/stable/user_guide/indexing.html#returning-a-view-versus-a-copy\n",
      "  train_data['Engine'][4604] = 1198\n",
      "C:\\Users\\ahneunjeong\\AppData\\Local\\Temp\\ipykernel_15156\\1216152595.py:3: SettingWithCopyWarning: \n",
      "A value is trying to be set on a copy of a slice from a DataFrame\n",
      "\n",
      "See the caveats in the documentation: https://pandas.pydata.org/pandas-docs/stable/user_guide/indexing.html#returning-a-view-versus-a-copy\n",
      "  train_data['Power'][4604] = 88.8\n",
      "C:\\Users\\ahneunjeong\\AppData\\Local\\Temp\\ipykernel_15156\\1216152595.py:4: SettingWithCopyWarning: \n",
      "A value is trying to be set on a copy of a slice from a DataFrame\n",
      "\n",
      "See the caveats in the documentation: https://pandas.pydata.org/pandas-docs/stable/user_guide/indexing.html#returning-a-view-versus-a-copy\n",
      "  train_data['Seats'][4604] = 5\n"
     ]
    }
   ],
   "source": [
    "# 직접 타이핑\n",
    "train_data['Engine'][4604] = 1198\n",
    "train_data['Power'][4604] = 88.8\n",
    "train_data['Seats'][4604] = 5"
   ]
  },
  {
   "cell_type": "code",
   "execution_count": 51,
   "id": "7cbbde2f",
   "metadata": {
    "ExecuteTime": {
     "end_time": "2023-05-14T06:46:48.978820Z",
     "start_time": "2023-05-14T06:46:48.962826Z"
    },
    "id": "7cbbde2f"
   },
   "outputs": [],
   "source": [
    "# 한번에 처리하기 - Power\n",
    "for name in Power_not_zero_name:\n",
    "    idx_temp = list(train_data[train_data['Name']==name].index)\n",
    "    temp = train_data[train_data['Name']==name]\n",
    "    nonzero_power = temp[temp['Power'] != 0]['Power']\n",
    "    temp_value = nonzero_power[nonzero_power.index[0]]\n",
    "    for idx in idx_temp:\n",
    "        train_data.loc[idx, 'Power'] = temp_value"
   ]
  },
  {
   "cell_type": "code",
   "execution_count": 52,
   "id": "e3d6eb4f",
   "metadata": {
    "ExecuteTime": {
     "end_time": "2023-05-14T06:46:48.986816Z",
     "start_time": "2023-05-14T06:46:48.978820Z"
    },
    "id": "e3d6eb4f"
   },
   "outputs": [],
   "source": [
    "# Seats\n",
    "for name in Seats_not_zero_name:\n",
    "    idx_temp = list(train_data[train_data['Name']==name].index)\n",
    "    temp = train_data[train_data['Name']==name]\n",
    "    nonzero_power = temp[temp['Seats'] != 0]['Seats']\n",
    "    temp_value = nonzero_power[nonzero_power.index[0]]\n",
    "    for idx in idx_temp:\n",
    "        train_data.loc[idx, 'Seats'] = temp_value"
   ]
  },
  {
   "cell_type": "code",
   "execution_count": 53,
   "id": "35179fd5",
   "metadata": {
    "ExecuteTime": {
     "end_time": "2023-05-14T06:46:48.994921Z",
     "start_time": "2023-05-14T06:46:48.986816Z"
    },
    "id": "35179fd5"
   },
   "outputs": [],
   "source": [
    "# 다시 검증\n",
    "Engine_zero_idx = list(train_data[train_data['Engine']==0].index)\n",
    "Power_zero_idx = list(train_data[train_data['Power']==0].index)\n",
    "Seats_zero_idx = list(train_data[train_data['Seats']==0].index)\n"
   ]
  },
  {
   "cell_type": "code",
   "execution_count": 54,
   "id": "2792a59b",
   "metadata": {
    "ExecuteTime": {
     "end_time": "2023-05-14T06:46:49.003400Z",
     "start_time": "2023-05-14T06:46:48.994921Z"
    },
    "id": "2792a59b"
   },
   "outputs": [],
   "source": [
    "# 회생불가 데이터\n",
    "del_idx = list(set(Engine_zero_idx + Power_zero_idx + Seats_zero_idx))"
   ]
  },
  {
   "cell_type": "code",
   "execution_count": 83,
   "id": "a49ff386",
   "metadata": {
    "ExecuteTime": {
     "end_time": "2023-05-14T06:48:36.349969Z",
     "start_time": "2023-05-14T06:48:36.308105Z"
    }
   },
   "outputs": [
    {
     "ename": "TypeError",
     "evalue": "__call__() takes from 1 to 2 positional arguments but 3 were given",
     "output_type": "error",
     "traceback": [
      "\u001b[1;31m---------------------------------------------------------------------------\u001b[0m",
      "\u001b[1;31mTypeError\u001b[0m                                 Traceback (most recent call last)",
      "Cell \u001b[1;32mIn[83], line 1\u001b[0m\n\u001b[1;32m----> 1\u001b[0m \u001b[43mtrain_data\u001b[49m\u001b[38;5;241;43m.\u001b[39;49m\u001b[43miloc\u001b[49m\u001b[43m(\u001b[49m\u001b[38;5;241;43m100\u001b[39;49m\u001b[43m,\u001b[49m\u001b[38;5;124;43m'\u001b[39;49m\u001b[38;5;124;43mName\u001b[39;49m\u001b[38;5;124;43m'\u001b[39;49m\u001b[43m)\u001b[49m\n",
      "\u001b[1;31mTypeError\u001b[0m: __call__() takes from 1 to 2 positional arguments but 3 were given"
     ]
    }
   ],
   "source": [
    "train_data.iloc(100,"
   ]
  },
  {
   "cell_type": "code",
   "execution_count": 55,
   "id": "1f657bd9",
   "metadata": {
    "ExecuteTime": {
     "end_time": "2023-05-14T06:46:49.011470Z",
     "start_time": "2023-05-14T06:46:49.003400Z"
    },
    "id": "1f657bd9"
   },
   "outputs": [
    {
     "data": {
      "text/plain": [
       "114"
      ]
     },
     "execution_count": 55,
     "metadata": {},
     "output_type": "execute_result"
    }
   ],
   "source": [
    "len(del_idx)"
   ]
  },
  {
   "cell_type": "code",
   "execution_count": 56,
   "id": "02e63282",
   "metadata": {
    "ExecuteTime": {
     "end_time": "2023-05-14T06:46:49.019826Z",
     "start_time": "2023-05-14T06:46:49.011470Z"
    },
    "id": "02e63282"
   },
   "outputs": [],
   "source": [
    "train_data = train_data.drop(del_idx)"
   ]
  },
  {
   "cell_type": "code",
   "execution_count": 57,
   "id": "8a744699",
   "metadata": {
    "ExecuteTime": {
     "end_time": "2023-05-14T06:46:49.027834Z",
     "start_time": "2023-05-14T06:46:49.019826Z"
    },
    "id": "8a744699"
   },
   "outputs": [
    {
     "data": {
      "text/plain": [
       "(5905, 12)"
      ]
     },
     "execution_count": 57,
     "metadata": {},
     "output_type": "execute_result"
    }
   ],
   "source": [
    "train_data.shape"
   ]
  },
  {
   "cell_type": "code",
   "execution_count": 58,
   "id": "63b80f47",
   "metadata": {
    "ExecuteTime": {
     "end_time": "2023-05-14T06:46:49.044168Z",
     "start_time": "2023-05-14T06:46:49.027834Z"
    },
    "id": "63b80f47"
   },
   "outputs": [
    {
     "data": {
      "text/plain": [
       "Name                   0\n",
       "Location               0\n",
       "Year                 0.0\n",
       "Kilometers_Driven    0.0\n",
       "Fuel_Type              0\n",
       "Transmission           0\n",
       "Owner_Type             0\n",
       "Mileage              0.0\n",
       "Engine               0.0\n",
       "Power                0.0\n",
       "Seats                0.0\n",
       "Price                0.0\n",
       "dtype: object"
      ]
     },
     "execution_count": 58,
     "metadata": {},
     "output_type": "execute_result"
    }
   ],
   "source": [
    "# 결측치 제거 되었는지 확인\n",
    "train_data[train_data==0].sum()"
   ]
  },
  {
   "cell_type": "code",
   "execution_count": 59,
   "id": "1f5c325c",
   "metadata": {
    "ExecuteTime": {
     "end_time": "2023-05-14T06:46:49.052208Z",
     "start_time": "2023-05-14T06:46:49.044168Z"
    },
    "id": "1f5c325c"
   },
   "outputs": [
    {
     "data": {
      "text/plain": [
       "1813"
      ]
     },
     "execution_count": 59,
     "metadata": {},
     "output_type": "execute_result"
    }
   ],
   "source": [
    "len(train_data['Name'].unique())"
   ]
  },
  {
   "cell_type": "code",
   "execution_count": 60,
   "id": "275a91d7",
   "metadata": {
    "ExecuteTime": {
     "end_time": "2023-05-14T06:46:49.060342Z",
     "start_time": "2023-05-14T06:46:49.052208Z"
    },
    "id": "275a91d7"
   },
   "outputs": [],
   "source": [
    "car_name = list(train_data['Name'])\n",
    "for i in range(len(car_name)):\n",
    "    car_name[i] = car_name[i].split(' ', 1)[0]"
   ]
  },
  {
   "cell_type": "code",
   "execution_count": 61,
   "id": "fe7f7896",
   "metadata": {
    "ExecuteTime": {
     "end_time": "2023-05-14T06:46:49.068365Z",
     "start_time": "2023-05-14T06:46:49.060342Z"
    },
    "id": "fe7f7896"
   },
   "outputs": [],
   "source": [
    "train_data['Name'] = car_name"
   ]
  },
  {
   "cell_type": "code",
   "execution_count": 62,
   "id": "7eb55aff",
   "metadata": {
    "ExecuteTime": {
     "end_time": "2023-05-14T06:46:49.084474Z",
     "start_time": "2023-05-14T06:46:49.068365Z"
    },
    "id": "7eb55aff"
   },
   "outputs": [
    {
     "data": {
      "text/html": [
       "<div>\n",
       "<style scoped>\n",
       "    .dataframe tbody tr th:only-of-type {\n",
       "        vertical-align: middle;\n",
       "    }\n",
       "\n",
       "    .dataframe tbody tr th {\n",
       "        vertical-align: top;\n",
       "    }\n",
       "\n",
       "    .dataframe thead th {\n",
       "        text-align: right;\n",
       "    }\n",
       "</style>\n",
       "<table border=\"1\" class=\"dataframe\">\n",
       "  <thead>\n",
       "    <tr style=\"text-align: right;\">\n",
       "      <th></th>\n",
       "      <th>Name</th>\n",
       "      <th>Location</th>\n",
       "      <th>Year</th>\n",
       "      <th>Kilometers_Driven</th>\n",
       "      <th>Fuel_Type</th>\n",
       "      <th>Transmission</th>\n",
       "      <th>Owner_Type</th>\n",
       "      <th>Mileage</th>\n",
       "      <th>Engine</th>\n",
       "      <th>Power</th>\n",
       "      <th>Seats</th>\n",
       "      <th>Price</th>\n",
       "    </tr>\n",
       "  </thead>\n",
       "  <tbody>\n",
       "    <tr>\n",
       "      <th>0</th>\n",
       "      <td>Maruti</td>\n",
       "      <td>Mumbai</td>\n",
       "      <td>2010</td>\n",
       "      <td>72000</td>\n",
       "      <td>CNG</td>\n",
       "      <td>Manual</td>\n",
       "      <td>First</td>\n",
       "      <td>26.60</td>\n",
       "      <td>998</td>\n",
       "      <td>58.16</td>\n",
       "      <td>5.0</td>\n",
       "      <td>1.75</td>\n",
       "    </tr>\n",
       "    <tr>\n",
       "      <th>1</th>\n",
       "      <td>Hyundai</td>\n",
       "      <td>Pune</td>\n",
       "      <td>2015</td>\n",
       "      <td>41000</td>\n",
       "      <td>Diesel</td>\n",
       "      <td>Manual</td>\n",
       "      <td>First</td>\n",
       "      <td>19.67</td>\n",
       "      <td>1582</td>\n",
       "      <td>126.20</td>\n",
       "      <td>5.0</td>\n",
       "      <td>12.50</td>\n",
       "    </tr>\n",
       "    <tr>\n",
       "      <th>2</th>\n",
       "      <td>Honda</td>\n",
       "      <td>Chennai</td>\n",
       "      <td>2011</td>\n",
       "      <td>46000</td>\n",
       "      <td>Petrol</td>\n",
       "      <td>Manual</td>\n",
       "      <td>First</td>\n",
       "      <td>18.20</td>\n",
       "      <td>1199</td>\n",
       "      <td>88.70</td>\n",
       "      <td>5.0</td>\n",
       "      <td>4.50</td>\n",
       "    </tr>\n",
       "    <tr>\n",
       "      <th>3</th>\n",
       "      <td>Maruti</td>\n",
       "      <td>Chennai</td>\n",
       "      <td>2012</td>\n",
       "      <td>87000</td>\n",
       "      <td>Diesel</td>\n",
       "      <td>Manual</td>\n",
       "      <td>First</td>\n",
       "      <td>20.77</td>\n",
       "      <td>1248</td>\n",
       "      <td>88.76</td>\n",
       "      <td>7.0</td>\n",
       "      <td>6.00</td>\n",
       "    </tr>\n",
       "    <tr>\n",
       "      <th>4</th>\n",
       "      <td>Audi</td>\n",
       "      <td>Coimbatore</td>\n",
       "      <td>2013</td>\n",
       "      <td>40670</td>\n",
       "      <td>Diesel</td>\n",
       "      <td>Automatic</td>\n",
       "      <td>Second</td>\n",
       "      <td>15.20</td>\n",
       "      <td>1968</td>\n",
       "      <td>140.80</td>\n",
       "      <td>5.0</td>\n",
       "      <td>17.74</td>\n",
       "    </tr>\n",
       "  </tbody>\n",
       "</table>\n",
       "</div>"
      ],
      "text/plain": [
       "      Name    Location  Year  Kilometers_Driven Fuel_Type Transmission  \\\n",
       "0   Maruti      Mumbai  2010              72000       CNG       Manual   \n",
       "1  Hyundai        Pune  2015              41000    Diesel       Manual   \n",
       "2    Honda     Chennai  2011              46000    Petrol       Manual   \n",
       "3   Maruti     Chennai  2012              87000    Diesel       Manual   \n",
       "4     Audi  Coimbatore  2013              40670    Diesel    Automatic   \n",
       "\n",
       "  Owner_Type  Mileage  Engine   Power  Seats  Price  \n",
       "0      First    26.60     998   58.16    5.0   1.75  \n",
       "1      First    19.67    1582  126.20    5.0  12.50  \n",
       "2      First    18.20    1199   88.70    5.0   4.50  \n",
       "3      First    20.77    1248   88.76    7.0   6.00  \n",
       "4     Second    15.20    1968  140.80    5.0  17.74  "
      ]
     },
     "execution_count": 62,
     "metadata": {},
     "output_type": "execute_result"
    }
   ],
   "source": [
    "train_data.head()"
   ]
  },
  {
   "cell_type": "code",
   "execution_count": 63,
   "id": "586b4c5c",
   "metadata": {
    "ExecuteTime": {
     "end_time": "2023-05-14T06:46:49.092914Z",
     "start_time": "2023-05-14T06:46:49.084474Z"
    },
    "id": "586b4c5c"
   },
   "outputs": [],
   "source": [
    "train_data = train_data.reset_index(drop=True)"
   ]
  },
  {
   "cell_type": "code",
   "execution_count": 64,
   "id": "89055f6c",
   "metadata": {
    "ExecuteTime": {
     "end_time": "2023-05-14T06:46:49.109368Z",
     "start_time": "2023-05-14T06:46:49.092914Z"
    },
    "id": "89055f6c"
   },
   "outputs": [
    {
     "data": {
      "text/html": [
       "<div>\n",
       "<style scoped>\n",
       "    .dataframe tbody tr th:only-of-type {\n",
       "        vertical-align: middle;\n",
       "    }\n",
       "\n",
       "    .dataframe tbody tr th {\n",
       "        vertical-align: top;\n",
       "    }\n",
       "\n",
       "    .dataframe thead th {\n",
       "        text-align: right;\n",
       "    }\n",
       "</style>\n",
       "<table border=\"1\" class=\"dataframe\">\n",
       "  <thead>\n",
       "    <tr style=\"text-align: right;\">\n",
       "      <th></th>\n",
       "      <th>Name</th>\n",
       "      <th>Location</th>\n",
       "      <th>Year</th>\n",
       "      <th>Kilometers_Driven</th>\n",
       "      <th>Fuel_Type</th>\n",
       "      <th>Transmission</th>\n",
       "      <th>Owner_Type</th>\n",
       "      <th>Mileage</th>\n",
       "      <th>Engine</th>\n",
       "      <th>Power</th>\n",
       "      <th>Seats</th>\n",
       "      <th>Price</th>\n",
       "    </tr>\n",
       "  </thead>\n",
       "  <tbody>\n",
       "    <tr>\n",
       "      <th>0</th>\n",
       "      <td>Maruti</td>\n",
       "      <td>Mumbai</td>\n",
       "      <td>2010</td>\n",
       "      <td>72000</td>\n",
       "      <td>CNG</td>\n",
       "      <td>Manual</td>\n",
       "      <td>First</td>\n",
       "      <td>26.60</td>\n",
       "      <td>998</td>\n",
       "      <td>58.16</td>\n",
       "      <td>5.0</td>\n",
       "      <td>1.75</td>\n",
       "    </tr>\n",
       "    <tr>\n",
       "      <th>1</th>\n",
       "      <td>Hyundai</td>\n",
       "      <td>Pune</td>\n",
       "      <td>2015</td>\n",
       "      <td>41000</td>\n",
       "      <td>Diesel</td>\n",
       "      <td>Manual</td>\n",
       "      <td>First</td>\n",
       "      <td>19.67</td>\n",
       "      <td>1582</td>\n",
       "      <td>126.20</td>\n",
       "      <td>5.0</td>\n",
       "      <td>12.50</td>\n",
       "    </tr>\n",
       "    <tr>\n",
       "      <th>2</th>\n",
       "      <td>Honda</td>\n",
       "      <td>Chennai</td>\n",
       "      <td>2011</td>\n",
       "      <td>46000</td>\n",
       "      <td>Petrol</td>\n",
       "      <td>Manual</td>\n",
       "      <td>First</td>\n",
       "      <td>18.20</td>\n",
       "      <td>1199</td>\n",
       "      <td>88.70</td>\n",
       "      <td>5.0</td>\n",
       "      <td>4.50</td>\n",
       "    </tr>\n",
       "    <tr>\n",
       "      <th>3</th>\n",
       "      <td>Maruti</td>\n",
       "      <td>Chennai</td>\n",
       "      <td>2012</td>\n",
       "      <td>87000</td>\n",
       "      <td>Diesel</td>\n",
       "      <td>Manual</td>\n",
       "      <td>First</td>\n",
       "      <td>20.77</td>\n",
       "      <td>1248</td>\n",
       "      <td>88.76</td>\n",
       "      <td>7.0</td>\n",
       "      <td>6.00</td>\n",
       "    </tr>\n",
       "    <tr>\n",
       "      <th>4</th>\n",
       "      <td>Audi</td>\n",
       "      <td>Coimbatore</td>\n",
       "      <td>2013</td>\n",
       "      <td>40670</td>\n",
       "      <td>Diesel</td>\n",
       "      <td>Automatic</td>\n",
       "      <td>Second</td>\n",
       "      <td>15.20</td>\n",
       "      <td>1968</td>\n",
       "      <td>140.80</td>\n",
       "      <td>5.0</td>\n",
       "      <td>17.74</td>\n",
       "    </tr>\n",
       "  </tbody>\n",
       "</table>\n",
       "</div>"
      ],
      "text/plain": [
       "      Name    Location  Year  Kilometers_Driven Fuel_Type Transmission  \\\n",
       "0   Maruti      Mumbai  2010              72000       CNG       Manual   \n",
       "1  Hyundai        Pune  2015              41000    Diesel       Manual   \n",
       "2    Honda     Chennai  2011              46000    Petrol       Manual   \n",
       "3   Maruti     Chennai  2012              87000    Diesel       Manual   \n",
       "4     Audi  Coimbatore  2013              40670    Diesel    Automatic   \n",
       "\n",
       "  Owner_Type  Mileage  Engine   Power  Seats  Price  \n",
       "0      First    26.60     998   58.16    5.0   1.75  \n",
       "1      First    19.67    1582  126.20    5.0  12.50  \n",
       "2      First    18.20    1199   88.70    5.0   4.50  \n",
       "3      First    20.77    1248   88.76    7.0   6.00  \n",
       "4     Second    15.20    1968  140.80    5.0  17.74  "
      ]
     },
     "execution_count": 64,
     "metadata": {},
     "output_type": "execute_result"
    }
   ],
   "source": [
    "train_data.head()"
   ]
  },
  {
   "cell_type": "code",
   "execution_count": 65,
   "id": "90e76071",
   "metadata": {
    "ExecuteTime": {
     "end_time": "2023-05-14T06:46:49.117380Z",
     "start_time": "2023-05-14T06:46:49.109368Z"
    },
    "id": "90e76071"
   },
   "outputs": [
    {
     "data": {
      "text/plain": [
       "Maruti           1186\n",
       "Hyundai          1058\n",
       "Honda             605\n",
       "Toyota            409\n",
       "Mercedes-Benz     316\n",
       "Volkswagen        314\n",
       "Ford              294\n",
       "Mahindra          270\n",
       "BMW               262\n",
       "Audi              235\n",
       "Tata              183\n",
       "Skoda             172\n",
       "Renault           145\n",
       "Chevrolet         120\n",
       "Nissan             89\n",
       "Land               57\n",
       "Jaguar             40\n",
       "Mitsubishi         27\n",
       "Mini               26\n",
       "Fiat               23\n",
       "Volvo              21\n",
       "Porsche            16\n",
       "Jeep               15\n",
       "Datsun             13\n",
       "Force               3\n",
       "ISUZU               2\n",
       "Ambassador          1\n",
       "Isuzu               1\n",
       "Bentley             1\n",
       "Lamborghini         1\n",
       "Name: Name, dtype: int64"
      ]
     },
     "execution_count": 65,
     "metadata": {},
     "output_type": "execute_result"
    }
   ],
   "source": [
    "train_data['Name'].value_counts()"
   ]
  },
  {
   "cell_type": "code",
   "execution_count": 66,
   "id": "70d9d1c9",
   "metadata": {
    "ExecuteTime": {
     "end_time": "2023-05-14T06:46:49.132939Z",
     "start_time": "2023-05-14T06:46:49.117380Z"
    },
    "id": "70d9d1c9"
   },
   "outputs": [
    {
     "name": "stderr",
     "output_type": "stream",
     "text": [
      "C:\\Users\\ahneunjeong\\AppData\\Local\\Temp\\ipykernel_15156\\1148849405.py:1: SettingWithCopyWarning: \n",
      "A value is trying to be set on a copy of a slice from a DataFrame\n",
      "\n",
      "See the caveats in the documentation: https://pandas.pydata.org/pandas-docs/stable/user_guide/indexing.html#returning-a-view-versus-a-copy\n",
      "  train_data['Name'][train_data['Name'] == 'ISUZU'] = 'Isuzu'\n"
     ]
    }
   ],
   "source": [
    "train_data['Name'][train_data['Name'] == 'ISUZU'] = 'Isuzu'"
   ]
  },
  {
   "cell_type": "code",
   "execution_count": 67,
   "id": "fb09e5f2",
   "metadata": {
    "ExecuteTime": {
     "end_time": "2023-05-14T06:46:49.141408Z",
     "start_time": "2023-05-14T06:46:49.132939Z"
    },
    "id": "fb09e5f2"
   },
   "outputs": [
    {
     "data": {
      "text/plain": [
       "Maruti           1186\n",
       "Hyundai          1058\n",
       "Honda             605\n",
       "Toyota            409\n",
       "Mercedes-Benz     316\n",
       "Volkswagen        314\n",
       "Ford              294\n",
       "Mahindra          270\n",
       "BMW               262\n",
       "Audi              235\n",
       "Tata              183\n",
       "Skoda             172\n",
       "Renault           145\n",
       "Chevrolet         120\n",
       "Nissan             89\n",
       "Land               57\n",
       "Jaguar             40\n",
       "Mitsubishi         27\n",
       "Mini               26\n",
       "Fiat               23\n",
       "Volvo              21\n",
       "Porsche            16\n",
       "Jeep               15\n",
       "Datsun             13\n",
       "Isuzu               3\n",
       "Force               3\n",
       "Ambassador          1\n",
       "Bentley             1\n",
       "Lamborghini         1\n",
       "Name: Name, dtype: int64"
      ]
     },
     "execution_count": 67,
     "metadata": {},
     "output_type": "execute_result"
    }
   ],
   "source": [
    "train_data['Name'].value_counts()"
   ]
  },
  {
   "cell_type": "code",
   "execution_count": 68,
   "id": "cd86916f",
   "metadata": {
    "ExecuteTime": {
     "end_time": "2023-05-14T06:46:49.157928Z",
     "start_time": "2023-05-14T06:46:49.141408Z"
    },
    "id": "cd86916f"
   },
   "outputs": [
    {
     "data": {
      "text/html": [
       "<div>\n",
       "<style scoped>\n",
       "    .dataframe tbody tr th:only-of-type {\n",
       "        vertical-align: middle;\n",
       "    }\n",
       "\n",
       "    .dataframe tbody tr th {\n",
       "        vertical-align: top;\n",
       "    }\n",
       "\n",
       "    .dataframe thead th {\n",
       "        text-align: right;\n",
       "    }\n",
       "</style>\n",
       "<table border=\"1\" class=\"dataframe\">\n",
       "  <thead>\n",
       "    <tr style=\"text-align: right;\">\n",
       "      <th></th>\n",
       "      <th>Name</th>\n",
       "      <th>Location</th>\n",
       "      <th>Year</th>\n",
       "      <th>Kilometers_Driven</th>\n",
       "      <th>Fuel_Type</th>\n",
       "      <th>Transmission</th>\n",
       "      <th>Owner_Type</th>\n",
       "      <th>Mileage</th>\n",
       "      <th>Engine</th>\n",
       "      <th>Power</th>\n",
       "      <th>Seats</th>\n",
       "      <th>Price</th>\n",
       "    </tr>\n",
       "  </thead>\n",
       "  <tbody>\n",
       "    <tr>\n",
       "      <th>0</th>\n",
       "      <td>Maruti</td>\n",
       "      <td>Mumbai</td>\n",
       "      <td>2010</td>\n",
       "      <td>72000</td>\n",
       "      <td>CNG</td>\n",
       "      <td>Manual</td>\n",
       "      <td>First</td>\n",
       "      <td>26.60</td>\n",
       "      <td>998</td>\n",
       "      <td>58.16</td>\n",
       "      <td>5.0</td>\n",
       "      <td>1.75</td>\n",
       "    </tr>\n",
       "    <tr>\n",
       "      <th>1</th>\n",
       "      <td>Hyundai</td>\n",
       "      <td>Pune</td>\n",
       "      <td>2015</td>\n",
       "      <td>41000</td>\n",
       "      <td>Diesel</td>\n",
       "      <td>Manual</td>\n",
       "      <td>First</td>\n",
       "      <td>19.67</td>\n",
       "      <td>1582</td>\n",
       "      <td>126.20</td>\n",
       "      <td>5.0</td>\n",
       "      <td>12.50</td>\n",
       "    </tr>\n",
       "    <tr>\n",
       "      <th>2</th>\n",
       "      <td>Honda</td>\n",
       "      <td>Chennai</td>\n",
       "      <td>2011</td>\n",
       "      <td>46000</td>\n",
       "      <td>Petrol</td>\n",
       "      <td>Manual</td>\n",
       "      <td>First</td>\n",
       "      <td>18.20</td>\n",
       "      <td>1199</td>\n",
       "      <td>88.70</td>\n",
       "      <td>5.0</td>\n",
       "      <td>4.50</td>\n",
       "    </tr>\n",
       "    <tr>\n",
       "      <th>3</th>\n",
       "      <td>Maruti</td>\n",
       "      <td>Chennai</td>\n",
       "      <td>2012</td>\n",
       "      <td>87000</td>\n",
       "      <td>Diesel</td>\n",
       "      <td>Manual</td>\n",
       "      <td>First</td>\n",
       "      <td>20.77</td>\n",
       "      <td>1248</td>\n",
       "      <td>88.76</td>\n",
       "      <td>7.0</td>\n",
       "      <td>6.00</td>\n",
       "    </tr>\n",
       "    <tr>\n",
       "      <th>4</th>\n",
       "      <td>Audi</td>\n",
       "      <td>Coimbatore</td>\n",
       "      <td>2013</td>\n",
       "      <td>40670</td>\n",
       "      <td>Diesel</td>\n",
       "      <td>Automatic</td>\n",
       "      <td>Second</td>\n",
       "      <td>15.20</td>\n",
       "      <td>1968</td>\n",
       "      <td>140.80</td>\n",
       "      <td>5.0</td>\n",
       "      <td>17.74</td>\n",
       "    </tr>\n",
       "  </tbody>\n",
       "</table>\n",
       "</div>"
      ],
      "text/plain": [
       "      Name    Location  Year  Kilometers_Driven Fuel_Type Transmission  \\\n",
       "0   Maruti      Mumbai  2010              72000       CNG       Manual   \n",
       "1  Hyundai        Pune  2015              41000    Diesel       Manual   \n",
       "2    Honda     Chennai  2011              46000    Petrol       Manual   \n",
       "3   Maruti     Chennai  2012              87000    Diesel       Manual   \n",
       "4     Audi  Coimbatore  2013              40670    Diesel    Automatic   \n",
       "\n",
       "  Owner_Type  Mileage  Engine   Power  Seats  Price  \n",
       "0      First    26.60     998   58.16    5.0   1.75  \n",
       "1      First    19.67    1582  126.20    5.0  12.50  \n",
       "2      First    18.20    1199   88.70    5.0   4.50  \n",
       "3      First    20.77    1248   88.76    7.0   6.00  \n",
       "4     Second    15.20    1968  140.80    5.0  17.74  "
      ]
     },
     "execution_count": 68,
     "metadata": {},
     "output_type": "execute_result"
    }
   ],
   "source": [
    "train_data.head()"
   ]
  },
  {
   "cell_type": "code",
   "execution_count": 69,
   "id": "b7029d20",
   "metadata": {
    "ExecuteTime": {
     "end_time": "2023-05-14T06:46:49.166255Z",
     "start_time": "2023-05-14T06:46:49.157928Z"
    },
    "id": "b7029d20"
   },
   "outputs": [
    {
     "name": "stderr",
     "output_type": "stream",
     "text": [
      "C:\\Users\\ahneunjeong\\AppData\\Local\\Temp\\ipykernel_15156\\2999658623.py:2: SettingWithCopyWarning: \n",
      "A value is trying to be set on a copy of a slice from a DataFrame\n",
      "\n",
      "See the caveats in the documentation: https://pandas.pydata.org/pandas-docs/stable/user_guide/indexing.html#returning-a-view-versus-a-copy\n",
      "  train_data['Mileage'][train_data['Fuel_Type'] == 'CNG'] = train_data[train_data['Fuel_Type'] == 'CNG']['Mileage']*1.64\n",
      "C:\\Users\\ahneunjeong\\AppData\\Local\\Temp\\ipykernel_15156\\2999658623.py:3: SettingWithCopyWarning: \n",
      "A value is trying to be set on a copy of a slice from a DataFrame\n",
      "\n",
      "See the caveats in the documentation: https://pandas.pydata.org/pandas-docs/stable/user_guide/indexing.html#returning-a-view-versus-a-copy\n",
      "  train_data['Mileage'][train_data['Fuel_Type'] == 'LPG'] = train_data[train_data['Fuel_Type'] == 'LPG']['Mileage']*1.3\n"
     ]
    }
   ],
   "source": [
    "# 연료 단위 맞추기\n",
    "train_data['Mileage'][train_data['Fuel_Type'] == 'CNG'] = train_data[train_data['Fuel_Type'] == 'CNG']['Mileage']*1.64\n",
    "train_data['Mileage'][train_data['Fuel_Type'] == 'LPG'] = train_data[train_data['Fuel_Type'] == 'LPG']['Mileage']*1.3"
   ]
  },
  {
   "cell_type": "code",
   "execution_count": 70,
   "id": "9ce9959a",
   "metadata": {
    "ExecuteTime": {
     "end_time": "2023-05-14T06:46:49.174434Z",
     "start_time": "2023-05-14T06:46:49.168128Z"
    },
    "id": "9ce9959a"
   },
   "outputs": [
    {
     "name": "stdout",
     "output_type": "stream",
     "text": [
      "29 11 5 4\n"
     ]
    }
   ],
   "source": [
    "Car_list = list(train_data['Name'].unique())\n",
    "Location_list = list(train_data['Location'].unique())\n",
    "Fuel_Type_list = list(train_data['Fuel_Type'].unique())\n",
    "Transmission = list(train_data['Owner_Type'].unique())\n",
    "print(len(Car_list), len(Location_list), len(Fuel_Type_list), len(Transmission))"
   ]
  },
  {
   "cell_type": "code",
   "execution_count": 71,
   "id": "0b91f2f4",
   "metadata": {
    "ExecuteTime": {
     "end_time": "2023-05-14T06:46:49.190560Z",
     "start_time": "2023-05-14T06:46:49.174434Z"
    },
    "id": "0b91f2f4"
   },
   "outputs": [],
   "source": [
    "train_data = pd.get_dummies(train_data, columns=['Name', 'Location', 'Fuel_Type', 'Transmission', 'Owner_Type'])"
   ]
  },
  {
   "cell_type": "code",
   "execution_count": 72,
   "id": "8c286585",
   "metadata": {
    "ExecuteTime": {
     "end_time": "2023-05-14T06:46:49.207209Z",
     "start_time": "2023-05-14T06:46:49.190560Z"
    },
    "id": "8c286585"
   },
   "outputs": [
    {
     "data": {
      "text/html": [
       "<div>\n",
       "<style scoped>\n",
       "    .dataframe tbody tr th:only-of-type {\n",
       "        vertical-align: middle;\n",
       "    }\n",
       "\n",
       "    .dataframe tbody tr th {\n",
       "        vertical-align: top;\n",
       "    }\n",
       "\n",
       "    .dataframe thead th {\n",
       "        text-align: right;\n",
       "    }\n",
       "</style>\n",
       "<table border=\"1\" class=\"dataframe\">\n",
       "  <thead>\n",
       "    <tr style=\"text-align: right;\">\n",
       "      <th></th>\n",
       "      <th>Year</th>\n",
       "      <th>Kilometers_Driven</th>\n",
       "      <th>Mileage</th>\n",
       "      <th>Engine</th>\n",
       "      <th>Power</th>\n",
       "      <th>Seats</th>\n",
       "      <th>Price</th>\n",
       "      <th>Name_Ambassador</th>\n",
       "      <th>Name_Audi</th>\n",
       "      <th>Name_BMW</th>\n",
       "      <th>...</th>\n",
       "      <th>Fuel_Type_Diesel</th>\n",
       "      <th>Fuel_Type_Electric</th>\n",
       "      <th>Fuel_Type_LPG</th>\n",
       "      <th>Fuel_Type_Petrol</th>\n",
       "      <th>Transmission_Automatic</th>\n",
       "      <th>Transmission_Manual</th>\n",
       "      <th>Owner_Type_First</th>\n",
       "      <th>Owner_Type_Fourth &amp; Above</th>\n",
       "      <th>Owner_Type_Second</th>\n",
       "      <th>Owner_Type_Third</th>\n",
       "    </tr>\n",
       "  </thead>\n",
       "  <tbody>\n",
       "    <tr>\n",
       "      <th>0</th>\n",
       "      <td>2010</td>\n",
       "      <td>72000</td>\n",
       "      <td>43.624</td>\n",
       "      <td>998</td>\n",
       "      <td>58.16</td>\n",
       "      <td>5.0</td>\n",
       "      <td>1.75</td>\n",
       "      <td>0</td>\n",
       "      <td>0</td>\n",
       "      <td>0</td>\n",
       "      <td>...</td>\n",
       "      <td>0</td>\n",
       "      <td>0</td>\n",
       "      <td>0</td>\n",
       "      <td>0</td>\n",
       "      <td>0</td>\n",
       "      <td>1</td>\n",
       "      <td>1</td>\n",
       "      <td>0</td>\n",
       "      <td>0</td>\n",
       "      <td>0</td>\n",
       "    </tr>\n",
       "    <tr>\n",
       "      <th>1</th>\n",
       "      <td>2015</td>\n",
       "      <td>41000</td>\n",
       "      <td>19.670</td>\n",
       "      <td>1582</td>\n",
       "      <td>126.20</td>\n",
       "      <td>5.0</td>\n",
       "      <td>12.50</td>\n",
       "      <td>0</td>\n",
       "      <td>0</td>\n",
       "      <td>0</td>\n",
       "      <td>...</td>\n",
       "      <td>1</td>\n",
       "      <td>0</td>\n",
       "      <td>0</td>\n",
       "      <td>0</td>\n",
       "      <td>0</td>\n",
       "      <td>1</td>\n",
       "      <td>1</td>\n",
       "      <td>0</td>\n",
       "      <td>0</td>\n",
       "      <td>0</td>\n",
       "    </tr>\n",
       "    <tr>\n",
       "      <th>2</th>\n",
       "      <td>2011</td>\n",
       "      <td>46000</td>\n",
       "      <td>18.200</td>\n",
       "      <td>1199</td>\n",
       "      <td>88.70</td>\n",
       "      <td>5.0</td>\n",
       "      <td>4.50</td>\n",
       "      <td>0</td>\n",
       "      <td>0</td>\n",
       "      <td>0</td>\n",
       "      <td>...</td>\n",
       "      <td>0</td>\n",
       "      <td>0</td>\n",
       "      <td>0</td>\n",
       "      <td>1</td>\n",
       "      <td>0</td>\n",
       "      <td>1</td>\n",
       "      <td>1</td>\n",
       "      <td>0</td>\n",
       "      <td>0</td>\n",
       "      <td>0</td>\n",
       "    </tr>\n",
       "    <tr>\n",
       "      <th>3</th>\n",
       "      <td>2012</td>\n",
       "      <td>87000</td>\n",
       "      <td>20.770</td>\n",
       "      <td>1248</td>\n",
       "      <td>88.76</td>\n",
       "      <td>7.0</td>\n",
       "      <td>6.00</td>\n",
       "      <td>0</td>\n",
       "      <td>0</td>\n",
       "      <td>0</td>\n",
       "      <td>...</td>\n",
       "      <td>1</td>\n",
       "      <td>0</td>\n",
       "      <td>0</td>\n",
       "      <td>0</td>\n",
       "      <td>0</td>\n",
       "      <td>1</td>\n",
       "      <td>1</td>\n",
       "      <td>0</td>\n",
       "      <td>0</td>\n",
       "      <td>0</td>\n",
       "    </tr>\n",
       "    <tr>\n",
       "      <th>4</th>\n",
       "      <td>2013</td>\n",
       "      <td>40670</td>\n",
       "      <td>15.200</td>\n",
       "      <td>1968</td>\n",
       "      <td>140.80</td>\n",
       "      <td>5.0</td>\n",
       "      <td>17.74</td>\n",
       "      <td>0</td>\n",
       "      <td>1</td>\n",
       "      <td>0</td>\n",
       "      <td>...</td>\n",
       "      <td>1</td>\n",
       "      <td>0</td>\n",
       "      <td>0</td>\n",
       "      <td>0</td>\n",
       "      <td>1</td>\n",
       "      <td>0</td>\n",
       "      <td>0</td>\n",
       "      <td>0</td>\n",
       "      <td>1</td>\n",
       "      <td>0</td>\n",
       "    </tr>\n",
       "    <tr>\n",
       "      <th>...</th>\n",
       "      <td>...</td>\n",
       "      <td>...</td>\n",
       "      <td>...</td>\n",
       "      <td>...</td>\n",
       "      <td>...</td>\n",
       "      <td>...</td>\n",
       "      <td>...</td>\n",
       "      <td>...</td>\n",
       "      <td>...</td>\n",
       "      <td>...</td>\n",
       "      <td>...</td>\n",
       "      <td>...</td>\n",
       "      <td>...</td>\n",
       "      <td>...</td>\n",
       "      <td>...</td>\n",
       "      <td>...</td>\n",
       "      <td>...</td>\n",
       "      <td>...</td>\n",
       "      <td>...</td>\n",
       "      <td>...</td>\n",
       "      <td>...</td>\n",
       "    </tr>\n",
       "    <tr>\n",
       "      <th>5900</th>\n",
       "      <td>2014</td>\n",
       "      <td>27365</td>\n",
       "      <td>28.400</td>\n",
       "      <td>1248</td>\n",
       "      <td>74.00</td>\n",
       "      <td>5.0</td>\n",
       "      <td>4.75</td>\n",
       "      <td>0</td>\n",
       "      <td>0</td>\n",
       "      <td>0</td>\n",
       "      <td>...</td>\n",
       "      <td>1</td>\n",
       "      <td>0</td>\n",
       "      <td>0</td>\n",
       "      <td>0</td>\n",
       "      <td>0</td>\n",
       "      <td>1</td>\n",
       "      <td>1</td>\n",
       "      <td>0</td>\n",
       "      <td>0</td>\n",
       "      <td>0</td>\n",
       "    </tr>\n",
       "    <tr>\n",
       "      <th>5901</th>\n",
       "      <td>2015</td>\n",
       "      <td>100000</td>\n",
       "      <td>24.400</td>\n",
       "      <td>1120</td>\n",
       "      <td>71.00</td>\n",
       "      <td>5.0</td>\n",
       "      <td>4.00</td>\n",
       "      <td>0</td>\n",
       "      <td>0</td>\n",
       "      <td>0</td>\n",
       "      <td>...</td>\n",
       "      <td>1</td>\n",
       "      <td>0</td>\n",
       "      <td>0</td>\n",
       "      <td>0</td>\n",
       "      <td>0</td>\n",
       "      <td>1</td>\n",
       "      <td>1</td>\n",
       "      <td>0</td>\n",
       "      <td>0</td>\n",
       "      <td>0</td>\n",
       "    </tr>\n",
       "    <tr>\n",
       "      <th>5902</th>\n",
       "      <td>2012</td>\n",
       "      <td>55000</td>\n",
       "      <td>14.000</td>\n",
       "      <td>2498</td>\n",
       "      <td>112.00</td>\n",
       "      <td>8.0</td>\n",
       "      <td>2.90</td>\n",
       "      <td>0</td>\n",
       "      <td>0</td>\n",
       "      <td>0</td>\n",
       "      <td>...</td>\n",
       "      <td>1</td>\n",
       "      <td>0</td>\n",
       "      <td>0</td>\n",
       "      <td>0</td>\n",
       "      <td>0</td>\n",
       "      <td>1</td>\n",
       "      <td>0</td>\n",
       "      <td>0</td>\n",
       "      <td>1</td>\n",
       "      <td>0</td>\n",
       "    </tr>\n",
       "    <tr>\n",
       "      <th>5903</th>\n",
       "      <td>2013</td>\n",
       "      <td>46000</td>\n",
       "      <td>18.900</td>\n",
       "      <td>998</td>\n",
       "      <td>67.10</td>\n",
       "      <td>5.0</td>\n",
       "      <td>2.65</td>\n",
       "      <td>0</td>\n",
       "      <td>0</td>\n",
       "      <td>0</td>\n",
       "      <td>...</td>\n",
       "      <td>0</td>\n",
       "      <td>0</td>\n",
       "      <td>0</td>\n",
       "      <td>1</td>\n",
       "      <td>0</td>\n",
       "      <td>1</td>\n",
       "      <td>1</td>\n",
       "      <td>0</td>\n",
       "      <td>0</td>\n",
       "      <td>0</td>\n",
       "    </tr>\n",
       "    <tr>\n",
       "      <th>5904</th>\n",
       "      <td>2011</td>\n",
       "      <td>47000</td>\n",
       "      <td>25.440</td>\n",
       "      <td>936</td>\n",
       "      <td>57.60</td>\n",
       "      <td>5.0</td>\n",
       "      <td>2.50</td>\n",
       "      <td>0</td>\n",
       "      <td>0</td>\n",
       "      <td>0</td>\n",
       "      <td>...</td>\n",
       "      <td>1</td>\n",
       "      <td>0</td>\n",
       "      <td>0</td>\n",
       "      <td>0</td>\n",
       "      <td>0</td>\n",
       "      <td>1</td>\n",
       "      <td>1</td>\n",
       "      <td>0</td>\n",
       "      <td>0</td>\n",
       "      <td>0</td>\n",
       "    </tr>\n",
       "  </tbody>\n",
       "</table>\n",
       "<p>5905 rows × 58 columns</p>\n",
       "</div>"
      ],
      "text/plain": [
       "      Year  Kilometers_Driven  Mileage  Engine   Power  Seats  Price  \\\n",
       "0     2010              72000   43.624     998   58.16    5.0   1.75   \n",
       "1     2015              41000   19.670    1582  126.20    5.0  12.50   \n",
       "2     2011              46000   18.200    1199   88.70    5.0   4.50   \n",
       "3     2012              87000   20.770    1248   88.76    7.0   6.00   \n",
       "4     2013              40670   15.200    1968  140.80    5.0  17.74   \n",
       "...    ...                ...      ...     ...     ...    ...    ...   \n",
       "5900  2014              27365   28.400    1248   74.00    5.0   4.75   \n",
       "5901  2015             100000   24.400    1120   71.00    5.0   4.00   \n",
       "5902  2012              55000   14.000    2498  112.00    8.0   2.90   \n",
       "5903  2013              46000   18.900     998   67.10    5.0   2.65   \n",
       "5904  2011              47000   25.440     936   57.60    5.0   2.50   \n",
       "\n",
       "      Name_Ambassador  Name_Audi  Name_BMW  ...  Fuel_Type_Diesel  \\\n",
       "0                   0          0         0  ...                 0   \n",
       "1                   0          0         0  ...                 1   \n",
       "2                   0          0         0  ...                 0   \n",
       "3                   0          0         0  ...                 1   \n",
       "4                   0          1         0  ...                 1   \n",
       "...               ...        ...       ...  ...               ...   \n",
       "5900                0          0         0  ...                 1   \n",
       "5901                0          0         0  ...                 1   \n",
       "5902                0          0         0  ...                 1   \n",
       "5903                0          0         0  ...                 0   \n",
       "5904                0          0         0  ...                 1   \n",
       "\n",
       "      Fuel_Type_Electric  Fuel_Type_LPG  Fuel_Type_Petrol  \\\n",
       "0                      0              0                 0   \n",
       "1                      0              0                 0   \n",
       "2                      0              0                 1   \n",
       "3                      0              0                 0   \n",
       "4                      0              0                 0   \n",
       "...                  ...            ...               ...   \n",
       "5900                   0              0                 0   \n",
       "5901                   0              0                 0   \n",
       "5902                   0              0                 0   \n",
       "5903                   0              0                 1   \n",
       "5904                   0              0                 0   \n",
       "\n",
       "      Transmission_Automatic  Transmission_Manual  Owner_Type_First  \\\n",
       "0                          0                    1                 1   \n",
       "1                          0                    1                 1   \n",
       "2                          0                    1                 1   \n",
       "3                          0                    1                 1   \n",
       "4                          1                    0                 0   \n",
       "...                      ...                  ...               ...   \n",
       "5900                       0                    1                 1   \n",
       "5901                       0                    1                 1   \n",
       "5902                       0                    1                 0   \n",
       "5903                       0                    1                 1   \n",
       "5904                       0                    1                 1   \n",
       "\n",
       "      Owner_Type_Fourth & Above  Owner_Type_Second  Owner_Type_Third  \n",
       "0                             0                  0                 0  \n",
       "1                             0                  0                 0  \n",
       "2                             0                  0                 0  \n",
       "3                             0                  0                 0  \n",
       "4                             0                  1                 0  \n",
       "...                         ...                ...               ...  \n",
       "5900                          0                  0                 0  \n",
       "5901                          0                  0                 0  \n",
       "5902                          0                  1                 0  \n",
       "5903                          0                  0                 0  \n",
       "5904                          0                  0                 0  \n",
       "\n",
       "[5905 rows x 58 columns]"
      ]
     },
     "execution_count": 72,
     "metadata": {},
     "output_type": "execute_result"
    }
   ],
   "source": [
    "train_data"
   ]
  },
  {
   "cell_type": "code",
   "execution_count": 73,
   "id": "d9ab8a1b",
   "metadata": {
    "ExecuteTime": {
     "end_time": "2023-05-14T06:46:49.697408Z",
     "start_time": "2023-05-14T06:46:49.207209Z"
    },
    "id": "d9ab8a1b"
   },
   "outputs": [],
   "source": [
    "from sklearn.model_selection import train_test_split"
   ]
  },
  {
   "cell_type": "code",
   "execution_count": 74,
   "id": "8ef87200",
   "metadata": {
    "ExecuteTime": {
     "end_time": "2023-05-14T06:46:49.705906Z",
     "start_time": "2023-05-14T06:46:49.698150Z"
    },
    "id": "8ef87200"
   },
   "outputs": [],
   "source": [
    "X = train_data.drop(['Price','Engine'], axis=1)\n",
    "y = train_data['Price']\n",
    "y_log = np.log(y)"
   ]
  },
  {
   "cell_type": "code",
   "execution_count": 75,
   "id": "e5a8cc27",
   "metadata": {
    "ExecuteTime": {
     "end_time": "2023-05-14T06:46:49.721666Z",
     "start_time": "2023-05-14T06:46:49.707012Z"
    },
    "id": "e5a8cc27"
   },
   "outputs": [],
   "source": [
    "X_train, X_test, y_train, y_test = train_test_split(X, y_log, test_size=0.1, random_state=10)"
   ]
  },
  {
   "cell_type": "code",
   "execution_count": 76,
   "id": "de925e9a",
   "metadata": {
    "ExecuteTime": {
     "end_time": "2023-05-14T06:46:49.737757Z",
     "start_time": "2023-05-14T06:46:49.722400Z"
    }
   },
   "outputs": [
    {
     "data": {
      "text/html": [
       "<div>\n",
       "<style scoped>\n",
       "    .dataframe tbody tr th:only-of-type {\n",
       "        vertical-align: middle;\n",
       "    }\n",
       "\n",
       "    .dataframe tbody tr th {\n",
       "        vertical-align: top;\n",
       "    }\n",
       "\n",
       "    .dataframe thead th {\n",
       "        text-align: right;\n",
       "    }\n",
       "</style>\n",
       "<table border=\"1\" class=\"dataframe\">\n",
       "  <thead>\n",
       "    <tr style=\"text-align: right;\">\n",
       "      <th></th>\n",
       "      <th>Year</th>\n",
       "      <th>Kilometers_Driven</th>\n",
       "      <th>Mileage</th>\n",
       "      <th>Power</th>\n",
       "      <th>Seats</th>\n",
       "      <th>Name_Ambassador</th>\n",
       "      <th>Name_Audi</th>\n",
       "      <th>Name_BMW</th>\n",
       "      <th>Name_Bentley</th>\n",
       "      <th>Name_Chevrolet</th>\n",
       "      <th>...</th>\n",
       "      <th>Fuel_Type_Diesel</th>\n",
       "      <th>Fuel_Type_Electric</th>\n",
       "      <th>Fuel_Type_LPG</th>\n",
       "      <th>Fuel_Type_Petrol</th>\n",
       "      <th>Transmission_Automatic</th>\n",
       "      <th>Transmission_Manual</th>\n",
       "      <th>Owner_Type_First</th>\n",
       "      <th>Owner_Type_Fourth &amp; Above</th>\n",
       "      <th>Owner_Type_Second</th>\n",
       "      <th>Owner_Type_Third</th>\n",
       "    </tr>\n",
       "  </thead>\n",
       "  <tbody>\n",
       "    <tr>\n",
       "      <th>4564</th>\n",
       "      <td>2012</td>\n",
       "      <td>60818</td>\n",
       "      <td>16.09</td>\n",
       "      <td>103.50</td>\n",
       "      <td>5.0</td>\n",
       "      <td>0</td>\n",
       "      <td>0</td>\n",
       "      <td>0</td>\n",
       "      <td>0</td>\n",
       "      <td>0</td>\n",
       "      <td>...</td>\n",
       "      <td>0</td>\n",
       "      <td>0</td>\n",
       "      <td>0</td>\n",
       "      <td>1</td>\n",
       "      <td>0</td>\n",
       "      <td>1</td>\n",
       "      <td>1</td>\n",
       "      <td>0</td>\n",
       "      <td>0</td>\n",
       "      <td>0</td>\n",
       "    </tr>\n",
       "    <tr>\n",
       "      <th>120</th>\n",
       "      <td>2017</td>\n",
       "      <td>32684</td>\n",
       "      <td>21.90</td>\n",
       "      <td>37.48</td>\n",
       "      <td>4.0</td>\n",
       "      <td>0</td>\n",
       "      <td>0</td>\n",
       "      <td>0</td>\n",
       "      <td>0</td>\n",
       "      <td>0</td>\n",
       "      <td>...</td>\n",
       "      <td>0</td>\n",
       "      <td>0</td>\n",
       "      <td>0</td>\n",
       "      <td>1</td>\n",
       "      <td>1</td>\n",
       "      <td>0</td>\n",
       "      <td>1</td>\n",
       "      <td>0</td>\n",
       "      <td>0</td>\n",
       "      <td>0</td>\n",
       "    </tr>\n",
       "    <tr>\n",
       "      <th>1337</th>\n",
       "      <td>2016</td>\n",
       "      <td>60475</td>\n",
       "      <td>18.00</td>\n",
       "      <td>117.30</td>\n",
       "      <td>5.0</td>\n",
       "      <td>0</td>\n",
       "      <td>0</td>\n",
       "      <td>0</td>\n",
       "      <td>0</td>\n",
       "      <td>0</td>\n",
       "      <td>...</td>\n",
       "      <td>0</td>\n",
       "      <td>0</td>\n",
       "      <td>0</td>\n",
       "      <td>1</td>\n",
       "      <td>1</td>\n",
       "      <td>0</td>\n",
       "      <td>1</td>\n",
       "      <td>0</td>\n",
       "      <td>0</td>\n",
       "      <td>0</td>\n",
       "    </tr>\n",
       "    <tr>\n",
       "      <th>1963</th>\n",
       "      <td>2014</td>\n",
       "      <td>64241</td>\n",
       "      <td>20.14</td>\n",
       "      <td>81.86</td>\n",
       "      <td>5.0</td>\n",
       "      <td>0</td>\n",
       "      <td>0</td>\n",
       "      <td>0</td>\n",
       "      <td>0</td>\n",
       "      <td>0</td>\n",
       "      <td>...</td>\n",
       "      <td>0</td>\n",
       "      <td>0</td>\n",
       "      <td>0</td>\n",
       "      <td>1</td>\n",
       "      <td>0</td>\n",
       "      <td>1</td>\n",
       "      <td>1</td>\n",
       "      <td>0</td>\n",
       "      <td>0</td>\n",
       "      <td>0</td>\n",
       "    </tr>\n",
       "    <tr>\n",
       "      <th>1451</th>\n",
       "      <td>2012</td>\n",
       "      <td>57156</td>\n",
       "      <td>18.88</td>\n",
       "      <td>184.00</td>\n",
       "      <td>5.0</td>\n",
       "      <td>0</td>\n",
       "      <td>0</td>\n",
       "      <td>1</td>\n",
       "      <td>0</td>\n",
       "      <td>0</td>\n",
       "      <td>...</td>\n",
       "      <td>1</td>\n",
       "      <td>0</td>\n",
       "      <td>0</td>\n",
       "      <td>0</td>\n",
       "      <td>1</td>\n",
       "      <td>0</td>\n",
       "      <td>0</td>\n",
       "      <td>0</td>\n",
       "      <td>1</td>\n",
       "      <td>0</td>\n",
       "    </tr>\n",
       "  </tbody>\n",
       "</table>\n",
       "<p>5 rows × 56 columns</p>\n",
       "</div>"
      ],
      "text/plain": [
       "      Year  Kilometers_Driven  Mileage   Power  Seats  Name_Ambassador  \\\n",
       "4564  2012              60818    16.09  103.50    5.0                0   \n",
       "120   2017              32684    21.90   37.48    4.0                0   \n",
       "1337  2016              60475    18.00  117.30    5.0                0   \n",
       "1963  2014              64241    20.14   81.86    5.0                0   \n",
       "1451  2012              57156    18.88  184.00    5.0                0   \n",
       "\n",
       "      Name_Audi  Name_BMW  Name_Bentley  Name_Chevrolet  ...  \\\n",
       "4564          0         0             0               0  ...   \n",
       "120           0         0             0               0  ...   \n",
       "1337          0         0             0               0  ...   \n",
       "1963          0         0             0               0  ...   \n",
       "1451          0         1             0               0  ...   \n",
       "\n",
       "      Fuel_Type_Diesel  Fuel_Type_Electric  Fuel_Type_LPG  Fuel_Type_Petrol  \\\n",
       "4564                 0                   0              0                 1   \n",
       "120                  0                   0              0                 1   \n",
       "1337                 0                   0              0                 1   \n",
       "1963                 0                   0              0                 1   \n",
       "1451                 1                   0              0                 0   \n",
       "\n",
       "      Transmission_Automatic  Transmission_Manual  Owner_Type_First  \\\n",
       "4564                       0                    1                 1   \n",
       "120                        1                    0                 1   \n",
       "1337                       1                    0                 1   \n",
       "1963                       0                    1                 1   \n",
       "1451                       1                    0                 0   \n",
       "\n",
       "      Owner_Type_Fourth & Above  Owner_Type_Second  Owner_Type_Third  \n",
       "4564                          0                  0                 0  \n",
       "120                           0                  0                 0  \n",
       "1337                          0                  0                 0  \n",
       "1963                          0                  0                 0  \n",
       "1451                          0                  1                 0  \n",
       "\n",
       "[5 rows x 56 columns]"
      ]
     },
     "execution_count": 76,
     "metadata": {},
     "output_type": "execute_result"
    }
   ],
   "source": [
    "X_train.head()"
   ]
  },
  {
   "cell_type": "code",
   "execution_count": 77,
   "id": "ALUaj5UI4Mzh",
   "metadata": {
    "ExecuteTime": {
     "end_time": "2023-05-14T06:46:53.554444Z",
     "start_time": "2023-05-14T06:46:49.739097Z"
    },
    "id": "ALUaj5UI4Mzh"
   },
   "outputs": [
    {
     "name": "stderr",
     "output_type": "stream",
     "text": [
      "c:\\users\\ahneunjeong\\appdata\\local\\programs\\python\\python39\\lib\\site-packages\\statsmodels\\stats\\outliers_influence.py:195: RuntimeWarning: divide by zero encountered in double_scalars\n",
      "  vif = 1. / (1. - r_squared_i)\n"
     ]
    },
    {
     "ename": "KeyboardInterrupt",
     "evalue": "",
     "output_type": "error",
     "traceback": [
      "\u001b[1;31m---------------------------------------------------------------------------\u001b[0m",
      "\u001b[1;31mKeyboardInterrupt\u001b[0m                         Traceback (most recent call last)",
      "Cell \u001b[1;32mIn[77], line 5\u001b[0m\n\u001b[0;32m      3\u001b[0m vif \u001b[38;5;241m=\u001b[39m pd\u001b[38;5;241m.\u001b[39mDataFrame()\n\u001b[0;32m      4\u001b[0m vif[\u001b[38;5;124m'\u001b[39m\u001b[38;5;124mfeatures\u001b[39m\u001b[38;5;124m'\u001b[39m] \u001b[38;5;241m=\u001b[39m X_train\u001b[38;5;241m.\u001b[39mcolumns\n\u001b[1;32m----> 5\u001b[0m vif[\u001b[38;5;124m\"\u001b[39m\u001b[38;5;124mVIF Factor\u001b[39m\u001b[38;5;124m\"\u001b[39m] \u001b[38;5;241m=\u001b[39m [variance_inflation_factor(X_train\u001b[38;5;241m.\u001b[39mvalues, i) \u001b[38;5;28;01mfor\u001b[39;00m i \u001b[38;5;129;01min\u001b[39;00m \u001b[38;5;28mrange\u001b[39m(X_train\u001b[38;5;241m.\u001b[39mshape[\u001b[38;5;241m1\u001b[39m])]\n\u001b[0;32m      7\u001b[0m vif\u001b[38;5;241m.\u001b[39mround(\u001b[38;5;241m1\u001b[39m)\n",
      "Cell \u001b[1;32mIn[77], line 5\u001b[0m, in \u001b[0;36m<listcomp>\u001b[1;34m(.0)\u001b[0m\n\u001b[0;32m      3\u001b[0m vif \u001b[38;5;241m=\u001b[39m pd\u001b[38;5;241m.\u001b[39mDataFrame()\n\u001b[0;32m      4\u001b[0m vif[\u001b[38;5;124m'\u001b[39m\u001b[38;5;124mfeatures\u001b[39m\u001b[38;5;124m'\u001b[39m] \u001b[38;5;241m=\u001b[39m X_train\u001b[38;5;241m.\u001b[39mcolumns\n\u001b[1;32m----> 5\u001b[0m vif[\u001b[38;5;124m\"\u001b[39m\u001b[38;5;124mVIF Factor\u001b[39m\u001b[38;5;124m\"\u001b[39m] \u001b[38;5;241m=\u001b[39m [\u001b[43mvariance_inflation_factor\u001b[49m\u001b[43m(\u001b[49m\u001b[43mX_train\u001b[49m\u001b[38;5;241;43m.\u001b[39;49m\u001b[43mvalues\u001b[49m\u001b[43m,\u001b[49m\u001b[43m \u001b[49m\u001b[43mi\u001b[49m\u001b[43m)\u001b[49m \u001b[38;5;28;01mfor\u001b[39;00m i \u001b[38;5;129;01min\u001b[39;00m \u001b[38;5;28mrange\u001b[39m(X_train\u001b[38;5;241m.\u001b[39mshape[\u001b[38;5;241m1\u001b[39m])]\n\u001b[0;32m      7\u001b[0m vif\u001b[38;5;241m.\u001b[39mround(\u001b[38;5;241m1\u001b[39m)\n",
      "File \u001b[1;32mc:\\users\\ahneunjeong\\appdata\\local\\programs\\python\\python39\\lib\\site-packages\\statsmodels\\stats\\outliers_influence.py:194\u001b[0m, in \u001b[0;36mvariance_inflation_factor\u001b[1;34m(exog, exog_idx)\u001b[0m\n\u001b[0;32m    192\u001b[0m mask \u001b[38;5;241m=\u001b[39m np\u001b[38;5;241m.\u001b[39marange(k_vars) \u001b[38;5;241m!=\u001b[39m exog_idx\n\u001b[0;32m    193\u001b[0m x_noti \u001b[38;5;241m=\u001b[39m exog[:, mask]\n\u001b[1;32m--> 194\u001b[0m r_squared_i \u001b[38;5;241m=\u001b[39m \u001b[43mOLS\u001b[49m\u001b[43m(\u001b[49m\u001b[43mx_i\u001b[49m\u001b[43m,\u001b[49m\u001b[43m \u001b[49m\u001b[43mx_noti\u001b[49m\u001b[43m)\u001b[49m\u001b[38;5;241;43m.\u001b[39;49m\u001b[43mfit\u001b[49m\u001b[43m(\u001b[49m\u001b[43m)\u001b[49m\u001b[38;5;241m.\u001b[39mrsquared\n\u001b[0;32m    195\u001b[0m vif \u001b[38;5;241m=\u001b[39m \u001b[38;5;241m1.\u001b[39m \u001b[38;5;241m/\u001b[39m (\u001b[38;5;241m1.\u001b[39m \u001b[38;5;241m-\u001b[39m r_squared_i)\n\u001b[0;32m    196\u001b[0m \u001b[38;5;28;01mreturn\u001b[39;00m vif\n",
      "File \u001b[1;32mc:\\users\\ahneunjeong\\appdata\\local\\programs\\python\\python39\\lib\\site-packages\\statsmodels\\regression\\linear_model.py:322\u001b[0m, in \u001b[0;36mRegressionModel.fit\u001b[1;34m(self, method, cov_type, cov_kwds, use_t, **kwargs)\u001b[0m\n\u001b[0;32m    317\u001b[0m \u001b[38;5;28;01mif\u001b[39;00m method \u001b[38;5;241m==\u001b[39m \u001b[38;5;124m\"\u001b[39m\u001b[38;5;124mpinv\u001b[39m\u001b[38;5;124m\"\u001b[39m:\n\u001b[0;32m    318\u001b[0m     \u001b[38;5;28;01mif\u001b[39;00m \u001b[38;5;129;01mnot\u001b[39;00m (\u001b[38;5;28mhasattr\u001b[39m(\u001b[38;5;28mself\u001b[39m, \u001b[38;5;124m'\u001b[39m\u001b[38;5;124mpinv_wexog\u001b[39m\u001b[38;5;124m'\u001b[39m) \u001b[38;5;129;01mand\u001b[39;00m\n\u001b[0;32m    319\u001b[0m             \u001b[38;5;28mhasattr\u001b[39m(\u001b[38;5;28mself\u001b[39m, \u001b[38;5;124m'\u001b[39m\u001b[38;5;124mnormalized_cov_params\u001b[39m\u001b[38;5;124m'\u001b[39m) \u001b[38;5;129;01mand\u001b[39;00m\n\u001b[0;32m    320\u001b[0m             \u001b[38;5;28mhasattr\u001b[39m(\u001b[38;5;28mself\u001b[39m, \u001b[38;5;124m'\u001b[39m\u001b[38;5;124mrank\u001b[39m\u001b[38;5;124m'\u001b[39m)):\n\u001b[1;32m--> 322\u001b[0m         \u001b[38;5;28mself\u001b[39m\u001b[38;5;241m.\u001b[39mpinv_wexog, singular_values \u001b[38;5;241m=\u001b[39m \u001b[43mpinv_extended\u001b[49m\u001b[43m(\u001b[49m\u001b[38;5;28;43mself\u001b[39;49m\u001b[38;5;241;43m.\u001b[39;49m\u001b[43mwexog\u001b[49m\u001b[43m)\u001b[49m\n\u001b[0;32m    323\u001b[0m         \u001b[38;5;28mself\u001b[39m\u001b[38;5;241m.\u001b[39mnormalized_cov_params \u001b[38;5;241m=\u001b[39m np\u001b[38;5;241m.\u001b[39mdot(\n\u001b[0;32m    324\u001b[0m             \u001b[38;5;28mself\u001b[39m\u001b[38;5;241m.\u001b[39mpinv_wexog, np\u001b[38;5;241m.\u001b[39mtranspose(\u001b[38;5;28mself\u001b[39m\u001b[38;5;241m.\u001b[39mpinv_wexog))\n\u001b[0;32m    326\u001b[0m         \u001b[38;5;66;03m# Cache these singular values for use later.\u001b[39;00m\n",
      "File \u001b[1;32mc:\\users\\ahneunjeong\\appdata\\local\\programs\\python\\python39\\lib\\site-packages\\statsmodels\\tools\\tools.py:339\u001b[0m, in \u001b[0;36mpinv_extended\u001b[1;34m(x, rcond)\u001b[0m\n\u001b[0;32m    337\u001b[0m x \u001b[38;5;241m=\u001b[39m np\u001b[38;5;241m.\u001b[39masarray(x)\n\u001b[0;32m    338\u001b[0m x \u001b[38;5;241m=\u001b[39m x\u001b[38;5;241m.\u001b[39mconjugate()\n\u001b[1;32m--> 339\u001b[0m u, s, vt \u001b[38;5;241m=\u001b[39m \u001b[43mnp\u001b[49m\u001b[38;5;241;43m.\u001b[39;49m\u001b[43mlinalg\u001b[49m\u001b[38;5;241;43m.\u001b[39;49m\u001b[43msvd\u001b[49m\u001b[43m(\u001b[49m\u001b[43mx\u001b[49m\u001b[43m,\u001b[49m\u001b[43m \u001b[49m\u001b[38;5;28;43;01mFalse\u001b[39;49;00m\u001b[43m)\u001b[49m\n\u001b[0;32m    340\u001b[0m s_orig \u001b[38;5;241m=\u001b[39m np\u001b[38;5;241m.\u001b[39mcopy(s)\n\u001b[0;32m    341\u001b[0m m \u001b[38;5;241m=\u001b[39m u\u001b[38;5;241m.\u001b[39mshape[\u001b[38;5;241m0\u001b[39m]\n",
      "File \u001b[1;32m<__array_function__ internals>:180\u001b[0m, in \u001b[0;36msvd\u001b[1;34m(*args, **kwargs)\u001b[0m\n",
      "File \u001b[1;32mc:\\users\\ahneunjeong\\appdata\\local\\programs\\python\\python39\\lib\\site-packages\\numpy\\linalg\\linalg.py:1657\u001b[0m, in \u001b[0;36msvd\u001b[1;34m(a, full_matrices, compute_uv, hermitian)\u001b[0m\n\u001b[0;32m   1654\u001b[0m         gufunc \u001b[38;5;241m=\u001b[39m _umath_linalg\u001b[38;5;241m.\u001b[39msvd_n_s\n\u001b[0;32m   1656\u001b[0m signature \u001b[38;5;241m=\u001b[39m \u001b[38;5;124m'\u001b[39m\u001b[38;5;124mD->DdD\u001b[39m\u001b[38;5;124m'\u001b[39m \u001b[38;5;28;01mif\u001b[39;00m isComplexType(t) \u001b[38;5;28;01melse\u001b[39;00m \u001b[38;5;124m'\u001b[39m\u001b[38;5;124md->ddd\u001b[39m\u001b[38;5;124m'\u001b[39m\n\u001b[1;32m-> 1657\u001b[0m u, s, vh \u001b[38;5;241m=\u001b[39m \u001b[43mgufunc\u001b[49m\u001b[43m(\u001b[49m\u001b[43ma\u001b[49m\u001b[43m,\u001b[49m\u001b[43m \u001b[49m\u001b[43msignature\u001b[49m\u001b[38;5;241;43m=\u001b[39;49m\u001b[43msignature\u001b[49m\u001b[43m,\u001b[49m\u001b[43m \u001b[49m\u001b[43mextobj\u001b[49m\u001b[38;5;241;43m=\u001b[39;49m\u001b[43mextobj\u001b[49m\u001b[43m)\u001b[49m\n\u001b[0;32m   1658\u001b[0m u \u001b[38;5;241m=\u001b[39m u\u001b[38;5;241m.\u001b[39mastype(result_t, copy\u001b[38;5;241m=\u001b[39m\u001b[38;5;28;01mFalse\u001b[39;00m)\n\u001b[0;32m   1659\u001b[0m s \u001b[38;5;241m=\u001b[39m s\u001b[38;5;241m.\u001b[39mastype(_realType(result_t), copy\u001b[38;5;241m=\u001b[39m\u001b[38;5;28;01mFalse\u001b[39;00m)\n",
      "\u001b[1;31mKeyboardInterrupt\u001b[0m: "
     ]
    }
   ],
   "source": [
    "from statsmodels.stats.outliers_influence import variance_inflation_factor\n",
    "\n",
    "vif = pd.DataFrame()\n",
    "vif['features'] = X_train.columns\n",
    "vif[\"VIF Factor\"] = [variance_inflation_factor(X_train.values, i) for i in range(X_train.shape[1])]\n",
    "\n",
    "vif.round(1)\n"
   ]
  },
  {
   "cell_type": "code",
   "execution_count": null,
   "id": "243d4c4d",
   "metadata": {
    "ExecuteTime": {
     "end_time": "2023-05-14T06:46:53.554444Z",
     "start_time": "2023-05-14T06:46:53.554444Z"
    },
    "id": "243d4c4d"
   },
   "outputs": [],
   "source": [
    "from sklearn.linear_model import LinearRegression\n",
    "from sklearn.metrics import accuracy_score, confusion_matrix, r2_score, mean_absolute_error, mean_squared_error\n"
   ]
  },
  {
   "cell_type": "code",
   "execution_count": null,
   "id": "a0f88844",
   "metadata": {
    "ExecuteTime": {
     "end_time": "2023-05-14T06:46:53.554444Z",
     "start_time": "2023-05-14T06:46:53.554444Z"
    },
    "id": "a0f88844"
   },
   "outputs": [],
   "source": [
    "# lr = LinearRegression(fit_intercept = True, normalize = True, copy_X = True)\n",
    "lr = LinearRegression()\n",
    "lr.fit(X_train, y_train)"
   ]
  },
  {
   "cell_type": "code",
   "execution_count": null,
   "id": "404ce758",
   "metadata": {
    "ExecuteTime": {
     "end_time": "2023-05-14T06:46:53.563208Z",
     "start_time": "2023-05-14T06:46:53.563208Z"
    },
    "id": "404ce758"
   },
   "outputs": [],
   "source": [
    "y_predict = lr.predict(X_test)"
   ]
  },
  {
   "cell_type": "code",
   "execution_count": null,
   "id": "70fc8f81",
   "metadata": {
    "ExecuteTime": {
     "end_time": "2023-05-14T06:46:53.563208Z",
     "start_time": "2023-05-14T06:46:53.563208Z"
    },
    "id": "70fc8f81"
   },
   "outputs": [],
   "source": [
    "lr.fit(X_train, y_train)\n",
    "y_prediect = lr.predict(X_test)"
   ]
  },
  {
   "cell_type": "code",
   "execution_count": null,
   "id": "ceeb1735",
   "metadata": {
    "ExecuteTime": {
     "end_time": "2023-05-14T06:46:53.570721Z",
     "start_time": "2023-05-14T06:46:53.570721Z"
    },
    "id": "ceeb1735"
   },
   "outputs": [],
   "source": [
    "print('Train data Accuracy : ', format(lr.score(X_train, y_train)))\n",
    "print('Test data r-square : ', format(r2_score(y_test,y_prediect)))\n",
    "print('Root mean squared error : ', format(mean_squared_error(y_test, y_prediect, squared = False)))"
   ]
  },
  {
   "cell_type": "code",
   "execution_count": null,
   "id": "1ae7b4ec",
   "metadata": {
    "ExecuteTime": {
     "end_time": "2023-05-14T06:46:53.570721Z",
     "start_time": "2023-05-14T06:46:53.570721Z"
    },
    "id": "1ae7b4ec",
    "scrolled": true
   },
   "outputs": [],
   "source": [
    "pip install xgboost"
   ]
  },
  {
   "cell_type": "code",
   "execution_count": null,
   "id": "a880e4f3",
   "metadata": {
    "ExecuteTime": {
     "end_time": "2023-05-14T06:46:53.578818Z",
     "start_time": "2023-05-14T06:46:53.578818Z"
    },
    "id": "a880e4f3"
   },
   "outputs": [],
   "source": [
    "pip install lightgbm"
   ]
  },
  {
   "cell_type": "code",
   "execution_count": null,
   "id": "4acd2f80",
   "metadata": {
    "ExecuteTime": {
     "end_time": "2023-05-14T06:46:53.583433Z",
     "start_time": "2023-05-14T06:46:53.583433Z"
    },
    "id": "4acd2f80"
   },
   "outputs": [],
   "source": [
    "pip install catboost"
   ]
  },
  {
   "cell_type": "code",
   "execution_count": null,
   "id": "c57b3110",
   "metadata": {
    "ExecuteTime": {
     "end_time": "2023-05-14T06:46:53.583433Z",
     "start_time": "2023-05-14T06:46:53.583433Z"
    },
    "id": "c57b3110"
   },
   "outputs": [],
   "source": [
    "from sklearn.linear_model import LinearRegression, Ridge, Lasso\n",
    "from sklearn.tree import DecisionTreeRegressor\n",
    "from sklearn.ensemble import RandomForestRegressor, GradientBoostingRegressor\n",
    "from xgboost import XGBRegressor, plot_importance\n",
    "from lightgbm import LGBMRegressor\n",
    "from catboost import CatBoostRegressor\n",
    "from sklearn.svm import SVR\n",
    "from sklearn.neighbors import KNeighborsRegressor\n",
    "from sklearn.model_selection import GridSearchCV, cross_val_score, StratifiedKFold, learning_curve\n",
    "from sklearn.preprocessing import StandardScaler, MinMaxScaler"
   ]
  },
  {
   "cell_type": "code",
   "execution_count": null,
   "id": "f1edce58",
   "metadata": {
    "ExecuteTime": {
     "end_time": "2023-05-14T06:46:53.583433Z",
     "start_time": "2023-05-14T06:46:53.583433Z"
    },
    "id": "f1edce58"
   },
   "outputs": [],
   "source": [
    "random_state = 10\n",
    "classifiers = []\n",
    "\n",
    "\n",
    "classifiers.append(LinearRegression())\n",
    "classifiers.append(Ridge(alpha=0.1))\n",
    "classifiers.append(Lasso(alpha=0.1))\n",
    "classifiers.append(DecisionTreeRegressor(max_depth=5))\n",
    "classifiers.append(RandomForestRegressor(n_estimators=100, max_depth=5))\n",
    "classifiers.append(GradientBoostingRegressor(n_estimators=100, learning_rate=0.1, max_depth=5))\n",
    "classifiers.append(XGBRegressor(n_estimators=100, learning_rate=0.1, max_depth=5))\n",
    "classifiers.append(LGBMRegressor(n_estimators=100, learning_rate=0.1, max_depth=5))\n",
    "classifiers.append(CatBoostRegressor(iterations=100, learning_rate=0.1, depth=5))\n",
    "# classifiers.append(SVR(kernel='linear'))\n",
    "classifiers.append(KNeighborsRegressor(n_neighbors=5))\n",
    "\n",
    "cv_list = []\n",
    "cv_results = []\n",
    "for classifier in classifiers :\n",
    "    cv_list.append(str(classifier).split('(')[0])\n",
    "    print('classifier:',str(classifier))\n",
    "    classifier.fit(X_train,y_train) # 모델 형성\n",
    "    y_predict = classifier.predict(X_test) # 예측\n",
    "    cv_results.append([classifier.score(X_train, y_train), r2_score(y_test,y_predict), mean_squared_error(y_test, y_predict, squared = False)])\n"
   ]
  },
  {
   "cell_type": "code",
   "execution_count": null,
   "id": "15ceff24",
   "metadata": {
    "ExecuteTime": {
     "end_time": "2023-05-14T06:46:53.590123Z",
     "start_time": "2023-05-14T06:46:53.590123Z"
    },
    "id": "15ceff24"
   },
   "outputs": [],
   "source": [
    "result = pd.DataFrame(np.round(cv_results,2), columns=(['Train data Accuracy','Test data r-square','Root mean squared error']))\n",
    "result.index = cv_list"
   ]
  },
  {
   "cell_type": "code",
   "execution_count": null,
   "id": "22acfc55",
   "metadata": {
    "ExecuteTime": {
     "end_time": "2023-05-14T06:46:53.590123Z",
     "start_time": "2023-05-14T06:46:53.590123Z"
    },
    "id": "22acfc55",
    "scrolled": false
   },
   "outputs": [],
   "source": [
    "result"
   ]
  },
  {
   "cell_type": "code",
   "execution_count": null,
   "id": "70b2f4db",
   "metadata": {
    "ExecuteTime": {
     "end_time": "2023-05-14T06:46:53.590123Z",
     "start_time": "2023-05-14T06:46:53.590123Z"
    },
    "id": "70b2f4db"
   },
   "outputs": [],
   "source": [
    "XGB = XGBRegressor()\n",
    "xgb_param_grid = { \"n_estimators\" : [100, 200, 300],\n",
    "                  \"learning_rate\" : [0.1, 0.05, 0.01],\n",
    "                  \"max_depth\" : [3, 5, 10]}\n",
    "\n",
    "gsXGB = GridSearchCV(XGB,param_grid = xgb_param_grid, cv=5)\n",
    "gsXGB.fit(X_train,y_train)\n",
    "print(\"Best Parameters : \", gsXGB.best_params_)\n",
    "print(\"Best Score : \", gsXGB.best_score_)\n",
    "y_pred = gsXGB.predict(X_test)\n"
   ]
  },
  {
   "cell_type": "code",
   "execution_count": null,
   "id": "8e040609",
   "metadata": {
    "ExecuteTime": {
     "end_time": "2023-05-14T06:46:53.590123Z",
     "start_time": "2023-05-14T06:46:53.590123Z"
    },
    "id": "8e040609"
   },
   "outputs": [],
   "source": [
    "XGB =XGBRegressor(n_estimators=300, learning_rate=0.1, max_depth=5)\n",
    "XGB.fit(X_train, y_train)\n",
    "y_prediect = XGB.predict(X_test)\n",
    "\n",
    "print('Train data Accuracy : ', format(XGB.score(X_train, y_train)))\n",
    "print('Test data r-square : ', format(r2_score(y_test,y_prediect)))\n",
    "print('Root mean squared error : ', format(mean_squared_error(y_test, y_prediect, squared = False)))"
   ]
  },
  {
   "cell_type": "code",
   "execution_count": null,
   "id": "56f0d877",
   "metadata": {
    "ExecuteTime": {
     "end_time": "2023-05-14T06:46:53.590123Z",
     "start_time": "2023-05-14T06:46:53.590123Z"
    },
    "id": "56f0d877"
   },
   "outputs": [],
   "source": [
    "LGB = LGBMRegressor()\n",
    "lgb_param_grid = { \"n_estimators\" : [100, 200, 300],\n",
    "                  \"learning_rate\" : [0.1, 0.05, 0.01],\n",
    "                  \"max_depth\" : [3, 5, 10]}\n",
    "\n",
    "gsLGB = GridSearchCV(LGB,param_grid = lgb_param_grid, cv=5)\n",
    "gsLGB.fit(X_train,y_train)\n",
    "print(\"Best Parameters : \", gsLGB.best_params_)\n",
    "print(\"Best Score : \", gsLGB.best_score_)\n",
    "y_pred = gsLGB.predict(X_test)\n"
   ]
  },
  {
   "cell_type": "code",
   "execution_count": null,
   "id": "1fac844e",
   "metadata": {
    "ExecuteTime": {
     "end_time": "2023-05-14T06:46:53.607871Z",
     "start_time": "2023-05-14T06:46:53.607871Z"
    },
    "id": "1fac844e"
   },
   "outputs": [],
   "source": [
    "LGB = LGBMRegressor(n_estimators=300, learning_rate=0.1, max_depth=10)\n",
    "LGB.fit(X_train, y_train)\n",
    "y_prediect = LGB.predict(X_test)\n",
    "\n",
    "print('Train data Accuracy : ', format(LGB.score(X_train, y_train)))\n",
    "print('Test data r-square : ', format(r2_score(y_test,y_prediect)))\n",
    "print('Root mean squared error : ', format(mean_squared_error(y_test, y_prediect, squared = False)))"
   ]
  },
  {
   "cell_type": "code",
   "execution_count": null,
   "id": "5d913d94",
   "metadata": {
    "ExecuteTime": {
     "end_time": "2023-05-14T06:46:53.607871Z",
     "start_time": "2023-05-14T06:46:53.607871Z"
    },
    "id": "5d913d94"
   },
   "outputs": [],
   "source": [
    "plot_importance(XGB,max_num_features=10)"
   ]
  },
  {
   "cell_type": "code",
   "execution_count": null,
   "id": "e066c779",
   "metadata": {
    "ExecuteTime": {
     "end_time": "2023-05-14T06:46:53.607871Z",
     "start_time": "2023-05-14T06:46:53.607871Z"
    },
    "id": "e066c779"
   },
   "outputs": [],
   "source": [
    "from lightgbm import LGBMRegressor, plot_importance\n",
    "plot_importance(LGB,max_num_features=10)"
   ]
  },
  {
   "cell_type": "code",
   "execution_count": null,
   "id": "b2fa401b",
   "metadata": {
    "ExecuteTime": {
     "end_time": "2023-05-14T06:46:53.607871Z",
     "start_time": "2023-05-14T06:46:53.607871Z"
    },
    "id": "b2fa401b"
   },
   "outputs": [],
   "source": [
    "print('Train data Accuracy : ', format(XGB.score(X_test, y_test)))\n",
    "print('Train data Accuracy : ', format(LGB.score(X_test, y_test)))"
   ]
  }
 ],
 "metadata": {
  "colab": {
   "provenance": []
  },
  "kernelspec": {
   "display_name": "Python 3 (ipykernel)",
   "language": "python",
   "name": "python3"
  },
  "language_info": {
   "codemirror_mode": {
    "name": "ipython",
    "version": 3
   },
   "file_extension": ".py",
   "mimetype": "text/x-python",
   "name": "python",
   "nbconvert_exporter": "python",
   "pygments_lexer": "ipython3",
   "version": "3.9.0"
  },
  "toc": {
   "base_numbering": 1,
   "nav_menu": {},
   "number_sections": true,
   "sideBar": true,
   "skip_h1_title": false,
   "title_cell": "Table of Contents",
   "title_sidebar": "Contents",
   "toc_cell": false,
   "toc_position": {},
   "toc_section_display": true,
   "toc_window_display": false
  }
 },
 "nbformat": 4,
 "nbformat_minor": 5
}
